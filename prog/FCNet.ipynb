{
 "cells": [
  {
   "cell_type": "markdown",
   "metadata": {},
   "source": [
    "# Réseaux pleinement connectés \n",
    "\n",
    "Cet exercice fait suite au devoir 1.  L'objectif ici est d'implanter un réseau pleinement connecté avec une approche plus modulaire. Pour chaque couche, vous serez appelé à implanter une fonction `forward` et une fonction `backward`. La fonction `forward` reçoit en entrée un tenseur `x`, des poids `w` et possiblement d'autres parameters, et retourne le tenseur de sortie de la couche `out`.  La fonction retourne aussi une variable `cache`  contenant des données utilisés pour la rétropropagation (fonction `backward`).  La structure de la fonction `forward` est la suivante : \n",
    "\n",
    "```python\n",
    "def layer_forward(x, w):\n",
    "  \"\"\" Receive inputs x and weights w \"\"\"\n",
    "  # Do some computations ...\n",
    "  z = # ... some intermediate value\n",
    "  # Do some more computations ...\n",
    "  out = # the output\n",
    "   \n",
    "  cache = (x, w, z, out) # Values we need to compute gradients\n",
    "   \n",
    "  return out, cache\n",
    "```\n",
    "\n",
    "N'oubliez pas que `x` est une `batch` et donc conbient plus d'un élément.\n",
    "\n",
    "En rétropropagation, la fonction `backward` de la couche reçoit en entrée un tenseur de dérivées `dout` ainsi que la liste `cache` calculée lors de la propagation avant (fonction `forward`).  Elle retourne deux tenseurs de gradients: un par rapport à ses entrée (`dx`) et un par rapport à ses poids (`dw`) (et parfois un par rapport aux bias `db`).  La structure de la fonction `backward` est la suivante : \n",
    "\n",
    "```python\n",
    "def layer_backward(dout, cache):\n",
    "  \"\"\"\n",
    "  Receive derivative of loss with respect to outputs and cache,\n",
    "  and compute derivative with respect to inputs.\n",
    "  \"\"\"\n",
    "  # Unpack cache values\n",
    "  x, w, z, out = cache\n",
    "  \n",
    "  # Use values in cache to compute derivatives\n",
    "  dx = # Derivative of loss with respect to x\n",
    "  dw = # Derivative of loss with respect to w\n",
    "  \n",
    "  return dx, dw\n",
    "```\n",
    "\n",
    "Une fois ce type de couches implanté, il sera possible de les combiner ensemble et ainsi construire des réseaux de neurones de différentes architectures.\n",
    "\n",
    "En plus des réseaux pleinement connectés, nous explorerons différents algorithme de descente de gradient et  introduirons *Dropout* et *Batch Norm*.\n",
    "  "
   ]
  },
  {
   "cell_type": "code",
   "execution_count": 1,
   "metadata": {
    "pycharm": {
     "is_executing": false
    }
   },
   "outputs": [
    {
     "name": "stdout",
     "output_type": "stream",
     "text": [
      "run the following from the ift725 directory and try again:\n",
      "python setup.py build_ext --inplace\n",
      "You may also need to restart your iPython kernel\n",
      "setup done!\n"
     ]
    }
   ],
   "source": [
    "# As usual, a bit of setup\n",
    "\n",
    "#import time\n",
    "import numpy as np\n",
    "import matplotlib.pyplot as plt\n",
    "from ift725.layers import *\n",
    "from ift725.classifiers.fc_net import *\n",
    "from ift725.data_utils import get_CIFAR10_data\n",
    "from ift725.gradient_check import eval_numerical_gradient, eval_numerical_gradient_array\n",
    "from ift725.solver import Solver\n",
    "%matplotlib inline\n",
    "plt.rcParams['figure.figsize'] = (10.0, 8.0) # set default size of plots\n",
    "plt.rcParams['image.interpolation'] = 'nearest'\n",
    "plt.rcParams['image.cmap'] = 'gray'\n",
    "\n",
    "# for auto-reloading external modules\n",
    "# see http://stackoverflow.com/questions/1907993/autoreload-of-modules-in-ipython\n",
    "%load_ext autoreload\n",
    "%autoreload 2\n",
    "\n",
    "def rel_error(x, y):\n",
    "  \"\"\" returns relative error \"\"\"\n",
    "  return np.max(np.abs(x - y) / (np.maximum(1e-8, np.abs(x) + np.abs(y))))\n",
    "\n",
    "print('setup done!')"
   ]
  },
  {
   "cell_type": "code",
   "execution_count": 2,
   "metadata": {
    "pycharm": {
     "is_executing": false
    }
   },
   "outputs": [
    {
     "name": "stdout",
     "output_type": "stream",
     "text": [
      "X_train:  (49000, 3, 32, 32)\n",
      "y_train:  (49000,)\n",
      "X_val:  (1000, 3, 32, 32)\n",
      "y_val:  (1000,)\n",
      "X_test:  (1000, 3, 32, 32)\n",
      "y_test:  (1000,)\n"
     ]
    }
   ],
   "source": [
    "# Load the (preprocessed) CIFAR10 data.\n",
    "\n",
    "data = get_CIFAR10_data()\n",
    "for k, v in data.items():\n",
    "  print('%s: ' % k, v.shape)"
   ]
  },
  {
   "cell_type": "markdown",
   "metadata": {},
   "source": [
    "# Couche pleinement connectée : propagation avant\n",
    "Dans le fichier `ift725/layers.py`, vous devez coder la fonction `forward_fully_connected` et la tester avec le code de la cellule suivante."
   ]
  },
  {
   "cell_type": "code",
   "execution_count": 3,
   "metadata": {
    "pycharm": {
     "is_executing": false
    }
   },
   "outputs": [
    {
     "name": "stdout",
     "output_type": "stream",
     "text": [
      "x-shape  =  (1, 2, 2, 3)\n",
      "w-shape  =  (12, 1)\n",
      "b-shape  =  (1,)\n",
      "out =  [[36.7]]\n",
      "correct_out =  36.7\n",
      "Testing forward_fully_connected function:\n",
      "difference:  0.0\n"
     ]
    }
   ],
   "source": [
    "# Test the forward_fully_connected function : batch 1 and 1 output neuron\n",
    "\n",
    "input_shape = (2, 2, 3) # an 2x2x3 input variable (a CIFAR10 image would have a 32x32x3 shape)\n",
    "\n",
    "input_size = np.prod(input_shape) # here 12\n",
    "weight_size = np.prod(input_shape) # here 12\n",
    "\n",
    "x = np.floor(np.linspace(-0.1, 0.5, num=input_size).reshape(1, *input_shape)*10)\n",
    "w = np.floor(np.linspace(-0.2, 0.3, num=weight_size).reshape(weight_size, 1)*10)\n",
    "b = np.linspace(-0.3, 0.1, num=1)\n",
    "\n",
    "print('x-shape  = ', x.shape)\n",
    "print('w-shape  = ', w.shape)\n",
    "print('b-shape  = ', b.shape)\n",
    "\n",
    "out, _ = forward_fully_connected(x, w, b)\n",
    "correct_out = 36.7\n",
    "\n",
    "print('out = ', out)\n",
    "print('correct_out = ', correct_out)\n",
    "\n",
    "# Compare your output with ours. The error should be around 1e-9.\n",
    "print('Testing forward_fully_connected function:')\n",
    "print('difference: ', rel_error(out, correct_out))"
   ]
  },
  {
   "cell_type": "code",
   "execution_count": 4,
   "metadata": {},
   "outputs": [
    {
     "name": "stdout",
     "output_type": "stream",
     "text": [
      "x-shape  =  (2, 2, 2, 3)\n",
      "w-shape  =  (12, 1)\n",
      "b-shape  =  (1,)\n",
      "out =  [[14.7]\n",
      " [20.7]]\n",
      "correct_out =  [14.7 20.7]\n",
      "Testing forward_fully_connected function:\n",
      "difference:  0.0\n"
     ]
    }
   ],
   "source": [
    "# Test the forward_fully_connected function : batch 2 and 1 output neuron\n",
    "\n",
    "num_inputs = 2          # batch of 2 input variables\n",
    "input_shape = (2, 2, 3) # an 2x2x3 input variable (a CIFAR10 image would have a 32x32x3 shape)\n",
    "\n",
    "input_size = num_inputs * np.prod(input_shape) # here 2x12 = 24\n",
    "weight_size = np.prod(input_shape) # here 12\n",
    "\n",
    "x = np.floor(np.linspace(-0.1, 0.5, num=input_size).reshape(num_inputs, *input_shape)*10)\n",
    "w = np.floor(np.linspace(-0.2, 0.3, num=weight_size).reshape(weight_size, 1)*10)\n",
    "b = np.linspace(-0.3, 0.1, num=1)\n",
    "\n",
    "print('x-shape  = ', x.shape)\n",
    "print('w-shape  = ', w.shape)\n",
    "print('b-shape  = ', b.shape)\n",
    "\n",
    "out, _ = forward_fully_connected(x, w, b)\n",
    "correct_out = np.array([14.7, 20.7])\n",
    "\n",
    "print('out = ', out)\n",
    "print('correct_out = ', correct_out)\n",
    "\n",
    "# Compare your output with ours. The error should be around 1e-9.\n",
    "print('Testing forward_fully_connected function:')\n",
    "print('difference: ', rel_error(out.T, correct_out))"
   ]
  },
  {
   "cell_type": "code",
   "execution_count": 5,
   "metadata": {},
   "outputs": [
    {
     "name": "stdout",
     "output_type": "stream",
     "text": [
      "x-shape  =  (2, 2, 2, 3)\n",
      "w-shape  =  (12, 2)\n",
      "b-shape  =  (2,)\n",
      "out =  [[12.7 14.1]\n",
      " [11.7 23.1]]\n",
      "correct_out =  [[12.7 14.1]\n",
      " [11.7 23.1]]\n",
      "Testing forward_fully_connected function:\n",
      "difference:  0.0\n"
     ]
    }
   ],
   "source": [
    "# Test the forward_fully_connected function : batch 2 and 2 output neurons\n",
    "num_inputs = 2          # batch of 2 input variables\n",
    "input_shape = (2, 2, 3) # each variable as a 2x2x3 shape (a CIFAR10 RBG image would have a 32x32x3 shape)\n",
    "output_dim = 2          # the output has 2 neurons\n",
    "\n",
    "input_size = num_inputs * np.prod(input_shape)  #here 2x2x2x3 = 24\n",
    "weight_size = output_dim * np.prod(input_shape) #here 2x12 = 24\n",
    "\n",
    "x = np.floor(np.linspace(-0.1, 0.5, num=input_size).reshape(num_inputs, *input_shape)*10)\n",
    "w = np.floor(np.linspace(-0.2, 0.3, num=weight_size).reshape(np.prod(input_shape), output_dim)*10)\n",
    "b = np.linspace(-0.3, 0.1, num=output_dim)\n",
    "\n",
    "print('x-shape  = ', x.shape)\n",
    "print('w-shape  = ', w.shape)\n",
    "print('b-shape  = ', b.shape)\n",
    "\n",
    "out, _ = forward_fully_connected(x, w, b)\n",
    "correct_out = np.array([[ 12.7,  14.1],\n",
    "                        [ 11.7,  23.1]])\n",
    "\n",
    "print('out = ', out)\n",
    "print('correct_out = ', correct_out)\n",
    "\n",
    "# Compare your output with ours. The error should be around 1e-9.\n",
    "print('Testing forward_fully_connected function:')\n",
    "print('difference: ', rel_error(out, correct_out))"
   ]
  },
  {
   "cell_type": "markdown",
   "metadata": {},
   "source": [
    "# Couche pleinement connectée : rétro-propagation\n",
    "If faut maintenant implanter la fonction `backward_fully_connected` et tester votre code avec un gradient numérique."
   ]
  },
  {
   "cell_type": "code",
   "execution_count": 6,
   "metadata": {
    "pycharm": {
     "is_executing": false
    }
   },
   "outputs": [
    {
     "name": "stdout",
     "output_type": "stream",
     "text": [
      "Testing backward_fully_connected function:\n",
      "dx error:  5.738517706981203e-10\n",
      "dw error:  1.674807096796757e-10\n",
      "db error:  3.0812176252395395e-11\n"
     ]
    }
   ],
   "source": [
    "# Test the backward_fully_connected function\n",
    "# Here a case for a batch of 10 elements\n",
    "# Each elements has a 2x3 size\n",
    "# The layer has 5 output neurons\n",
    "\n",
    "x = np.random.randn(10, 2, 3)  # batch of 10 elements, each of size 2x3\n",
    "w = np.random.randn(6, 5)      # 2x3=6 weigts times 5 output neurones\n",
    "b = np.random.randn(5)         # one bias for each output neurone\n",
    "dout = np.random.randn(10, 5)  # the upcoming gradient at each output neuron and for each element of the batch\n",
    "\n",
    "dx_num = eval_numerical_gradient_array(lambda x: forward_fully_connected(x, w, b)[0], x, dout)\n",
    "dw_num = eval_numerical_gradient_array(lambda w: forward_fully_connected(x, w, b)[0], w, dout)\n",
    "db_num = eval_numerical_gradient_array(lambda b: forward_fully_connected(x, w, b)[0], b, dout)\n",
    "\n",
    "_, cache = forward_fully_connected(x, w, b)\n",
    "dx, dw, db = backward_fully_connected(dout, cache)\n",
    "\n",
    "# The error should be around 1e-10\n",
    "print('Testing backward_fully_connected function:')\n",
    "print('dx error: ', rel_error(dx_num, dx))  #Gradient with respect to the input x : size 10x2x3\n",
    "print('dw error: ', rel_error(dw_num, dw))  #Gradient with respect to the weights w : size 5x6\n",
    "print('db error: ', rel_error(db_num, db))  #Gradient with respect to the bias : size 5"
   ]
  },
  {
   "cell_type": "markdown",
   "metadata": {},
   "source": [
    "# Couche ReLU : propagation avant\n",
    "Il faut implanter la fonction d'activation ReLU avec la fonction `relu_forward`.  Testez votre implantation avec la cellule que voici:"
   ]
  },
  {
   "cell_type": "code",
   "execution_count": 7,
   "metadata": {
    "pycharm": {
     "is_executing": false
    }
   },
   "outputs": [
    {
     "name": "stdout",
     "output_type": "stream",
     "text": [
      "Testing forward_relu function:\n",
      "difference:  4.999999798022158e-08\n"
     ]
    }
   ],
   "source": [
    "# Test the relu_forward function\n",
    "\n",
    "x = np.linspace(-0.5, 0.5, num=12).reshape(3, 4)\n",
    "\n",
    "out, _ = forward_relu(x)\n",
    "correct_out = np.array([[ 0.,          0.,          0.,          0.,        ],\n",
    "                        [ 0.,          0.,          0.04545455,  0.13636364,],\n",
    "                        [ 0.22727273,  0.31818182,  0.40909091,  0.5,       ]])\n",
    "\n",
    "# Compare your output with ours. The error should be around 1e-8\n",
    "print('Testing forward_relu function:')\n",
    "print('difference: ', rel_error(out, correct_out))"
   ]
  },
  {
   "cell_type": "markdown",
   "metadata": {},
   "source": [
    "# Couche ReLU : rétropropagation\n",
    "Maintenant il faut implanter la rétro-propagation pour une fonction d'activation ReLU via la fonction `relu_backward`.  Testez votre implantation avec le gradient numérique que voici:"
   ]
  },
  {
   "cell_type": "code",
   "execution_count": 8,
   "metadata": {
    "pycharm": {
     "is_executing": false
    }
   },
   "outputs": [
    {
     "name": "stdout",
     "output_type": "stream",
     "text": [
      "x =  [[-1.26301931 -0.74307561]\n",
      " [-0.59484589  1.07007521]]\n",
      "dout  =  [[-2.31495006  0.6526706 ]\n",
      " [-1.77484294  0.94028161]]\n",
      "Testing backward_relu function:\n",
      "dx error:  3.2755348691829362e-12\n"
     ]
    }
   ],
   "source": [
    "x = np.random.randn(2, 2)\n",
    "dout = np.random.randn(*x.shape) # Upstream gradient that retropropagates at that layer\n",
    "print(\"x = \", x)\n",
    "print(\"dout  = \", dout)\n",
    "\n",
    "dx_num = eval_numerical_gradient_array(lambda xx: forward_relu(xx)[0], x, dout)\n",
    "\n",
    "_, cache = forward_relu(x)\n",
    "dx = backward_relu(dout, cache)\n",
    "# The error should be around 1e-12\n",
    "print('Testing backward_relu function:')\n",
    "print('dx error: ', rel_error(dx_num, dx))"
   ]
  },
  {
   "cell_type": "markdown",
   "metadata": {},
   "source": [
    "# Couches \"Combo\"\n",
    "Souvent, on combine une couche pleinement connectée avec une fonction d'activation comme ReLU. Afin de simplifier ces situations, nous avons différentes fonctions à cet effet dans `ift725/layer_combo.py`.\n",
    "\n",
    "Pour l'instant, nous porterons notre attention sur les fonctions `forward_fully_connected_transform_relu` et `backward_fully_connected_transform_relu`.  Vous pouvez vérifier le code à l'aide de la vérification numérique que voici:"
   ]
  },
  {
   "cell_type": "code",
   "execution_count": 9,
   "metadata": {
    "pycharm": {
     "is_executing": false
    }
   },
   "outputs": [
    {
     "name": "stdout",
     "output_type": "stream",
     "text": [
      "Testing forward_fully_connected_transform_relu:\n",
      "dx error:  3.621487184045041e-11\n",
      "dw error:  1.5748747323854265e-10\n",
      "db error:  3.275629260933637e-12\n"
     ]
    }
   ],
   "source": [
    "from ift725.layer_combo import forward_fully_connected_transform_relu, backward_fully_connected_transform_relu\n",
    "\n",
    "x = np.random.randn(2, 3, 4)  # Batch of 2 elements of size 3x4\n",
    "w = np.random.randn(12, 10)   # 10 output neurons, each associated with 12=3x4 weights\n",
    "b = np.random.randn(10)       # 10 biases\n",
    "dout = np.random.randn(2, 10) # up stream gradient for each neuron (10) and each batch element (2)\n",
    "\n",
    "out, cache = forward_fully_connected_transform_relu(x, w, b)\n",
    "dx, dw, db = backward_fully_connected_transform_relu(dout, cache)\n",
    "\n",
    "dx_num = eval_numerical_gradient_array(lambda xx: forward_fully_connected_transform_relu(xx, w, b)[0], x, dout)\n",
    "dw_num = eval_numerical_gradient_array(lambda ww: forward_fully_connected_transform_relu(x, ww, b)[0], w, dout)\n",
    "db_num = eval_numerical_gradient_array(lambda bb: forward_fully_connected_transform_relu(x, w, bb)[0], b, dout)\n",
    "\n",
    "# Error should be around 1e-10\n",
    "print('Testing forward_fully_connected_transform_relu:')\n",
    "print('dx error: ', rel_error(dx_num, dx))\n",
    "print('dw error: ', rel_error(dw_num, dw))\n",
    "print('db error: ', rel_error(db_num, db))"
   ]
  },
  {
   "cell_type": "markdown",
   "metadata": {},
   "source": [
    "# Fonctions de perte : Softmax et SVM\n",
    "Au devoir 1, vous avez implanter ces deux fonctions de perte.  Vous devez donc récupérer votre code et l'adapter aux fonctions `softmax_loss` et `svm_loss` du fichier `ift725/layers.py`.\n",
    "\n",
    "Afin de vous assurer que tout fonctionne pour le mieux, exécutez le code que voici:"
   ]
  },
  {
   "cell_type": "code",
   "execution_count": 10,
   "metadata": {
    "scrolled": false
   },
   "outputs": [
    {
     "name": "stdout",
     "output_type": "stream",
     "text": [
      "Testing svm_loss:\n",
      "loss:  8.999612906936079\n",
      "dx error:  1.4021566006651672e-09\n",
      "\n",
      "Testing softmax_loss:\n",
      "loss:  2.302546856253059\n",
      "dx error:  7.704520954129592e-09\n"
     ]
    }
   ],
   "source": [
    "num_classes, num_inputs = 10, 50\n",
    "x = 0.001 * np.random.randn(num_inputs, num_classes)\n",
    "y = np.random.randint(num_classes, size=num_inputs)\n",
    "\n",
    "dx_num = eval_numerical_gradient(lambda x: svm_loss(x, y)[0], x, verbose=False)\n",
    "loss, dx = svm_loss(x, y)\n",
    "\n",
    "# Test svm_loss function. Loss should be around 9 and dx error should be 1e-9\n",
    "print('Testing svm_loss:')\n",
    "print('loss: ', loss)\n",
    "print('dx error: ', rel_error(dx_num, dx))\n",
    "\n",
    "dx_num = eval_numerical_gradient(lambda x: softmax_loss(x, y)[0], x, verbose=False)\n",
    "loss, dx = softmax_loss(x, y)\n",
    "\n",
    "# Test softmax_loss function. Loss should be 2.3 and dx error should be 1e-8\n",
    "print('\\nTesting softmax_loss:')\n",
    "print('loss: ', loss)\n",
    "print('dx error: ', rel_error(dx_num, dx))"
   ]
  },
  {
   "cell_type": "markdown",
   "metadata": {},
   "source": [
    "# Réseau à deux couches\n",
    "Au tp1, vous avez implanté un réseau à deux couches à l'intérieur d'une seule classe monolitique. Maintenant que les couches ont un design plus modulaire, vous devez implanter un réseau à deux couches de façon modulaire.\n",
    "\n",
    "Avec le fichier `ift725/classifiers/fc_net.py`, vous devez compléter l'implantation de la classe `TwoLayerNeuralNet`. Le design de cette classe est le prototype pour les autres réseaux utilisés dans ce devoir.  Par conséquent, soyez attentifs et assurez-vous de bien comprendre cet API. Vous pouvez exécuter la cellule que voici pour tester votre code."
   ]
  },
  {
   "cell_type": "code",
   "execution_count": 11,
   "metadata": {},
   "outputs": [
    {
     "name": "stdout",
     "output_type": "stream",
     "text": [
      "Testing initialization ... \n",
      "Testing test-time forward pass ... \n",
      "score difference =  5.115852452775016e-08\n"
     ]
    }
   ],
   "source": [
    "# First, lets try a forward pass for a minibatch of 3 elements of size 5, with an hidden layer of size 50 and 7 classes\n",
    "\n",
    "N, D, H, C = 3, 5, 50, 7\n",
    "X = np.random.randn(N, D)\n",
    "y = np.random.randint(C, size=N)\n",
    "\n",
    "std = 1e-2\n",
    "model = TwoLayerNeuralNet(input_dim=D, hidden_dim=H, num_classes=C, weight_scale=std)\n",
    "\n",
    "print('Testing initialization ... ')\n",
    "W1_std = abs(model.params['W1'].std() - std)\n",
    "b1 = model.params['b1']\n",
    "W2_std = abs(model.params['W2'].std() - std)\n",
    "b2 = model.params['b2']\n",
    "assert W1_std < std / 10, 'First layer weights do not seem right'\n",
    "assert np.all(b1 == 0), 'First layer biases do not seem right'\n",
    "assert W2_std < std / 10, 'Second layer weights do not seem right'\n",
    "assert np.all(b2 == 0), 'Second layer biases do not seem right'\n",
    "\n",
    "\n",
    "print('Testing test-time forward pass ... ')\n",
    "model.params['W1'] = np.linspace(-0.7, 0.3, num=D*H).reshape(D, H)\n",
    "model.params['b1'] = np.linspace(-0.1, 0.9, num=H)\n",
    "model.params['W2'] = np.linspace(-0.3, 0.4, num=H*C).reshape(H, C)\n",
    "model.params['b2'] = np.linspace(-0.9, 0.1, num=C)\n",
    "X = np.linspace(-5.5, 4.5, num=N*D).reshape(D, N).T\n",
    "scores = model.loss(X)\n",
    "\n",
    "correct_scores = np.asarray(\n",
    "  [[11.53165108,  12.2917344,   13.05181771,  13.81190102,  14.57198434, 15.33206765,  16.09215096],\n",
    "   [12.05769098,  12.74614105,  13.43459113,  14.1230412,   14.81149128, 15.49994135,  16.18839143],\n",
    "   [12.58373087,  13.20054771,  13.81736455,  14.43418138,  15.05099822, 15.66781506,  16.2846319 ]])\n",
    "scores_diff = np.abs(scores - correct_scores).sum()\n",
    "assert scores_diff < 1e-6, 'Problem with test-time forward pass'\n",
    "print('score difference = ', scores_diff)\n"
   ]
  },
  {
   "cell_type": "code",
   "execution_count": 12,
   "metadata": {},
   "outputs": [
    {
     "name": "stdout",
     "output_type": "stream",
     "text": [
      "loss difference =  4.6100900874535e-12\n",
      "loss =  63.9539735065371   correct_loss =  63.9539735065\n",
      "loss difference =  3.710454166139243e-11\n"
     ]
    }
   ],
   "source": [
    "# Now lets compute the loss with and without regularization\n",
    "y = np.asarray([0, 5, 1])\n",
    "\n",
    "model.reg = 0.0  # NO REG\n",
    "loss, grads = model.loss(X, y)\n",
    "correct_loss = 3.4702243556\n",
    "assert abs(loss - correct_loss) < 1e-10, 'Problem with training-time loss'\n",
    "print('loss difference = ', abs(loss - correct_loss))\n",
    "\n",
    "model.reg = 1.0  # WITH REG\n",
    "loss, grads = model.loss(X, y)\n",
    "correct_loss = 63.9539735065\n",
    "print('loss = ', loss, '  correct_loss = ', correct_loss)\n",
    "print('loss difference = ', abs(loss - correct_loss))\n",
    "assert abs(loss - correct_loss) < 1e-10, 'Problem with regularization loss'\n"
   ]
  },
  {
   "cell_type": "code",
   "execution_count": 13,
   "metadata": {},
   "outputs": [
    {
     "name": "stdout",
     "output_type": "stream",
     "text": [
      "Running numeric gradient check with reg =  0.0\n",
      "W1 relative error: 1.83e-08\n",
      "W2 relative error: 3.20e-10\n",
      "b1 relative error: 9.83e-09\n",
      "b2 relative error: 4.33e-10\n",
      "Running numeric gradient check with reg =  0.3\n",
      "W1 relative error: 1.01e-07\n",
      "W2 relative error: 1.71e-08\n",
      "b1 relative error: 9.88e-09\n",
      "b2 relative error: 2.24e-09\n",
      "Running numeric gradient check with reg =  0.6\n",
      "W1 relative error: 1.25e-07\n",
      "W2 relative error: 5.21e-08\n",
      "b1 relative error: 5.68e-09\n",
      "b2 relative error: 8.97e-10\n",
      "Running numeric gradient check with reg =  0.9\n",
      "W1 relative error: 1.35e-05\n",
      "W2 relative error: 4.03e-06\n",
      "b1 relative error: 1.17e-08\n",
      "b2 relative error: 8.35e-10\n"
     ]
    }
   ],
   "source": [
    "# Now lets compute the loss with different regularization terms\n",
    "\n",
    "for reg in [0.0, 0.3, 0.6, 0.9]:\n",
    "  print('Running numeric gradient check with reg = ', reg)\n",
    "  model.reg = reg\n",
    "  loss, grads = model.loss(X, y)\n",
    "\n",
    "  for name in sorted(grads):\n",
    "    f = lambda _: model.loss(X, y)[0]\n",
    "    grad_num = eval_numerical_gradient(f, model.params[name], verbose=False)\n",
    "    print('%s relative error: %.2e' % (name, rel_error(grad_num, grads[name])))"
   ]
  },
  {
   "cell_type": "markdown",
   "metadata": {},
   "source": [
    "# Solver\n",
    "Au tp1, l'entraînement des modèles était couplé aux modèles. Suivant un design plus modulaire, dans ce tp nous avons séparé le code d'entraînement et le code des modèles dans différentes classes.\n",
    "\n",
    "Familiarisez-vous avec le code `ift725/solver.py` et assurez-vous de bien en comprendre le fonctionnement. Après, utilisez un `Solver` pour entraîner le `TwoLayerNeuralNet` et atteindre environ `50%` de justesse en validation sur le base de donnée CIFAR10 stockée dans la variable `data`."
   ]
  },
  {
   "cell_type": "code",
   "execution_count": 14,
   "metadata": {},
   "outputs": [
    {
     "name": "stdout",
     "output_type": "stream",
     "text": [
      "X_train:  (49000, 3, 32, 32)\n",
      "y_train:  (49000,)\n",
      "X_val:  (1000, 3, 32, 32)\n",
      "y_val:  (1000,)\n",
      "X_test:  (1000, 3, 32, 32)\n",
      "y_test:  (1000,)\n"
     ]
    }
   ],
   "source": [
    "# Load the (preprocessed) CIFAR10 data.\n",
    "\n",
    "data = get_CIFAR10_data()\n",
    "for k, v in data.items():\n",
    "  print('%s: ' % k, v.shape)"
   ]
  },
  {
   "cell_type": "code",
   "execution_count": 15,
   "metadata": {
    "scrolled": true
   },
   "outputs": [
    {
     "name": "stdout",
     "output_type": "stream",
     "text": [
      "(Iteration 1 / 2450) loss: 2.303623\n",
      "(Epoch 0 / 5) train acc: 0.138000; val_acc: 0.134000\n",
      "(Iteration 11 / 2450) loss: 2.286967\n",
      "(Iteration 21 / 2450) loss: 2.235898\n",
      "(Iteration 31 / 2450) loss: 2.180158\n",
      "(Iteration 41 / 2450) loss: 2.129377\n",
      "(Iteration 51 / 2450) loss: 2.091333\n",
      "(Iteration 61 / 2450) loss: 2.064100\n",
      "(Iteration 71 / 2450) loss: 2.061636\n",
      "(Iteration 81 / 2450) loss: 2.125312\n",
      "(Iteration 91 / 2450) loss: 2.057343\n",
      "(Iteration 101 / 2450) loss: 1.985656\n",
      "(Iteration 111 / 2450) loss: 2.068591\n",
      "(Iteration 121 / 2450) loss: 1.947907\n",
      "(Iteration 131 / 2450) loss: 1.905781\n",
      "(Iteration 141 / 2450) loss: 1.834549\n",
      "(Iteration 151 / 2450) loss: 1.752979\n",
      "(Iteration 161 / 2450) loss: 1.698317\n",
      "(Iteration 171 / 2450) loss: 1.929655\n",
      "(Iteration 181 / 2450) loss: 1.843587\n",
      "(Iteration 191 / 2450) loss: 1.740198\n",
      "(Iteration 201 / 2450) loss: 1.905068\n",
      "(Iteration 211 / 2450) loss: 1.707472\n",
      "(Iteration 221 / 2450) loss: 1.664470\n",
      "(Iteration 231 / 2450) loss: 1.800535\n",
      "(Iteration 241 / 2450) loss: 1.834407\n",
      "(Iteration 251 / 2450) loss: 1.807993\n",
      "(Iteration 261 / 2450) loss: 1.735509\n",
      "(Iteration 271 / 2450) loss: 1.673298\n",
      "(Iteration 281 / 2450) loss: 1.730813\n",
      "(Iteration 291 / 2450) loss: 1.804681\n",
      "(Iteration 301 / 2450) loss: 1.610851\n",
      "(Iteration 311 / 2450) loss: 1.791397\n",
      "(Iteration 321 / 2450) loss: 1.576180\n",
      "(Iteration 331 / 2450) loss: 1.660966\n",
      "(Iteration 341 / 2450) loss: 1.833950\n",
      "(Iteration 351 / 2450) loss: 1.557024\n",
      "(Iteration 361 / 2450) loss: 1.627243\n",
      "(Iteration 371 / 2450) loss: 1.600960\n",
      "(Iteration 381 / 2450) loss: 1.767715\n",
      "(Iteration 391 / 2450) loss: 1.604543\n",
      "(Iteration 401 / 2450) loss: 1.524370\n",
      "(Iteration 411 / 2450) loss: 1.603427\n",
      "(Iteration 421 / 2450) loss: 1.596351\n",
      "(Iteration 431 / 2450) loss: 1.507430\n",
      "(Iteration 441 / 2450) loss: 1.719877\n",
      "(Iteration 451 / 2450) loss: 1.656512\n",
      "(Iteration 461 / 2450) loss: 1.491932\n",
      "(Iteration 471 / 2450) loss: 1.604655\n",
      "(Iteration 481 / 2450) loss: 1.533715\n",
      "(Epoch 1 / 5) train acc: 0.463000; val_acc: 0.449000\n",
      "(Iteration 491 / 2450) loss: 1.427116\n",
      "(Iteration 501 / 2450) loss: 1.676424\n",
      "(Iteration 511 / 2450) loss: 1.484458\n",
      "(Iteration 521 / 2450) loss: 1.601802\n",
      "(Iteration 531 / 2450) loss: 1.354181\n",
      "(Iteration 541 / 2450) loss: 1.585302\n",
      "(Iteration 551 / 2450) loss: 1.665638\n",
      "(Iteration 561 / 2450) loss: 1.448117\n",
      "(Iteration 571 / 2450) loss: 1.323380\n",
      "(Iteration 581 / 2450) loss: 1.647268\n",
      "(Iteration 591 / 2450) loss: 1.549987\n",
      "(Iteration 601 / 2450) loss: 1.472925\n",
      "(Iteration 611 / 2450) loss: 1.350113\n",
      "(Iteration 621 / 2450) loss: 1.523760\n",
      "(Iteration 631 / 2450) loss: 1.629657\n",
      "(Iteration 641 / 2450) loss: 1.470590\n",
      "(Iteration 651 / 2450) loss: 1.541656\n",
      "(Iteration 661 / 2450) loss: 1.446039\n",
      "(Iteration 671 / 2450) loss: 1.441721\n",
      "(Iteration 681 / 2450) loss: 1.434551\n",
      "(Iteration 691 / 2450) loss: 1.506710\n",
      "(Iteration 701 / 2450) loss: 1.535953\n",
      "(Iteration 711 / 2450) loss: 1.347418\n",
      "(Iteration 721 / 2450) loss: 1.283001\n",
      "(Iteration 731 / 2450) loss: 1.533782\n",
      "(Iteration 741 / 2450) loss: 1.413986\n",
      "(Iteration 751 / 2450) loss: 1.490186\n",
      "(Iteration 761 / 2450) loss: 1.407420\n",
      "(Iteration 771 / 2450) loss: 1.412843\n",
      "(Iteration 781 / 2450) loss: 1.460029\n",
      "(Iteration 791 / 2450) loss: 1.317325\n",
      "(Iteration 801 / 2450) loss: 1.445805\n",
      "(Iteration 811 / 2450) loss: 1.587113\n",
      "(Iteration 821 / 2450) loss: 1.421744\n",
      "(Iteration 831 / 2450) loss: 1.435168\n",
      "(Iteration 841 / 2450) loss: 1.323852\n",
      "(Iteration 851 / 2450) loss: 1.369599\n",
      "(Iteration 861 / 2450) loss: 1.532004\n",
      "(Iteration 871 / 2450) loss: 1.639453\n",
      "(Iteration 881 / 2450) loss: 1.676490\n",
      "(Iteration 891 / 2450) loss: 1.478156\n",
      "(Iteration 901 / 2450) loss: 1.637542\n",
      "(Iteration 911 / 2450) loss: 1.489561\n",
      "(Iteration 921 / 2450) loss: 1.360606\n",
      "(Iteration 931 / 2450) loss: 1.413489\n",
      "(Iteration 941 / 2450) loss: 1.387231\n",
      "(Iteration 951 / 2450) loss: 1.563979\n",
      "(Iteration 961 / 2450) loss: 1.539500\n",
      "(Iteration 971 / 2450) loss: 1.613102\n",
      "(Epoch 2 / 5) train acc: 0.464000; val_acc: 0.454000\n",
      "(Iteration 981 / 2450) loss: 1.306319\n",
      "(Iteration 991 / 2450) loss: 1.576094\n",
      "(Iteration 1001 / 2450) loss: 1.478872\n",
      "(Iteration 1011 / 2450) loss: 1.412518\n",
      "(Iteration 1021 / 2450) loss: 1.634079\n",
      "(Iteration 1031 / 2450) loss: 1.359832\n",
      "(Iteration 1041 / 2450) loss: 1.421798\n",
      "(Iteration 1051 / 2450) loss: 1.395421\n",
      "(Iteration 1061 / 2450) loss: 1.392869\n",
      "(Iteration 1071 / 2450) loss: 1.723255\n",
      "(Iteration 1081 / 2450) loss: 1.479374\n",
      "(Iteration 1091 / 2450) loss: 1.417264\n",
      "(Iteration 1101 / 2450) loss: 1.464113\n",
      "(Iteration 1111 / 2450) loss: 1.606681\n",
      "(Iteration 1121 / 2450) loss: 1.390453\n",
      "(Iteration 1131 / 2450) loss: 1.513019\n",
      "(Iteration 1141 / 2450) loss: 1.534097\n",
      "(Iteration 1151 / 2450) loss: 1.414918\n",
      "(Iteration 1161 / 2450) loss: 1.487752\n",
      "(Iteration 1171 / 2450) loss: 1.369262\n",
      "(Iteration 1181 / 2450) loss: 1.360410\n",
      "(Iteration 1191 / 2450) loss: 1.465724\n",
      "(Iteration 1201 / 2450) loss: 1.152793\n",
      "(Iteration 1211 / 2450) loss: 1.325523\n",
      "(Iteration 1221 / 2450) loss: 1.516329\n",
      "(Iteration 1231 / 2450) loss: 1.565976\n",
      "(Iteration 1241 / 2450) loss: 1.525568\n",
      "(Iteration 1251 / 2450) loss: 1.566587\n",
      "(Iteration 1261 / 2450) loss: 1.578732\n",
      "(Iteration 1271 / 2450) loss: 1.563643\n",
      "(Iteration 1281 / 2450) loss: 1.554805\n",
      "(Iteration 1291 / 2450) loss: 1.491530\n",
      "(Iteration 1301 / 2450) loss: 1.453162\n",
      "(Iteration 1311 / 2450) loss: 1.624999\n",
      "(Iteration 1321 / 2450) loss: 1.384034\n",
      "(Iteration 1331 / 2450) loss: 1.574865\n",
      "(Iteration 1341 / 2450) loss: 1.155551\n",
      "(Iteration 1351 / 2450) loss: 1.467266\n",
      "(Iteration 1361 / 2450) loss: 1.342279\n",
      "(Iteration 1371 / 2450) loss: 1.346374\n",
      "(Iteration 1381 / 2450) loss: 1.524838\n",
      "(Iteration 1391 / 2450) loss: 1.623232\n",
      "(Iteration 1401 / 2450) loss: 1.338376\n",
      "(Iteration 1411 / 2450) loss: 1.279803\n",
      "(Iteration 1421 / 2450) loss: 1.470858\n",
      "(Iteration 1431 / 2450) loss: 1.461892\n",
      "(Iteration 1441 / 2450) loss: 1.494701\n",
      "(Iteration 1451 / 2450) loss: 1.204003\n",
      "(Iteration 1461 / 2450) loss: 1.469414\n",
      "(Epoch 3 / 5) train acc: 0.515000; val_acc: 0.482000\n",
      "(Iteration 1471 / 2450) loss: 1.174209\n",
      "(Iteration 1481 / 2450) loss: 1.256431\n",
      "(Iteration 1491 / 2450) loss: 1.342196\n",
      "(Iteration 1501 / 2450) loss: 1.494372\n",
      "(Iteration 1511 / 2450) loss: 1.422476\n",
      "(Iteration 1521 / 2450) loss: 1.313403\n",
      "(Iteration 1531 / 2450) loss: 1.310369\n",
      "(Iteration 1541 / 2450) loss: 1.429545\n",
      "(Iteration 1551 / 2450) loss: 1.507305\n",
      "(Iteration 1561 / 2450) loss: 1.298321\n",
      "(Iteration 1571 / 2450) loss: 1.185564\n",
      "(Iteration 1581 / 2450) loss: 1.222296\n",
      "(Iteration 1591 / 2450) loss: 1.212825\n",
      "(Iteration 1601 / 2450) loss: 1.177737\n",
      "(Iteration 1611 / 2450) loss: 1.514625\n",
      "(Iteration 1621 / 2450) loss: 1.063907\n",
      "(Iteration 1631 / 2450) loss: 1.462046\n",
      "(Iteration 1641 / 2450) loss: 1.183722\n",
      "(Iteration 1651 / 2450) loss: 1.575287\n",
      "(Iteration 1661 / 2450) loss: 1.355444\n",
      "(Iteration 1671 / 2450) loss: 1.466237\n",
      "(Iteration 1681 / 2450) loss: 1.466989\n",
      "(Iteration 1691 / 2450) loss: 1.376308\n",
      "(Iteration 1701 / 2450) loss: 1.256924\n",
      "(Iteration 1711 / 2450) loss: 1.279873\n",
      "(Iteration 1721 / 2450) loss: 1.286226\n",
      "(Iteration 1731 / 2450) loss: 1.263464\n",
      "(Iteration 1741 / 2450) loss: 1.308455\n",
      "(Iteration 1751 / 2450) loss: 1.426304\n",
      "(Iteration 1761 / 2450) loss: 1.577891\n",
      "(Iteration 1771 / 2450) loss: 1.651216\n",
      "(Iteration 1781 / 2450) loss: 1.228212\n",
      "(Iteration 1791 / 2450) loss: 1.312644\n",
      "(Iteration 1801 / 2450) loss: 1.380019\n",
      "(Iteration 1811 / 2450) loss: 1.347001\n",
      "(Iteration 1821 / 2450) loss: 1.361446\n",
      "(Iteration 1831 / 2450) loss: 1.304693\n",
      "(Iteration 1841 / 2450) loss: 1.477391\n",
      "(Iteration 1851 / 2450) loss: 1.401785\n",
      "(Iteration 1861 / 2450) loss: 1.604770\n",
      "(Iteration 1871 / 2450) loss: 1.253672\n",
      "(Iteration 1881 / 2450) loss: 1.368001\n",
      "(Iteration 1891 / 2450) loss: 1.327271\n",
      "(Iteration 1901 / 2450) loss: 1.317383\n",
      "(Iteration 1911 / 2450) loss: 1.348138\n",
      "(Iteration 1921 / 2450) loss: 1.237487\n",
      "(Iteration 1931 / 2450) loss: 1.346783\n",
      "(Iteration 1941 / 2450) loss: 1.345555\n",
      "(Iteration 1951 / 2450) loss: 1.377463\n",
      "(Epoch 4 / 5) train acc: 0.495000; val_acc: 0.476000\n",
      "(Iteration 1961 / 2450) loss: 1.433170\n",
      "(Iteration 1971 / 2450) loss: 1.304078\n",
      "(Iteration 1981 / 2450) loss: 1.347296\n",
      "(Iteration 1991 / 2450) loss: 1.287514\n",
      "(Iteration 2001 / 2450) loss: 1.280673\n",
      "(Iteration 2011 / 2450) loss: 1.419938\n",
      "(Iteration 2021 / 2450) loss: 1.334110\n",
      "(Iteration 2031 / 2450) loss: 1.290107\n",
      "(Iteration 2041 / 2450) loss: 1.240917\n",
      "(Iteration 2051 / 2450) loss: 1.308540\n",
      "(Iteration 2061 / 2450) loss: 1.313512\n",
      "(Iteration 2071 / 2450) loss: 1.327178\n",
      "(Iteration 2081 / 2450) loss: 1.484774\n"
     ]
    },
    {
     "name": "stdout",
     "output_type": "stream",
     "text": [
      "(Iteration 2091 / 2450) loss: 1.259942\n",
      "(Iteration 2101 / 2450) loss: 1.297822\n",
      "(Iteration 2111 / 2450) loss: 1.232861\n",
      "(Iteration 2121 / 2450) loss: 1.232975\n",
      "(Iteration 2131 / 2450) loss: 1.530162\n",
      "(Iteration 2141 / 2450) loss: 1.255213\n",
      "(Iteration 2151 / 2450) loss: 1.205097\n",
      "(Iteration 2161 / 2450) loss: 1.096962\n",
      "(Iteration 2171 / 2450) loss: 1.457738\n",
      "(Iteration 2181 / 2450) loss: 1.312970\n",
      "(Iteration 2191 / 2450) loss: 1.420708\n",
      "(Iteration 2201 / 2450) loss: 1.513041\n",
      "(Iteration 2211 / 2450) loss: 1.128879\n",
      "(Iteration 2221 / 2450) loss: 1.441054\n",
      "(Iteration 2231 / 2450) loss: 1.275192\n",
      "(Iteration 2241 / 2450) loss: 1.417743\n",
      "(Iteration 2251 / 2450) loss: 1.305389\n",
      "(Iteration 2261 / 2450) loss: 1.296828\n",
      "(Iteration 2271 / 2450) loss: 1.291156\n",
      "(Iteration 2281 / 2450) loss: 1.266651\n",
      "(Iteration 2291 / 2450) loss: 1.471671\n",
      "(Iteration 2301 / 2450) loss: 1.145121\n",
      "(Iteration 2311 / 2450) loss: 1.363346\n",
      "(Iteration 2321 / 2450) loss: 1.216644\n",
      "(Iteration 2331 / 2450) loss: 1.264244\n",
      "(Iteration 2341 / 2450) loss: 1.258730\n",
      "(Iteration 2351 / 2450) loss: 1.357624\n",
      "(Iteration 2361 / 2450) loss: 1.191255\n",
      "(Iteration 2371 / 2450) loss: 1.200139\n",
      "(Iteration 2381 / 2450) loss: 1.256315\n",
      "(Iteration 2391 / 2450) loss: 1.394179\n",
      "(Iteration 2401 / 2450) loss: 1.131058\n",
      "(Iteration 2411 / 2450) loss: 1.198479\n",
      "(Iteration 2421 / 2450) loss: 1.242427\n",
      "(Iteration 2431 / 2450) loss: 1.529159\n",
      "(Iteration 2441 / 2450) loss: 1.224716\n",
      "(Epoch 5 / 5) train acc: 0.518000; val_acc: 0.479000\n"
     ]
    },
    {
     "data": {
      "text/plain": [
       "0.482"
      ]
     },
     "execution_count": 15,
     "metadata": {},
     "output_type": "execute_result"
    }
   ],
   "source": [
    "num_train = 100\n",
    "small_data = {\n",
    "  'X_train': data['X_train'][:num_train],\n",
    "  'y_train': data['y_train'][:num_train],\n",
    "  'X_val': data['X_val'],\n",
    "  'y_val': data['y_val'],\n",
    "}\n",
    "model = TwoLayerNeuralNet()\n",
    "solver = None\n",
    "solver = Solver(model, data,\n",
    "                  update_rule='sgd',\n",
    "                  optim_config={\n",
    "                    'learning_rate': 1e-3,\n",
    "                  },\n",
    "                  lr_decay=0.95,\n",
    "                  num_epochs=5, batch_size=100,\n",
    "                  verbose = True)\n",
    "solver.train()\n",
    "solver.best_val_acc"
   ]
  },
  {
   "cell_type": "code",
   "execution_count": 16,
   "metadata": {
    "pycharm": {
     "is_executing": true
    }
   },
   "outputs": [
    {
     "data": {
      "image/png": "[encoded data removed]",
      "text/plain": [
       "<Figure size 1080x864 with 2 Axes>"
      ]
     },
     "metadata": {
      "needs_background": "light"
     },
     "output_type": "display_data"
    }
   ],
   "source": [
    "# Run this cell to visualize training loss and train / val accuracy\n",
    "\n",
    "plt.subplot(2, 1, 1)\n",
    "plt.title('Training loss')\n",
    "plt.plot(solver.loss_history, 'o')\n",
    "plt.xlabel('Iteration')\n",
    "\n",
    "plt.subplot(2, 1, 2)\n",
    "plt.title('Accuracy')\n",
    "plt.plot(solver.train_acc_history, '-o', label='train')\n",
    "plt.plot(solver.val_acc_history, '-o', label='val')\n",
    "plt.plot([0.5] * len(solver.val_acc_history), 'k--')\n",
    "plt.xlabel('Epoch')\n",
    "plt.legend(loc='lower right')\n",
    "plt.gcf().set_size_inches(15, 12)\n",
    "plt.show()"
   ]
  },
  {
   "cell_type": "markdown",
   "metadata": {},
   "source": [
    "# Réseau de neurones multi-couches\n",
    "Maintenant vous devez implanter un réseau ayant un nombre arbitraire de couches.\n",
    "\n",
    "Pour ce faire, prenez connaissance de la classe `FullyConnectedNeuralNet` du fichier `ift725/classifiers/fc_net.py`.\n",
    "\n",
    "Vous devez implanter **l'initialization, la propagation avant et la rétro-propagation**. Pour le moment, ne vous souciez pas de dropout ni de batch norm."
   ]
  },
  {
   "cell_type": "markdown",
   "metadata": {},
   "source": [
    "##  Fonction de perte et vérification du gradient"
   ]
  },
  {
   "cell_type": "markdown",
   "metadata": {},
   "source": [
    "La prochaine cellule effectue une vérification dilligente.  Exécutez la cellule afin de vous assurez que la loss avec et sans régularisation fonctionne. "
   ]
  },
  {
   "cell_type": "code",
   "execution_count": 17,
   "metadata": {},
   "outputs": [
    {
     "name": "stdout",
     "output_type": "stream",
     "text": [
      "Running check with reg =  0\n",
      "Initial loss:  3.403084968110285\n",
      "W1 relative error: 2.88e-07\n",
      "W2 relative error: 1.02e-07\n",
      "b1 relative error: 3.97e-09\n",
      "b2 relative error: 5.28e-10\n",
      "Running check with reg =  3.14\n",
      "Initial loss:  10.27923672338272\n",
      "W1 relative error: 9.69e-09\n",
      "W2 relative error: 1.19e-08\n",
      "b1 relative error: 1.32e-07\n",
      "b2 relative error: 2.37e-09\n"
     ]
    }
   ],
   "source": [
    "from ift725.classifiers.fc_net import *\n",
    "N, D, H1, H2, C = 2, 15, 20, 30, 10\n",
    "X = np.random.randn(N, D)\n",
    "y = np.random.randint(C, size=(N,)) \n",
    "\n",
    "for reg in [0, 3.14]:\n",
    "  print('Running check with reg = ', reg)\n",
    "  model = FullyConnectedNeuralNet([H1, H2], input_dim=D, num_classes=C,\n",
    "                            reg=reg, weight_scale=5e-2, dtype=np.float64)\n",
    "\n",
    "  loss, grads = model.loss(X, y)\n",
    "  print('Initial loss: ', loss)\n",
    "    \n",
    "  # Relative error should be below 1e-5\n",
    "  for name in sorted(grads):\n",
    "    f = lambda _: model.loss(X, y)[0]\n",
    "    grad_num = eval_numerical_gradient(f, model.params[name], verbose=False, h=1e-5)\n",
    "    print('%s relative error: %.2e' % (name, rel_error(grad_num, grads[name])))"
   ]
  },
  {
   "cell_type": "markdown",
   "metadata": {},
   "source": [
    "## Question 1:\n",
    "\n",
    "Pourquoi croyez-vous que les résultats de la cellule précédentes font foi d'une bonne fonction de perte?\n",
    "     \n",
    "**Votre réponse:** ..."
   ]
  },
  {
   "cell_type": "markdown",
   "metadata": {},
   "source": [
    "Autre vérification diligente, assurez-vous que votre code peut \"overfitter\" sur un petit ensemble de 50 images. Pour ce faire, essayons un réseau à 3 couches cachées ayant chacune 100 neurones. Une recherche d'hyper-paramètres sera effectué pour trouver le bon taux d'apprentissage (learning rate) ainsi que le `weight_scale`.  Vous devriez être capable d'atteindre une justesse en entraînement de 100% avec 20 epochs."
   ]
  },
  {
   "cell_type": "code",
   "execution_count": 18,
   "metadata": {
    "scrolled": true
   },
   "outputs": [
    {
     "name": "stderr",
     "output_type": "stream",
     "text": [
      "/home/yannis/Documents/uds/ift725/tp2RN/prog/ift725/layers.py:649: RuntimeWarning: divide by zero encountered in log\n",
      "  loss = np.sum(-np.log(probs[np.arange(len(y)),y]))/len(y)\n"
     ]
    },
    {
     "name": "stdout",
     "output_type": "stream",
     "text": [
      "1 / 625 :  0.84\n",
      "---\n",
      "2 / 625 :  0.84\n",
      "3 / 625 :  0.58\n",
      "4 / 625 :  0.92\n",
      "---\n",
      "5 / 625 :  0.96\n",
      "---\n",
      "6 / 625 :  0.86\n",
      "7 / 625 :  0.9\n",
      "8 / 625 :  0.96\n",
      "9 / 625 :  0.7\n",
      "10 / 625 :  0.66\n",
      "11 / 625 :  0.7\n",
      "12 / 625 :  0.82\n",
      "13 / 625 :  0.68\n",
      "14 / 625 :  0.6\n",
      "15 / 625 :  0.6\n",
      "16 / 625 :  0.5\n",
      "17 / 625 :  0.48\n",
      "18 / 625 :  0.68\n",
      "19 / 625 :  0.48\n",
      "20 / 625 :  0.32\n",
      "21 / 625 :  0.3\n",
      "22 / 625 :  0.2\n",
      "23 / 625 :  0.36\n",
      "24 / 625 :  0.2\n",
      "25 / 625 :  0.04\n",
      "26 / 625 :  0.76\n",
      "27 / 625 :  0.78\n",
      "28 / 625 :  0.9\n",
      "29 / 625 :  0.9\n",
      "30 / 625 :  0.96\n",
      "31 / 625 :  0.94\n",
      "32 / 625 :  0.86\n",
      "33 / 625 :  0.94\n",
      "34 / 625 :  0.94\n",
      "35 / 625 :  0.94\n",
      "36 / 625 :  0.84\n",
      "37 / 625 :  0.82\n",
      "38 / 625 :  0.88\n",
      "39 / 625 :  0.38\n",
      "40 / 625 :  0.6\n",
      "41 / 625 :  0.58\n",
      "42 / 625 :  0.68\n",
      "43 / 625 :  0.38\n",
      "44 / 625 :  0.5\n",
      "45 / 625 :  0.48\n",
      "46 / 625 :  0.34\n",
      "47 / 625 :  0.34\n",
      "48 / 625 :  0.3\n",
      "49 / 625 :  0.06\n",
      "50 / 625 :  0.16\n",
      "51 / 625 :  0.76\n",
      "52 / 625 :  0.88\n",
      "53 / 625 :  0.88\n",
      "54 / 625 :  0.94\n",
      "55 / 625 :  0.94\n",
      "56 / 625 :  0.88\n",
      "57 / 625 :  0.86\n",
      "58 / 625 :  0.96\n",
      "59 / 625 :  0.8\n",
      "60 / 625 :  0.92\n",
      "61 / 625 :  0.84\n",
      "62 / 625 :  0.8\n",
      "63 / 625 :  0.76\n",
      "64 / 625 :  0.68\n",
      "65 / 625 :  0.7\n",
      "66 / 625 :  0.58\n",
      "67 / 625 :  0.68\n",
      "68 / 625 :  0.34\n",
      "69 / 625 :  0.66\n",
      "70 / 625 :  0.48\n",
      "71 / 625 :  0.46\n",
      "72 / 625 :  0.44\n",
      "73 / 625 :  0.16\n",
      "74 / 625 :  0.24\n",
      "75 / 625 :  0.14\n",
      "76 / 625 :  0.66\n",
      "77 / 625 :  0.88\n",
      "78 / 625 :  0.84\n",
      "79 / 625 :  0.82\n",
      "80 / 625 :  0.9\n",
      "81 / 625 :  0.9\n",
      "82 / 625 :  0.86\n",
      "83 / 625 :  0.82\n",
      "84 / 625 :  0.78\n",
      "85 / 625 :  0.9\n",
      "86 / 625 :  0.86\n",
      "87 / 625 :  0.7\n",
      "88 / 625 :  0.42\n",
      "89 / 625 :  0.76\n",
      "90 / 625 :  0.54\n",
      "91 / 625 :  0.64\n",
      "92 / 625 :  0.58\n",
      "93 / 625 :  0.66\n",
      "94 / 625 :  0.5\n",
      "95 / 625 :  0.48\n",
      "96 / 625 :  0.34\n",
      "97 / 625 :  0.32\n",
      "98 / 625 :  0.26\n",
      "99 / 625 :  0.22\n",
      "100 / 625 :  0.14\n",
      "101 / 625 :  0.64\n",
      "102 / 625 :  0.86\n",
      "103 / 625 :  0.8\n",
      "104 / 625 :  0.9\n",
      "105 / 625 :  0.9\n",
      "106 / 625 :  0.94\n",
      "107 / 625 :  0.92\n",
      "108 / 625 :  0.86\n",
      "109 / 625 :  0.98\n",
      "---\n",
      "110 / 625 :  0.9\n",
      "111 / 625 :  0.84\n",
      "112 / 625 :  0.84\n",
      "113 / 625 :  0.84\n",
      "114 / 625 :  0.64\n",
      "115 / 625 :  0.82\n",
      "116 / 625 :  0.62\n",
      "117 / 625 :  0.58\n",
      "118 / 625 :  0.5\n",
      "119 / 625 :  0.78\n",
      "120 / 625 :  0.36\n",
      "121 / 625 :  0.38\n",
      "122 / 625 :  0.32\n",
      "123 / 625 :  0.5\n",
      "124 / 625 :  0.24\n",
      "125 / 625 :  0.16\n",
      "126 / 625 :  0.56\n",
      "127 / 625 :  0.64\n",
      "128 / 625 :  0.68\n",
      "129 / 625 :  0.88\n",
      "130 / 625 :  0.86\n",
      "131 / 625 :  0.94\n",
      "132 / 625 :  0.92\n",
      "133 / 625 :  0.88\n",
      "134 / 625 :  0.9\n",
      "135 / 625 :  0.82\n",
      "136 / 625 :  0.78\n",
      "137 / 625 :  0.8\n",
      "138 / 625 :  0.86\n",
      "139 / 625 :  0.68\n",
      "140 / 625 :  0.98\n",
      "141 / 625 :  0.9\n",
      "142 / 625 :  0.78\n",
      "143 / 625 :  0.66\n",
      "144 / 625 :  0.54\n",
      "145 / 625 :  0.4\n",
      "146 / 625 :  0.5\n",
      "147 / 625 :  0.36\n",
      "148 / 625 :  0.3\n",
      "149 / 625 :  0.28\n",
      "150 / 625 :  0.16\n",
      "151 / 625 :  0.54\n",
      "152 / 625 :  0.78\n",
      "153 / 625 :  0.82\n",
      "154 / 625 :  0.82\n",
      "155 / 625 :  0.9\n",
      "156 / 625 :  0.76\n",
      "157 / 625 :  0.9\n",
      "158 / 625 :  0.96\n",
      "159 / 625 :  0.78\n",
      "160 / 625 :  0.88\n",
      "161 / 625 :  0.8\n",
      "162 / 625 :  0.88\n",
      "163 / 625 :  0.72\n",
      "164 / 625 :  0.64\n",
      "165 / 625 :  0.86\n",
      "166 / 625 :  0.84\n",
      "167 / 625 :  0.5\n",
      "168 / 625 :  0.58\n",
      "169 / 625 :  0.5\n",
      "170 / 625 :  0.6\n",
      "171 / 625 :  0.5\n",
      "172 / 625 :  0.4\n",
      "173 / 625 :  0.28\n",
      "174 / 625 :  0.34\n",
      "175 / 625 :  0.28\n",
      "176 / 625 :  0.52\n",
      "177 / 625 :  0.66\n",
      "178 / 625 :  0.8\n",
      "179 / 625 :  0.8\n",
      "180 / 625 :  0.76\n",
      "181 / 625 :  0.78\n",
      "182 / 625 :  0.82\n",
      "183 / 625 :  0.74\n",
      "184 / 625 :  0.82\n",
      "185 / 625 :  0.84\n",
      "186 / 625 :  0.98\n",
      "187 / 625 :  0.84\n",
      "188 / 625 :  0.78\n",
      "189 / 625 :  0.78\n",
      "190 / 625 :  0.84\n",
      "191 / 625 :  0.7\n",
      "192 / 625 :  0.74\n",
      "193 / 625 :  0.6\n",
      "194 / 625 :  0.62\n",
      "195 / 625 :  0.54\n",
      "196 / 625 :  0.4\n",
      "197 / 625 :  0.46\n",
      "198 / 625 :  0.34\n",
      "199 / 625 :  0.38\n",
      "200 / 625 :  0.4\n",
      "201 / 625 :  0.48\n",
      "202 / 625 :  0.66\n",
      "203 / 625 :  0.76\n",
      "204 / 625 :  0.7\n",
      "205 / 625 :  0.78\n",
      "206 / 625 :  0.86\n",
      "207 / 625 :  0.96\n",
      "208 / 625 :  0.84\n",
      "209 / 625 :  0.94\n",
      "210 / 625 :  0.8\n",
      "211 / 625 :  0.68\n",
      "212 / 625 :  0.84\n",
      "213 / 625 :  0.86\n",
      "214 / 625 :  0.8\n",
      "215 / 625 :  0.76\n",
      "216 / 625 :  0.76\n",
      "217 / 625 :  0.6\n",
      "218 / 625 :  0.5\n",
      "219 / 625 :  0.66\n",
      "220 / 625 :  0.54\n",
      "221 / 625 :  0.52\n",
      "222 / 625 :  0.52\n",
      "223 / 625 :  0.34\n",
      "224 / 625 :  0.38\n",
      "225 / 625 :  0.3\n",
      "226 / 625 :  0.56\n",
      "227 / 625 :  0.6\n",
      "228 / 625 :  0.6\n",
      "229 / 625 :  0.78\n",
      "230 / 625 :  0.78\n",
      "231 / 625 :  0.82\n",
      "232 / 625 :  0.82\n",
      "233 / 625 :  0.84\n",
      "234 / 625 :  0.96\n",
      "235 / 625 :  0.96\n",
      "236 / 625 :  0.86\n",
      "237 / 625 :  0.94\n",
      "238 / 625 :  0.72\n",
      "239 / 625 :  0.7\n",
      "240 / 625 :  0.72\n",
      "241 / 625 :  0.52\n",
      "242 / 625 :  0.76\n",
      "243 / 625 :  0.72\n",
      "244 / 625 :  0.58\n",
      "245 / 625 :  0.3\n",
      "246 / 625 :  0.72\n",
      "247 / 625 :  0.46\n",
      "248 / 625 :  0.24\n",
      "249 / 625 :  0.18\n",
      "250 / 625 :  0.2\n",
      "251 / 625 :  0.32\n",
      "252 / 625 :  0.6\n",
      "253 / 625 :  0.48\n",
      "254 / 625 :  0.76\n",
      "255 / 625 :  0.84\n",
      "256 / 625 :  0.86\n",
      "257 / 625 :  0.92\n",
      "258 / 625 :  0.94\n",
      "259 / 625 :  0.96\n",
      "260 / 625 :  0.88\n",
      "261 / 625 :  0.84\n",
      "262 / 625 :  0.76\n",
      "263 / 625 :  0.78\n",
      "264 / 625 :  0.86\n",
      "265 / 625 :  0.76\n",
      "266 / 625 :  0.62\n",
      "267 / 625 :  0.46\n",
      "268 / 625 :  0.58\n",
      "269 / 625 :  0.66\n",
      "270 / 625 :  0.54\n",
      "271 / 625 :  0.3\n",
      "272 / 625 :  0.34\n",
      "273 / 625 :  0.28\n",
      "274 / 625 :  0.38\n",
      "275 / 625 :  0.22\n",
      "276 / 625 :  0.5\n",
      "277 / 625 :  0.68\n",
      "278 / 625 :  0.62\n",
      "279 / 625 :  0.8\n",
      "280 / 625 :  0.9\n",
      "281 / 625 :  0.86\n",
      "282 / 625 :  1.0\n",
      "---\n",
      "283 / 625 :  0.88\n",
      "284 / 625 :  0.78\n",
      "285 / 625 :  0.9\n",
      "286 / 625 :  0.92\n",
      "287 / 625 :  0.92\n",
      "288 / 625 :  0.84\n",
      "289 / 625 :  0.9\n",
      "290 / 625 :  0.72\n",
      "291 / 625 :  0.84\n",
      "292 / 625 :  0.64\n",
      "293 / 625 :  0.56\n",
      "294 / 625 :  0.68\n",
      "295 / 625 :  0.76\n",
      "296 / 625 :  0.44\n",
      "297 / 625 :  0.54\n",
      "298 / 625 :  0.26\n",
      "299 / 625 :  0.2\n",
      "300 / 625 :  0.16\n",
      "301 / 625 :  0.44\n",
      "302 / 625 :  0.6\n",
      "303 / 625 :  0.72\n",
      "304 / 625 :  0.8\n",
      "305 / 625 :  0.84\n",
      "306 / 625 :  0.9\n",
      "307 / 625 :  0.84\n",
      "308 / 625 :  1.0\n",
      "309 / 625 :  0.92\n",
      "310 / 625 :  0.96\n",
      "311 / 625 :  0.98\n",
      "312 / 625 :  0.96\n",
      "313 / 625 :  0.86\n",
      "314 / 625 :  0.86\n",
      "315 / 625 :  0.72\n",
      "316 / 625 :  0.84\n",
      "317 / 625 :  0.52\n",
      "318 / 625 :  0.6\n",
      "319 / 625 :  0.7\n",
      "320 / 625 :  0.52\n",
      "321 / 625 :  0.46\n",
      "322 / 625 :  0.68\n",
      "323 / 625 :  0.38\n",
      "324 / 625 :  0.3\n",
      "325 / 625 :  0.28\n",
      "326 / 625 :  0.4\n",
      "327 / 625 :  0.6\n",
      "328 / 625 :  0.74\n",
      "329 / 625 :  0.76\n",
      "330 / 625 :  0.88\n",
      "331 / 625 :  0.84\n",
      "332 / 625 :  0.9\n",
      "333 / 625 :  0.98\n",
      "334 / 625 :  0.88\n",
      "335 / 625 :  0.84\n",
      "336 / 625 :  0.82\n",
      "337 / 625 :  0.86\n",
      "338 / 625 :  0.96\n",
      "339 / 625 :  0.66\n",
      "340 / 625 :  0.8\n",
      "341 / 625 :  0.74\n",
      "342 / 625 :  0.8\n",
      "343 / 625 :  0.82\n",
      "344 / 625 :  0.5\n",
      "345 / 625 :  0.64\n",
      "346 / 625 :  0.4\n",
      "347 / 625 :  0.54\n",
      "348 / 625 :  0.54\n",
      "349 / 625 :  0.54\n",
      "350 / 625 :  0.26\n",
      "351 / 625 :  0.48\n",
      "352 / 625 :  0.62\n",
      "353 / 625 :  0.66\n",
      "354 / 625 :  0.8\n",
      "355 / 625 :  0.86\n",
      "356 / 625 :  0.88\n",
      "357 / 625 :  0.82\n",
      "358 / 625 :  0.94\n",
      "359 / 625 :  0.94\n",
      "360 / 625 :  1.0\n",
      "361 / 625 :  0.94\n",
      "362 / 625 :  0.88\n",
      "363 / 625 :  0.78\n",
      "364 / 625 :  0.78\n",
      "365 / 625 :  0.84\n",
      "366 / 625 :  0.68\n",
      "367 / 625 :  0.82\n",
      "368 / 625 :  0.9\n",
      "369 / 625 :  0.6\n",
      "370 / 625 :  0.66\n",
      "371 / 625 :  0.62\n",
      "372 / 625 :  0.58\n",
      "373 / 625 :  0.36\n",
      "374 / 625 :  0.44\n",
      "375 / 625 :  0.46\n",
      "376 / 625 :  0.46\n",
      "377 / 625 :  0.66\n",
      "378 / 625 :  0.66\n",
      "379 / 625 :  0.68\n",
      "380 / 625 :  0.72\n",
      "381 / 625 :  0.8\n",
      "382 / 625 :  0.7\n",
      "383 / 625 :  0.9\n",
      "384 / 625 :  0.94\n",
      "385 / 625 :  0.9\n",
      "386 / 625 :  0.98\n",
      "387 / 625 :  0.82\n",
      "388 / 625 :  0.8\n",
      "389 / 625 :  0.88\n",
      "390 / 625 :  0.76\n",
      "391 / 625 :  0.78\n",
      "392 / 625 :  0.74\n",
      "393 / 625 :  0.68\n",
      "394 / 625 :  0.72\n",
      "395 / 625 :  0.7\n",
      "396 / 625 :  0.78\n",
      "397 / 625 :  0.48\n",
      "398 / 625 :  0.6\n",
      "399 / 625 :  0.46\n",
      "400 / 625 :  0.42\n",
      "401 / 625 :  0.32\n",
      "402 / 625 :  0.62\n",
      "403 / 625 :  0.66\n",
      "404 / 625 :  0.66\n",
      "405 / 625 :  0.68\n",
      "406 / 625 :  0.82\n",
      "407 / 625 :  0.86\n",
      "408 / 625 :  0.92\n",
      "409 / 625 :  0.78\n",
      "410 / 625 :  0.94\n",
      "411 / 625 :  0.9\n",
      "412 / 625 :  0.76\n",
      "413 / 625 :  0.9\n",
      "414 / 625 :  0.82\n",
      "415 / 625 :  0.8\n",
      "416 / 625 :  0.54\n",
      "417 / 625 :  0.6\n",
      "418 / 625 :  0.66\n",
      "419 / 625 :  0.7\n",
      "420 / 625 :  0.68\n",
      "421 / 625 :  0.52\n",
      "422 / 625 :  0.44\n",
      "423 / 625 :  0.42\n",
      "424 / 625 :  0.46\n",
      "425 / 625 :  0.44\n",
      "426 / 625 :  0.56\n",
      "427 / 625 :  0.68\n",
      "428 / 625 :  0.7\n",
      "429 / 625 :  0.56\n",
      "430 / 625 :  0.76\n",
      "431 / 625 :  0.8\n",
      "432 / 625 :  0.84\n",
      "433 / 625 :  0.9\n",
      "434 / 625 :  0.96\n",
      "435 / 625 :  0.98\n",
      "436 / 625 :  0.92\n",
      "437 / 625 :  0.88\n",
      "438 / 625 :  0.9\n",
      "439 / 625 :  0.98\n",
      "440 / 625 :  0.86\n",
      "441 / 625 :  0.82\n",
      "442 / 625 :  0.84\n",
      "443 / 625 :  0.82\n",
      "444 / 625 :  0.64\n",
      "445 / 625 :  0.5\n",
      "446 / 625 :  0.56\n",
      "447 / 625 :  0.52\n",
      "448 / 625 :  0.58\n",
      "449 / 625 :  0.26\n",
      "450 / 625 :  0.32\n",
      "451 / 625 :  0.54\n",
      "452 / 625 :  0.6\n",
      "453 / 625 :  0.72\n",
      "454 / 625 :  0.76\n",
      "455 / 625 :  0.76\n",
      "456 / 625 :  0.8\n",
      "457 / 625 :  0.8\n",
      "458 / 625 :  0.66\n",
      "459 / 625 :  0.9\n",
      "460 / 625 :  0.78\n",
      "461 / 625 :  0.84\n",
      "462 / 625 :  0.88\n",
      "463 / 625 :  0.92\n",
      "464 / 625 :  0.82\n",
      "465 / 625 :  0.68\n",
      "466 / 625 :  0.82\n"
     ]
    },
    {
     "name": "stdout",
     "output_type": "stream",
     "text": [
      "467 / 625 :  0.54\n",
      "468 / 625 :  0.54\n",
      "469 / 625 :  0.5\n",
      "470 / 625 :  0.58\n",
      "471 / 625 :  0.52\n",
      "472 / 625 :  0.64\n",
      "473 / 625 :  0.54\n",
      "474 / 625 :  0.52\n",
      "475 / 625 :  0.38\n",
      "476 / 625 :  0.68\n",
      "477 / 625 :  0.58\n",
      "478 / 625 :  0.64\n",
      "479 / 625 :  0.64\n",
      "480 / 625 :  0.8\n",
      "481 / 625 :  0.8\n",
      "482 / 625 :  0.84\n",
      "483 / 625 :  0.86\n",
      "484 / 625 :  0.82\n",
      "485 / 625 :  0.8\n",
      "486 / 625 :  0.8\n",
      "487 / 625 :  0.88\n",
      "488 / 625 :  0.96\n",
      "489 / 625 :  0.84\n",
      "490 / 625 :  0.76\n",
      "491 / 625 :  0.74\n",
      "492 / 625 :  0.76\n",
      "493 / 625 :  0.62\n",
      "494 / 625 :  0.46\n",
      "495 / 625 :  0.4\n",
      "496 / 625 :  0.68\n",
      "497 / 625 :  0.48\n",
      "498 / 625 :  0.48\n",
      "499 / 625 :  0.56\n",
      "500 / 625 :  0.24\n",
      "501 / 625 :  0.46\n",
      "502 / 625 :  0.78\n",
      "503 / 625 :  0.54\n",
      "504 / 625 :  0.64\n",
      "505 / 625 :  0.8\n",
      "506 / 625 :  0.72\n",
      "507 / 625 :  0.88\n",
      "508 / 625 :  0.78\n",
      "509 / 625 :  0.86\n",
      "510 / 625 :  0.9\n",
      "511 / 625 :  0.76\n",
      "512 / 625 :  0.82\n",
      "513 / 625 :  0.92\n",
      "514 / 625 :  0.86\n",
      "515 / 625 :  0.8\n",
      "516 / 625 :  0.86\n",
      "517 / 625 :  0.8\n",
      "518 / 625 :  0.58\n",
      "519 / 625 :  0.58\n",
      "520 / 625 :  0.74\n",
      "521 / 625 :  0.66\n",
      "522 / 625 :  0.52\n",
      "523 / 625 :  0.62\n",
      "524 / 625 :  0.46\n",
      "525 / 625 :  0.4\n",
      "526 / 625 :  0.56\n",
      "527 / 625 :  0.56\n",
      "528 / 625 :  0.66\n",
      "529 / 625 :  0.68\n",
      "530 / 625 :  0.5\n",
      "531 / 625 :  0.72\n",
      "532 / 625 :  0.86\n",
      "533 / 625 :  0.58\n",
      "534 / 625 :  0.7\n",
      "535 / 625 :  0.7\n",
      "536 / 625 :  0.74\n",
      "537 / 625 :  0.8\n",
      "538 / 625 :  0.8\n",
      "539 / 625 :  0.8\n",
      "540 / 625 :  0.56\n",
      "541 / 625 :  0.76\n",
      "542 / 625 :  0.66\n",
      "543 / 625 :  0.5\n",
      "544 / 625 :  0.74\n",
      "545 / 625 :  0.52\n",
      "546 / 625 :  0.36\n",
      "547 / 625 :  0.62\n",
      "548 / 625 :  0.36\n",
      "549 / 625 :  0.36\n",
      "550 / 625 :  0.28\n",
      "551 / 625 :  0.48\n",
      "552 / 625 :  0.62\n",
      "553 / 625 :  0.68\n",
      "554 / 625 :  0.72\n",
      "555 / 625 :  0.62\n",
      "556 / 625 :  0.68\n",
      "557 / 625 :  0.78\n",
      "558 / 625 :  0.72\n",
      "559 / 625 :  0.82\n",
      "560 / 625 :  0.86\n",
      "561 / 625 :  0.74\n",
      "562 / 625 :  0.8\n",
      "563 / 625 :  0.78\n",
      "564 / 625 :  0.54\n",
      "565 / 625 :  0.72\n",
      "566 / 625 :  0.7\n",
      "567 / 625 :  0.68\n",
      "568 / 625 :  0.52\n",
      "569 / 625 :  0.42\n",
      "570 / 625 :  0.82\n",
      "571 / 625 :  0.32\n",
      "572 / 625 :  0.58\n",
      "573 / 625 :  0.34\n",
      "574 / 625 :  0.44\n",
      "575 / 625 :  0.32\n",
      "576 / 625 :  0.54\n",
      "577 / 625 :  0.56\n",
      "578 / 625 :  0.62\n",
      "579 / 625 :  0.6\n",
      "580 / 625 :  0.64\n",
      "581 / 625 :  0.62\n",
      "582 / 625 :  0.78\n",
      "583 / 625 :  0.78\n",
      "584 / 625 :  0.8\n",
      "585 / 625 :  0.8\n",
      "586 / 625 :  0.7\n",
      "587 / 625 :  0.68\n",
      "588 / 625 :  0.78\n",
      "589 / 625 :  0.78\n",
      "590 / 625 :  0.84\n",
      "591 / 625 :  0.72\n",
      "592 / 625 :  0.66\n",
      "593 / 625 :  0.58\n",
      "594 / 625 :  0.54\n",
      "595 / 625 :  0.64\n",
      "596 / 625 :  0.26\n",
      "597 / 625 :  0.4\n",
      "598 / 625 :  0.38\n",
      "599 / 625 :  0.5\n",
      "600 / 625 :  0.38\n",
      "601 / 625 :  0.42\n",
      "602 / 625 :  0.48\n",
      "603 / 625 :  0.66\n",
      "604 / 625 :  0.62\n",
      "605 / 625 :  0.6\n",
      "606 / 625 :  0.7\n",
      "607 / 625 :  0.74\n",
      "608 / 625 :  0.66\n",
      "609 / 625 :  0.66\n",
      "610 / 625 :  0.7\n",
      "611 / 625 :  0.78\n",
      "612 / 625 :  0.46\n",
      "613 / 625 :  0.8\n",
      "614 / 625 :  0.82\n",
      "615 / 625 :  0.72\n",
      "616 / 625 :  0.66\n",
      "617 / 625 :  0.6\n",
      "618 / 625 :  0.64\n",
      "619 / 625 :  0.54\n",
      "620 / 625 :  0.68\n",
      "621 / 625 :  0.58\n",
      "622 / 625 :  0.34\n",
      "623 / 625 :  0.46\n",
      "624 / 625 :  0.22\n",
      "625 / 625 :  0.26\n",
      "The best learning_rate, weight_scale and training accuracy are 0.042986623470822764 0.0031622776601683794 1.0\n"
     ]
    }
   ],
   "source": [
    "num_train = 50\n",
    "small_data = {\n",
    "  'X_train': data['X_train'][:num_train],\n",
    "  'y_train': data['y_train'][:num_train],\n",
    "  'X_val': data['X_val'],\n",
    "  'y_val': data['y_val'],\n",
    "}\n",
    "\n",
    "best_weight_scale = 0.\n",
    "best_learning_rate = 0.\n",
    "best_training_acc = 0.\n",
    "results = []\n",
    "##############################################################################\n",
    "# TODO: Utilisez une instance de Solver pour entrainer un réseau à 3 couches #\n",
    "#  et 100 neurones par couche à overfitter 50 images de CIFAR10.  Il est     #\n",
    "#  suggéré d'effectuer une recherche d'hyperparamètres pour trouver le bon   #\n",
    "#  `learning_rate` et le bon `weight_scale`.                                 #\n",
    "##############################################################################\n",
    "# TODO: Use a three-layer Net to overfit 50 training examples.\n",
    "i=0\n",
    "nb_weight_scale=25\n",
    "nb_learning_rate=25\n",
    "for weight_scale in np.logspace(-1,-1.8, nb_weight_scale):\n",
    "    for learning_rate in np.logspace(-2,-4, nb_learning_rate):\n",
    "        i+=1\n",
    "        D, H1, H2, H3, C = 3072, 100, 100, 100, 10\n",
    "        model = FullyConnectedNeuralNet([H1, H2, H3], input_dim=D, num_classes=C,\n",
    "                                    reg=reg, weight_scale=weight_scale, dtype=np.float64)\n",
    "        solver = None\n",
    "        solver = Solver(model, small_data,\n",
    "                        num_epochs=20, batch_size=50,\n",
    "                        update_rule='adam',\n",
    "                        optim_config={\n",
    "                          'learning_rate': learning_rate,\n",
    "                        },\n",
    "                        verbose=False, print_every=1)\n",
    "        solver.train()\n",
    "        x = [weight_scale,learning_rate,solver.best_train_acc]\n",
    "        results.append(x)\n",
    "        print(i,\"/\",nb_weight_scale*nb_learning_rate,\": \",solver.best_train_acc)\n",
    "        if solver.best_train_acc>best_training_acc:\n",
    "            best_learning_rate=learning_rate\n",
    "            best_weight_scale=weight_scale\n",
    "            best_training_acc=solver.best_train_acc\n",
    "            print(\"---\")\n",
    "\n",
    "##############################################################################\n",
    "#                             FIN DE VOTRE CODE                              #\n",
    "##############################################################################\n",
    "\n",
    "print('The best learning_rate, weight_scale and training accuracy are',best_weight_scale, best_learning_rate, best_training_acc)"
   ]
  },
  {
   "cell_type": "code",
   "execution_count": 19,
   "metadata": {},
   "outputs": [
    {
     "data": {
      "image/png": "[encoded data removed]",
      "text/plain": [
       "<Figure size 720x576 with 2 Axes>"
      ]
     },
     "metadata": {
      "needs_background": "light"
     },
     "output_type": "display_data"
    }
   ],
   "source": [
    "# Visualize the cross-validation results\n",
    "# import math\n",
    "marker_size = 100\n",
    "x_scatter, x_label = [np.log10(x[0]) for x in results], 'log weight scale'\n",
    "y_scatter, y_label = [np.log10(x[1]) for x in results], 'log learning rate'\n",
    "\n",
    "# plot validation accuracy\n",
    "colors = [x[2] for x in results]#[results[x] for x in results] # default size of markers is 20\n",
    "plt.subplot(2, 1, 2)\n",
    "plt.scatter(x_scatter, y_scatter, marker_size, c=colors)\n",
    "plt.colorbar()\n",
    "plt.xlabel(x_label)\n",
    "plt.ylabel(y_label)\n",
    "plt.title('Train accuracy')\n",
    "plt.show()"
   ]
  },
  {
   "cell_type": "markdown",
   "metadata": {},
   "source": [
    "Maintenant, faites la même chose pour un réseau à 5 couches."
   ]
  },
  {
   "cell_type": "code",
   "execution_count": 24,
   "metadata": {
    "scrolled": true
   },
   "outputs": [
    {
     "name": "stderr",
     "output_type": "stream",
     "text": [
      "/home/yannis/Documents/uds/ift725/tp2RN/prog/ift725/layers.py:649: RuntimeWarning: divide by zero encountered in log\n",
      "  loss = np.sum(-np.log(probs[np.arange(len(y)),y]))/len(y)\n"
     ]
    },
    {
     "name": "stdout",
     "output_type": "stream",
     "text": [
      "1 / 625 |  final loss: inf  train_acc: 0.86\n",
      "---\n",
      "\n",
      "\n"
     ]
    },
    {
     "name": "stderr",
     "output_type": "stream",
     "text": [
      "/home/yannis/Documents/uds/ift725/tp2RN/prog/ift725/layers.py:649: RuntimeWarning: divide by zero encountered in log\n",
      "  loss = np.sum(-np.log(probs[np.arange(len(y)),y]))/len(y)\n"
     ]
    },
    {
     "name": "stdout",
     "output_type": "stream",
     "text": [
      "2 / 625 |  final loss: inf  train_acc: 0.9\n",
      "---\n",
      "\n",
      "\n"
     ]
    },
    {
     "name": "stderr",
     "output_type": "stream",
     "text": [
      "/home/yannis/Documents/uds/ift725/tp2RN/prog/ift725/layers.py:649: RuntimeWarning: divide by zero encountered in log\n",
      "  loss = np.sum(-np.log(probs[np.arange(len(y)),y]))/len(y)\n"
     ]
    },
    {
     "name": "stdout",
     "output_type": "stream",
     "text": [
      "3 / 625 |  final loss: inf  train_acc: 0.88\n",
      "\n",
      "\n"
     ]
    },
    {
     "name": "stderr",
     "output_type": "stream",
     "text": [
      "/home/yannis/Documents/uds/ift725/tp2RN/prog/ift725/layers.py:649: RuntimeWarning: divide by zero encountered in log\n",
      "  loss = np.sum(-np.log(probs[np.arange(len(y)),y]))/len(y)\n"
     ]
    },
    {
     "name": "stdout",
     "output_type": "stream",
     "text": [
      "4 / 625 |  final loss: inf  train_acc: 0.82\n",
      "\n",
      "\n"
     ]
    },
    {
     "name": "stderr",
     "output_type": "stream",
     "text": [
      "/home/yannis/Documents/uds/ift725/tp2RN/prog/ift725/layers.py:649: RuntimeWarning: divide by zero encountered in log\n",
      "  loss = np.sum(-np.log(probs[np.arange(len(y)),y]))/len(y)\n"
     ]
    },
    {
     "name": "stdout",
     "output_type": "stream",
     "text": [
      "5 / 625 |  final loss: inf  train_acc: 0.92\n",
      "---\n",
      "\n",
      "\n"
     ]
    },
    {
     "name": "stderr",
     "output_type": "stream",
     "text": [
      "/home/yannis/Documents/uds/ift725/tp2RN/prog/ift725/layers.py:649: RuntimeWarning: divide by zero encountered in log\n",
      "  loss = np.sum(-np.log(probs[np.arange(len(y)),y]))/len(y)\n"
     ]
    },
    {
     "name": "stdout",
     "output_type": "stream",
     "text": [
      "6 / 625 |  final loss: inf  train_acc: 0.96\n",
      "---\n",
      "\n",
      "\n"
     ]
    },
    {
     "name": "stderr",
     "output_type": "stream",
     "text": [
      "/home/yannis/Documents/uds/ift725/tp2RN/prog/ift725/layers.py:649: RuntimeWarning: divide by zero encountered in log\n",
      "  loss = np.sum(-np.log(probs[np.arange(len(y)),y]))/len(y)\n"
     ]
    },
    {
     "name": "stdout",
     "output_type": "stream",
     "text": [
      "7 / 625 |  final loss: 54751.7450999718  train_acc: 0.98\n",
      "---\n",
      "\n",
      "\n"
     ]
    },
    {
     "name": "stderr",
     "output_type": "stream",
     "text": [
      "/home/yannis/Documents/uds/ift725/tp2RN/prog/ift725/layers.py:649: RuntimeWarning: divide by zero encountered in log\n",
      "  loss = np.sum(-np.log(probs[np.arange(len(y)),y]))/len(y)\n"
     ]
    },
    {
     "name": "stdout",
     "output_type": "stream",
     "text": [
      "8 / 625 |  final loss: inf  train_acc: 0.88\n",
      "\n",
      "\n"
     ]
    },
    {
     "name": "stderr",
     "output_type": "stream",
     "text": [
      "/home/yannis/Documents/uds/ift725/tp2RN/prog/ift725/layers.py:649: RuntimeWarning: divide by zero encountered in log\n",
      "  loss = np.sum(-np.log(probs[np.arange(len(y)),y]))/len(y)\n"
     ]
    },
    {
     "name": "stdout",
     "output_type": "stream",
     "text": [
      "9 / 625 |  final loss: inf  train_acc: 0.96\n",
      "\n",
      "\n"
     ]
    },
    {
     "name": "stderr",
     "output_type": "stream",
     "text": [
      "/home/yannis/Documents/uds/ift725/tp2RN/prog/ift725/layers.py:649: RuntimeWarning: divide by zero encountered in log\n",
      "  loss = np.sum(-np.log(probs[np.arange(len(y)),y]))/len(y)\n"
     ]
    },
    {
     "name": "stdout",
     "output_type": "stream",
     "text": [
      "10 / 625 |  final loss: inf  train_acc: 0.68\n",
      "\n",
      "\n"
     ]
    },
    {
     "name": "stderr",
     "output_type": "stream",
     "text": [
      "/home/yannis/Documents/uds/ift725/tp2RN/prog/ift725/layers.py:649: RuntimeWarning: divide by zero encountered in log\n",
      "  loss = np.sum(-np.log(probs[np.arange(len(y)),y]))/len(y)\n"
     ]
    },
    {
     "name": "stdout",
     "output_type": "stream",
     "text": [
      "11 / 625 |  final loss: inf  train_acc: 0.82\n",
      "\n",
      "\n"
     ]
    },
    {
     "name": "stderr",
     "output_type": "stream",
     "text": [
      "/home/yannis/Documents/uds/ift725/tp2RN/prog/ift725/layers.py:649: RuntimeWarning: divide by zero encountered in log\n",
      "  loss = np.sum(-np.log(probs[np.arange(len(y)),y]))/len(y)\n"
     ]
    },
    {
     "name": "stdout",
     "output_type": "stream",
     "text": [
      "12 / 625 |  final loss: inf  train_acc: 0.88\n",
      "\n",
      "\n"
     ]
    },
    {
     "name": "stderr",
     "output_type": "stream",
     "text": [
      "/home/yannis/Documents/uds/ift725/tp2RN/prog/ift725/layers.py:649: RuntimeWarning: divide by zero encountered in log\n",
      "  loss = np.sum(-np.log(probs[np.arange(len(y)),y]))/len(y)\n"
     ]
    },
    {
     "name": "stdout",
     "output_type": "stream",
     "text": [
      "13 / 625 |  final loss: inf  train_acc: 0.7\n",
      "\n",
      "\n"
     ]
    },
    {
     "name": "stderr",
     "output_type": "stream",
     "text": [
      "/home/yannis/Documents/uds/ift725/tp2RN/prog/ift725/layers.py:649: RuntimeWarning: divide by zero encountered in log\n",
      "  loss = np.sum(-np.log(probs[np.arange(len(y)),y]))/len(y)\n"
     ]
    },
    {
     "name": "stdout",
     "output_type": "stream",
     "text": [
      "14 / 625 |  final loss: inf  train_acc: 0.42\n",
      "\n",
      "\n"
     ]
    },
    {
     "name": "stderr",
     "output_type": "stream",
     "text": [
      "/home/yannis/Documents/uds/ift725/tp2RN/prog/ift725/layers.py:649: RuntimeWarning: divide by zero encountered in log\n",
      "  loss = np.sum(-np.log(probs[np.arange(len(y)),y]))/len(y)\n"
     ]
    },
    {
     "name": "stdout",
     "output_type": "stream",
     "text": [
      "15 / 625 |  final loss: inf  train_acc: 0.84\n",
      "\n",
      "\n"
     ]
    },
    {
     "name": "stderr",
     "output_type": "stream",
     "text": [
      "/home/yannis/Documents/uds/ift725/tp2RN/prog/ift725/layers.py:649: RuntimeWarning: divide by zero encountered in log\n",
      "  loss = np.sum(-np.log(probs[np.arange(len(y)),y]))/len(y)\n"
     ]
    },
    {
     "name": "stdout",
     "output_type": "stream",
     "text": [
      "16 / 625 |  final loss: inf  train_acc: 0.64\n",
      "\n",
      "\n"
     ]
    },
    {
     "name": "stderr",
     "output_type": "stream",
     "text": [
      "/home/yannis/Documents/uds/ift725/tp2RN/prog/ift725/layers.py:649: RuntimeWarning: divide by zero encountered in log\n",
      "  loss = np.sum(-np.log(probs[np.arange(len(y)),y]))/len(y)\n"
     ]
    },
    {
     "name": "stdout",
     "output_type": "stream",
     "text": [
      "17 / 625 |  final loss: inf  train_acc: 0.7\n",
      "\n",
      "\n"
     ]
    },
    {
     "name": "stderr",
     "output_type": "stream",
     "text": [
      "/home/yannis/Documents/uds/ift725/tp2RN/prog/ift725/layers.py:649: RuntimeWarning: divide by zero encountered in log\n",
      "  loss = np.sum(-np.log(probs[np.arange(len(y)),y]))/len(y)\n"
     ]
    },
    {
     "name": "stdout",
     "output_type": "stream",
     "text": [
      "18 / 625 |  final loss: inf  train_acc: 0.7\n",
      "\n",
      "\n"
     ]
    },
    {
     "name": "stderr",
     "output_type": "stream",
     "text": [
      "/home/yannis/Documents/uds/ift725/tp2RN/prog/ift725/layers.py:649: RuntimeWarning: divide by zero encountered in log\n",
      "  loss = np.sum(-np.log(probs[np.arange(len(y)),y]))/len(y)\n"
     ]
    },
    {
     "name": "stdout",
     "output_type": "stream",
     "text": [
      "19 / 625 |  final loss: inf  train_acc: 0.84\n",
      "\n",
      "\n"
     ]
    },
    {
     "name": "stderr",
     "output_type": "stream",
     "text": [
      "/home/yannis/Documents/uds/ift725/tp2RN/prog/ift725/layers.py:649: RuntimeWarning: divide by zero encountered in log\n",
      "  loss = np.sum(-np.log(probs[np.arange(len(y)),y]))/len(y)\n"
     ]
    },
    {
     "name": "stdout",
     "output_type": "stream",
     "text": [
      "20 / 625 |  final loss: inf  train_acc: 0.64\n",
      "\n",
      "\n"
     ]
    },
    {
     "name": "stderr",
     "output_type": "stream",
     "text": [
      "/home/yannis/Documents/uds/ift725/tp2RN/prog/ift725/layers.py:649: RuntimeWarning: divide by zero encountered in log\n",
      "  loss = np.sum(-np.log(probs[np.arange(len(y)),y]))/len(y)\n"
     ]
    },
    {
     "name": "stdout",
     "output_type": "stream",
     "text": [
      "21 / 625 |  final loss: inf  train_acc: 0.7\n",
      "\n",
      "\n"
     ]
    },
    {
     "name": "stderr",
     "output_type": "stream",
     "text": [
      "/home/yannis/Documents/uds/ift725/tp2RN/prog/ift725/layers.py:649: RuntimeWarning: divide by zero encountered in log\n",
      "  loss = np.sum(-np.log(probs[np.arange(len(y)),y]))/len(y)\n"
     ]
    },
    {
     "name": "stdout",
     "output_type": "stream",
     "text": [
      "22 / 625 |  final loss: inf  train_acc: 0.66\n",
      "\n",
      "\n"
     ]
    },
    {
     "name": "stderr",
     "output_type": "stream",
     "text": [
      "/home/yannis/Documents/uds/ift725/tp2RN/prog/ift725/layers.py:649: RuntimeWarning: divide by zero encountered in log\n",
      "  loss = np.sum(-np.log(probs[np.arange(len(y)),y]))/len(y)\n"
     ]
    },
    {
     "name": "stdout",
     "output_type": "stream",
     "text": [
      "23 / 625 |  final loss: inf  train_acc: 0.7\n",
      "\n",
      "\n"
     ]
    },
    {
     "name": "stderr",
     "output_type": "stream",
     "text": [
      "/home/yannis/Documents/uds/ift725/tp2RN/prog/ift725/layers.py:649: RuntimeWarning: divide by zero encountered in log\n",
      "  loss = np.sum(-np.log(probs[np.arange(len(y)),y]))/len(y)\n"
     ]
    },
    {
     "name": "stdout",
     "output_type": "stream",
     "text": [
      "24 / 625 |  final loss: inf  train_acc: 0.46\n",
      "\n",
      "\n"
     ]
    },
    {
     "name": "stderr",
     "output_type": "stream",
     "text": [
      "/home/yannis/Documents/uds/ift725/tp2RN/prog/ift725/layers.py:649: RuntimeWarning: divide by zero encountered in log\n",
      "  loss = np.sum(-np.log(probs[np.arange(len(y)),y]))/len(y)\n"
     ]
    },
    {
     "name": "stdout",
     "output_type": "stream",
     "text": [
      "25 / 625 |  final loss: inf  train_acc: 0.38\n",
      "\n",
      "\n"
     ]
    },
    {
     "name": "stderr",
     "output_type": "stream",
     "text": [
      "/home/yannis/Documents/uds/ift725/tp2RN/prog/ift725/layers.py:649: RuntimeWarning: divide by zero encountered in log\n",
      "  loss = np.sum(-np.log(probs[np.arange(len(y)),y]))/len(y)\n"
     ]
    },
    {
     "name": "stdout",
     "output_type": "stream",
     "text": [
      "26 / 625 |  final loss: inf  train_acc: 0.94\n",
      "\n",
      "\n"
     ]
    },
    {
     "name": "stderr",
     "output_type": "stream",
     "text": [
      "/home/yannis/Documents/uds/ift725/tp2RN/prog/ift725/layers.py:649: RuntimeWarning: divide by zero encountered in log\n",
      "  loss = np.sum(-np.log(probs[np.arange(len(y)),y]))/len(y)\n"
     ]
    },
    {
     "name": "stdout",
     "output_type": "stream",
     "text": [
      "27 / 625 |  final loss: inf  train_acc: 0.86\n",
      "\n",
      "\n"
     ]
    },
    {
     "name": "stderr",
     "output_type": "stream",
     "text": [
      "/home/yannis/Documents/uds/ift725/tp2RN/prog/ift725/layers.py:649: RuntimeWarning: divide by zero encountered in log\n",
      "  loss = np.sum(-np.log(probs[np.arange(len(y)),y]))/len(y)\n"
     ]
    },
    {
     "name": "stdout",
     "output_type": "stream",
     "text": [
      "28 / 625 |  final loss: inf  train_acc: 0.94\n",
      "\n",
      "\n"
     ]
    },
    {
     "name": "stderr",
     "output_type": "stream",
     "text": [
      "/home/yannis/Documents/uds/ift725/tp2RN/prog/ift725/layers.py:649: RuntimeWarning: divide by zero encountered in log\n",
      "  loss = np.sum(-np.log(probs[np.arange(len(y)),y]))/len(y)\n"
     ]
    },
    {
     "name": "stdout",
     "output_type": "stream",
     "text": [
      "29 / 625 |  final loss: inf  train_acc: 0.76\n",
      "\n",
      "\n"
     ]
    },
    {
     "name": "stderr",
     "output_type": "stream",
     "text": [
      "/home/yannis/Documents/uds/ift725/tp2RN/prog/ift725/layers.py:649: RuntimeWarning: divide by zero encountered in log\n",
      "  loss = np.sum(-np.log(probs[np.arange(len(y)),y]))/len(y)\n"
     ]
    },
    {
     "name": "stdout",
     "output_type": "stream",
     "text": [
      "30 / 625 |  final loss: inf  train_acc: 0.72\n",
      "\n",
      "\n"
     ]
    },
    {
     "name": "stderr",
     "output_type": "stream",
     "text": [
      "/home/yannis/Documents/uds/ift725/tp2RN/prog/ift725/layers.py:649: RuntimeWarning: divide by zero encountered in log\n",
      "  loss = np.sum(-np.log(probs[np.arange(len(y)),y]))/len(y)\n"
     ]
    },
    {
     "name": "stdout",
     "output_type": "stream",
     "text": [
      "31 / 625 |  final loss: 43768.576267647644  train_acc: 0.96\n",
      "\n",
      "\n"
     ]
    },
    {
     "name": "stderr",
     "output_type": "stream",
     "text": [
      "/home/yannis/Documents/uds/ift725/tp2RN/prog/ift725/layers.py:649: RuntimeWarning: divide by zero encountered in log\n",
      "  loss = np.sum(-np.log(probs[np.arange(len(y)),y]))/len(y)\n"
     ]
    },
    {
     "name": "stdout",
     "output_type": "stream",
     "text": [
      "32 / 625 |  final loss: inf  train_acc: 0.84\n",
      "\n",
      "\n"
     ]
    },
    {
     "name": "stderr",
     "output_type": "stream",
     "text": [
      "/home/yannis/Documents/uds/ift725/tp2RN/prog/ift725/layers.py:649: RuntimeWarning: divide by zero encountered in log\n",
      "  loss = np.sum(-np.log(probs[np.arange(len(y)),y]))/len(y)\n"
     ]
    },
    {
     "name": "stdout",
     "output_type": "stream",
     "text": [
      "33 / 625 |  final loss: inf  train_acc: 0.82\n",
      "\n",
      "\n"
     ]
    },
    {
     "name": "stderr",
     "output_type": "stream",
     "text": [
      "/home/yannis/Documents/uds/ift725/tp2RN/prog/ift725/layers.py:649: RuntimeWarning: divide by zero encountered in log\n",
      "  loss = np.sum(-np.log(probs[np.arange(len(y)),y]))/len(y)\n"
     ]
    },
    {
     "name": "stdout",
     "output_type": "stream",
     "text": [
      "34 / 625 |  final loss: inf  train_acc: 0.92\n",
      "\n",
      "\n"
     ]
    },
    {
     "name": "stderr",
     "output_type": "stream",
     "text": [
      "/home/yannis/Documents/uds/ift725/tp2RN/prog/ift725/layers.py:649: RuntimeWarning: divide by zero encountered in log\n",
      "  loss = np.sum(-np.log(probs[np.arange(len(y)),y]))/len(y)\n"
     ]
    },
    {
     "name": "stdout",
     "output_type": "stream",
     "text": [
      "35 / 625 |  final loss: inf  train_acc: 0.68\n",
      "\n",
      "\n"
     ]
    },
    {
     "name": "stderr",
     "output_type": "stream",
     "text": [
      "/home/yannis/Documents/uds/ift725/tp2RN/prog/ift725/layers.py:649: RuntimeWarning: divide by zero encountered in log\n",
      "  loss = np.sum(-np.log(probs[np.arange(len(y)),y]))/len(y)\n"
     ]
    },
    {
     "name": "stdout",
     "output_type": "stream",
     "text": [
      "36 / 625 |  final loss: inf  train_acc: 0.84\n",
      "\n",
      "\n"
     ]
    },
    {
     "name": "stderr",
     "output_type": "stream",
     "text": [
      "/home/yannis/Documents/uds/ift725/tp2RN/prog/ift725/layers.py:649: RuntimeWarning: divide by zero encountered in log\n",
      "  loss = np.sum(-np.log(probs[np.arange(len(y)),y]))/len(y)\n"
     ]
    },
    {
     "name": "stdout",
     "output_type": "stream",
     "text": [
      "37 / 625 |  final loss: inf  train_acc: 0.88\n",
      "\n",
      "\n"
     ]
    },
    {
     "name": "stderr",
     "output_type": "stream",
     "text": [
      "/home/yannis/Documents/uds/ift725/tp2RN/prog/ift725/layers.py:649: RuntimeWarning: divide by zero encountered in log\n",
      "  loss = np.sum(-np.log(probs[np.arange(len(y)),y]))/len(y)\n"
     ]
    },
    {
     "name": "stdout",
     "output_type": "stream",
     "text": [
      "38 / 625 |  final loss: inf  train_acc: 0.56\n",
      "\n",
      "\n"
     ]
    },
    {
     "name": "stderr",
     "output_type": "stream",
     "text": [
      "/home/yannis/Documents/uds/ift725/tp2RN/prog/ift725/layers.py:649: RuntimeWarning: divide by zero encountered in log\n",
      "  loss = np.sum(-np.log(probs[np.arange(len(y)),y]))/len(y)\n"
     ]
    },
    {
     "name": "stdout",
     "output_type": "stream",
     "text": [
      "39 / 625 |  final loss: inf  train_acc: 0.74\n",
      "\n",
      "\n"
     ]
    },
    {
     "name": "stderr",
     "output_type": "stream",
     "text": [
      "/home/yannis/Documents/uds/ift725/tp2RN/prog/ift725/layers.py:649: RuntimeWarning: divide by zero encountered in log\n",
      "  loss = np.sum(-np.log(probs[np.arange(len(y)),y]))/len(y)\n"
     ]
    },
    {
     "name": "stdout",
     "output_type": "stream",
     "text": [
      "40 / 625 |  final loss: inf  train_acc: 0.8\n",
      "\n",
      "\n"
     ]
    },
    {
     "name": "stderr",
     "output_type": "stream",
     "text": [
      "/home/yannis/Documents/uds/ift725/tp2RN/prog/ift725/layers.py:649: RuntimeWarning: divide by zero encountered in log\n",
      "  loss = np.sum(-np.log(probs[np.arange(len(y)),y]))/len(y)\n"
     ]
    },
    {
     "name": "stdout",
     "output_type": "stream",
     "text": [
      "41 / 625 |  final loss: inf  train_acc: 0.78\n",
      "\n",
      "\n"
     ]
    },
    {
     "name": "stderr",
     "output_type": "stream",
     "text": [
      "/home/yannis/Documents/uds/ift725/tp2RN/prog/ift725/layers.py:649: RuntimeWarning: divide by zero encountered in log\n",
      "  loss = np.sum(-np.log(probs[np.arange(len(y)),y]))/len(y)\n"
     ]
    },
    {
     "name": "stdout",
     "output_type": "stream",
     "text": [
      "42 / 625 |  final loss: inf  train_acc: 0.7\n",
      "\n",
      "\n"
     ]
    },
    {
     "name": "stderr",
     "output_type": "stream",
     "text": [
      "/home/yannis/Documents/uds/ift725/tp2RN/prog/ift725/layers.py:649: RuntimeWarning: divide by zero encountered in log\n",
      "  loss = np.sum(-np.log(probs[np.arange(len(y)),y]))/len(y)\n"
     ]
    },
    {
     "name": "stdout",
     "output_type": "stream",
     "text": [
      "43 / 625 |  final loss: inf  train_acc: 0.86\n",
      "\n",
      "\n"
     ]
    },
    {
     "name": "stderr",
     "output_type": "stream",
     "text": [
      "/home/yannis/Documents/uds/ift725/tp2RN/prog/ift725/layers.py:649: RuntimeWarning: divide by zero encountered in log\n",
      "  loss = np.sum(-np.log(probs[np.arange(len(y)),y]))/len(y)\n"
     ]
    },
    {
     "name": "stdout",
     "output_type": "stream",
     "text": [
      "44 / 625 |  final loss: inf  train_acc: 0.58\n",
      "\n",
      "\n"
     ]
    },
    {
     "name": "stderr",
     "output_type": "stream",
     "text": [
      "/home/yannis/Documents/uds/ift725/tp2RN/prog/ift725/layers.py:649: RuntimeWarning: divide by zero encountered in log\n",
      "  loss = np.sum(-np.log(probs[np.arange(len(y)),y]))/len(y)\n"
     ]
    },
    {
     "name": "stdout",
     "output_type": "stream",
     "text": [
      "45 / 625 |  final loss: inf  train_acc: 0.56\n",
      "\n",
      "\n"
     ]
    },
    {
     "name": "stderr",
     "output_type": "stream",
     "text": [
      "/home/yannis/Documents/uds/ift725/tp2RN/prog/ift725/layers.py:649: RuntimeWarning: divide by zero encountered in log\n",
      "  loss = np.sum(-np.log(probs[np.arange(len(y)),y]))/len(y)\n"
     ]
    },
    {
     "name": "stdout",
     "output_type": "stream",
     "text": [
      "46 / 625 |  final loss: inf  train_acc: 0.7\n",
      "\n",
      "\n"
     ]
    },
    {
     "name": "stderr",
     "output_type": "stream",
     "text": [
      "/home/yannis/Documents/uds/ift725/tp2RN/prog/ift725/layers.py:649: RuntimeWarning: divide by zero encountered in log\n",
      "  loss = np.sum(-np.log(probs[np.arange(len(y)),y]))/len(y)\n"
     ]
    },
    {
     "name": "stdout",
     "output_type": "stream",
     "text": [
      "47 / 625 |  final loss: inf  train_acc: 0.6\n",
      "\n",
      "\n"
     ]
    },
    {
     "name": "stderr",
     "output_type": "stream",
     "text": [
      "/home/yannis/Documents/uds/ift725/tp2RN/prog/ift725/layers.py:649: RuntimeWarning: divide by zero encountered in log\n",
      "  loss = np.sum(-np.log(probs[np.arange(len(y)),y]))/len(y)\n"
     ]
    },
    {
     "name": "stdout",
     "output_type": "stream",
     "text": [
      "48 / 625 |  final loss: inf  train_acc: 0.54\n",
      "\n",
      "\n"
     ]
    },
    {
     "name": "stderr",
     "output_type": "stream",
     "text": [
      "/home/yannis/Documents/uds/ift725/tp2RN/prog/ift725/layers.py:649: RuntimeWarning: divide by zero encountered in log\n",
      "  loss = np.sum(-np.log(probs[np.arange(len(y)),y]))/len(y)\n"
     ]
    },
    {
     "name": "stdout",
     "output_type": "stream",
     "text": [
      "49 / 625 |  final loss: inf  train_acc: 0.62\n",
      "\n",
      "\n"
     ]
    },
    {
     "name": "stderr",
     "output_type": "stream",
     "text": [
      "/home/yannis/Documents/uds/ift725/tp2RN/prog/ift725/layers.py:649: RuntimeWarning: divide by zero encountered in log\n",
      "  loss = np.sum(-np.log(probs[np.arange(len(y)),y]))/len(y)\n"
     ]
    },
    {
     "name": "stdout",
     "output_type": "stream",
     "text": [
      "50 / 625 |  final loss: inf  train_acc: 0.54\n",
      "\n",
      "\n"
     ]
    },
    {
     "name": "stderr",
     "output_type": "stream",
     "text": [
      "/home/yannis/Documents/uds/ift725/tp2RN/prog/ift725/layers.py:649: RuntimeWarning: divide by zero encountered in log\n",
      "  loss = np.sum(-np.log(probs[np.arange(len(y)),y]))/len(y)\n"
     ]
    },
    {
     "name": "stdout",
     "output_type": "stream",
     "text": [
      "51 / 625 |  final loss: inf  train_acc: 0.94\n",
      "\n",
      "\n"
     ]
    },
    {
     "name": "stderr",
     "output_type": "stream",
     "text": [
      "/home/yannis/Documents/uds/ift725/tp2RN/prog/ift725/layers.py:649: RuntimeWarning: divide by zero encountered in log\n",
      "  loss = np.sum(-np.log(probs[np.arange(len(y)),y]))/len(y)\n"
     ]
    },
    {
     "name": "stdout",
     "output_type": "stream",
     "text": [
      "52 / 625 |  final loss: 29317.539537897024  train_acc: 0.96\n",
      "\n",
      "\n"
     ]
    },
    {
     "name": "stderr",
     "output_type": "stream",
     "text": [
      "/home/yannis/Documents/uds/ift725/tp2RN/prog/ift725/layers.py:649: RuntimeWarning: divide by zero encountered in log\n",
      "  loss = np.sum(-np.log(probs[np.arange(len(y)),y]))/len(y)\n"
     ]
    },
    {
     "name": "stdout",
     "output_type": "stream",
     "text": [
      "53 / 625 |  final loss: inf  train_acc: 0.9\n",
      "\n",
      "\n"
     ]
    },
    {
     "name": "stderr",
     "output_type": "stream",
     "text": [
      "/home/yannis/Documents/uds/ift725/tp2RN/prog/ift725/layers.py:649: RuntimeWarning: divide by zero encountered in log\n",
      "  loss = np.sum(-np.log(probs[np.arange(len(y)),y]))/len(y)\n"
     ]
    },
    {
     "name": "stdout",
     "output_type": "stream",
     "text": [
      "54 / 625 |  final loss: inf  train_acc: 0.76\n",
      "\n",
      "\n"
     ]
    },
    {
     "name": "stderr",
     "output_type": "stream",
     "text": [
      "/home/yannis/Documents/uds/ift725/tp2RN/prog/ift725/layers.py:649: RuntimeWarning: divide by zero encountered in log\n",
      "  loss = np.sum(-np.log(probs[np.arange(len(y)),y]))/len(y)\n"
     ]
    },
    {
     "name": "stdout",
     "output_type": "stream",
     "text": [
      "55 / 625 |  final loss: 34637.43643337501  train_acc: 0.94\n",
      "\n",
      "\n"
     ]
    },
    {
     "name": "stderr",
     "output_type": "stream",
     "text": [
      "/home/yannis/Documents/uds/ift725/tp2RN/prog/ift725/layers.py:649: RuntimeWarning: divide by zero encountered in log\n",
      "  loss = np.sum(-np.log(probs[np.arange(len(y)),y]))/len(y)\n"
     ]
    },
    {
     "name": "stdout",
     "output_type": "stream",
     "text": [
      "56 / 625 |  final loss: inf  train_acc: 0.8\n",
      "\n",
      "\n"
     ]
    },
    {
     "name": "stderr",
     "output_type": "stream",
     "text": [
      "/home/yannis/Documents/uds/ift725/tp2RN/prog/ift725/layers.py:649: RuntimeWarning: divide by zero encountered in log\n",
      "  loss = np.sum(-np.log(probs[np.arange(len(y)),y]))/len(y)\n"
     ]
    },
    {
     "name": "stdout",
     "output_type": "stream",
     "text": [
      "57 / 625 |  final loss: inf  train_acc: 0.8\n",
      "\n",
      "\n"
     ]
    },
    {
     "name": "stderr",
     "output_type": "stream",
     "text": [
      "/home/yannis/Documents/uds/ift725/tp2RN/prog/ift725/layers.py:649: RuntimeWarning: divide by zero encountered in log\n",
      "  loss = np.sum(-np.log(probs[np.arange(len(y)),y]))/len(y)\n"
     ]
    },
    {
     "name": "stdout",
     "output_type": "stream",
     "text": [
      "58 / 625 |  final loss: inf  train_acc: 0.96\n",
      "\n",
      "\n"
     ]
    },
    {
     "name": "stderr",
     "output_type": "stream",
     "text": [
      "/home/yannis/Documents/uds/ift725/tp2RN/prog/ift725/layers.py:649: RuntimeWarning: divide by zero encountered in log\n",
      "  loss = np.sum(-np.log(probs[np.arange(len(y)),y]))/len(y)\n"
     ]
    },
    {
     "name": "stdout",
     "output_type": "stream",
     "text": [
      "59 / 625 |  final loss: inf  train_acc: 0.94\n",
      "\n",
      "\n"
     ]
    },
    {
     "name": "stderr",
     "output_type": "stream",
     "text": [
      "/home/yannis/Documents/uds/ift725/tp2RN/prog/ift725/layers.py:649: RuntimeWarning: divide by zero encountered in log\n",
      "  loss = np.sum(-np.log(probs[np.arange(len(y)),y]))/len(y)\n"
     ]
    },
    {
     "name": "stdout",
     "output_type": "stream",
     "text": [
      "60 / 625 |  final loss: inf  train_acc: 0.92\n",
      "\n",
      "\n"
     ]
    },
    {
     "name": "stderr",
     "output_type": "stream",
     "text": [
      "/home/yannis/Documents/uds/ift725/tp2RN/prog/ift725/layers.py:649: RuntimeWarning: divide by zero encountered in log\n",
      "  loss = np.sum(-np.log(probs[np.arange(len(y)),y]))/len(y)\n"
     ]
    },
    {
     "name": "stdout",
     "output_type": "stream",
     "text": [
      "61 / 625 |  final loss: inf  train_acc: 0.94\n",
      "\n",
      "\n"
     ]
    },
    {
     "name": "stderr",
     "output_type": "stream",
     "text": [
      "/home/yannis/Documents/uds/ift725/tp2RN/prog/ift725/layers.py:649: RuntimeWarning: divide by zero encountered in log\n",
      "  loss = np.sum(-np.log(probs[np.arange(len(y)),y]))/len(y)\n"
     ]
    },
    {
     "name": "stdout",
     "output_type": "stream",
     "text": [
      "62 / 625 |  final loss: inf  train_acc: 0.88\n",
      "\n",
      "\n"
     ]
    },
    {
     "name": "stderr",
     "output_type": "stream",
     "text": [
      "/home/yannis/Documents/uds/ift725/tp2RN/prog/ift725/layers.py:649: RuntimeWarning: divide by zero encountered in log\n",
      "  loss = np.sum(-np.log(probs[np.arange(len(y)),y]))/len(y)\n"
     ]
    },
    {
     "name": "stdout",
     "output_type": "stream",
     "text": [
      "63 / 625 |  final loss: inf  train_acc: 0.84\n",
      "\n",
      "\n"
     ]
    },
    {
     "name": "stderr",
     "output_type": "stream",
     "text": [
      "/home/yannis/Documents/uds/ift725/tp2RN/prog/ift725/layers.py:649: RuntimeWarning: divide by zero encountered in log\n",
      "  loss = np.sum(-np.log(probs[np.arange(len(y)),y]))/len(y)\n"
     ]
    },
    {
     "name": "stdout",
     "output_type": "stream",
     "text": [
      "64 / 625 |  final loss: inf  train_acc: 0.74\n",
      "\n",
      "\n"
     ]
    },
    {
     "name": "stderr",
     "output_type": "stream",
     "text": [
      "/home/yannis/Documents/uds/ift725/tp2RN/prog/ift725/layers.py:649: RuntimeWarning: divide by zero encountered in log\n",
      "  loss = np.sum(-np.log(probs[np.arange(len(y)),y]))/len(y)\n"
     ]
    },
    {
     "name": "stdout",
     "output_type": "stream",
     "text": [
      "65 / 625 |  final loss: inf  train_acc: 0.72\n",
      "\n",
      "\n"
     ]
    },
    {
     "name": "stderr",
     "output_type": "stream",
     "text": [
      "/home/yannis/Documents/uds/ift725/tp2RN/prog/ift725/layers.py:649: RuntimeWarning: divide by zero encountered in log\n",
      "  loss = np.sum(-np.log(probs[np.arange(len(y)),y]))/len(y)\n"
     ]
    },
    {
     "name": "stdout",
     "output_type": "stream",
     "text": [
      "66 / 625 |  final loss: inf  train_acc: 0.56\n",
      "\n",
      "\n"
     ]
    },
    {
     "name": "stderr",
     "output_type": "stream",
     "text": [
      "/home/yannis/Documents/uds/ift725/tp2RN/prog/ift725/layers.py:649: RuntimeWarning: divide by zero encountered in log\n",
      "  loss = np.sum(-np.log(probs[np.arange(len(y)),y]))/len(y)\n"
     ]
    },
    {
     "name": "stdout",
     "output_type": "stream",
     "text": [
      "67 / 625 |  final loss: inf  train_acc: 0.86\n",
      "\n",
      "\n"
     ]
    },
    {
     "name": "stderr",
     "output_type": "stream",
     "text": [
      "/home/yannis/Documents/uds/ift725/tp2RN/prog/ift725/layers.py:649: RuntimeWarning: divide by zero encountered in log\n",
      "  loss = np.sum(-np.log(probs[np.arange(len(y)),y]))/len(y)\n"
     ]
    },
    {
     "name": "stdout",
     "output_type": "stream",
     "text": [
      "68 / 625 |  final loss: inf  train_acc: 0.7\n",
      "\n",
      "\n"
     ]
    },
    {
     "name": "stderr",
     "output_type": "stream",
     "text": [
      "/home/yannis/Documents/uds/ift725/tp2RN/prog/ift725/layers.py:649: RuntimeWarning: divide by zero encountered in log\n",
      "  loss = np.sum(-np.log(probs[np.arange(len(y)),y]))/len(y)\n"
     ]
    },
    {
     "name": "stdout",
     "output_type": "stream",
     "text": [
      "69 / 625 |  final loss: inf  train_acc: 0.5\n",
      "\n",
      "\n"
     ]
    },
    {
     "name": "stderr",
     "output_type": "stream",
     "text": [
      "/home/yannis/Documents/uds/ift725/tp2RN/prog/ift725/layers.py:649: RuntimeWarning: divide by zero encountered in log\n",
      "  loss = np.sum(-np.log(probs[np.arange(len(y)),y]))/len(y)\n"
     ]
    },
    {
     "name": "stdout",
     "output_type": "stream",
     "text": [
      "70 / 625 |  final loss: inf  train_acc: 0.56\n",
      "\n",
      "\n"
     ]
    },
    {
     "name": "stderr",
     "output_type": "stream",
     "text": [
      "/home/yannis/Documents/uds/ift725/tp2RN/prog/ift725/layers.py:649: RuntimeWarning: divide by zero encountered in log\n",
      "  loss = np.sum(-np.log(probs[np.arange(len(y)),y]))/len(y)\n"
     ]
    },
    {
     "name": "stdout",
     "output_type": "stream",
     "text": [
      "71 / 625 |  final loss: inf  train_acc: 0.62\n",
      "\n",
      "\n"
     ]
    },
    {
     "name": "stderr",
     "output_type": "stream",
     "text": [
      "/home/yannis/Documents/uds/ift725/tp2RN/prog/ift725/layers.py:649: RuntimeWarning: divide by zero encountered in log\n",
      "  loss = np.sum(-np.log(probs[np.arange(len(y)),y]))/len(y)\n"
     ]
    },
    {
     "name": "stdout",
     "output_type": "stream",
     "text": [
      "72 / 625 |  final loss: inf  train_acc: 0.52\n",
      "\n",
      "\n"
     ]
    },
    {
     "name": "stderr",
     "output_type": "stream",
     "text": [
      "/home/yannis/Documents/uds/ift725/tp2RN/prog/ift725/layers.py:649: RuntimeWarning: divide by zero encountered in log\n",
      "  loss = np.sum(-np.log(probs[np.arange(len(y)),y]))/len(y)\n"
     ]
    },
    {
     "name": "stdout",
     "output_type": "stream",
     "text": [
      "73 / 625 |  final loss: inf  train_acc: 0.72\n",
      "\n",
      "\n"
     ]
    },
    {
     "name": "stderr",
     "output_type": "stream",
     "text": [
      "/home/yannis/Documents/uds/ift725/tp2RN/prog/ift725/layers.py:649: RuntimeWarning: divide by zero encountered in log\n",
      "  loss = np.sum(-np.log(probs[np.arange(len(y)),y]))/len(y)\n"
     ]
    },
    {
     "name": "stdout",
     "output_type": "stream",
     "text": [
      "74 / 625 |  final loss: inf  train_acc: 0.44\n",
      "\n",
      "\n"
     ]
    },
    {
     "name": "stderr",
     "output_type": "stream",
     "text": [
      "/home/yannis/Documents/uds/ift725/tp2RN/prog/ift725/layers.py:649: RuntimeWarning: divide by zero encountered in log\n",
      "  loss = np.sum(-np.log(probs[np.arange(len(y)),y]))/len(y)\n"
     ]
    },
    {
     "name": "stdout",
     "output_type": "stream",
     "text": [
      "75 / 625 |  final loss: inf  train_acc: 0.36\n",
      "\n",
      "\n"
     ]
    },
    {
     "name": "stderr",
     "output_type": "stream",
     "text": [
      "/home/yannis/Documents/uds/ift725/tp2RN/prog/ift725/layers.py:649: RuntimeWarning: divide by zero encountered in log\n",
      "  loss = np.sum(-np.log(probs[np.arange(len(y)),y]))/len(y)\n"
     ]
    },
    {
     "name": "stdout",
     "output_type": "stream",
     "text": [
      "76 / 625 |  final loss: inf  train_acc: 0.76\n",
      "\n",
      "\n"
     ]
    },
    {
     "name": "stderr",
     "output_type": "stream",
     "text": [
      "/home/yannis/Documents/uds/ift725/tp2RN/prog/ift725/layers.py:649: RuntimeWarning: divide by zero encountered in log\n",
      "  loss = np.sum(-np.log(probs[np.arange(len(y)),y]))/len(y)\n"
     ]
    },
    {
     "name": "stdout",
     "output_type": "stream",
     "text": [
      "77 / 625 |  final loss: inf  train_acc: 0.9\n",
      "\n",
      "\n"
     ]
    },
    {
     "name": "stderr",
     "output_type": "stream",
     "text": [
      "/home/yannis/Documents/uds/ift725/tp2RN/prog/ift725/layers.py:649: RuntimeWarning: divide by zero encountered in log\n",
      "  loss = np.sum(-np.log(probs[np.arange(len(y)),y]))/len(y)\n"
     ]
    },
    {
     "name": "stdout",
     "output_type": "stream",
     "text": [
      "78 / 625 |  final loss: inf  train_acc: 0.78\n",
      "\n",
      "\n"
     ]
    },
    {
     "name": "stderr",
     "output_type": "stream",
     "text": [
      "/home/yannis/Documents/uds/ift725/tp2RN/prog/ift725/layers.py:649: RuntimeWarning: divide by zero encountered in log\n",
      "  loss = np.sum(-np.log(probs[np.arange(len(y)),y]))/len(y)\n"
     ]
    },
    {
     "name": "stdout",
     "output_type": "stream",
     "text": [
      "79 / 625 |  final loss: 25510.130093987398  train_acc: 0.88\n",
      "\n",
      "\n"
     ]
    },
    {
     "name": "stderr",
     "output_type": "stream",
     "text": [
      "/home/yannis/Documents/uds/ift725/tp2RN/prog/ift725/layers.py:649: RuntimeWarning: divide by zero encountered in log\n",
      "  loss = np.sum(-np.log(probs[np.arange(len(y)),y]))/len(y)\n"
     ]
    },
    {
     "name": "stdout",
     "output_type": "stream",
     "text": [
      "80 / 625 |  final loss: inf  train_acc: 0.8\n",
      "\n",
      "\n"
     ]
    },
    {
     "name": "stderr",
     "output_type": "stream",
     "text": [
      "/home/yannis/Documents/uds/ift725/tp2RN/prog/ift725/layers.py:649: RuntimeWarning: divide by zero encountered in log\n",
      "  loss = np.sum(-np.log(probs[np.arange(len(y)),y]))/len(y)\n"
     ]
    },
    {
     "name": "stdout",
     "output_type": "stream",
     "text": [
      "81 / 625 |  final loss: 29043.531353540497  train_acc: 0.92\n",
      "\n",
      "\n"
     ]
    },
    {
     "name": "stderr",
     "output_type": "stream",
     "text": [
      "/home/yannis/Documents/uds/ift725/tp2RN/prog/ift725/layers.py:649: RuntimeWarning: divide by zero encountered in log\n",
      "  loss = np.sum(-np.log(probs[np.arange(len(y)),y]))/len(y)\n"
     ]
    },
    {
     "name": "stdout",
     "output_type": "stream",
     "text": [
      "82 / 625 |  final loss: 30293.242449436486  train_acc: 0.96\n",
      "\n",
      "\n"
     ]
    },
    {
     "name": "stderr",
     "output_type": "stream",
     "text": [
      "/home/yannis/Documents/uds/ift725/tp2RN/prog/ift725/layers.py:649: RuntimeWarning: divide by zero encountered in log\n",
      "  loss = np.sum(-np.log(probs[np.arange(len(y)),y]))/len(y)\n"
     ]
    },
    {
     "name": "stdout",
     "output_type": "stream",
     "text": [
      "83 / 625 |  final loss: inf  train_acc: 0.76\n",
      "\n",
      "\n"
     ]
    },
    {
     "name": "stderr",
     "output_type": "stream",
     "text": [
      "/home/yannis/Documents/uds/ift725/tp2RN/prog/ift725/layers.py:649: RuntimeWarning: divide by zero encountered in log\n",
      "  loss = np.sum(-np.log(probs[np.arange(len(y)),y]))/len(y)\n"
     ]
    },
    {
     "name": "stdout",
     "output_type": "stream",
     "text": [
      "84 / 625 |  final loss: inf  train_acc: 0.94\n",
      "\n",
      "\n"
     ]
    },
    {
     "name": "stderr",
     "output_type": "stream",
     "text": [
      "/home/yannis/Documents/uds/ift725/tp2RN/prog/ift725/layers.py:649: RuntimeWarning: divide by zero encountered in log\n",
      "  loss = np.sum(-np.log(probs[np.arange(len(y)),y]))/len(y)\n"
     ]
    },
    {
     "name": "stdout",
     "output_type": "stream",
     "text": [
      "85 / 625 |  final loss: inf  train_acc: 0.86\n",
      "\n",
      "\n"
     ]
    },
    {
     "name": "stderr",
     "output_type": "stream",
     "text": [
      "/home/yannis/Documents/uds/ift725/tp2RN/prog/ift725/layers.py:649: RuntimeWarning: divide by zero encountered in log\n",
      "  loss = np.sum(-np.log(probs[np.arange(len(y)),y]))/len(y)\n"
     ]
    },
    {
     "name": "stdout",
     "output_type": "stream",
     "text": [
      "86 / 625 |  final loss: inf  train_acc: 0.74\n",
      "\n",
      "\n"
     ]
    },
    {
     "name": "stderr",
     "output_type": "stream",
     "text": [
      "/home/yannis/Documents/uds/ift725/tp2RN/prog/ift725/layers.py:649: RuntimeWarning: divide by zero encountered in log\n",
      "  loss = np.sum(-np.log(probs[np.arange(len(y)),y]))/len(y)\n"
     ]
    },
    {
     "name": "stdout",
     "output_type": "stream",
     "text": [
      "87 / 625 |  final loss: inf  train_acc: 0.82\n",
      "\n",
      "\n"
     ]
    },
    {
     "name": "stderr",
     "output_type": "stream",
     "text": [
      "/home/yannis/Documents/uds/ift725/tp2RN/prog/ift725/layers.py:649: RuntimeWarning: divide by zero encountered in log\n",
      "  loss = np.sum(-np.log(probs[np.arange(len(y)),y]))/len(y)\n"
     ]
    },
    {
     "name": "stdout",
     "output_type": "stream",
     "text": [
      "88 / 625 |  final loss: inf  train_acc: 0.62\n",
      "\n",
      "\n"
     ]
    },
    {
     "name": "stderr",
     "output_type": "stream",
     "text": [
      "/home/yannis/Documents/uds/ift725/tp2RN/prog/ift725/layers.py:649: RuntimeWarning: divide by zero encountered in log\n",
      "  loss = np.sum(-np.log(probs[np.arange(len(y)),y]))/len(y)\n"
     ]
    },
    {
     "name": "stdout",
     "output_type": "stream",
     "text": [
      "89 / 625 |  final loss: inf  train_acc: 0.72\n",
      "\n",
      "\n"
     ]
    },
    {
     "name": "stderr",
     "output_type": "stream",
     "text": [
      "/home/yannis/Documents/uds/ift725/tp2RN/prog/ift725/layers.py:649: RuntimeWarning: divide by zero encountered in log\n",
      "  loss = np.sum(-np.log(probs[np.arange(len(y)),y]))/len(y)\n"
     ]
    },
    {
     "name": "stdout",
     "output_type": "stream",
     "text": [
      "90 / 625 |  final loss: inf  train_acc: 0.78\n",
      "\n",
      "\n"
     ]
    },
    {
     "name": "stderr",
     "output_type": "stream",
     "text": [
      "/home/yannis/Documents/uds/ift725/tp2RN/prog/ift725/layers.py:649: RuntimeWarning: divide by zero encountered in log\n",
      "  loss = np.sum(-np.log(probs[np.arange(len(y)),y]))/len(y)\n"
     ]
    },
    {
     "name": "stdout",
     "output_type": "stream",
     "text": [
      "91 / 625 |  final loss: inf  train_acc: 0.8\n",
      "\n",
      "\n"
     ]
    },
    {
     "name": "stderr",
     "output_type": "stream",
     "text": [
      "/home/yannis/Documents/uds/ift725/tp2RN/prog/ift725/layers.py:649: RuntimeWarning: divide by zero encountered in log\n",
      "  loss = np.sum(-np.log(probs[np.arange(len(y)),y]))/len(y)\n"
     ]
    },
    {
     "name": "stdout",
     "output_type": "stream",
     "text": [
      "92 / 625 |  final loss: 38114.91378593026  train_acc: 0.94\n",
      "\n",
      "\n"
     ]
    },
    {
     "name": "stderr",
     "output_type": "stream",
     "text": [
      "/home/yannis/Documents/uds/ift725/tp2RN/prog/ift725/layers.py:649: RuntimeWarning: divide by zero encountered in log\n",
      "  loss = np.sum(-np.log(probs[np.arange(len(y)),y]))/len(y)\n"
     ]
    },
    {
     "name": "stdout",
     "output_type": "stream",
     "text": [
      "93 / 625 |  final loss: inf  train_acc: 0.72\n",
      "\n",
      "\n"
     ]
    },
    {
     "name": "stderr",
     "output_type": "stream",
     "text": [
      "/home/yannis/Documents/uds/ift725/tp2RN/prog/ift725/layers.py:649: RuntimeWarning: divide by zero encountered in log\n",
      "  loss = np.sum(-np.log(probs[np.arange(len(y)),y]))/len(y)\n"
     ]
    },
    {
     "name": "stdout",
     "output_type": "stream",
     "text": [
      "94 / 625 |  final loss: inf  train_acc: 0.78\n",
      "\n",
      "\n"
     ]
    },
    {
     "name": "stderr",
     "output_type": "stream",
     "text": [
      "/home/yannis/Documents/uds/ift725/tp2RN/prog/ift725/layers.py:649: RuntimeWarning: divide by zero encountered in log\n",
      "  loss = np.sum(-np.log(probs[np.arange(len(y)),y]))/len(y)\n"
     ]
    },
    {
     "name": "stdout",
     "output_type": "stream",
     "text": [
      "95 / 625 |  final loss: inf  train_acc: 0.72\n",
      "\n",
      "\n"
     ]
    },
    {
     "name": "stderr",
     "output_type": "stream",
     "text": [
      "/home/yannis/Documents/uds/ift725/tp2RN/prog/ift725/layers.py:649: RuntimeWarning: divide by zero encountered in log\n",
      "  loss = np.sum(-np.log(probs[np.arange(len(y)),y]))/len(y)\n"
     ]
    },
    {
     "name": "stdout",
     "output_type": "stream",
     "text": [
      "96 / 625 |  final loss: inf  train_acc: 0.8\n",
      "\n",
      "\n"
     ]
    },
    {
     "name": "stderr",
     "output_type": "stream",
     "text": [
      "/home/yannis/Documents/uds/ift725/tp2RN/prog/ift725/layers.py:649: RuntimeWarning: divide by zero encountered in log\n",
      "  loss = np.sum(-np.log(probs[np.arange(len(y)),y]))/len(y)\n"
     ]
    },
    {
     "name": "stdout",
     "output_type": "stream",
     "text": [
      "97 / 625 |  final loss: inf  train_acc: 0.52\n",
      "\n",
      "\n"
     ]
    },
    {
     "name": "stderr",
     "output_type": "stream",
     "text": [
      "/home/yannis/Documents/uds/ift725/tp2RN/prog/ift725/layers.py:649: RuntimeWarning: divide by zero encountered in log\n",
      "  loss = np.sum(-np.log(probs[np.arange(len(y)),y]))/len(y)\n"
     ]
    },
    {
     "name": "stdout",
     "output_type": "stream",
     "text": [
      "98 / 625 |  final loss: inf  train_acc: 0.82\n",
      "\n",
      "\n"
     ]
    },
    {
     "name": "stderr",
     "output_type": "stream",
     "text": [
      "/home/yannis/Documents/uds/ift725/tp2RN/prog/ift725/layers.py:649: RuntimeWarning: divide by zero encountered in log\n",
      "  loss = np.sum(-np.log(probs[np.arange(len(y)),y]))/len(y)\n"
     ]
    },
    {
     "name": "stdout",
     "output_type": "stream",
     "text": [
      "99 / 625 |  final loss: inf  train_acc: 0.48\n",
      "\n",
      "\n"
     ]
    },
    {
     "name": "stderr",
     "output_type": "stream",
     "text": [
      "/home/yannis/Documents/uds/ift725/tp2RN/prog/ift725/layers.py:649: RuntimeWarning: divide by zero encountered in log\n",
      "  loss = np.sum(-np.log(probs[np.arange(len(y)),y]))/len(y)\n"
     ]
    },
    {
     "name": "stdout",
     "output_type": "stream",
     "text": [
      "100 / 625 |  final loss: inf  train_acc: 0.5\n",
      "\n",
      "\n"
     ]
    },
    {
     "name": "stderr",
     "output_type": "stream",
     "text": [
      "/home/yannis/Documents/uds/ift725/tp2RN/prog/ift725/layers.py:649: RuntimeWarning: divide by zero encountered in log\n",
      "  loss = np.sum(-np.log(probs[np.arange(len(y)),y]))/len(y)\n"
     ]
    },
    {
     "name": "stdout",
     "output_type": "stream",
     "text": [
      "101 / 625 |  final loss: 16118.241325188043  train_acc: 0.94\n",
      "\n",
      "\n"
     ]
    },
    {
     "name": "stderr",
     "output_type": "stream",
     "text": [
      "/home/yannis/Documents/uds/ift725/tp2RN/prog/ift725/layers.py:649: RuntimeWarning: divide by zero encountered in log\n",
      "  loss = np.sum(-np.log(probs[np.arange(len(y)),y]))/len(y)\n"
     ]
    },
    {
     "name": "stdout",
     "output_type": "stream",
     "text": [
      "102 / 625 |  final loss: 17300.074096882  train_acc: 0.9\n",
      "\n",
      "\n"
     ]
    },
    {
     "name": "stderr",
     "output_type": "stream",
     "text": [
      "/home/yannis/Documents/uds/ift725/tp2RN/prog/ift725/layers.py:649: RuntimeWarning: divide by zero encountered in log\n",
      "  loss = np.sum(-np.log(probs[np.arange(len(y)),y]))/len(y)\n"
     ]
    },
    {
     "name": "stdout",
     "output_type": "stream",
     "text": [
      "103 / 625 |  final loss: inf  train_acc: 0.9\n",
      "\n",
      "\n"
     ]
    },
    {
     "name": "stderr",
     "output_type": "stream",
     "text": [
      "/home/yannis/Documents/uds/ift725/tp2RN/prog/ift725/layers.py:649: RuntimeWarning: divide by zero encountered in log\n",
      "  loss = np.sum(-np.log(probs[np.arange(len(y)),y]))/len(y)\n"
     ]
    },
    {
     "name": "stdout",
     "output_type": "stream",
     "text": [
      "104 / 625 |  final loss: 18989.783753623386  train_acc: 0.86\n",
      "\n",
      "\n"
     ]
    },
    {
     "name": "stderr",
     "output_type": "stream",
     "text": [
      "/home/yannis/Documents/uds/ift725/tp2RN/prog/ift725/layers.py:649: RuntimeWarning: divide by zero encountered in log\n",
      "  loss = np.sum(-np.log(probs[np.arange(len(y)),y]))/len(y)\n"
     ]
    },
    {
     "name": "stdout",
     "output_type": "stream",
     "text": [
      "105 / 625 |  final loss: inf  train_acc: 0.9\n",
      "\n",
      "\n"
     ]
    },
    {
     "name": "stderr",
     "output_type": "stream",
     "text": [
      "/home/yannis/Documents/uds/ift725/tp2RN/prog/ift725/layers.py:649: RuntimeWarning: divide by zero encountered in log\n",
      "  loss = np.sum(-np.log(probs[np.arange(len(y)),y]))/len(y)\n"
     ]
    },
    {
     "name": "stdout",
     "output_type": "stream",
     "text": [
      "106 / 625 |  final loss: 23531.49045278779  train_acc: 0.96\n",
      "\n",
      "\n"
     ]
    },
    {
     "name": "stderr",
     "output_type": "stream",
     "text": [
      "/home/yannis/Documents/uds/ift725/tp2RN/prog/ift725/layers.py:649: RuntimeWarning: divide by zero encountered in log\n",
      "  loss = np.sum(-np.log(probs[np.arange(len(y)),y]))/len(y)\n"
     ]
    },
    {
     "name": "stdout",
     "output_type": "stream",
     "text": [
      "107 / 625 |  final loss: inf  train_acc: 0.96\n",
      "\n",
      "\n"
     ]
    },
    {
     "name": "stderr",
     "output_type": "stream",
     "text": [
      "/home/yannis/Documents/uds/ift725/tp2RN/prog/ift725/layers.py:649: RuntimeWarning: divide by zero encountered in log\n",
      "  loss = np.sum(-np.log(probs[np.arange(len(y)),y]))/len(y)\n"
     ]
    },
    {
     "name": "stdout",
     "output_type": "stream",
     "text": [
      "108 / 625 |  final loss: 25149.645269698984  train_acc: 0.98\n",
      "\n",
      "\n"
     ]
    },
    {
     "name": "stderr",
     "output_type": "stream",
     "text": [
      "/home/yannis/Documents/uds/ift725/tp2RN/prog/ift725/layers.py:649: RuntimeWarning: divide by zero encountered in log\n",
      "  loss = np.sum(-np.log(probs[np.arange(len(y)),y]))/len(y)\n"
     ]
    },
    {
     "name": "stdout",
     "output_type": "stream",
     "text": [
      "109 / 625 |  final loss: 26515.620247464387  train_acc: 0.86\n",
      "\n",
      "\n"
     ]
    },
    {
     "name": "stderr",
     "output_type": "stream",
     "text": [
      "/home/yannis/Documents/uds/ift725/tp2RN/prog/ift725/layers.py:649: RuntimeWarning: divide by zero encountered in log\n",
      "  loss = np.sum(-np.log(probs[np.arange(len(y)),y]))/len(y)\n"
     ]
    },
    {
     "name": "stdout",
     "output_type": "stream",
     "text": [
      "110 / 625 |  final loss: 26868.022114370855  train_acc: 0.88\n",
      "\n",
      "\n"
     ]
    },
    {
     "name": "stderr",
     "output_type": "stream",
     "text": [
      "/home/yannis/Documents/uds/ift725/tp2RN/prog/ift725/layers.py:649: RuntimeWarning: divide by zero encountered in log\n",
      "  loss = np.sum(-np.log(probs[np.arange(len(y)),y]))/len(y)\n"
     ]
    },
    {
     "name": "stdout",
     "output_type": "stream",
     "text": [
      "111 / 625 |  final loss: 28120.624105275463  train_acc: 0.76\n",
      "\n",
      "\n"
     ]
    },
    {
     "name": "stderr",
     "output_type": "stream",
     "text": [
      "/home/yannis/Documents/uds/ift725/tp2RN/prog/ift725/layers.py:649: RuntimeWarning: divide by zero encountered in log\n",
      "  loss = np.sum(-np.log(probs[np.arange(len(y)),y]))/len(y)\n"
     ]
    },
    {
     "name": "stdout",
     "output_type": "stream",
     "text": [
      "112 / 625 |  final loss: inf  train_acc: 0.74\n",
      "\n",
      "\n"
     ]
    },
    {
     "name": "stderr",
     "output_type": "stream",
     "text": [
      "/home/yannis/Documents/uds/ift725/tp2RN/prog/ift725/layers.py:649: RuntimeWarning: divide by zero encountered in log\n",
      "  loss = np.sum(-np.log(probs[np.arange(len(y)),y]))/len(y)\n"
     ]
    },
    {
     "name": "stdout",
     "output_type": "stream",
     "text": [
      "113 / 625 |  final loss: inf  train_acc: 0.9\n",
      "\n",
      "\n"
     ]
    },
    {
     "name": "stderr",
     "output_type": "stream",
     "text": [
      "/home/yannis/Documents/uds/ift725/tp2RN/prog/ift725/layers.py:649: RuntimeWarning: divide by zero encountered in log\n",
      "  loss = np.sum(-np.log(probs[np.arange(len(y)),y]))/len(y)\n"
     ]
    },
    {
     "name": "stdout",
     "output_type": "stream",
     "text": [
      "114 / 625 |  final loss: inf  train_acc: 0.68\n",
      "\n",
      "\n"
     ]
    },
    {
     "name": "stderr",
     "output_type": "stream",
     "text": [
      "/home/yannis/Documents/uds/ift725/tp2RN/prog/ift725/layers.py:649: RuntimeWarning: divide by zero encountered in log\n",
      "  loss = np.sum(-np.log(probs[np.arange(len(y)),y]))/len(y)\n"
     ]
    },
    {
     "name": "stdout",
     "output_type": "stream",
     "text": [
      "115 / 625 |  final loss: inf  train_acc: 0.64\n",
      "\n",
      "\n"
     ]
    },
    {
     "name": "stderr",
     "output_type": "stream",
     "text": [
      "/home/yannis/Documents/uds/ift725/tp2RN/prog/ift725/layers.py:649: RuntimeWarning: divide by zero encountered in log\n",
      "  loss = np.sum(-np.log(probs[np.arange(len(y)),y]))/len(y)\n"
     ]
    },
    {
     "name": "stdout",
     "output_type": "stream",
     "text": [
      "116 / 625 |  final loss: inf  train_acc: 0.86\n",
      "\n",
      "\n"
     ]
    },
    {
     "name": "stderr",
     "output_type": "stream",
     "text": [
      "/home/yannis/Documents/uds/ift725/tp2RN/prog/ift725/layers.py:649: RuntimeWarning: divide by zero encountered in log\n",
      "  loss = np.sum(-np.log(probs[np.arange(len(y)),y]))/len(y)\n"
     ]
    },
    {
     "name": "stdout",
     "output_type": "stream",
     "text": [
      "117 / 625 |  final loss: inf  train_acc: 0.48\n",
      "\n",
      "\n"
     ]
    },
    {
     "name": "stderr",
     "output_type": "stream",
     "text": [
      "/home/yannis/Documents/uds/ift725/tp2RN/prog/ift725/layers.py:649: RuntimeWarning: divide by zero encountered in log\n",
      "  loss = np.sum(-np.log(probs[np.arange(len(y)),y]))/len(y)\n"
     ]
    },
    {
     "name": "stdout",
     "output_type": "stream",
     "text": [
      "118 / 625 |  final loss: inf  train_acc: 0.48\n",
      "\n",
      "\n"
     ]
    },
    {
     "name": "stderr",
     "output_type": "stream",
     "text": [
      "/home/yannis/Documents/uds/ift725/tp2RN/prog/ift725/layers.py:649: RuntimeWarning: divide by zero encountered in log\n",
      "  loss = np.sum(-np.log(probs[np.arange(len(y)),y]))/len(y)\n"
     ]
    },
    {
     "name": "stdout",
     "output_type": "stream",
     "text": [
      "119 / 625 |  final loss: inf  train_acc: 0.74\n",
      "\n",
      "\n"
     ]
    },
    {
     "name": "stderr",
     "output_type": "stream",
     "text": [
      "/home/yannis/Documents/uds/ift725/tp2RN/prog/ift725/layers.py:649: RuntimeWarning: divide by zero encountered in log\n",
      "  loss = np.sum(-np.log(probs[np.arange(len(y)),y]))/len(y)\n"
     ]
    },
    {
     "name": "stdout",
     "output_type": "stream",
     "text": [
      "120 / 625 |  final loss: inf  train_acc: 0.72\n",
      "\n",
      "\n"
     ]
    },
    {
     "name": "stderr",
     "output_type": "stream",
     "text": [
      "/home/yannis/Documents/uds/ift725/tp2RN/prog/ift725/layers.py:649: RuntimeWarning: divide by zero encountered in log\n",
      "  loss = np.sum(-np.log(probs[np.arange(len(y)),y]))/len(y)\n"
     ]
    },
    {
     "name": "stdout",
     "output_type": "stream",
     "text": [
      "121 / 625 |  final loss: inf  train_acc: 0.64\n",
      "\n",
      "\n"
     ]
    },
    {
     "name": "stderr",
     "output_type": "stream",
     "text": [
      "/home/yannis/Documents/uds/ift725/tp2RN/prog/ift725/layers.py:649: RuntimeWarning: divide by zero encountered in log\n",
      "  loss = np.sum(-np.log(probs[np.arange(len(y)),y]))/len(y)\n"
     ]
    },
    {
     "name": "stdout",
     "output_type": "stream",
     "text": [
      "122 / 625 |  final loss: inf  train_acc: 0.38\n",
      "\n",
      "\n"
     ]
    },
    {
     "name": "stderr",
     "output_type": "stream",
     "text": [
      "/home/yannis/Documents/uds/ift725/tp2RN/prog/ift725/layers.py:649: RuntimeWarning: divide by zero encountered in log\n",
      "  loss = np.sum(-np.log(probs[np.arange(len(y)),y]))/len(y)\n"
     ]
    },
    {
     "name": "stdout",
     "output_type": "stream",
     "text": [
      "123 / 625 |  final loss: inf  train_acc: 0.76\n",
      "\n",
      "\n"
     ]
    },
    {
     "name": "stderr",
     "output_type": "stream",
     "text": [
      "/home/yannis/Documents/uds/ift725/tp2RN/prog/ift725/layers.py:649: RuntimeWarning: divide by zero encountered in log\n",
      "  loss = np.sum(-np.log(probs[np.arange(len(y)),y]))/len(y)\n"
     ]
    },
    {
     "name": "stdout",
     "output_type": "stream",
     "text": [
      "124 / 625 |  final loss: inf  train_acc: 0.5\n",
      "\n",
      "\n"
     ]
    },
    {
     "name": "stderr",
     "output_type": "stream",
     "text": [
      "/home/yannis/Documents/uds/ift725/tp2RN/prog/ift725/layers.py:649: RuntimeWarning: divide by zero encountered in log\n",
      "  loss = np.sum(-np.log(probs[np.arange(len(y)),y]))/len(y)\n"
     ]
    },
    {
     "name": "stdout",
     "output_type": "stream",
     "text": [
      "125 / 625 |  final loss: inf  train_acc: 0.64\n",
      "\n",
      "\n"
     ]
    },
    {
     "name": "stderr",
     "output_type": "stream",
     "text": [
      "/home/yannis/Documents/uds/ift725/tp2RN/prog/ift725/layers.py:649: RuntimeWarning: divide by zero encountered in log\n",
      "  loss = np.sum(-np.log(probs[np.arange(len(y)),y]))/len(y)\n"
     ]
    },
    {
     "name": "stdout",
     "output_type": "stream",
     "text": [
      "126 / 625 |  final loss: 10730.751881202417  train_acc: 0.92\n",
      "\n",
      "\n"
     ]
    },
    {
     "name": "stderr",
     "output_type": "stream",
     "text": [
      "/home/yannis/Documents/uds/ift725/tp2RN/prog/ift725/layers.py:649: RuntimeWarning: divide by zero encountered in log\n",
      "  loss = np.sum(-np.log(probs[np.arange(len(y)),y]))/len(y)\n"
     ]
    },
    {
     "name": "stdout",
     "output_type": "stream",
     "text": [
      "127 / 625 |  final loss: 11973.845814151176  train_acc: 0.88\n",
      "\n",
      "\n"
     ]
    },
    {
     "name": "stderr",
     "output_type": "stream",
     "text": [
      "/home/yannis/Documents/uds/ift725/tp2RN/prog/ift725/layers.py:649: RuntimeWarning: divide by zero encountered in log\n",
      "  loss = np.sum(-np.log(probs[np.arange(len(y)),y]))/len(y)\n"
     ]
    },
    {
     "name": "stdout",
     "output_type": "stream",
     "text": [
      "128 / 625 |  final loss: 13423.821355133181  train_acc: 0.96\n",
      "\n",
      "\n"
     ]
    },
    {
     "name": "stderr",
     "output_type": "stream",
     "text": [
      "/home/yannis/Documents/uds/ift725/tp2RN/prog/ift725/layers.py:649: RuntimeWarning: divide by zero encountered in log\n",
      "  loss = np.sum(-np.log(probs[np.arange(len(y)),y]))/len(y)\n"
     ]
    },
    {
     "name": "stdout",
     "output_type": "stream",
     "text": [
      "129 / 625 |  final loss: 14811.253853138995  train_acc: 0.94\n",
      "\n",
      "\n"
     ]
    },
    {
     "name": "stderr",
     "output_type": "stream",
     "text": [
      "/home/yannis/Documents/uds/ift725/tp2RN/prog/ift725/layers.py:649: RuntimeWarning: divide by zero encountered in log\n",
      "  loss = np.sum(-np.log(probs[np.arange(len(y)),y]))/len(y)\n"
     ]
    },
    {
     "name": "stdout",
     "output_type": "stream",
     "text": [
      "130 / 625 |  final loss: 15923.422703425433  train_acc: 0.88\n",
      "\n",
      "\n"
     ]
    },
    {
     "name": "stderr",
     "output_type": "stream",
     "text": [
      "/home/yannis/Documents/uds/ift725/tp2RN/prog/ift725/layers.py:649: RuntimeWarning: divide by zero encountered in log\n",
      "  loss = np.sum(-np.log(probs[np.arange(len(y)),y]))/len(y)\n"
     ]
    },
    {
     "name": "stdout",
     "output_type": "stream",
     "text": [
      "131 / 625 |  final loss: 16776.48042517454  train_acc: 0.94\n",
      "\n",
      "\n"
     ]
    },
    {
     "name": "stderr",
     "output_type": "stream",
     "text": [
      "/home/yannis/Documents/uds/ift725/tp2RN/prog/ift725/layers.py:649: RuntimeWarning: divide by zero encountered in log\n",
      "  loss = np.sum(-np.log(probs[np.arange(len(y)),y]))/len(y)\n"
     ]
    },
    {
     "name": "stdout",
     "output_type": "stream",
     "text": [
      "132 / 625 |  final loss: 18249.507694197102  train_acc: 0.76\n",
      "\n",
      "\n"
     ]
    },
    {
     "name": "stderr",
     "output_type": "stream",
     "text": [
      "/home/yannis/Documents/uds/ift725/tp2RN/prog/ift725/layers.py:649: RuntimeWarning: divide by zero encountered in log\n",
      "  loss = np.sum(-np.log(probs[np.arange(len(y)),y]))/len(y)\n"
     ]
    },
    {
     "name": "stdout",
     "output_type": "stream",
     "text": [
      "133 / 625 |  final loss: 19364.20787963724  train_acc: 0.96\n",
      "\n",
      "\n"
     ]
    },
    {
     "name": "stderr",
     "output_type": "stream",
     "text": [
      "/home/yannis/Documents/uds/ift725/tp2RN/prog/ift725/layers.py:649: RuntimeWarning: divide by zero encountered in log\n",
      "  loss = np.sum(-np.log(probs[np.arange(len(y)),y]))/len(y)\n"
     ]
    },
    {
     "name": "stdout",
     "output_type": "stream",
     "text": [
      "134 / 625 |  final loss: 20873.48032068713  train_acc: 0.94\n",
      "\n",
      "\n"
     ]
    },
    {
     "name": "stderr",
     "output_type": "stream",
     "text": [
      "/home/yannis/Documents/uds/ift725/tp2RN/prog/ift725/layers.py:649: RuntimeWarning: divide by zero encountered in log\n",
      "  loss = np.sum(-np.log(probs[np.arange(len(y)),y]))/len(y)\n"
     ]
    },
    {
     "name": "stdout",
     "output_type": "stream",
     "text": [
      "135 / 625 |  final loss: 22116.61172508572  train_acc: 0.8\n",
      "\n",
      "\n"
     ]
    },
    {
     "name": "stderr",
     "output_type": "stream",
     "text": [
      "/home/yannis/Documents/uds/ift725/tp2RN/prog/ift725/layers.py:649: RuntimeWarning: divide by zero encountered in log\n",
      "  loss = np.sum(-np.log(probs[np.arange(len(y)),y]))/len(y)\n"
     ]
    },
    {
     "name": "stdout",
     "output_type": "stream",
     "text": [
      "136 / 625 |  final loss: 23310.098193496055  train_acc: 0.64\n",
      "\n",
      "\n"
     ]
    },
    {
     "name": "stderr",
     "output_type": "stream",
     "text": [
      "/home/yannis/Documents/uds/ift725/tp2RN/prog/ift725/layers.py:649: RuntimeWarning: divide by zero encountered in log\n",
      "  loss = np.sum(-np.log(probs[np.arange(len(y)),y]))/len(y)\n"
     ]
    },
    {
     "name": "stdout",
     "output_type": "stream",
     "text": [
      "137 / 625 |  final loss: 23523.585503842183  train_acc: 0.96\n",
      "\n",
      "\n"
     ]
    },
    {
     "name": "stderr",
     "output_type": "stream",
     "text": [
      "/home/yannis/Documents/uds/ift725/tp2RN/prog/ift725/layers.py:649: RuntimeWarning: divide by zero encountered in log\n",
      "  loss = np.sum(-np.log(probs[np.arange(len(y)),y]))/len(y)\n"
     ]
    },
    {
     "name": "stdout",
     "output_type": "stream",
     "text": [
      "138 / 625 |  final loss: 24726.916908118816  train_acc: 0.76\n",
      "\n",
      "\n"
     ]
    },
    {
     "name": "stderr",
     "output_type": "stream",
     "text": [
      "/home/yannis/Documents/uds/ift725/tp2RN/prog/ift725/layers.py:649: RuntimeWarning: divide by zero encountered in log\n",
      "  loss = np.sum(-np.log(probs[np.arange(len(y)),y]))/len(y)\n"
     ]
    },
    {
     "name": "stdout",
     "output_type": "stream",
     "text": [
      "139 / 625 |  final loss: inf  train_acc: 0.9\n",
      "\n",
      "\n"
     ]
    },
    {
     "name": "stderr",
     "output_type": "stream",
     "text": [
      "/home/yannis/Documents/uds/ift725/tp2RN/prog/ift725/layers.py:649: RuntimeWarning: divide by zero encountered in log\n",
      "  loss = np.sum(-np.log(probs[np.arange(len(y)),y]))/len(y)\n"
     ]
    },
    {
     "name": "stdout",
     "output_type": "stream",
     "text": [
      "140 / 625 |  final loss: 26347.221771917426  train_acc: 0.78\n",
      "\n",
      "\n"
     ]
    },
    {
     "name": "stderr",
     "output_type": "stream",
     "text": [
      "/home/yannis/Documents/uds/ift725/tp2RN/prog/ift725/layers.py:649: RuntimeWarning: divide by zero encountered in log\n",
      "  loss = np.sum(-np.log(probs[np.arange(len(y)),y]))/len(y)\n"
     ]
    },
    {
     "name": "stdout",
     "output_type": "stream",
     "text": [
      "141 / 625 |  final loss: 26021.651500050742  train_acc: 0.96\n",
      "\n",
      "\n"
     ]
    },
    {
     "name": "stderr",
     "output_type": "stream",
     "text": [
      "/home/yannis/Documents/uds/ift725/tp2RN/prog/ift725/layers.py:649: RuntimeWarning: divide by zero encountered in log\n",
      "  loss = np.sum(-np.log(probs[np.arange(len(y)),y]))/len(y)\n"
     ]
    },
    {
     "name": "stdout",
     "output_type": "stream",
     "text": [
      "142 / 625 |  final loss: 26745.460895384662  train_acc: 0.84\n",
      "\n",
      "\n"
     ]
    },
    {
     "name": "stderr",
     "output_type": "stream",
     "text": [
      "/home/yannis/Documents/uds/ift725/tp2RN/prog/ift725/layers.py:649: RuntimeWarning: divide by zero encountered in log\n",
      "  loss = np.sum(-np.log(probs[np.arange(len(y)),y]))/len(y)\n"
     ]
    },
    {
     "name": "stdout",
     "output_type": "stream",
     "text": [
      "143 / 625 |  final loss: inf  train_acc: 0.7\n",
      "\n",
      "\n"
     ]
    },
    {
     "name": "stderr",
     "output_type": "stream",
     "text": [
      "/home/yannis/Documents/uds/ift725/tp2RN/prog/ift725/layers.py:649: RuntimeWarning: divide by zero encountered in log\n",
      "  loss = np.sum(-np.log(probs[np.arange(len(y)),y]))/len(y)\n"
     ]
    },
    {
     "name": "stdout",
     "output_type": "stream",
     "text": [
      "144 / 625 |  final loss: inf  train_acc: 0.82\n",
      "\n",
      "\n"
     ]
    },
    {
     "name": "stderr",
     "output_type": "stream",
     "text": [
      "/home/yannis/Documents/uds/ift725/tp2RN/prog/ift725/layers.py:649: RuntimeWarning: divide by zero encountered in log\n",
      "  loss = np.sum(-np.log(probs[np.arange(len(y)),y]))/len(y)\n"
     ]
    },
    {
     "name": "stdout",
     "output_type": "stream",
     "text": [
      "145 / 625 |  final loss: inf  train_acc: 0.64\n",
      "\n",
      "\n"
     ]
    },
    {
     "name": "stderr",
     "output_type": "stream",
     "text": [
      "/home/yannis/Documents/uds/ift725/tp2RN/prog/ift725/layers.py:649: RuntimeWarning: divide by zero encountered in log\n",
      "  loss = np.sum(-np.log(probs[np.arange(len(y)),y]))/len(y)\n"
     ]
    },
    {
     "name": "stdout",
     "output_type": "stream",
     "text": [
      "146 / 625 |  final loss: 28495.987390088172  train_acc: 0.88\n",
      "\n",
      "\n"
     ]
    },
    {
     "name": "stderr",
     "output_type": "stream",
     "text": [
      "/home/yannis/Documents/uds/ift725/tp2RN/prog/ift725/layers.py:649: RuntimeWarning: divide by zero encountered in log\n",
      "  loss = np.sum(-np.log(probs[np.arange(len(y)),y]))/len(y)\n"
     ]
    },
    {
     "name": "stdout",
     "output_type": "stream",
     "text": [
      "147 / 625 |  final loss: inf  train_acc: 0.64\n",
      "\n",
      "\n"
     ]
    },
    {
     "name": "stderr",
     "output_type": "stream",
     "text": [
      "/home/yannis/Documents/uds/ift725/tp2RN/prog/ift725/layers.py:649: RuntimeWarning: divide by zero encountered in log\n",
      "  loss = np.sum(-np.log(probs[np.arange(len(y)),y]))/len(y)\n"
     ]
    },
    {
     "name": "stdout",
     "output_type": "stream",
     "text": [
      "148 / 625 |  final loss: inf  train_acc: 0.64\n",
      "\n",
      "\n"
     ]
    },
    {
     "name": "stderr",
     "output_type": "stream",
     "text": [
      "/home/yannis/Documents/uds/ift725/tp2RN/prog/ift725/layers.py:649: RuntimeWarning: divide by zero encountered in log\n",
      "  loss = np.sum(-np.log(probs[np.arange(len(y)),y]))/len(y)\n"
     ]
    },
    {
     "name": "stdout",
     "output_type": "stream",
     "text": [
      "149 / 625 |  final loss: inf  train_acc: 0.6\n",
      "\n",
      "\n"
     ]
    },
    {
     "name": "stderr",
     "output_type": "stream",
     "text": [
      "/home/yannis/Documents/uds/ift725/tp2RN/prog/ift725/layers.py:649: RuntimeWarning: divide by zero encountered in log\n",
      "  loss = np.sum(-np.log(probs[np.arange(len(y)),y]))/len(y)\n"
     ]
    },
    {
     "name": "stdout",
     "output_type": "stream",
     "text": [
      "150 / 625 |  final loss: inf  train_acc: 0.7\n",
      "\n",
      "\n"
     ]
    },
    {
     "name": "stderr",
     "output_type": "stream",
     "text": [
      "/home/yannis/Documents/uds/ift725/tp2RN/prog/ift725/layers.py:649: RuntimeWarning: divide by zero encountered in log\n",
      "  loss = np.sum(-np.log(probs[np.arange(len(y)),y]))/len(y)\n"
     ]
    },
    {
     "name": "stdout",
     "output_type": "stream",
     "text": [
      "151 / 625 |  final loss: inf  train_acc: 0.86\n",
      "\n",
      "\n"
     ]
    },
    {
     "name": "stderr",
     "output_type": "stream",
     "text": [
      "/home/yannis/Documents/uds/ift725/tp2RN/prog/ift725/layers.py:649: RuntimeWarning: divide by zero encountered in log\n",
      "  loss = np.sum(-np.log(probs[np.arange(len(y)),y]))/len(y)\n"
     ]
    },
    {
     "name": "stdout",
     "output_type": "stream",
     "text": [
      "152 / 625 |  final loss: 8171.627247763305  train_acc: 0.92\n",
      "\n",
      "\n"
     ]
    },
    {
     "name": "stderr",
     "output_type": "stream",
     "text": [
      "/home/yannis/Documents/uds/ift725/tp2RN/prog/ift725/layers.py:649: RuntimeWarning: divide by zero encountered in log\n",
      "  loss = np.sum(-np.log(probs[np.arange(len(y)),y]))/len(y)\n"
     ]
    },
    {
     "name": "stdout",
     "output_type": "stream",
     "text": [
      "153 / 625 |  final loss: inf  train_acc: 0.92\n",
      "\n",
      "\n"
     ]
    },
    {
     "name": "stderr",
     "output_type": "stream",
     "text": [
      "/home/yannis/Documents/uds/ift725/tp2RN/prog/ift725/layers.py:649: RuntimeWarning: divide by zero encountered in log\n",
      "  loss = np.sum(-np.log(probs[np.arange(len(y)),y]))/len(y)\n"
     ]
    },
    {
     "name": "stdout",
     "output_type": "stream",
     "text": [
      "154 / 625 |  final loss: 11186.573991597317  train_acc: 0.94\n",
      "\n",
      "\n"
     ]
    },
    {
     "name": "stderr",
     "output_type": "stream",
     "text": [
      "/home/yannis/Documents/uds/ift725/tp2RN/prog/ift725/layers.py:649: RuntimeWarning: divide by zero encountered in log\n",
      "  loss = np.sum(-np.log(probs[np.arange(len(y)),y]))/len(y)\n"
     ]
    },
    {
     "name": "stdout",
     "output_type": "stream",
     "text": [
      "155 / 625 |  final loss: 12174.370380650624  train_acc: 0.86\n",
      "\n",
      "\n"
     ]
    },
    {
     "name": "stderr",
     "output_type": "stream",
     "text": [
      "/home/yannis/Documents/uds/ift725/tp2RN/prog/ift725/layers.py:649: RuntimeWarning: divide by zero encountered in log\n",
      "  loss = np.sum(-np.log(probs[np.arange(len(y)),y]))/len(y)\n"
     ]
    },
    {
     "name": "stdout",
     "output_type": "stream",
     "text": [
      "156 / 625 |  final loss: 13017.573318227294  train_acc: 0.9\n",
      "\n",
      "\n"
     ]
    },
    {
     "name": "stderr",
     "output_type": "stream",
     "text": [
      "/home/yannis/Documents/uds/ift725/tp2RN/prog/ift725/layers.py:649: RuntimeWarning: divide by zero encountered in log\n",
      "  loss = np.sum(-np.log(probs[np.arange(len(y)),y]))/len(y)\n"
     ]
    },
    {
     "name": "stdout",
     "output_type": "stream",
     "text": [
      "157 / 625 |  final loss: 15069.684039054233  train_acc: 0.84\n",
      "\n",
      "\n"
     ]
    },
    {
     "name": "stderr",
     "output_type": "stream",
     "text": [
      "/home/yannis/Documents/uds/ift725/tp2RN/prog/ift725/layers.py:649: RuntimeWarning: divide by zero encountered in log\n",
      "  loss = np.sum(-np.log(probs[np.arange(len(y)),y]))/len(y)\n"
     ]
    },
    {
     "name": "stdout",
     "output_type": "stream",
     "text": [
      "158 / 625 |  final loss: 15337.96966975959  train_acc: 0.66\n",
      "\n",
      "\n"
     ]
    },
    {
     "name": "stderr",
     "output_type": "stream",
     "text": [
      "/home/yannis/Documents/uds/ift725/tp2RN/prog/ift725/layers.py:649: RuntimeWarning: divide by zero encountered in log\n",
      "  loss = np.sum(-np.log(probs[np.arange(len(y)),y]))/len(y)\n"
     ]
    },
    {
     "name": "stdout",
     "output_type": "stream",
     "text": [
      "159 / 625 |  final loss: 16580.84077480998  train_acc: 0.86\n",
      "\n",
      "\n"
     ]
    },
    {
     "name": "stderr",
     "output_type": "stream",
     "text": [
      "/home/yannis/Documents/uds/ift725/tp2RN/prog/ift725/layers.py:649: RuntimeWarning: divide by zero encountered in log\n",
      "  loss = np.sum(-np.log(probs[np.arange(len(y)),y]))/len(y)\n"
     ]
    },
    {
     "name": "stdout",
     "output_type": "stream",
     "text": [
      "160 / 625 |  final loss: 17172.4852896772  train_acc: 0.9\n",
      "\n",
      "\n"
     ]
    },
    {
     "name": "stderr",
     "output_type": "stream",
     "text": [
      "/home/yannis/Documents/uds/ift725/tp2RN/prog/ift725/layers.py:649: RuntimeWarning: divide by zero encountered in log\n",
      "  loss = np.sum(-np.log(probs[np.arange(len(y)),y]))/len(y)\n"
     ]
    },
    {
     "name": "stdout",
     "output_type": "stream",
     "text": [
      "161 / 625 |  final loss: 18269.717377023113  train_acc: 0.82\n",
      "\n",
      "\n"
     ]
    },
    {
     "name": "stderr",
     "output_type": "stream",
     "text": [
      "/home/yannis/Documents/uds/ift725/tp2RN/prog/ift725/layers.py:649: RuntimeWarning: divide by zero encountered in log\n",
      "  loss = np.sum(-np.log(probs[np.arange(len(y)),y]))/len(y)\n"
     ]
    },
    {
     "name": "stdout",
     "output_type": "stream",
     "text": [
      "162 / 625 |  final loss: 19367.95743924924  train_acc: 0.98\n",
      "\n",
      "\n"
     ]
    },
    {
     "name": "stderr",
     "output_type": "stream",
     "text": [
      "/home/yannis/Documents/uds/ift725/tp2RN/prog/ift725/layers.py:649: RuntimeWarning: divide by zero encountered in log\n",
      "  loss = np.sum(-np.log(probs[np.arange(len(y)),y]))/len(y)\n"
     ]
    },
    {
     "name": "stdout",
     "output_type": "stream",
     "text": [
      "163 / 625 |  final loss: 19921.640004459103  train_acc: 0.92\n",
      "\n",
      "\n"
     ]
    },
    {
     "name": "stderr",
     "output_type": "stream",
     "text": [
      "/home/yannis/Documents/uds/ift725/tp2RN/prog/ift725/layers.py:649: RuntimeWarning: divide by zero encountered in log\n",
      "  loss = np.sum(-np.log(probs[np.arange(len(y)),y]))/len(y)\n"
     ]
    },
    {
     "name": "stdout",
     "output_type": "stream",
     "text": [
      "164 / 625 |  final loss: 20956.925290906376  train_acc: 0.7\n",
      "\n",
      "\n"
     ]
    },
    {
     "name": "stderr",
     "output_type": "stream",
     "text": [
      "/home/yannis/Documents/uds/ift725/tp2RN/prog/ift725/layers.py:649: RuntimeWarning: divide by zero encountered in log\n",
      "  loss = np.sum(-np.log(probs[np.arange(len(y)),y]))/len(y)\n"
     ]
    },
    {
     "name": "stdout",
     "output_type": "stream",
     "text": [
      "165 / 625 |  final loss: 21442.582951119883  train_acc: 0.58\n",
      "\n",
      "\n"
     ]
    },
    {
     "name": "stderr",
     "output_type": "stream",
     "text": [
      "/home/yannis/Documents/uds/ift725/tp2RN/prog/ift725/layers.py:649: RuntimeWarning: divide by zero encountered in log\n",
      "  loss = np.sum(-np.log(probs[np.arange(len(y)),y]))/len(y)\n"
     ]
    },
    {
     "name": "stdout",
     "output_type": "stream",
     "text": [
      "166 / 625 |  final loss: 22203.789415167448  train_acc: 0.78\n",
      "\n",
      "\n"
     ]
    },
    {
     "name": "stderr",
     "output_type": "stream",
     "text": [
      "/home/yannis/Documents/uds/ift725/tp2RN/prog/ift725/layers.py:649: RuntimeWarning: divide by zero encountered in log\n",
      "  loss = np.sum(-np.log(probs[np.arange(len(y)),y]))/len(y)\n"
     ]
    },
    {
     "name": "stdout",
     "output_type": "stream",
     "text": [
      "167 / 625 |  final loss: inf  train_acc: 0.9\n",
      "\n",
      "\n"
     ]
    },
    {
     "name": "stderr",
     "output_type": "stream",
     "text": [
      "/home/yannis/Documents/uds/ift725/tp2RN/prog/ift725/layers.py:649: RuntimeWarning: divide by zero encountered in log\n",
      "  loss = np.sum(-np.log(probs[np.arange(len(y)),y]))/len(y)\n"
     ]
    },
    {
     "name": "stdout",
     "output_type": "stream",
     "text": [
      "168 / 625 |  final loss: 22832.002579404856  train_acc: 0.94\n",
      "\n",
      "\n"
     ]
    },
    {
     "name": "stderr",
     "output_type": "stream",
     "text": [
      "/home/yannis/Documents/uds/ift725/tp2RN/prog/ift725/layers.py:649: RuntimeWarning: divide by zero encountered in log\n",
      "  loss = np.sum(-np.log(probs[np.arange(len(y)),y]))/len(y)\n"
     ]
    },
    {
     "name": "stdout",
     "output_type": "stream",
     "text": [
      "169 / 625 |  final loss: 23598.6950291505  train_acc: 0.74\n",
      "\n",
      "\n"
     ]
    },
    {
     "name": "stderr",
     "output_type": "stream",
     "text": [
      "/home/yannis/Documents/uds/ift725/tp2RN/prog/ift725/layers.py:649: RuntimeWarning: divide by zero encountered in log\n",
      "  loss = np.sum(-np.log(probs[np.arange(len(y)),y]))/len(y)\n"
     ]
    },
    {
     "name": "stdout",
     "output_type": "stream",
     "text": [
      "170 / 625 |  final loss: 23473.107575717713  train_acc: 0.84\n",
      "\n",
      "\n"
     ]
    },
    {
     "name": "stderr",
     "output_type": "stream",
     "text": [
      "/home/yannis/Documents/uds/ift725/tp2RN/prog/ift725/layers.py:649: RuntimeWarning: divide by zero encountered in log\n",
      "  loss = np.sum(-np.log(probs[np.arange(len(y)),y]))/len(y)\n"
     ]
    },
    {
     "name": "stdout",
     "output_type": "stream",
     "text": [
      "171 / 625 |  final loss: 24115.921972483833  train_acc: 0.72\n",
      "\n",
      "\n"
     ]
    },
    {
     "name": "stderr",
     "output_type": "stream",
     "text": [
      "/home/yannis/Documents/uds/ift725/tp2RN/prog/ift725/layers.py:649: RuntimeWarning: divide by zero encountered in log\n",
      "  loss = np.sum(-np.log(probs[np.arange(len(y)),y]))/len(y)\n"
     ]
    },
    {
     "name": "stdout",
     "output_type": "stream",
     "text": [
      "172 / 625 |  final loss: inf  train_acc: 0.62\n",
      "\n",
      "\n"
     ]
    },
    {
     "name": "stderr",
     "output_type": "stream",
     "text": [
      "/home/yannis/Documents/uds/ift725/tp2RN/prog/ift725/layers.py:649: RuntimeWarning: divide by zero encountered in log\n",
      "  loss = np.sum(-np.log(probs[np.arange(len(y)),y]))/len(y)\n"
     ]
    },
    {
     "name": "stdout",
     "output_type": "stream",
     "text": [
      "173 / 625 |  final loss: inf  train_acc: 0.66\n",
      "\n",
      "\n"
     ]
    },
    {
     "name": "stderr",
     "output_type": "stream",
     "text": [
      "/home/yannis/Documents/uds/ift725/tp2RN/prog/ift725/layers.py:649: RuntimeWarning: divide by zero encountered in log\n",
      "  loss = np.sum(-np.log(probs[np.arange(len(y)),y]))/len(y)\n"
     ]
    },
    {
     "name": "stdout",
     "output_type": "stream",
     "text": [
      "174 / 625 |  final loss: 24973.45206787941  train_acc: 0.56\n",
      "\n",
      "\n"
     ]
    },
    {
     "name": "stderr",
     "output_type": "stream",
     "text": [
      "/home/yannis/Documents/uds/ift725/tp2RN/prog/ift725/layers.py:649: RuntimeWarning: divide by zero encountered in log\n",
      "  loss = np.sum(-np.log(probs[np.arange(len(y)),y]))/len(y)\n"
     ]
    },
    {
     "name": "stdout",
     "output_type": "stream",
     "text": [
      "175 / 625 |  final loss: inf  train_acc: 0.56\n",
      "\n",
      "\n"
     ]
    },
    {
     "name": "stderr",
     "output_type": "stream",
     "text": [
      "/home/yannis/Documents/uds/ift725/tp2RN/prog/ift725/layers.py:649: RuntimeWarning: divide by zero encountered in log\n",
      "  loss = np.sum(-np.log(probs[np.arange(len(y)),y]))/len(y)\n"
     ]
    },
    {
     "name": "stdout",
     "output_type": "stream",
     "text": [
      "176 / 625 |  final loss: 5695.834415917653  train_acc: 0.8\n",
      "\n",
      "\n"
     ]
    },
    {
     "name": "stderr",
     "output_type": "stream",
     "text": [
      "/home/yannis/Documents/uds/ift725/tp2RN/prog/ift725/layers.py:649: RuntimeWarning: divide by zero encountered in log\n",
      "  loss = np.sum(-np.log(probs[np.arange(len(y)),y]))/len(y)\n"
     ]
    },
    {
     "name": "stdout",
     "output_type": "stream",
     "text": [
      "177 / 625 |  final loss: 5881.078146762433  train_acc: 0.78\n",
      "\n",
      "\n"
     ]
    },
    {
     "name": "stderr",
     "output_type": "stream",
     "text": [
      "/home/yannis/Documents/uds/ift725/tp2RN/prog/ift725/layers.py:649: RuntimeWarning: divide by zero encountered in log\n",
      "  loss = np.sum(-np.log(probs[np.arange(len(y)),y]))/len(y)\n"
     ]
    },
    {
     "name": "stdout",
     "output_type": "stream",
     "text": [
      "178 / 625 |  final loss: 7362.3442404905  train_acc: 0.96\n",
      "\n",
      "\n"
     ]
    },
    {
     "name": "stderr",
     "output_type": "stream",
     "text": [
      "/home/yannis/Documents/uds/ift725/tp2RN/prog/ift725/layers.py:649: RuntimeWarning: divide by zero encountered in log\n",
      "  loss = np.sum(-np.log(probs[np.arange(len(y)),y]))/len(y)\n"
     ]
    },
    {
     "name": "stdout",
     "output_type": "stream",
     "text": [
      "179 / 625 |  final loss: 7965.358905602743  train_acc: 0.9\n",
      "\n",
      "\n"
     ]
    },
    {
     "name": "stderr",
     "output_type": "stream",
     "text": [
      "/home/yannis/Documents/uds/ift725/tp2RN/prog/ift725/layers.py:649: RuntimeWarning: divide by zero encountered in log\n",
      "  loss = np.sum(-np.log(probs[np.arange(len(y)),y]))/len(y)\n"
     ]
    },
    {
     "name": "stdout",
     "output_type": "stream",
     "text": [
      "180 / 625 |  final loss: 9317.986911737256  train_acc: 0.88\n",
      "\n",
      "\n"
     ]
    },
    {
     "name": "stderr",
     "output_type": "stream",
     "text": [
      "/home/yannis/Documents/uds/ift725/tp2RN/prog/ift725/layers.py:649: RuntimeWarning: divide by zero encountered in log\n",
      "  loss = np.sum(-np.log(probs[np.arange(len(y)),y]))/len(y)\n"
     ]
    },
    {
     "name": "stdout",
     "output_type": "stream",
     "text": [
      "181 / 625 |  final loss: 10359.250723679192  train_acc: 0.84\n",
      "\n",
      "\n"
     ]
    },
    {
     "name": "stderr",
     "output_type": "stream",
     "text": [
      "/home/yannis/Documents/uds/ift725/tp2RN/prog/ift725/layers.py:649: RuntimeWarning: divide by zero encountered in log\n",
      "  loss = np.sum(-np.log(probs[np.arange(len(y)),y]))/len(y)\n"
     ]
    },
    {
     "name": "stdout",
     "output_type": "stream",
     "text": [
      "182 / 625 |  final loss: 11160.349151741331  train_acc: 0.9\n",
      "\n",
      "\n"
     ]
    },
    {
     "name": "stderr",
     "output_type": "stream",
     "text": [
      "/home/yannis/Documents/uds/ift725/tp2RN/prog/ift725/layers.py:649: RuntimeWarning: divide by zero encountered in log\n",
      "  loss = np.sum(-np.log(probs[np.arange(len(y)),y]))/len(y)\n"
     ]
    },
    {
     "name": "stdout",
     "output_type": "stream",
     "text": [
      "183 / 625 |  final loss: 12152.40373174823  train_acc: 0.98\n",
      "\n",
      "\n"
     ]
    },
    {
     "name": "stderr",
     "output_type": "stream",
     "text": [
      "/home/yannis/Documents/uds/ift725/tp2RN/prog/ift725/layers.py:649: RuntimeWarning: divide by zero encountered in log\n",
      "  loss = np.sum(-np.log(probs[np.arange(len(y)),y]))/len(y)\n"
     ]
    },
    {
     "name": "stdout",
     "output_type": "stream",
     "text": [
      "184 / 625 |  final loss: 13083.550228471935  train_acc: 0.92\n",
      "\n",
      "\n"
     ]
    },
    {
     "name": "stderr",
     "output_type": "stream",
     "text": [
      "/home/yannis/Documents/uds/ift725/tp2RN/prog/ift725/layers.py:649: RuntimeWarning: divide by zero encountered in log\n",
      "  loss = np.sum(-np.log(probs[np.arange(len(y)),y]))/len(y)\n"
     ]
    },
    {
     "name": "stdout",
     "output_type": "stream",
     "text": [
      "185 / 625 |  final loss: 14274.323947346353  train_acc: 0.92\n",
      "\n",
      "\n"
     ]
    },
    {
     "name": "stderr",
     "output_type": "stream",
     "text": [
      "/home/yannis/Documents/uds/ift725/tp2RN/prog/ift725/layers.py:649: RuntimeWarning: divide by zero encountered in log\n",
      "  loss = np.sum(-np.log(probs[np.arange(len(y)),y]))/len(y)\n"
     ]
    },
    {
     "name": "stdout",
     "output_type": "stream",
     "text": [
      "186 / 625 |  final loss: 14712.175343356419  train_acc: 0.7\n",
      "\n",
      "\n"
     ]
    },
    {
     "name": "stderr",
     "output_type": "stream",
     "text": [
      "/home/yannis/Documents/uds/ift725/tp2RN/prog/ift725/layers.py:649: RuntimeWarning: divide by zero encountered in log\n",
      "  loss = np.sum(-np.log(probs[np.arange(len(y)),y]))/len(y)\n"
     ]
    },
    {
     "name": "stdout",
     "output_type": "stream",
     "text": [
      "187 / 625 |  final loss: 15720.587933028364  train_acc: 0.96\n",
      "\n",
      "\n"
     ]
    },
    {
     "name": "stderr",
     "output_type": "stream",
     "text": [
      "/home/yannis/Documents/uds/ift725/tp2RN/prog/ift725/layers.py:649: RuntimeWarning: divide by zero encountered in log\n",
      "  loss = np.sum(-np.log(probs[np.arange(len(y)),y]))/len(y)\n"
     ]
    },
    {
     "name": "stdout",
     "output_type": "stream",
     "text": [
      "188 / 625 |  final loss: 16343.861109009205  train_acc: 0.6\n",
      "\n",
      "\n"
     ]
    },
    {
     "name": "stderr",
     "output_type": "stream",
     "text": [
      "/home/yannis/Documents/uds/ift725/tp2RN/prog/ift725/layers.py:649: RuntimeWarning: divide by zero encountered in log\n",
      "  loss = np.sum(-np.log(probs[np.arange(len(y)),y]))/len(y)\n"
     ]
    },
    {
     "name": "stdout",
     "output_type": "stream",
     "text": [
      "189 / 625 |  final loss: 17113.858896495287  train_acc: 0.86\n",
      "\n",
      "\n"
     ]
    },
    {
     "name": "stderr",
     "output_type": "stream",
     "text": [
      "/home/yannis/Documents/uds/ift725/tp2RN/prog/ift725/layers.py:649: RuntimeWarning: divide by zero encountered in log\n",
      "  loss = np.sum(-np.log(probs[np.arange(len(y)),y]))/len(y)\n"
     ]
    },
    {
     "name": "stdout",
     "output_type": "stream",
     "text": [
      "190 / 625 |  final loss: 17695.89887026886  train_acc: 0.9\n",
      "\n",
      "\n"
     ]
    },
    {
     "name": "stderr",
     "output_type": "stream",
     "text": [
      "/home/yannis/Documents/uds/ift725/tp2RN/prog/ift725/layers.py:649: RuntimeWarning: divide by zero encountered in log\n",
      "  loss = np.sum(-np.log(probs[np.arange(len(y)),y]))/len(y)\n"
     ]
    },
    {
     "name": "stdout",
     "output_type": "stream",
     "text": [
      "191 / 625 |  final loss: 18360.631404751788  train_acc: 0.86\n",
      "\n",
      "\n"
     ]
    },
    {
     "name": "stderr",
     "output_type": "stream",
     "text": [
      "/home/yannis/Documents/uds/ift725/tp2RN/prog/ift725/layers.py:649: RuntimeWarning: divide by zero encountered in log\n",
      "  loss = np.sum(-np.log(probs[np.arange(len(y)),y]))/len(y)\n"
     ]
    },
    {
     "name": "stdout",
     "output_type": "stream",
     "text": [
      "192 / 625 |  final loss: 18658.598211501863  train_acc: 0.78\n",
      "\n",
      "\n"
     ]
    },
    {
     "name": "stderr",
     "output_type": "stream",
     "text": [
      "/home/yannis/Documents/uds/ift725/tp2RN/prog/ift725/layers.py:649: RuntimeWarning: divide by zero encountered in log\n",
      "  loss = np.sum(-np.log(probs[np.arange(len(y)),y]))/len(y)\n"
     ]
    },
    {
     "name": "stdout",
     "output_type": "stream",
     "text": [
      "193 / 625 |  final loss: inf  train_acc: 0.88\n",
      "\n",
      "\n"
     ]
    },
    {
     "name": "stderr",
     "output_type": "stream",
     "text": [
      "/home/yannis/Documents/uds/ift725/tp2RN/prog/ift725/layers.py:649: RuntimeWarning: divide by zero encountered in log\n",
      "  loss = np.sum(-np.log(probs[np.arange(len(y)),y]))/len(y)\n"
     ]
    },
    {
     "name": "stdout",
     "output_type": "stream",
     "text": [
      "194 / 625 |  final loss: 19705.852402717504  train_acc: 0.68\n",
      "\n",
      "\n"
     ]
    },
    {
     "name": "stderr",
     "output_type": "stream",
     "text": [
      "/home/yannis/Documents/uds/ift725/tp2RN/prog/ift725/layers.py:649: RuntimeWarning: divide by zero encountered in log\n",
      "  loss = np.sum(-np.log(probs[np.arange(len(y)),y]))/len(y)\n"
     ]
    },
    {
     "name": "stdout",
     "output_type": "stream",
     "text": [
      "195 / 625 |  final loss: 19957.47563754268  train_acc: 0.84\n",
      "\n",
      "\n"
     ]
    },
    {
     "name": "stderr",
     "output_type": "stream",
     "text": [
      "/home/yannis/Documents/uds/ift725/tp2RN/prog/ift725/layers.py:649: RuntimeWarning: divide by zero encountered in log\n",
      "  loss = np.sum(-np.log(probs[np.arange(len(y)),y]))/len(y)\n"
     ]
    },
    {
     "name": "stdout",
     "output_type": "stream",
     "text": [
      "196 / 625 |  final loss: 20337.813925608054  train_acc: 0.64\n",
      "\n",
      "\n"
     ]
    },
    {
     "name": "stderr",
     "output_type": "stream",
     "text": [
      "/home/yannis/Documents/uds/ift725/tp2RN/prog/ift725/layers.py:649: RuntimeWarning: divide by zero encountered in log\n",
      "  loss = np.sum(-np.log(probs[np.arange(len(y)),y]))/len(y)\n"
     ]
    },
    {
     "name": "stdout",
     "output_type": "stream",
     "text": [
      "197 / 625 |  final loss: 20529.384958226874  train_acc: 0.68\n",
      "\n",
      "\n"
     ]
    },
    {
     "name": "stderr",
     "output_type": "stream",
     "text": [
      "/home/yannis/Documents/uds/ift725/tp2RN/prog/ift725/layers.py:649: RuntimeWarning: divide by zero encountered in log\n",
      "  loss = np.sum(-np.log(probs[np.arange(len(y)),y]))/len(y)\n"
     ]
    },
    {
     "name": "stdout",
     "output_type": "stream",
     "text": [
      "198 / 625 |  final loss: 20958.702995206393  train_acc: 0.64\n",
      "\n",
      "\n"
     ]
    },
    {
     "name": "stderr",
     "output_type": "stream",
     "text": [
      "/home/yannis/Documents/uds/ift725/tp2RN/prog/ift725/layers.py:649: RuntimeWarning: divide by zero encountered in log\n",
      "  loss = np.sum(-np.log(probs[np.arange(len(y)),y]))/len(y)\n"
     ]
    },
    {
     "name": "stdout",
     "output_type": "stream",
     "text": [
      "199 / 625 |  final loss: 21136.969641179483  train_acc: 0.8\n",
      "\n",
      "\n"
     ]
    },
    {
     "name": "stderr",
     "output_type": "stream",
     "text": [
      "/home/yannis/Documents/uds/ift725/tp2RN/prog/ift725/layers.py:649: RuntimeWarning: divide by zero encountered in log\n",
      "  loss = np.sum(-np.log(probs[np.arange(len(y)),y]))/len(y)\n"
     ]
    },
    {
     "name": "stdout",
     "output_type": "stream",
     "text": [
      "200 / 625 |  final loss: 21510.51015612864  train_acc: 0.32\n",
      "\n",
      "\n"
     ]
    },
    {
     "name": "stderr",
     "output_type": "stream",
     "text": [
      "/home/yannis/Documents/uds/ift725/tp2RN/prog/ift725/layers.py:649: RuntimeWarning: divide by zero encountered in log\n",
      "  loss = np.sum(-np.log(probs[np.arange(len(y)),y]))/len(y)\n"
     ]
    },
    {
     "name": "stdout",
     "output_type": "stream",
     "text": [
      "201 / 625 |  final loss: 3160.9468556514785  train_acc: 0.8\n",
      "\n",
      "\n"
     ]
    },
    {
     "name": "stderr",
     "output_type": "stream",
     "text": [
      "/home/yannis/Documents/uds/ift725/tp2RN/prog/ift725/layers.py:649: RuntimeWarning: divide by zero encountered in log\n",
      "  loss = np.sum(-np.log(probs[np.arange(len(y)),y]))/len(y)\n"
     ]
    },
    {
     "name": "stdout",
     "output_type": "stream",
     "text": [
      "202 / 625 |  final loss: 4425.086717296647  train_acc: 0.76\n",
      "\n",
      "\n"
     ]
    },
    {
     "name": "stderr",
     "output_type": "stream",
     "text": [
      "/home/yannis/Documents/uds/ift725/tp2RN/prog/ift725/layers.py:649: RuntimeWarning: divide by zero encountered in log\n",
      "  loss = np.sum(-np.log(probs[np.arange(len(y)),y]))/len(y)\n"
     ]
    },
    {
     "name": "stdout",
     "output_type": "stream",
     "text": [
      "203 / 625 |  final loss: 4451.520571891656  train_acc: 0.88\n",
      "\n",
      "\n"
     ]
    },
    {
     "name": "stderr",
     "output_type": "stream",
     "text": [
      "/home/yannis/Documents/uds/ift725/tp2RN/prog/ift725/layers.py:649: RuntimeWarning: divide by zero encountered in log\n",
      "  loss = np.sum(-np.log(probs[np.arange(len(y)),y]))/len(y)\n"
     ]
    },
    {
     "name": "stdout",
     "output_type": "stream",
     "text": [
      "204 / 625 |  final loss: 5539.444679525495  train_acc: 0.9\n",
      "\n",
      "\n"
     ]
    },
    {
     "name": "stderr",
     "output_type": "stream",
     "text": [
      "/home/yannis/Documents/uds/ift725/tp2RN/prog/ift725/layers.py:649: RuntimeWarning: divide by zero encountered in log\n",
      "  loss = np.sum(-np.log(probs[np.arange(len(y)),y]))/len(y)\n"
     ]
    },
    {
     "name": "stdout",
     "output_type": "stream",
     "text": [
      "205 / 625 |  final loss: 6343.645999767541  train_acc: 0.9\n",
      "\n",
      "\n"
     ]
    },
    {
     "name": "stderr",
     "output_type": "stream",
     "text": [
      "/home/yannis/Documents/uds/ift725/tp2RN/prog/ift725/layers.py:649: RuntimeWarning: divide by zero encountered in log\n",
      "  loss = np.sum(-np.log(probs[np.arange(len(y)),y]))/len(y)\n"
     ]
    },
    {
     "name": "stdout",
     "output_type": "stream",
     "text": [
      "206 / 625 |  final loss: 8019.126858667514  train_acc: 0.86\n",
      "\n",
      "\n"
     ]
    },
    {
     "name": "stderr",
     "output_type": "stream",
     "text": [
      "/home/yannis/Documents/uds/ift725/tp2RN/prog/ift725/layers.py:649: RuntimeWarning: divide by zero encountered in log\n",
      "  loss = np.sum(-np.log(probs[np.arange(len(y)),y]))/len(y)\n"
     ]
    },
    {
     "name": "stdout",
     "output_type": "stream",
     "text": [
      "207 / 625 |  final loss: 8839.52905112201  train_acc: 1.0\n",
      "---\n",
      "\n",
      "\n"
     ]
    },
    {
     "name": "stderr",
     "output_type": "stream",
     "text": [
      "/home/yannis/Documents/uds/ift725/tp2RN/prog/ift725/layers.py:649: RuntimeWarning: divide by zero encountered in log\n",
      "  loss = np.sum(-np.log(probs[np.arange(len(y)),y]))/len(y)\n"
     ]
    },
    {
     "name": "stdout",
     "output_type": "stream",
     "text": [
      "208 / 625 |  final loss: 9288.1048130888  train_acc: 0.86\n",
      "\n",
      "\n"
     ]
    },
    {
     "name": "stderr",
     "output_type": "stream",
     "text": [
      "/home/yannis/Documents/uds/ift725/tp2RN/prog/ift725/layers.py:649: RuntimeWarning: divide by zero encountered in log\n",
      "  loss = np.sum(-np.log(probs[np.arange(len(y)),y]))/len(y)\n"
     ]
    },
    {
     "name": "stdout",
     "output_type": "stream",
     "text": [
      "209 / 625 |  final loss: 10279.75336736561  train_acc: 0.9\n",
      "\n",
      "\n"
     ]
    },
    {
     "name": "stderr",
     "output_type": "stream",
     "text": [
      "/home/yannis/Documents/uds/ift725/tp2RN/prog/ift725/layers.py:649: RuntimeWarning: divide by zero encountered in log\n",
      "  loss = np.sum(-np.log(probs[np.arange(len(y)),y]))/len(y)\n"
     ]
    },
    {
     "name": "stdout",
     "output_type": "stream",
     "text": [
      "210 / 625 |  final loss: 10723.70808536926  train_acc: 0.88\n",
      "\n",
      "\n"
     ]
    },
    {
     "name": "stderr",
     "output_type": "stream",
     "text": [
      "/home/yannis/Documents/uds/ift725/tp2RN/prog/ift725/layers.py:649: RuntimeWarning: divide by zero encountered in log\n",
      "  loss = np.sum(-np.log(probs[np.arange(len(y)),y]))/len(y)\n"
     ]
    },
    {
     "name": "stdout",
     "output_type": "stream",
     "text": [
      "211 / 625 |  final loss: 11723.881849842492  train_acc: 1.0\n",
      "\n",
      "\n"
     ]
    },
    {
     "name": "stderr",
     "output_type": "stream",
     "text": [
      "/home/yannis/Documents/uds/ift725/tp2RN/prog/ift725/layers.py:649: RuntimeWarning: divide by zero encountered in log\n",
      "  loss = np.sum(-np.log(probs[np.arange(len(y)),y]))/len(y)\n"
     ]
    },
    {
     "name": "stdout",
     "output_type": "stream",
     "text": [
      "212 / 625 |  final loss: 12617.18482395475  train_acc: 0.96\n",
      "\n",
      "\n"
     ]
    },
    {
     "name": "stderr",
     "output_type": "stream",
     "text": [
      "/home/yannis/Documents/uds/ift725/tp2RN/prog/ift725/layers.py:649: RuntimeWarning: divide by zero encountered in log\n",
      "  loss = np.sum(-np.log(probs[np.arange(len(y)),y]))/len(y)\n"
     ]
    },
    {
     "name": "stdout",
     "output_type": "stream",
     "text": [
      "213 / 625 |  final loss: 12978.69780752185  train_acc: 0.84\n",
      "\n",
      "\n"
     ]
    },
    {
     "name": "stderr",
     "output_type": "stream",
     "text": [
      "/home/yannis/Documents/uds/ift725/tp2RN/prog/ift725/layers.py:649: RuntimeWarning: divide by zero encountered in log\n",
      "  loss = np.sum(-np.log(probs[np.arange(len(y)),y]))/len(y)\n"
     ]
    },
    {
     "name": "stdout",
     "output_type": "stream",
     "text": [
      "214 / 625 |  final loss: 14149.204315532963  train_acc: 0.86\n",
      "\n",
      "\n"
     ]
    },
    {
     "name": "stderr",
     "output_type": "stream",
     "text": [
      "/home/yannis/Documents/uds/ift725/tp2RN/prog/ift725/layers.py:649: RuntimeWarning: divide by zero encountered in log\n",
      "  loss = np.sum(-np.log(probs[np.arange(len(y)),y]))/len(y)\n"
     ]
    },
    {
     "name": "stdout",
     "output_type": "stream",
     "text": [
      "215 / 625 |  final loss: 14553.920423170854  train_acc: 0.88\n",
      "\n",
      "\n"
     ]
    },
    {
     "name": "stderr",
     "output_type": "stream",
     "text": [
      "/home/yannis/Documents/uds/ift725/tp2RN/prog/ift725/layers.py:649: RuntimeWarning: divide by zero encountered in log\n",
      "  loss = np.sum(-np.log(probs[np.arange(len(y)),y]))/len(y)\n"
     ]
    },
    {
     "name": "stdout",
     "output_type": "stream",
     "text": [
      "216 / 625 |  final loss: 15029.162201356363  train_acc: 0.7\n",
      "\n",
      "\n"
     ]
    },
    {
     "name": "stderr",
     "output_type": "stream",
     "text": [
      "/home/yannis/Documents/uds/ift725/tp2RN/prog/ift725/layers.py:649: RuntimeWarning: divide by zero encountered in log\n",
      "  loss = np.sum(-np.log(probs[np.arange(len(y)),y]))/len(y)\n"
     ]
    },
    {
     "name": "stdout",
     "output_type": "stream",
     "text": [
      "217 / 625 |  final loss: 15548.027886676913  train_acc: 0.76\n",
      "\n",
      "\n"
     ]
    },
    {
     "name": "stderr",
     "output_type": "stream",
     "text": [
      "/home/yannis/Documents/uds/ift725/tp2RN/prog/ift725/layers.py:649: RuntimeWarning: divide by zero encountered in log\n",
      "  loss = np.sum(-np.log(probs[np.arange(len(y)),y]))/len(y)\n"
     ]
    },
    {
     "name": "stdout",
     "output_type": "stream",
     "text": [
      "218 / 625 |  final loss: 16112.853032562645  train_acc: 0.66\n",
      "\n",
      "\n"
     ]
    },
    {
     "name": "stderr",
     "output_type": "stream",
     "text": [
      "/home/yannis/Documents/uds/ift725/tp2RN/prog/ift725/layers.py:649: RuntimeWarning: divide by zero encountered in log\n",
      "  loss = np.sum(-np.log(probs[np.arange(len(y)),y]))/len(y)\n"
     ]
    },
    {
     "name": "stdout",
     "output_type": "stream",
     "text": [
      "219 / 625 |  final loss: 16562.960772060946  train_acc: 0.64\n",
      "\n",
      "\n"
     ]
    },
    {
     "name": "stderr",
     "output_type": "stream",
     "text": [
      "/home/yannis/Documents/uds/ift725/tp2RN/prog/ift725/layers.py:649: RuntimeWarning: divide by zero encountered in log\n",
      "  loss = np.sum(-np.log(probs[np.arange(len(y)),y]))/len(y)\n"
     ]
    },
    {
     "name": "stdout",
     "output_type": "stream",
     "text": [
      "220 / 625 |  final loss: 16646.62126008535  train_acc: 0.58\n",
      "\n",
      "\n"
     ]
    },
    {
     "name": "stderr",
     "output_type": "stream",
     "text": [
      "/home/yannis/Documents/uds/ift725/tp2RN/prog/ift725/layers.py:649: RuntimeWarning: divide by zero encountered in log\n",
      "  loss = np.sum(-np.log(probs[np.arange(len(y)),y]))/len(y)\n"
     ]
    },
    {
     "name": "stdout",
     "output_type": "stream",
     "text": [
      "221 / 625 |  final loss: 17178.063551681695  train_acc: 0.82\n",
      "\n",
      "\n"
     ]
    },
    {
     "name": "stderr",
     "output_type": "stream",
     "text": [
      "/home/yannis/Documents/uds/ift725/tp2RN/prog/ift725/layers.py:649: RuntimeWarning: divide by zero encountered in log\n",
      "  loss = np.sum(-np.log(probs[np.arange(len(y)),y]))/len(y)\n"
     ]
    },
    {
     "name": "stdout",
     "output_type": "stream",
     "text": [
      "222 / 625 |  final loss: 17413.07221180402  train_acc: 0.76\n",
      "\n",
      "\n"
     ]
    },
    {
     "name": "stderr",
     "output_type": "stream",
     "text": [
      "/home/yannis/Documents/uds/ift725/tp2RN/prog/ift725/layers.py:649: RuntimeWarning: divide by zero encountered in log\n",
      "  loss = np.sum(-np.log(probs[np.arange(len(y)),y]))/len(y)\n"
     ]
    },
    {
     "name": "stdout",
     "output_type": "stream",
     "text": [
      "223 / 625 |  final loss: 17689.865060825763  train_acc: 0.64\n",
      "\n",
      "\n"
     ]
    },
    {
     "name": "stderr",
     "output_type": "stream",
     "text": [
      "/home/yannis/Documents/uds/ift725/tp2RN/prog/ift725/layers.py:649: RuntimeWarning: divide by zero encountered in log\n",
      "  loss = np.sum(-np.log(probs[np.arange(len(y)),y]))/len(y)\n"
     ]
    },
    {
     "name": "stdout",
     "output_type": "stream",
     "text": [
      "224 / 625 |  final loss: 17873.401681902513  train_acc: 0.5\n",
      "\n",
      "\n"
     ]
    },
    {
     "name": "stderr",
     "output_type": "stream",
     "text": [
      "/home/yannis/Documents/uds/ift725/tp2RN/prog/ift725/layers.py:649: RuntimeWarning: divide by zero encountered in log\n",
      "  loss = np.sum(-np.log(probs[np.arange(len(y)),y]))/len(y)\n"
     ]
    },
    {
     "name": "stdout",
     "output_type": "stream",
     "text": [
      "225 / 625 |  final loss: 18033.09807961927  train_acc: 0.64\n",
      "\n",
      "\n"
     ]
    },
    {
     "name": "stderr",
     "output_type": "stream",
     "text": [
      "/home/yannis/Documents/uds/ift725/tp2RN/prog/ift725/layers.py:649: RuntimeWarning: divide by zero encountered in log\n",
      "  loss = np.sum(-np.log(probs[np.arange(len(y)),y]))/len(y)\n"
     ]
    },
    {
     "name": "stdout",
     "output_type": "stream",
     "text": [
      "226 / 625 |  final loss: 2209.7097663309833  train_acc: 0.8\n",
      "\n",
      "\n"
     ]
    },
    {
     "name": "stderr",
     "output_type": "stream",
     "text": [
      "/home/yannis/Documents/uds/ift725/tp2RN/prog/ift725/layers.py:649: RuntimeWarning: divide by zero encountered in log\n",
      "  loss = np.sum(-np.log(probs[np.arange(len(y)),y]))/len(y)\n"
     ]
    },
    {
     "name": "stdout",
     "output_type": "stream",
     "text": [
      "227 / 625 |  final loss: 2931.580957224552  train_acc: 0.72\n",
      "\n",
      "\n"
     ]
    },
    {
     "name": "stderr",
     "output_type": "stream",
     "text": [
      "/home/yannis/Documents/uds/ift725/tp2RN/prog/ift725/layers.py:649: RuntimeWarning: divide by zero encountered in log\n",
      "  loss = np.sum(-np.log(probs[np.arange(len(y)),y]))/len(y)\n"
     ]
    },
    {
     "name": "stdout",
     "output_type": "stream",
     "text": [
      "228 / 625 |  final loss: 3381.1141012972257  train_acc: 0.9\n",
      "\n",
      "\n"
     ]
    },
    {
     "name": "stderr",
     "output_type": "stream",
     "text": [
      "/home/yannis/Documents/uds/ift725/tp2RN/prog/ift725/layers.py:649: RuntimeWarning: divide by zero encountered in log\n",
      "  loss = np.sum(-np.log(probs[np.arange(len(y)),y]))/len(y)\n"
     ]
    },
    {
     "name": "stdout",
     "output_type": "stream",
     "text": [
      "229 / 625 |  final loss: 4325.924064206918  train_acc: 0.76\n",
      "\n",
      "\n"
     ]
    },
    {
     "name": "stderr",
     "output_type": "stream",
     "text": [
      "/home/yannis/Documents/uds/ift725/tp2RN/prog/ift725/layers.py:649: RuntimeWarning: divide by zero encountered in log\n",
      "  loss = np.sum(-np.log(probs[np.arange(len(y)),y]))/len(y)\n"
     ]
    },
    {
     "name": "stdout",
     "output_type": "stream",
     "text": [
      "230 / 625 |  final loss: 4455.350371712049  train_acc: 0.72\n",
      "\n",
      "\n"
     ]
    },
    {
     "name": "stderr",
     "output_type": "stream",
     "text": [
      "/home/yannis/Documents/uds/ift725/tp2RN/prog/ift725/layers.py:649: RuntimeWarning: divide by zero encountered in log\n",
      "  loss = np.sum(-np.log(probs[np.arange(len(y)),y]))/len(y)\n"
     ]
    },
    {
     "name": "stdout",
     "output_type": "stream",
     "text": [
      "231 / 625 |  final loss: 5888.984053279255  train_acc: 0.96\n",
      "\n",
      "\n"
     ]
    },
    {
     "name": "stderr",
     "output_type": "stream",
     "text": [
      "/home/yannis/Documents/uds/ift725/tp2RN/prog/ift725/layers.py:649: RuntimeWarning: divide by zero encountered in log\n",
      "  loss = np.sum(-np.log(probs[np.arange(len(y)),y]))/len(y)\n"
     ]
    },
    {
     "name": "stdout",
     "output_type": "stream",
     "text": [
      "232 / 625 |  final loss: 6336.089361132412  train_acc: 0.84\n",
      "\n",
      "\n"
     ]
    },
    {
     "name": "stderr",
     "output_type": "stream",
     "text": [
      "/home/yannis/Documents/uds/ift725/tp2RN/prog/ift725/layers.py:649: RuntimeWarning: divide by zero encountered in log\n",
      "  loss = np.sum(-np.log(probs[np.arange(len(y)),y]))/len(y)\n"
     ]
    },
    {
     "name": "stdout",
     "output_type": "stream",
     "text": [
      "233 / 625 |  final loss: 7080.316934428052  train_acc: 0.88\n",
      "\n",
      "\n"
     ]
    },
    {
     "name": "stderr",
     "output_type": "stream",
     "text": [
      "/home/yannis/Documents/uds/ift725/tp2RN/prog/ift725/layers.py:649: RuntimeWarning: divide by zero encountered in log\n",
      "  loss = np.sum(-np.log(probs[np.arange(len(y)),y]))/len(y)\n"
     ]
    },
    {
     "name": "stdout",
     "output_type": "stream",
     "text": [
      "234 / 625 |  final loss: 7909.375390359781  train_acc: 0.8\n",
      "\n",
      "\n"
     ]
    },
    {
     "name": "stderr",
     "output_type": "stream",
     "text": [
      "/home/yannis/Documents/uds/ift725/tp2RN/prog/ift725/layers.py:649: RuntimeWarning: divide by zero encountered in log\n",
      "  loss = np.sum(-np.log(probs[np.arange(len(y)),y]))/len(y)\n"
     ]
    },
    {
     "name": "stdout",
     "output_type": "stream",
     "text": [
      "235 / 625 |  final loss: 8733.783776752369  train_acc: 0.96\n",
      "\n",
      "\n"
     ]
    },
    {
     "name": "stderr",
     "output_type": "stream",
     "text": [
      "/home/yannis/Documents/uds/ift725/tp2RN/prog/ift725/layers.py:649: RuntimeWarning: divide by zero encountered in log\n",
      "  loss = np.sum(-np.log(probs[np.arange(len(y)),y]))/len(y)\n"
     ]
    },
    {
     "name": "stdout",
     "output_type": "stream",
     "text": [
      "236 / 625 |  final loss: 9363.421984248824  train_acc: 0.9\n",
      "\n",
      "\n"
     ]
    },
    {
     "name": "stderr",
     "output_type": "stream",
     "text": [
      "/home/yannis/Documents/uds/ift725/tp2RN/prog/ift725/layers.py:649: RuntimeWarning: divide by zero encountered in log\n",
      "  loss = np.sum(-np.log(probs[np.arange(len(y)),y]))/len(y)\n"
     ]
    },
    {
     "name": "stdout",
     "output_type": "stream",
     "text": [
      "237 / 625 |  final loss: 9775.839856687  train_acc: 0.6\n",
      "\n",
      "\n"
     ]
    },
    {
     "name": "stderr",
     "output_type": "stream",
     "text": [
      "/home/yannis/Documents/uds/ift725/tp2RN/prog/ift725/layers.py:649: RuntimeWarning: divide by zero encountered in log\n",
      "  loss = np.sum(-np.log(probs[np.arange(len(y)),y]))/len(y)\n"
     ]
    },
    {
     "name": "stdout",
     "output_type": "stream",
     "text": [
      "238 / 625 |  final loss: 10572.367732056058  train_acc: 0.88\n",
      "\n",
      "\n"
     ]
    },
    {
     "name": "stderr",
     "output_type": "stream",
     "text": [
      "/home/yannis/Documents/uds/ift725/tp2RN/prog/ift725/layers.py:649: RuntimeWarning: divide by zero encountered in log\n",
      "  loss = np.sum(-np.log(probs[np.arange(len(y)),y]))/len(y)\n"
     ]
    },
    {
     "name": "stdout",
     "output_type": "stream",
     "text": [
      "239 / 625 |  final loss: 11314.217849840838  train_acc: 0.66\n",
      "\n",
      "\n"
     ]
    },
    {
     "name": "stderr",
     "output_type": "stream",
     "text": [
      "/home/yannis/Documents/uds/ift725/tp2RN/prog/ift725/layers.py:649: RuntimeWarning: divide by zero encountered in log\n",
      "  loss = np.sum(-np.log(probs[np.arange(len(y)),y]))/len(y)\n"
     ]
    },
    {
     "name": "stdout",
     "output_type": "stream",
     "text": [
      "240 / 625 |  final loss: 11828.905805673097  train_acc: 1.0\n",
      "\n",
      "\n"
     ]
    },
    {
     "name": "stderr",
     "output_type": "stream",
     "text": [
      "/home/yannis/Documents/uds/ift725/tp2RN/prog/ift725/layers.py:649: RuntimeWarning: divide by zero encountered in log\n",
      "  loss = np.sum(-np.log(probs[np.arange(len(y)),y]))/len(y)\n"
     ]
    },
    {
     "name": "stdout",
     "output_type": "stream",
     "text": [
      "241 / 625 |  final loss: 12156.322694262988  train_acc: 0.8\n",
      "\n",
      "\n"
     ]
    },
    {
     "name": "stderr",
     "output_type": "stream",
     "text": [
      "/home/yannis/Documents/uds/ift725/tp2RN/prog/ift725/layers.py:649: RuntimeWarning: divide by zero encountered in log\n",
      "  loss = np.sum(-np.log(probs[np.arange(len(y)),y]))/len(y)\n"
     ]
    },
    {
     "name": "stdout",
     "output_type": "stream",
     "text": [
      "242 / 625 |  final loss: 12508.973123733262  train_acc: 0.8\n",
      "\n",
      "\n"
     ]
    },
    {
     "name": "stderr",
     "output_type": "stream",
     "text": [
      "/home/yannis/Documents/uds/ift725/tp2RN/prog/ift725/layers.py:649: RuntimeWarning: divide by zero encountered in log\n",
      "  loss = np.sum(-np.log(probs[np.arange(len(y)),y]))/len(y)\n"
     ]
    },
    {
     "name": "stdout",
     "output_type": "stream",
     "text": [
      "243 / 625 |  final loss: 13293.710714314539  train_acc: 0.94\n",
      "\n",
      "\n"
     ]
    },
    {
     "name": "stderr",
     "output_type": "stream",
     "text": [
      "/home/yannis/Documents/uds/ift725/tp2RN/prog/ift725/layers.py:649: RuntimeWarning: divide by zero encountered in log\n",
      "  loss = np.sum(-np.log(probs[np.arange(len(y)),y]))/len(y)\n"
     ]
    },
    {
     "name": "stdout",
     "output_type": "stream",
     "text": [
      "244 / 625 |  final loss: 13786.227009960043  train_acc: 0.72\n",
      "\n",
      "\n"
     ]
    },
    {
     "name": "stderr",
     "output_type": "stream",
     "text": [
      "/home/yannis/Documents/uds/ift725/tp2RN/prog/ift725/layers.py:649: RuntimeWarning: divide by zero encountered in log\n",
      "  loss = np.sum(-np.log(probs[np.arange(len(y)),y]))/len(y)\n"
     ]
    },
    {
     "name": "stdout",
     "output_type": "stream",
     "text": [
      "245 / 625 |  final loss: 13714.61245875811  train_acc: 0.82\n",
      "\n",
      "\n"
     ]
    },
    {
     "name": "stderr",
     "output_type": "stream",
     "text": [
      "/home/yannis/Documents/uds/ift725/tp2RN/prog/ift725/layers.py:649: RuntimeWarning: divide by zero encountered in log\n",
      "  loss = np.sum(-np.log(probs[np.arange(len(y)),y]))/len(y)\n"
     ]
    },
    {
     "name": "stdout",
     "output_type": "stream",
     "text": [
      "246 / 625 |  final loss: 14175.889815592613  train_acc: 0.46\n",
      "\n",
      "\n"
     ]
    },
    {
     "name": "stderr",
     "output_type": "stream",
     "text": [
      "/home/yannis/Documents/uds/ift725/tp2RN/prog/ift725/layers.py:649: RuntimeWarning: divide by zero encountered in log\n",
      "  loss = np.sum(-np.log(probs[np.arange(len(y)),y]))/len(y)\n"
     ]
    },
    {
     "name": "stdout",
     "output_type": "stream",
     "text": [
      "247 / 625 |  final loss: 14632.648057190532  train_acc: 0.6\n",
      "\n",
      "\n"
     ]
    },
    {
     "name": "stderr",
     "output_type": "stream",
     "text": [
      "/home/yannis/Documents/uds/ift725/tp2RN/prog/ift725/layers.py:649: RuntimeWarning: divide by zero encountered in log\n",
      "  loss = np.sum(-np.log(probs[np.arange(len(y)),y]))/len(y)\n"
     ]
    },
    {
     "name": "stdout",
     "output_type": "stream",
     "text": [
      "248 / 625 |  final loss: 14843.120278250812  train_acc: 0.58\n",
      "\n",
      "\n"
     ]
    },
    {
     "name": "stderr",
     "output_type": "stream",
     "text": [
      "/home/yannis/Documents/uds/ift725/tp2RN/prog/ift725/layers.py:649: RuntimeWarning: divide by zero encountered in log\n",
      "  loss = np.sum(-np.log(probs[np.arange(len(y)),y]))/len(y)\n"
     ]
    },
    {
     "name": "stdout",
     "output_type": "stream",
     "text": [
      "249 / 625 |  final loss: 14963.041601037523  train_acc: 0.82\n",
      "\n",
      "\n"
     ]
    },
    {
     "name": "stderr",
     "output_type": "stream",
     "text": [
      "/home/yannis/Documents/uds/ift725/tp2RN/prog/ift725/layers.py:649: RuntimeWarning: divide by zero encountered in log\n",
      "  loss = np.sum(-np.log(probs[np.arange(len(y)),y]))/len(y)\n"
     ]
    },
    {
     "name": "stdout",
     "output_type": "stream",
     "text": [
      "250 / 625 |  final loss: 15235.114072751607  train_acc: 0.48\n",
      "\n",
      "\n"
     ]
    },
    {
     "name": "stderr",
     "output_type": "stream",
     "text": [
      "/home/yannis/Documents/uds/ift725/tp2RN/prog/ift725/layers.py:649: RuntimeWarning: divide by zero encountered in log\n",
      "  loss = np.sum(-np.log(probs[np.arange(len(y)),y]))/len(y)\n"
     ]
    },
    {
     "name": "stdout",
     "output_type": "stream",
     "text": [
      "251 / 625 |  final loss: 1226.1452091086796  train_acc: 0.72\n",
      "\n",
      "\n"
     ]
    },
    {
     "name": "stderr",
     "output_type": "stream",
     "text": [
      "/home/yannis/Documents/uds/ift725/tp2RN/prog/ift725/layers.py:649: RuntimeWarning: divide by zero encountered in log\n",
      "  loss = np.sum(-np.log(probs[np.arange(len(y)),y]))/len(y)\n"
     ]
    },
    {
     "name": "stdout",
     "output_type": "stream",
     "text": [
      "252 / 625 |  final loss: 1928.4694401033212  train_acc: 0.86\n",
      "\n",
      "\n"
     ]
    },
    {
     "name": "stderr",
     "output_type": "stream",
     "text": [
      "/home/yannis/Documents/uds/ift725/tp2RN/prog/ift725/layers.py:649: RuntimeWarning: divide by zero encountered in log\n",
      "  loss = np.sum(-np.log(probs[np.arange(len(y)),y]))/len(y)\n"
     ]
    },
    {
     "name": "stdout",
     "output_type": "stream",
     "text": [
      "253 / 625 |  final loss: 2311.3296335740506  train_acc: 0.82\n",
      "\n",
      "\n"
     ]
    },
    {
     "name": "stderr",
     "output_type": "stream",
     "text": [
      "/home/yannis/Documents/uds/ift725/tp2RN/prog/ift725/layers.py:649: RuntimeWarning: divide by zero encountered in log\n",
      "  loss = np.sum(-np.log(probs[np.arange(len(y)),y]))/len(y)\n"
     ]
    },
    {
     "name": "stdout",
     "output_type": "stream",
     "text": [
      "254 / 625 |  final loss: 2845.461567189013  train_acc: 0.92\n",
      "\n",
      "\n"
     ]
    },
    {
     "name": "stderr",
     "output_type": "stream",
     "text": [
      "/home/yannis/Documents/uds/ift725/tp2RN/prog/ift725/layers.py:649: RuntimeWarning: divide by zero encountered in log\n",
      "  loss = np.sum(-np.log(probs[np.arange(len(y)),y]))/len(y)\n"
     ]
    },
    {
     "name": "stdout",
     "output_type": "stream",
     "text": [
      "255 / 625 |  final loss: 3470.5199841005315  train_acc: 0.82\n",
      "\n",
      "\n"
     ]
    },
    {
     "name": "stderr",
     "output_type": "stream",
     "text": [
      "/home/yannis/Documents/uds/ift725/tp2RN/prog/ift725/layers.py:649: RuntimeWarning: divide by zero encountered in log\n",
      "  loss = np.sum(-np.log(probs[np.arange(len(y)),y]))/len(y)\n"
     ]
    },
    {
     "name": "stdout",
     "output_type": "stream",
     "text": [
      "256 / 625 |  final loss: 3976.688344338712  train_acc: 0.9\n",
      "\n",
      "\n"
     ]
    },
    {
     "name": "stderr",
     "output_type": "stream",
     "text": [
      "/home/yannis/Documents/uds/ift725/tp2RN/prog/ift725/layers.py:649: RuntimeWarning: divide by zero encountered in log\n",
      "  loss = np.sum(-np.log(probs[np.arange(len(y)),y]))/len(y)\n"
     ]
    },
    {
     "name": "stdout",
     "output_type": "stream",
     "text": [
      "257 / 625 |  final loss: 4590.404812830892  train_acc: 0.96\n",
      "\n",
      "\n"
     ]
    },
    {
     "name": "stderr",
     "output_type": "stream",
     "text": [
      "/home/yannis/Documents/uds/ift725/tp2RN/prog/ift725/layers.py:649: RuntimeWarning: divide by zero encountered in log\n",
      "  loss = np.sum(-np.log(probs[np.arange(len(y)),y]))/len(y)\n"
     ]
    },
    {
     "name": "stdout",
     "output_type": "stream",
     "text": [
      "258 / 625 |  final loss: 5428.665639051789  train_acc: 0.86\n",
      "\n",
      "\n"
     ]
    },
    {
     "name": "stderr",
     "output_type": "stream",
     "text": [
      "/home/yannis/Documents/uds/ift725/tp2RN/prog/ift725/layers.py:649: RuntimeWarning: divide by zero encountered in log\n",
      "  loss = np.sum(-np.log(probs[np.arange(len(y)),y]))/len(y)\n"
     ]
    },
    {
     "name": "stdout",
     "output_type": "stream",
     "text": [
      "259 / 625 |  final loss: 6100.917258782154  train_acc: 0.76\n",
      "\n",
      "\n"
     ]
    },
    {
     "name": "stderr",
     "output_type": "stream",
     "text": [
      "/home/yannis/Documents/uds/ift725/tp2RN/prog/ift725/layers.py:649: RuntimeWarning: divide by zero encountered in log\n",
      "  loss = np.sum(-np.log(probs[np.arange(len(y)),y]))/len(y)\n"
     ]
    },
    {
     "name": "stdout",
     "output_type": "stream",
     "text": [
      "260 / 625 |  final loss: 6604.941587269321  train_acc: 0.8\n",
      "\n",
      "\n"
     ]
    },
    {
     "name": "stderr",
     "output_type": "stream",
     "text": [
      "/home/yannis/Documents/uds/ift725/tp2RN/prog/ift725/layers.py:649: RuntimeWarning: divide by zero encountered in log\n",
      "  loss = np.sum(-np.log(probs[np.arange(len(y)),y]))/len(y)\n"
     ]
    },
    {
     "name": "stdout",
     "output_type": "stream",
     "text": [
      "261 / 625 |  final loss: 7294.291420092817  train_acc: 0.98\n",
      "\n",
      "\n"
     ]
    },
    {
     "name": "stderr",
     "output_type": "stream",
     "text": [
      "/home/yannis/Documents/uds/ift725/tp2RN/prog/ift725/layers.py:649: RuntimeWarning: divide by zero encountered in log\n",
      "  loss = np.sum(-np.log(probs[np.arange(len(y)),y]))/len(y)\n"
     ]
    },
    {
     "name": "stdout",
     "output_type": "stream",
     "text": [
      "262 / 625 |  final loss: 7940.578822088066  train_acc: 1.0\n",
      "\n",
      "\n"
     ]
    },
    {
     "name": "stderr",
     "output_type": "stream",
     "text": [
      "/home/yannis/Documents/uds/ift725/tp2RN/prog/ift725/layers.py:649: RuntimeWarning: divide by zero encountered in log\n",
      "  loss = np.sum(-np.log(probs[np.arange(len(y)),y]))/len(y)\n"
     ]
    },
    {
     "name": "stdout",
     "output_type": "stream",
     "text": [
      "263 / 625 |  final loss: 8476.204573603995  train_acc: 0.72\n",
      "\n",
      "\n"
     ]
    },
    {
     "name": "stderr",
     "output_type": "stream",
     "text": [
      "/home/yannis/Documents/uds/ift725/tp2RN/prog/ift725/layers.py:649: RuntimeWarning: divide by zero encountered in log\n",
      "  loss = np.sum(-np.log(probs[np.arange(len(y)),y]))/len(y)\n"
     ]
    },
    {
     "name": "stdout",
     "output_type": "stream",
     "text": [
      "264 / 625 |  final loss: 9108.12877353113  train_acc: 0.68\n",
      "\n",
      "\n"
     ]
    },
    {
     "name": "stderr",
     "output_type": "stream",
     "text": [
      "/home/yannis/Documents/uds/ift725/tp2RN/prog/ift725/layers.py:649: RuntimeWarning: divide by zero encountered in log\n",
      "  loss = np.sum(-np.log(probs[np.arange(len(y)),y]))/len(y)\n"
     ]
    },
    {
     "name": "stdout",
     "output_type": "stream",
     "text": [
      "265 / 625 |  final loss: 9570.499247667827  train_acc: 0.94\n",
      "\n",
      "\n"
     ]
    },
    {
     "name": "stderr",
     "output_type": "stream",
     "text": [
      "/home/yannis/Documents/uds/ift725/tp2RN/prog/ift725/layers.py:649: RuntimeWarning: divide by zero encountered in log\n",
      "  loss = np.sum(-np.log(probs[np.arange(len(y)),y]))/len(y)\n"
     ]
    },
    {
     "name": "stdout",
     "output_type": "stream",
     "text": [
      "266 / 625 |  final loss: 10223.333356526542  train_acc: 0.7\n",
      "\n",
      "\n"
     ]
    },
    {
     "name": "stderr",
     "output_type": "stream",
     "text": [
      "/home/yannis/Documents/uds/ift725/tp2RN/prog/ift725/layers.py:649: RuntimeWarning: divide by zero encountered in log\n",
      "  loss = np.sum(-np.log(probs[np.arange(len(y)),y]))/len(y)\n"
     ]
    },
    {
     "name": "stdout",
     "output_type": "stream",
     "text": [
      "267 / 625 |  final loss: 10468.855013660535  train_acc: 0.52\n",
      "\n",
      "\n"
     ]
    },
    {
     "name": "stderr",
     "output_type": "stream",
     "text": [
      "/home/yannis/Documents/uds/ift725/tp2RN/prog/ift725/layers.py:649: RuntimeWarning: divide by zero encountered in log\n",
      "  loss = np.sum(-np.log(probs[np.arange(len(y)),y]))/len(y)\n"
     ]
    },
    {
     "name": "stdout",
     "output_type": "stream",
     "text": [
      "268 / 625 |  final loss: 10884.840273937594  train_acc: 0.84\n",
      "\n",
      "\n"
     ]
    },
    {
     "name": "stderr",
     "output_type": "stream",
     "text": [
      "/home/yannis/Documents/uds/ift725/tp2RN/prog/ift725/layers.py:649: RuntimeWarning: divide by zero encountered in log\n",
      "  loss = np.sum(-np.log(probs[np.arange(len(y)),y]))/len(y)\n"
     ]
    },
    {
     "name": "stdout",
     "output_type": "stream",
     "text": [
      "269 / 625 |  final loss: 11409.846431438986  train_acc: 0.7\n",
      "\n",
      "\n"
     ]
    },
    {
     "name": "stderr",
     "output_type": "stream",
     "text": [
      "/home/yannis/Documents/uds/ift725/tp2RN/prog/ift725/layers.py:649: RuntimeWarning: divide by zero encountered in log\n",
      "  loss = np.sum(-np.log(probs[np.arange(len(y)),y]))/len(y)\n"
     ]
    },
    {
     "name": "stdout",
     "output_type": "stream",
     "text": [
      "270 / 625 |  final loss: 11586.195675775869  train_acc: 0.8\n",
      "\n",
      "\n"
     ]
    },
    {
     "name": "stderr",
     "output_type": "stream",
     "text": [
      "/home/yannis/Documents/uds/ift725/tp2RN/prog/ift725/layers.py:649: RuntimeWarning: divide by zero encountered in log\n",
      "  loss = np.sum(-np.log(probs[np.arange(len(y)),y]))/len(y)\n"
     ]
    },
    {
     "name": "stdout",
     "output_type": "stream",
     "text": [
      "271 / 625 |  final loss: 11871.758195649256  train_acc: 0.94\n",
      "\n",
      "\n"
     ]
    },
    {
     "name": "stderr",
     "output_type": "stream",
     "text": [
      "/home/yannis/Documents/uds/ift725/tp2RN/prog/ift725/layers.py:649: RuntimeWarning: divide by zero encountered in log\n",
      "  loss = np.sum(-np.log(probs[np.arange(len(y)),y]))/len(y)\n"
     ]
    },
    {
     "name": "stdout",
     "output_type": "stream",
     "text": [
      "272 / 625 |  final loss: 12329.913307329432  train_acc: 0.8\n",
      "\n",
      "\n"
     ]
    },
    {
     "name": "stderr",
     "output_type": "stream",
     "text": [
      "/home/yannis/Documents/uds/ift725/tp2RN/prog/ift725/layers.py:649: RuntimeWarning: divide by zero encountered in log\n",
      "  loss = np.sum(-np.log(probs[np.arange(len(y)),y]))/len(y)\n"
     ]
    },
    {
     "name": "stdout",
     "output_type": "stream",
     "text": [
      "273 / 625 |  final loss: 12463.367599846682  train_acc: 0.66\n",
      "\n",
      "\n"
     ]
    },
    {
     "name": "stderr",
     "output_type": "stream",
     "text": [
      "/home/yannis/Documents/uds/ift725/tp2RN/prog/ift725/layers.py:649: RuntimeWarning: divide by zero encountered in log\n",
      "  loss = np.sum(-np.log(probs[np.arange(len(y)),y]))/len(y)\n"
     ]
    },
    {
     "name": "stdout",
     "output_type": "stream",
     "text": [
      "274 / 625 |  final loss: 12660.130159652708  train_acc: 0.72\n",
      "\n",
      "\n",
      "275 / 625 |  final loss: 12818.496965457773  train_acc: 0.58\n",
      "\n",
      "\n"
     ]
    },
    {
     "name": "stderr",
     "output_type": "stream",
     "text": [
      "/home/yannis/Documents/uds/ift725/tp2RN/prog/ift725/layers.py:649: RuntimeWarning: divide by zero encountered in log\n",
      "  loss = np.sum(-np.log(probs[np.arange(len(y)),y]))/len(y)\n"
     ]
    },
    {
     "name": "stdout",
     "output_type": "stream",
     "text": [
      "276 / 625 |  final loss: 982.0626519313744  train_acc: 0.78\n",
      "\n",
      "\n"
     ]
    },
    {
     "name": "stderr",
     "output_type": "stream",
     "text": [
      "/home/yannis/Documents/uds/ift725/tp2RN/prog/ift725/layers.py:649: RuntimeWarning: divide by zero encountered in log\n",
      "  loss = np.sum(-np.log(probs[np.arange(len(y)),y]))/len(y)\n"
     ]
    },
    {
     "name": "stdout",
     "output_type": "stream",
     "text": [
      "277 / 625 |  final loss: 1300.5599590052245  train_acc: 0.84\n",
      "\n",
      "\n"
     ]
    },
    {
     "name": "stderr",
     "output_type": "stream",
     "text": [
      "/home/yannis/Documents/uds/ift725/tp2RN/prog/ift725/layers.py:649: RuntimeWarning: divide by zero encountered in log\n",
      "  loss = np.sum(-np.log(probs[np.arange(len(y)),y]))/len(y)\n"
     ]
    },
    {
     "name": "stdout",
     "output_type": "stream",
     "text": [
      "278 / 625 |  final loss: 1509.6901374726137  train_acc: 0.88\n",
      "\n",
      "\n"
     ]
    },
    {
     "name": "stderr",
     "output_type": "stream",
     "text": [
      "/home/yannis/Documents/uds/ift725/tp2RN/prog/ift725/layers.py:649: RuntimeWarning: divide by zero encountered in log\n",
      "  loss = np.sum(-np.log(probs[np.arange(len(y)),y]))/len(y)\n"
     ]
    },
    {
     "name": "stdout",
     "output_type": "stream",
     "text": [
      "279 / 625 |  final loss: 2121.791355666576  train_acc: 0.86\n",
      "\n",
      "\n",
      "280 / 625 |  final loss: 2276.3775440927457  train_acc: 0.92\n",
      "\n",
      "\n"
     ]
    },
    {
     "name": "stderr",
     "output_type": "stream",
     "text": [
      "/home/yannis/Documents/uds/ift725/tp2RN/prog/ift725/layers.py:649: RuntimeWarning: divide by zero encountered in log\n",
      "  loss = np.sum(-np.log(probs[np.arange(len(y)),y]))/len(y)\n"
     ]
    },
    {
     "name": "stdout",
     "output_type": "stream",
     "text": [
      "281 / 625 |  final loss: 2959.4934106718865  train_acc: 0.88\n",
      "\n",
      "\n",
      "282 / 625 |  final loss: 3307.623540951598  train_acc: 0.9\n",
      "\n",
      "\n"
     ]
    },
    {
     "name": "stderr",
     "output_type": "stream",
     "text": [
      "/home/yannis/Documents/uds/ift725/tp2RN/prog/ift725/layers.py:649: RuntimeWarning: divide by zero encountered in log\n",
      "  loss = np.sum(-np.log(probs[np.arange(len(y)),y]))/len(y)\n"
     ]
    },
    {
     "name": "stdout",
     "output_type": "stream",
     "text": [
      "283 / 625 |  final loss: 4047.229418196062  train_acc: 0.9\n",
      "\n",
      "\n",
      "284 / 625 |  final loss: 4440.9633556083945  train_acc: 0.88\n",
      "\n",
      "\n",
      "285 / 625 |  final loss: 5267.5549514893655  train_acc: 0.94\n",
      "\n",
      "\n",
      "286 / 625 |  final loss: 5740.182223663753  train_acc: 0.96\n",
      "\n",
      "\n",
      "287 / 625 |  final loss: 6437.363120019961  train_acc: 0.9\n",
      "\n",
      "\n",
      "288 / 625 |  final loss: 6705.314116075381  train_acc: 0.9\n",
      "\n",
      "\n",
      "289 / 625 |  final loss: 7280.156307465719  train_acc: 0.72\n",
      "\n",
      "\n",
      "290 / 625 |  final loss: 7735.362911561425  train_acc: 1.0\n",
      "\n",
      "\n",
      "291 / 625 |  final loss: 8117.373076097761  train_acc: 0.96\n",
      "\n",
      "\n",
      "292 / 625 |  final loss: 8731.278525139844  train_acc: 0.72\n",
      "\n",
      "\n",
      "293 / 625 |  final loss: 8952.019986093397  train_acc: 0.8\n",
      "\n",
      "\n"
     ]
    },
    {
     "name": "stderr",
     "output_type": "stream",
     "text": [
      "/home/yannis/Documents/uds/ift725/tp2RN/prog/ift725/layers.py:649: RuntimeWarning: divide by zero encountered in log\n",
      "  loss = np.sum(-np.log(probs[np.arange(len(y)),y]))/len(y)\n"
     ]
    },
    {
     "name": "stdout",
     "output_type": "stream",
     "text": [
      "294 / 625 |  final loss: 9427.045176624213  train_acc: 0.72\n",
      "\n",
      "\n"
     ]
    },
    {
     "name": "stderr",
     "output_type": "stream",
     "text": [
      "/home/yannis/Documents/uds/ift725/tp2RN/prog/ift725/layers.py:649: RuntimeWarning: divide by zero encountered in log\n",
      "  loss = np.sum(-np.log(probs[np.arange(len(y)),y]))/len(y)\n"
     ]
    },
    {
     "name": "stdout",
     "output_type": "stream",
     "text": [
      "295 / 625 |  final loss: 9639.534536672234  train_acc: 0.84\n",
      "\n",
      "\n"
     ]
    },
    {
     "name": "stderr",
     "output_type": "stream",
     "text": [
      "/home/yannis/Documents/uds/ift725/tp2RN/prog/ift725/layers.py:649: RuntimeWarning: divide by zero encountered in log\n",
      "  loss = np.sum(-np.log(probs[np.arange(len(y)),y]))/len(y)\n"
     ]
    },
    {
     "name": "stdout",
     "output_type": "stream",
     "text": [
      "296 / 625 |  final loss: 9939.930861192606  train_acc: 0.84\n",
      "\n",
      "\n",
      "297 / 625 |  final loss: 10194.556857536178  train_acc: 0.58\n",
      "\n",
      "\n",
      "298 / 625 |  final loss: 10375.149923490882  train_acc: 0.74\n",
      "\n",
      "\n"
     ]
    },
    {
     "name": "stderr",
     "output_type": "stream",
     "text": [
      "/home/yannis/Documents/uds/ift725/tp2RN/prog/ift725/layers.py:649: RuntimeWarning: divide by zero encountered in log\n",
      "  loss = np.sum(-np.log(probs[np.arange(len(y)),y]))/len(y)\n"
     ]
    },
    {
     "name": "stdout",
     "output_type": "stream",
     "text": [
      "299 / 625 |  final loss: 10637.274851670809  train_acc: 0.66\n",
      "\n",
      "\n",
      "300 / 625 |  final loss: 10877.303186748479  train_acc: 0.4\n",
      "\n",
      "\n",
      "301 / 625 |  final loss: 661.0458639622993  train_acc: 0.68\n",
      "\n",
      "\n",
      "302 / 625 |  final loss: 834.3722293872925  train_acc: 0.78\n",
      "\n",
      "\n"
     ]
    },
    {
     "name": "stderr",
     "output_type": "stream",
     "text": [
      "/home/yannis/Documents/uds/ift725/tp2RN/prog/ift725/layers.py:649: RuntimeWarning: divide by zero encountered in log\n",
      "  loss = np.sum(-np.log(probs[np.arange(len(y)),y]))/len(y)\n"
     ]
    },
    {
     "name": "stdout",
     "output_type": "stream",
     "text": [
      "303 / 625 |  final loss: 1059.1094177384966  train_acc: 0.58\n",
      "\n",
      "\n",
      "304 / 625 |  final loss: 1330.9163400103048  train_acc: 0.72\n",
      "\n",
      "\n",
      "305 / 625 |  final loss: 1589.4545940118376  train_acc: 0.82\n",
      "\n",
      "\n",
      "306 / 625 |  final loss: 2005.6644255660983  train_acc: 0.9\n",
      "\n",
      "\n",
      "307 / 625 |  final loss: 2567.6680605710567  train_acc: 0.9\n",
      "\n",
      "\n",
      "308 / 625 |  final loss: 3028.321585942838  train_acc: 0.94\n",
      "\n",
      "\n",
      "309 / 625 |  final loss: 3432.7671975441667  train_acc: 0.94\n",
      "\n",
      "\n",
      "310 / 625 |  final loss: 3998.153350721148  train_acc: 0.92\n",
      "\n",
      "\n",
      "311 / 625 |  final loss: 4487.170332803347  train_acc: 0.92\n",
      "\n",
      "\n",
      "312 / 625 |  final loss: 4947.550944268902  train_acc: 0.62\n",
      "\n",
      "\n",
      "313 / 625 |  final loss: 5319.421225366097  train_acc: 0.84\n",
      "\n",
      "\n",
      "314 / 625 |  final loss: 5953.142135622582  train_acc: 0.92\n",
      "\n",
      "\n",
      "315 / 625 |  final loss: 6397.7276723921095  train_acc: 0.94\n",
      "\n",
      "\n",
      "316 / 625 |  final loss: 6706.007134028891  train_acc: 0.8\n",
      "\n",
      "\n",
      "317 / 625 |  final loss: 7012.738209494721  train_acc: 0.88\n",
      "\n",
      "\n",
      "318 / 625 |  final loss: 7313.897398205082  train_acc: 0.64\n",
      "\n",
      "\n",
      "319 / 625 |  final loss: 7743.312217541129  train_acc: 0.96\n",
      "\n",
      "\n",
      "320 / 625 |  final loss: 7994.0480331308945  train_acc: 0.72\n",
      "\n",
      "\n",
      "321 / 625 |  final loss: 8215.555471081874  train_acc: 0.68\n",
      "\n",
      "\n",
      "322 / 625 |  final loss: 8501.855619528667  train_acc: 0.54\n",
      "\n",
      "\n",
      "323 / 625 |  final loss: 8757.744623882632  train_acc: 0.54\n",
      "\n",
      "\n",
      "324 / 625 |  final loss: 8933.626455812015  train_acc: 0.74\n",
      "\n",
      "\n",
      "325 / 625 |  final loss: 9146.178015083324  train_acc: 0.78\n",
      "\n",
      "\n",
      "326 / 625 |  final loss: 509.75752696562313  train_acc: 0.6\n",
      "\n",
      "\n",
      "327 / 625 |  final loss: 587.3216511353082  train_acc: 0.52\n",
      "\n",
      "\n",
      "328 / 625 |  final loss: 704.6892291629397  train_acc: 0.8\n",
      "\n",
      "\n",
      "329 / 625 |  final loss: 867.6521330231824  train_acc: 0.72\n",
      "\n",
      "\n",
      "330 / 625 |  final loss: 1140.3809286359578  train_acc: 0.62\n",
      "\n",
      "\n",
      "331 / 625 |  final loss: 1404.9506044795107  train_acc: 0.7\n",
      "\n",
      "\n",
      "332 / 625 |  final loss: 1679.471670300621  train_acc: 0.88\n",
      "\n",
      "\n",
      "333 / 625 |  final loss: 2169.8953580283815  train_acc: 0.86\n",
      "\n",
      "\n",
      "334 / 625 |  final loss: 2482.8945143671726  train_acc: 0.84\n",
      "\n",
      "\n",
      "335 / 625 |  final loss: 2999.7314667597843  train_acc: 0.88\n",
      "\n",
      "\n",
      "336 / 625 |  final loss: 3457.411960239577  train_acc: 0.94\n",
      "\n",
      "\n",
      "337 / 625 |  final loss: 3929.964209876194  train_acc: 0.94\n",
      "\n",
      "\n",
      "338 / 625 |  final loss: 4160.110905773397  train_acc: 0.86\n",
      "\n",
      "\n",
      "339 / 625 |  final loss: 4696.4807149536955  train_acc: 0.64\n",
      "\n",
      "\n",
      "340 / 625 |  final loss: 5005.4986724229075  train_acc: 0.62\n",
      "\n",
      "\n",
      "341 / 625 |  final loss: 5413.251410102544  train_acc: 0.96\n",
      "\n",
      "\n",
      "342 / 625 |  final loss: 5738.659376865872  train_acc: 0.76\n",
      "\n",
      "\n",
      "343 / 625 |  final loss: 6131.633821617936  train_acc: 0.8\n",
      "\n",
      "\n",
      "344 / 625 |  final loss: 6376.307343242189  train_acc: 0.74\n",
      "\n",
      "\n",
      "345 / 625 |  final loss: 6627.381919764449  train_acc: 0.64\n",
      "\n",
      "\n",
      "346 / 625 |  final loss: 6854.908359023426  train_acc: 0.76\n",
      "\n",
      "\n",
      "347 / 625 |  final loss: 7175.584996469828  train_acc: 0.46\n",
      "\n",
      "\n",
      "348 / 625 |  final loss: 7324.956497684314  train_acc: 0.7\n",
      "\n",
      "\n",
      "349 / 625 |  final loss: 7519.683719860954  train_acc: 0.66\n",
      "\n",
      "\n",
      "350 / 625 |  final loss: 7685.352218178084  train_acc: 0.66\n",
      "\n",
      "\n",
      "351 / 625 |  final loss: 396.5215215700813  train_acc: 0.48\n",
      "\n",
      "\n",
      "352 / 625 |  final loss: 412.91745454012164  train_acc: 0.54\n",
      "\n",
      "\n",
      "353 / 625 |  final loss: 537.6925480670088  train_acc: 0.56\n",
      "\n",
      "\n",
      "354 / 625 |  final loss: 637.703712454557  train_acc: 0.72\n",
      "\n",
      "\n",
      "355 / 625 |  final loss: 878.9121053768558  train_acc: 0.76\n",
      "\n",
      "\n",
      "356 / 625 |  final loss: 1001.1441044837375  train_acc: 0.76\n",
      "\n",
      "\n",
      "357 / 625 |  final loss: 1320.4462316594493  train_acc: 0.88\n",
      "\n",
      "\n",
      "358 / 625 |  final loss: 1528.6295420546116  train_acc: 0.86\n",
      "\n",
      "\n",
      "359 / 625 |  final loss: 1877.1331167477208  train_acc: 0.82\n",
      "\n",
      "\n",
      "360 / 625 |  final loss: 2171.5238159890255  train_acc: 0.86\n",
      "\n",
      "\n",
      "361 / 625 |  final loss: 2607.7216101028653  train_acc: 0.8\n",
      "\n",
      "\n",
      "362 / 625 |  final loss: 2956.5113245086077  train_acc: 0.92\n",
      "\n",
      "\n",
      "363 / 625 |  final loss: 3328.6288574035693  train_acc: 0.76\n",
      "\n",
      "\n",
      "364 / 625 |  final loss: 3673.663247831628  train_acc: 0.88\n",
      "\n",
      "\n",
      "365 / 625 |  final loss: 4024.555199977142  train_acc: 0.86\n",
      "\n",
      "\n",
      "366 / 625 |  final loss: 4328.515581877382  train_acc: 0.76\n",
      "\n",
      "\n",
      "367 / 625 |  final loss: 4644.659787154576  train_acc: 0.98\n",
      "\n",
      "\n",
      "368 / 625 |  final loss: 4932.363094867954  train_acc: 0.8\n",
      "\n",
      "\n",
      "369 / 625 |  final loss: 5195.317759041625  train_acc: 0.86\n",
      "\n",
      "\n",
      "370 / 625 |  final loss: 5504.867918987741  train_acc: 0.96\n",
      "\n",
      "\n",
      "371 / 625 |  final loss: 5734.874672315059  train_acc: 0.78\n",
      "\n",
      "\n",
      "372 / 625 |  final loss: 5949.7829125076905  train_acc: 0.52\n",
      "\n",
      "\n",
      "373 / 625 |  final loss: 6052.820963575522  train_acc: 0.72\n",
      "\n",
      "\n",
      "374 / 625 |  final loss: 6214.868500282336  train_acc: 0.94\n",
      "\n",
      "\n",
      "375 / 625 |  final loss: 6418.42381130154  train_acc: 0.7\n",
      "\n",
      "\n",
      "376 / 625 |  final loss: 326.1924233516047  train_acc: 0.68\n",
      "\n",
      "\n",
      "377 / 625 |  final loss: 332.5972650200233  train_acc: 0.36\n",
      "\n",
      "\n",
      "378 / 625 |  final loss: 346.3507704921961  train_acc: 0.58\n",
      "\n",
      "\n",
      "379 / 625 |  final loss: 460.9261786559049  train_acc: 0.64\n",
      "\n",
      "\n",
      "380 / 625 |  final loss: 575.209715106009  train_acc: 0.78\n",
      "\n",
      "\n",
      "381 / 625 |  final loss: 714.3080291091123  train_acc: 0.84\n",
      "\n",
      "\n",
      "382 / 625 |  final loss: 923.4336479274531  train_acc: 0.82\n",
      "\n",
      "\n",
      "383 / 625 |  final loss: 1106.2581337491781  train_acc: 0.76\n",
      "\n",
      "\n",
      "384 / 625 |  final loss: 1383.6742975429033  train_acc: 0.88\n",
      "\n",
      "\n",
      "385 / 625 |  final loss: 1683.4313590157253  train_acc: 0.82\n",
      "\n",
      "\n",
      "386 / 625 |  final loss: 1978.110431768305  train_acc: 0.88\n",
      "\n",
      "\n",
      "387 / 625 |  final loss: 2276.990356177995  train_acc: 0.92\n",
      "\n",
      "\n",
      "388 / 625 |  final loss: 2628.185978704463  train_acc: 0.86\n",
      "\n",
      "\n",
      "389 / 625 |  final loss: 2889.5832020939  train_acc: 0.9\n",
      "\n",
      "\n",
      "390 / 625 |  final loss: 3214.131065747092  train_acc: 0.9\n",
      "\n",
      "\n",
      "391 / 625 |  final loss: 3433.2937020642958  train_acc: 0.92\n",
      "\n",
      "\n",
      "392 / 625 |  final loss: 3766.557440307597  train_acc: 0.88\n",
      "\n",
      "\n",
      "393 / 625 |  final loss: 4007.685162939173  train_acc: 0.8\n",
      "\n",
      "\n",
      "394 / 625 |  final loss: 4221.587663039761  train_acc: 0.76\n",
      "\n",
      "\n",
      "395 / 625 |  final loss: 4503.472088307246  train_acc: 0.98\n",
      "\n",
      "\n",
      "396 / 625 |  final loss: 4691.055085748967  train_acc: 0.76\n",
      "\n",
      "\n",
      "397 / 625 |  final loss: 4889.896185215668  train_acc: 0.7\n",
      "\n",
      "\n",
      "398 / 625 |  final loss: 5072.306188598017  train_acc: 0.8\n",
      "\n",
      "\n",
      "399 / 625 |  final loss: 5281.020405430019  train_acc: 0.48\n",
      "\n",
      "\n",
      "400 / 625 |  final loss: 5347.6911068759  train_acc: 0.62\n",
      "\n",
      "\n",
      "401 / 625 |  final loss: 280.68470102611525  train_acc: 0.36\n",
      "\n",
      "\n",
      "402 / 625 |  final loss: 253.0365531341779  train_acc: 0.38\n",
      "\n",
      "\n",
      "403 / 625 |  final loss: 278.42030546817085  train_acc: 0.58\n",
      "\n",
      "\n",
      "404 / 625 |  final loss: 317.51372665018704  train_acc: 0.68\n",
      "\n",
      "\n",
      "405 / 625 |  final loss: 403.85225057735147  train_acc: 0.68\n",
      "\n",
      "\n",
      "406 / 625 |  final loss: 498.14728819435226  train_acc: 0.84\n",
      "\n",
      "\n",
      "407 / 625 |  final loss: 649.1858009037342  train_acc: 0.78\n",
      "\n",
      "\n",
      "408 / 625 |  final loss: 816.3889582091525  train_acc: 0.78\n",
      "\n",
      "\n",
      "409 / 625 |  final loss: 1035.0325184668598  train_acc: 0.96\n",
      "\n",
      "\n",
      "410 / 625 |  final loss: 1232.4037951054954  train_acc: 0.8\n",
      "\n",
      "\n",
      "411 / 625 |  final loss: 1469.2631650596986  train_acc: 0.92\n",
      "\n",
      "\n",
      "412 / 625 |  final loss: 1753.9376930599824  train_acc: 0.84\n",
      "\n",
      "\n",
      "413 / 625 |  final loss: 2031.3614972576747  train_acc: 0.88\n",
      "\n",
      "\n",
      "414 / 625 |  final loss: 2253.442845803957  train_acc: 0.94\n",
      "\n",
      "\n",
      "415 / 625 |  final loss: 2550.953328043274  train_acc: 0.64\n",
      "\n",
      "\n",
      "416 / 625 |  final loss: 2774.7095196582054  train_acc: 0.78\n",
      "\n",
      "\n",
      "417 / 625 |  final loss: 3004.607306034785  train_acc: 0.72\n",
      "\n",
      "\n",
      "418 / 625 |  final loss: 3241.1231734815733  train_acc: 0.78\n",
      "\n",
      "\n",
      "419 / 625 |  final loss: 3476.6245439967424  train_acc: 0.84\n",
      "\n",
      "\n",
      "420 / 625 |  final loss: 3681.0399666861254  train_acc: 0.54\n",
      "\n",
      "\n",
      "421 / 625 |  final loss: 3884.5464733723256  train_acc: 0.84\n",
      "\n",
      "\n",
      "422 / 625 |  final loss: 4068.633238561322  train_acc: 0.96\n",
      "\n",
      "\n",
      "423 / 625 |  final loss: 4191.4345947383135  train_acc: 0.74\n",
      "\n",
      "\n",
      "424 / 625 |  final loss: 4373.981507402561  train_acc: 0.54\n",
      "\n",
      "\n",
      "425 / 625 |  final loss: 4493.446348444257  train_acc: 0.64\n",
      "\n",
      "\n",
      "426 / 625 |  final loss: 233.35490036472686  train_acc: 0.48\n",
      "\n",
      "\n",
      "427 / 625 |  final loss: 222.43480055700144  train_acc: 0.46\n",
      "\n",
      "\n",
      "428 / 625 |  final loss: 218.66738116979647  train_acc: 0.54\n",
      "\n",
      "\n",
      "429 / 625 |  final loss: 267.99336773359585  train_acc: 0.58\n",
      "\n",
      "\n",
      "430 / 625 |  final loss: 287.193304634324  train_acc: 0.64\n",
      "\n",
      "\n",
      "431 / 625 |  final loss: 360.88015389089463  train_acc: 0.76\n",
      "\n",
      "\n",
      "432 / 625 |  final loss: 456.4158720205242  train_acc: 0.86\n",
      "\n",
      "\n",
      "433 / 625 |  final loss: 585.0988309804018  train_acc: 0.8\n",
      "\n",
      "\n",
      "434 / 625 |  final loss: 744.5916881578268  train_acc: 0.92\n",
      "\n",
      "\n"
     ]
    },
    {
     "name": "stdout",
     "output_type": "stream",
     "text": [
      "435 / 625 |  final loss: 934.323167554893  train_acc: 0.6\n",
      "\n",
      "\n",
      "436 / 625 |  final loss: 1131.4391183962236  train_acc: 0.96\n",
      "\n",
      "\n",
      "437 / 625 |  final loss: 1325.4132584730214  train_acc: 0.84\n",
      "\n",
      "\n",
      "438 / 625 |  final loss: 1582.0749773450868  train_acc: 0.88\n",
      "\n",
      "\n",
      "439 / 625 |  final loss: 1767.4223411561998  train_acc: 0.88\n",
      "\n",
      "\n",
      "440 / 625 |  final loss: 2004.285388059758  train_acc: 0.92\n",
      "\n",
      "\n",
      "441 / 625 |  final loss: 2243.7732699776034  train_acc: 0.72\n",
      "\n",
      "\n",
      "442 / 625 |  final loss: 2437.9162763730988  train_acc: 0.58\n",
      "\n",
      "\n",
      "443 / 625 |  final loss: 2630.1017118800655  train_acc: 0.86\n",
      "\n",
      "\n",
      "444 / 625 |  final loss: 2851.1063946459913  train_acc: 0.6\n",
      "\n",
      "\n",
      "445 / 625 |  final loss: 3010.1140757174526  train_acc: 0.92\n",
      "\n",
      "\n",
      "446 / 625 |  final loss: 3202.1544516310646  train_acc: 0.74\n",
      "\n",
      "\n",
      "447 / 625 |  final loss: 3355.6584398810237  train_acc: 0.82\n",
      "\n",
      "\n",
      "448 / 625 |  final loss: 3496.054966200456  train_acc: 0.94\n",
      "\n",
      "\n",
      "449 / 625 |  final loss: 3641.5885958007425  train_acc: 0.44\n",
      "\n",
      "\n",
      "450 / 625 |  final loss: 3771.167167601494  train_acc: 0.52\n",
      "\n",
      "\n",
      "451 / 625 |  final loss: 194.77751958019505  train_acc: 0.48\n",
      "\n",
      "\n",
      "452 / 625 |  final loss: 182.27098190667925  train_acc: 0.4\n",
      "\n",
      "\n",
      "453 / 625 |  final loss: 182.23993427172985  train_acc: 0.4\n",
      "\n",
      "\n",
      "454 / 625 |  final loss: 182.30934341887908  train_acc: 0.5\n",
      "\n",
      "\n",
      "455 / 625 |  final loss: 211.74080864238573  train_acc: 0.56\n",
      "\n",
      "\n",
      "456 / 625 |  final loss: 253.60147678979075  train_acc: 0.74\n",
      "\n",
      "\n",
      "457 / 625 |  final loss: 324.48195402966167  train_acc: 0.8\n",
      "\n",
      "\n",
      "458 / 625 |  final loss: 417.45064947108  train_acc: 0.86\n",
      "\n",
      "\n",
      "459 / 625 |  final loss: 540.3867701921673  train_acc: 0.7\n",
      "\n",
      "\n",
      "460 / 625 |  final loss: 677.6678810450634  train_acc: 0.68\n",
      "\n",
      "\n",
      "461 / 625 |  final loss: 819.5192311952643  train_acc: 0.86\n",
      "\n",
      "\n",
      "462 / 625 |  final loss: 1009.9089167605057  train_acc: 0.62\n",
      "\n",
      "\n",
      "463 / 625 |  final loss: 1180.4802050561236  train_acc: 0.88\n",
      "\n",
      "\n",
      "464 / 625 |  final loss: 1396.206547460151  train_acc: 0.78\n",
      "\n",
      "\n",
      "465 / 625 |  final loss: 1571.4311943870837  train_acc: 0.82\n",
      "\n",
      "\n",
      "466 / 625 |  final loss: 1758.1290772135587  train_acc: 0.68\n",
      "\n",
      "\n",
      "467 / 625 |  final loss: 1943.3470127470098  train_acc: 0.84\n",
      "\n",
      "\n",
      "468 / 625 |  final loss: 2117.528067093984  train_acc: 0.98\n",
      "\n",
      "\n",
      "469 / 625 |  final loss: 2279.3253329021945  train_acc: 0.76\n",
      "\n",
      "\n",
      "470 / 625 |  final loss: 2465.327373272238  train_acc: 0.98\n",
      "\n",
      "\n",
      "471 / 625 |  final loss: 2638.6827679635535  train_acc: 0.88\n",
      "\n",
      "\n",
      "472 / 625 |  final loss: 2778.8167626223335  train_acc: 0.76\n",
      "\n",
      "\n",
      "473 / 625 |  final loss: 2907.7324597690344  train_acc: 0.64\n",
      "\n",
      "\n",
      "474 / 625 |  final loss: 3036.110294536755  train_acc: 0.84\n",
      "\n",
      "\n",
      "475 / 625 |  final loss: 3125.519844996769  train_acc: 0.72\n",
      "\n",
      "\n",
      "476 / 625 |  final loss: 171.5414074918931  train_acc: 0.4\n",
      "\n",
      "\n",
      "477 / 625 |  final loss: 163.88220134067785  train_acc: 0.44\n",
      "\n",
      "\n",
      "478 / 625 |  final loss: 147.1726730773932  train_acc: 0.4\n",
      "\n",
      "\n",
      "479 / 625 |  final loss: 146.62143333805125  train_acc: 0.68\n",
      "\n",
      "\n",
      "480 / 625 |  final loss: 164.0486302291634  train_acc: 0.56\n",
      "\n",
      "\n",
      "481 / 625 |  final loss: 183.12061167184444  train_acc: 0.54\n",
      "\n",
      "\n",
      "482 / 625 |  final loss: 226.67818763156143  train_acc: 0.58\n",
      "\n",
      "\n",
      "483 / 625 |  final loss: 298.67953080999405  train_acc: 0.74\n",
      "\n",
      "\n",
      "484 / 625 |  final loss: 386.96619326502923  train_acc: 0.64\n",
      "\n",
      "\n",
      "485 / 625 |  final loss: 492.406253568463  train_acc: 0.58\n",
      "\n",
      "\n",
      "486 / 625 |  final loss: 622.8945666722509  train_acc: 0.98\n",
      "\n",
      "\n",
      "487 / 625 |  final loss: 759.7111723946625  train_acc: 0.9\n",
      "\n",
      "\n",
      "488 / 625 |  final loss: 905.8382131886274  train_acc: 0.82\n",
      "\n",
      "\n",
      "489 / 625 |  final loss: 1065.10909491116  train_acc: 0.9\n",
      "\n",
      "\n",
      "490 / 625 |  final loss: 1239.1106354949416  train_acc: 0.74\n",
      "\n",
      "\n",
      "491 / 625 |  final loss: 1398.197139542732  train_acc: 0.92\n",
      "\n",
      "\n",
      "492 / 625 |  final loss: 1547.7868904710033  train_acc: 0.8\n",
      "\n",
      "\n",
      "493 / 625 |  final loss: 1713.068783610601  train_acc: 0.74\n",
      "\n",
      "\n",
      "494 / 625 |  final loss: 1866.0225536358366  train_acc: 0.84\n",
      "\n",
      "\n",
      "495 / 625 |  final loss: 2006.228071744156  train_acc: 0.86\n",
      "\n",
      "\n",
      "496 / 625 |  final loss: 2162.304221876822  train_acc: 0.88\n",
      "\n",
      "\n",
      "497 / 625 |  final loss: 2279.4162406775918  train_acc: 0.88\n",
      "\n",
      "\n",
      "498 / 625 |  final loss: 2402.9647463367864  train_acc: 0.78\n",
      "\n",
      "\n",
      "499 / 625 |  final loss: 2537.4510302656736  train_acc: 0.76\n",
      "\n",
      "\n",
      "500 / 625 |  final loss: 2628.0427540931837  train_acc: 0.76\n",
      "\n",
      "\n",
      "501 / 625 |  final loss: 151.48311501618343  train_acc: 0.22\n",
      "\n",
      "\n",
      "502 / 625 |  final loss: 140.48835090665045  train_acc: 0.34\n",
      "\n",
      "\n",
      "503 / 625 |  final loss: 131.26607349809288  train_acc: 0.54\n",
      "\n",
      "\n",
      "504 / 625 |  final loss: 125.51050361711853  train_acc: 0.64\n",
      "\n",
      "\n",
      "505 / 625 |  final loss: 127.33471433078122  train_acc: 0.56\n",
      "\n",
      "\n",
      "506 / 625 |  final loss: 139.86761432334706  train_acc: 0.74\n",
      "\n",
      "\n",
      "507 / 625 |  final loss: 167.06940837762107  train_acc: 0.78\n",
      "\n",
      "\n",
      "508 / 625 |  final loss: 208.53035908850697  train_acc: 0.66\n",
      "\n",
      "\n",
      "509 / 625 |  final loss: 274.2956992193544  train_acc: 0.6\n",
      "\n",
      "\n",
      "510 / 625 |  final loss: 350.64918995507753  train_acc: 0.8\n",
      "\n",
      "\n",
      "511 / 625 |  final loss: 447.58347589303753  train_acc: 0.86\n",
      "\n",
      "\n",
      "512 / 625 |  final loss: 563.3541516502521  train_acc: 0.84\n",
      "\n",
      "\n",
      "513 / 625 |  final loss: 692.2607116757367  train_acc: 0.84\n",
      "\n",
      "\n",
      "514 / 625 |  final loss: 822.3742064552728  train_acc: 0.8\n",
      "\n",
      "\n",
      "515 / 625 |  final loss: 970.6915856596055  train_acc: 0.96\n",
      "\n",
      "\n",
      "516 / 625 |  final loss: 1095.023545631973  train_acc: 0.94\n",
      "\n",
      "\n",
      "517 / 625 |  final loss: 1229.1500046810497  train_acc: 0.72\n",
      "\n",
      "\n",
      "518 / 625 |  final loss: 1379.247522166243  train_acc: 0.86\n",
      "\n",
      "\n",
      "519 / 625 |  final loss: 1502.5943920195816  train_acc: 0.9\n",
      "\n",
      "\n",
      "520 / 625 |  final loss: 1638.0881837819245  train_acc: 0.88\n",
      "\n",
      "\n",
      "521 / 625 |  final loss: 1763.2604166705237  train_acc: 0.92\n",
      "\n",
      "\n",
      "522 / 625 |  final loss: 1881.831027980004  train_acc: 0.94\n",
      "\n",
      "\n",
      "523 / 625 |  final loss: 1979.9027659072094  train_acc: 0.74\n",
      "\n",
      "\n",
      "524 / 625 |  final loss: 2093.1776395985235  train_acc: 0.6\n",
      "\n",
      "\n",
      "525 / 625 |  final loss: 2186.6306241651014  train_acc: 0.66\n",
      "\n",
      "\n",
      "526 / 625 |  final loss: 132.74267124055825  train_acc: 0.32\n",
      "\n",
      "\n",
      "527 / 625 |  final loss: 124.51690871228638  train_acc: 0.38\n",
      "\n",
      "\n",
      "528 / 625 |  final loss: 118.57984041587524  train_acc: 0.4\n",
      "\n",
      "\n",
      "529 / 625 |  final loss: 109.54251433924468  train_acc: 0.48\n",
      "\n",
      "\n",
      "530 / 625 |  final loss: 106.77709011400545  train_acc: 0.52\n",
      "\n",
      "\n",
      "531 / 625 |  final loss: 111.07469455438768  train_acc: 0.56\n",
      "\n",
      "\n",
      "532 / 625 |  final loss: 122.9408521401024  train_acc: 0.6\n",
      "\n",
      "\n",
      "533 / 625 |  final loss: 151.05266978833055  train_acc: 0.82\n",
      "\n",
      "\n",
      "534 / 625 |  final loss: 196.87334182848707  train_acc: 0.5\n",
      "\n",
      "\n",
      "535 / 625 |  final loss: 259.701140515756  train_acc: 0.76\n",
      "\n",
      "\n",
      "536 / 625 |  final loss: 328.68228153441925  train_acc: 0.84\n",
      "\n",
      "\n",
      "537 / 625 |  final loss: 417.66523340536776  train_acc: 0.76\n",
      "\n",
      "\n",
      "538 / 625 |  final loss: 509.0210543390145  train_acc: 0.7\n",
      "\n",
      "\n",
      "539 / 625 |  final loss: 624.49970003313  train_acc: 0.8\n",
      "\n",
      "\n",
      "540 / 625 |  final loss: 739.5949728790529  train_acc: 0.7\n",
      "\n",
      "\n",
      "541 / 625 |  final loss: 852.5249926973947  train_acc: 0.72\n",
      "\n",
      "\n",
      "542 / 625 |  final loss: 974.4885853911884  train_acc: 0.92\n",
      "\n",
      "\n",
      "543 / 625 |  final loss: 1100.1823402429013  train_acc: 0.78\n",
      "\n",
      "\n",
      "544 / 625 |  final loss: 1210.2041354902112  train_acc: 0.86\n",
      "\n",
      "\n",
      "545 / 625 |  final loss: 1318.8385996260467  train_acc: 0.68\n",
      "\n",
      "\n",
      "546 / 625 |  final loss: 1427.8629452628084  train_acc: 0.8\n",
      "\n",
      "\n",
      "547 / 625 |  final loss: 1544.6086723042629  train_acc: 0.68\n",
      "\n",
      "\n",
      "548 / 625 |  final loss: 1635.5666253188974  train_acc: 0.66\n",
      "\n",
      "\n",
      "549 / 625 |  final loss: 1733.3974412429604  train_acc: 0.54\n",
      "\n",
      "\n",
      "550 / 625 |  final loss: 1820.6723726134392  train_acc: 0.64\n",
      "\n",
      "\n",
      "551 / 625 |  final loss: 108.55090753838743  train_acc: 0.34\n",
      "\n",
      "\n",
      "552 / 625 |  final loss: 110.30027512929306  train_acc: 0.36\n",
      "\n",
      "\n",
      "553 / 625 |  final loss: 104.99539725350547  train_acc: 0.36\n",
      "\n",
      "\n",
      "554 / 625 |  final loss: 98.77255566216532  train_acc: 0.58\n",
      "\n",
      "\n",
      "555 / 625 |  final loss: 93.5432333782629  train_acc: 0.54\n",
      "\n",
      "\n",
      "556 / 625 |  final loss: 91.18899662288503  train_acc: 0.5\n",
      "\n",
      "\n",
      "557 / 625 |  final loss: 98.53613414344213  train_acc: 0.52\n",
      "\n",
      "\n",
      "558 / 625 |  final loss: 111.65391950895784  train_acc: 0.5\n",
      "\n",
      "\n",
      "559 / 625 |  final loss: 143.02368474045318  train_acc: 0.72\n",
      "\n",
      "\n",
      "560 / 625 |  final loss: 181.83148336592888  train_acc: 0.78\n",
      "\n",
      "\n",
      "561 / 625 |  final loss: 237.3954003708196  train_acc: 0.82\n",
      "\n",
      "\n",
      "562 / 625 |  final loss: 306.1499435995384  train_acc: 0.78\n",
      "\n",
      "\n",
      "563 / 625 |  final loss: 383.656015129506  train_acc: 0.6\n",
      "\n",
      "\n",
      "564 / 625 |  final loss: 465.88101767644974  train_acc: 0.8\n",
      "\n",
      "\n",
      "565 / 625 |  final loss: 565.2644072881754  train_acc: 0.84\n",
      "\n",
      "\n",
      "566 / 625 |  final loss: 661.0365863529477  train_acc: 0.72\n",
      "\n",
      "\n"
     ]
    },
    {
     "name": "stdout",
     "output_type": "stream",
     "text": [
      "567 / 625 |  final loss: 759.0279767105117  train_acc: 0.58\n",
      "\n",
      "\n",
      "568 / 625 |  final loss: 867.4294326028504  train_acc: 0.84\n",
      "\n",
      "\n",
      "569 / 625 |  final loss: 971.672235575202  train_acc: 0.9\n",
      "\n",
      "\n",
      "570 / 625 |  final loss: 1068.022396818249  train_acc: 0.86\n",
      "\n",
      "\n",
      "571 / 625 |  final loss: 1161.3048817581498  train_acc: 0.74\n",
      "\n",
      "\n",
      "572 / 625 |  final loss: 1258.1853111664177  train_acc: 0.76\n",
      "\n",
      "\n",
      "573 / 625 |  final loss: 1341.5203519747342  train_acc: 0.74\n",
      "\n",
      "\n",
      "574 / 625 |  final loss: 1425.6068946757425  train_acc: 0.68\n",
      "\n",
      "\n",
      "575 / 625 |  final loss: 1510.165344801382  train_acc: 0.7\n",
      "\n",
      "\n",
      "576 / 625 |  final loss: 92.03119349453343  train_acc: 0.34\n",
      "\n",
      "\n",
      "577 / 625 |  final loss: 94.67541676645408  train_acc: 0.3\n",
      "\n",
      "\n",
      "578 / 625 |  final loss: 93.32989963312767  train_acc: 0.36\n",
      "\n",
      "\n",
      "579 / 625 |  final loss: 88.40434169202267  train_acc: 0.3\n",
      "\n",
      "\n",
      "580 / 625 |  final loss: 84.09000190107957  train_acc: 0.3\n",
      "\n",
      "\n",
      "581 / 625 |  final loss: 79.40586956722802  train_acc: 0.52\n",
      "\n",
      "\n",
      "582 / 625 |  final loss: 80.08617228880301  train_acc: 0.44\n",
      "\n",
      "\n",
      "583 / 625 |  final loss: 86.20399490391347  train_acc: 0.5\n",
      "\n",
      "\n",
      "584 / 625 |  final loss: 102.7068615264684  train_acc: 0.64\n",
      "\n",
      "\n",
      "585 / 625 |  final loss: 130.7944649551158  train_acc: 0.56\n",
      "\n",
      "\n",
      "586 / 625 |  final loss: 168.50932231703476  train_acc: 0.64\n",
      "\n",
      "\n",
      "587 / 625 |  final loss: 221.63740751676806  train_acc: 0.84\n",
      "\n",
      "\n",
      "588 / 625 |  final loss: 284.23025455504904  train_acc: 0.76\n",
      "\n",
      "\n",
      "589 / 625 |  final loss: 353.10969352996415  train_acc: 0.76\n",
      "\n",
      "\n",
      "590 / 625 |  final loss: 426.6232467210535  train_acc: 0.5\n",
      "\n",
      "\n",
      "591 / 625 |  final loss: 513.3466634360852  train_acc: 0.6\n",
      "\n",
      "\n",
      "592 / 625 |  final loss: 596.7653697304638  train_acc: 0.82\n",
      "\n",
      "\n",
      "593 / 625 |  final loss: 681.4699551605914  train_acc: 0.68\n",
      "\n",
      "\n",
      "594 / 625 |  final loss: 772.3241381638601  train_acc: 0.76\n",
      "\n",
      "\n",
      "595 / 625 |  final loss: 856.7196791723995  train_acc: 0.88\n",
      "\n",
      "\n",
      "596 / 625 |  final loss: 948.1297986595612  train_acc: 0.68\n",
      "\n",
      "\n",
      "597 / 625 |  final loss: 1024.4077075517  train_acc: 0.62\n",
      "\n",
      "\n",
      "598 / 625 |  final loss: 1102.7555821587894  train_acc: 0.84\n",
      "\n",
      "\n",
      "599 / 625 |  final loss: 1176.8875243536063  train_acc: 0.7\n",
      "\n",
      "\n",
      "600 / 625 |  final loss: 1244.0551457530894  train_acc: 0.78\n",
      "\n",
      "\n",
      "601 / 625 |  final loss: 76.56880324312625  train_acc: 0.36\n",
      "\n",
      "\n",
      "602 / 625 |  final loss: 79.81123981083408  train_acc: 0.22\n",
      "\n",
      "\n",
      "603 / 625 |  final loss: 80.96776463406647  train_acc: 0.26\n",
      "\n",
      "\n",
      "604 / 625 |  final loss: 78.5495961914565  train_acc: 0.4\n",
      "\n",
      "\n",
      "605 / 625 |  final loss: 74.61447739978897  train_acc: 0.42\n",
      "\n",
      "\n",
      "606 / 625 |  final loss: 70.40816122090334  train_acc: 0.44\n",
      "\n",
      "\n",
      "607 / 625 |  final loss: 67.62608605968369  train_acc: 0.36\n",
      "\n",
      "\n",
      "608 / 625 |  final loss: 70.92960417879374  train_acc: 0.5\n",
      "\n",
      "\n",
      "609 / 625 |  final loss: 77.91873288320211  train_acc: 0.62\n",
      "\n",
      "\n",
      "610 / 625 |  final loss: 96.6111994951712  train_acc: 0.68\n",
      "\n",
      "\n",
      "611 / 625 |  final loss: 122.61339124634233  train_acc: 0.76\n",
      "\n",
      "\n",
      "612 / 625 |  final loss: 159.40826418228392  train_acc: 0.78\n",
      "\n",
      "\n",
      "613 / 625 |  final loss: 204.7186789279889  train_acc: 0.82\n",
      "\n",
      "\n",
      "614 / 625 |  final loss: 259.97203668364097  train_acc: 0.64\n",
      "\n",
      "\n",
      "615 / 625 |  final loss: 322.93484981999774  train_acc: 0.66\n",
      "\n",
      "\n",
      "616 / 625 |  final loss: 391.4601159276656  train_acc: 0.74\n",
      "\n",
      "\n",
      "617 / 625 |  final loss: 461.09580511415453  train_acc: 0.72\n",
      "\n",
      "\n",
      "618 / 625 |  final loss: 539.3685270192457  train_acc: 0.76\n",
      "\n",
      "\n",
      "619 / 625 |  final loss: 613.6085302731975  train_acc: 0.78\n",
      "\n",
      "\n",
      "620 / 625 |  final loss: 683.7818867988651  train_acc: 0.64\n",
      "\n",
      "\n",
      "621 / 625 |  final loss: 760.7041099327408  train_acc: 0.64\n",
      "\n",
      "\n",
      "622 / 625 |  final loss: 829.3643599295659  train_acc: 0.6\n",
      "\n",
      "\n",
      "623 / 625 |  final loss: 899.0916110606868  train_acc: 0.52\n",
      "\n",
      "\n",
      "624 / 625 |  final loss: 964.8618295435086  train_acc: 0.66\n",
      "\n",
      "\n",
      "625 / 625 |  final loss: 1033.1917302167049  train_acc: 0.5\n",
      "\n",
      "\n"
     ]
    },
    {
     "data": {
      "image/png": "[encoded data removed]",
      "text/plain": [
       "<Figure size 720x576 with 1 Axes>"
      ]
     },
     "metadata": {
      "needs_background": "light"
     },
     "output_type": "display_data"
    },
    {
     "name": "stdout",
     "output_type": "stream",
     "text": [
      "The best learning_rate, weight_scale and training accuracy are 0.13593563908785256 0.005011872336272725 1.0\n"
     ]
    }
   ],
   "source": [
    "num_train = 50\n",
    "small_data = {\n",
    "  'X_train': data['X_train'][:num_train],\n",
    "  'y_train': data['y_train'][:num_train],\n",
    "  'X_val': data['X_val'],\n",
    "  'y_val': data['y_val'],\n",
    "}\n",
    "\n",
    "##############################################################################\n",
    "# TODO: Utilisez une instance de Solver pour entrainer un réseau à 5 couches #\n",
    "#  à 100 neurones à overfitter 50 images de CIFAR10.  Il est suggérer de     #\n",
    "#  d'effectuer une recherche d'hyperparamètres pour trouver le bon           #\n",
    "#  `learning_rate` et le bon `weight_scale`.                                 #\n",
    "##############################################################################\n",
    "best_weight_scale = 0.\n",
    "best_learning_rate = 0.\n",
    "best_training_acc = 0.\n",
    "\n",
    "for learning_rate in np.logspace (-3,-4, 10):\n",
    "    for weight_scale in np.logspace(-1.7,-2, 10):\n",
    "        model = FullyConnectedNeuralNet([100, 100, 100, 100],\n",
    "                      weight_scale=weight_scale, dtype=np.float64)\n",
    "        solver = None\n",
    "        solver = Solver(model, small_data,\n",
    "                        verbose = False, num_epochs=20, batch_size= 50 ,\n",
    "                        update_rule='sgd',\n",
    "                        optim_config={\n",
    "                          'learning_rate': learning_rate,\n",
    "                        })\n",
    "        solver.train()\n",
    "        \n",
    "        if np.max(solver.train_acc_history) > best_training_acc:\n",
    "            best_training_acc = np.max(solver.train_acc_history)\n",
    "            best_weight_scale = weight_scale\n",
    "            best_learning_rate = learning_rate\n",
    "            print('The best learning_rate, weight_scale and training accuracy are',best_weight_scale, best_learning_rate, best_training_acc)\n",
    "            \n",
    "            plt.subplot(2, 1, 1)\n",
    "            plt.title('Training loss')\n",
    "            plt.plot(solver.loss_history, 'o')\n",
    "            plt.xlabel('Iteration')\n",
    "\n",
    "results = []\n",
    "i=0\n",
    "nb_weight_scale=25\n",
    "nb_learning_rate=25\n",
    "for weight_scale in np.logspace(-0.6,-1.4, nb_weight_scale):\n",
    "    for learning_rate in np.logspace(-2,-3.2, nb_learning_rate):\n",
    "        i+=1\n",
    "        D, H1, H2, H3, H4, C = 3072, 100, 100, 100, 100, 10\n",
    "        model = FullyConnectedNeuralNet([H1, H2, H3, H4], input_dim=D, num_classes=C,\n",
    "                                    reg=reg, weight_scale=weight_scale, dtype=np.float64)\n",
    "        solver = None\n",
    "        solver = Solver(model, small_data,\n",
    "                        num_epochs=20, batch_size=50,\n",
    "                        update_rule='adam',\n",
    "                        optim_config={\n",
    "                          'learning_rate': learning_rate,\n",
    "                        },\n",
    "                        verbose=False, print_every=10)\n",
    "        solver.train()\n",
    "        x = [weight_scale,learning_rate,solver.best_train_acc]\n",
    "        results.append(x)\n",
    "        print(i,\"/\",nb_weight_scale*nb_learning_rate,\"| \",'final loss:', solver.loss_history[-1], ' train_acc:', solver.best_train_acc)\n",
    "        \n",
    "        plt.plot(solver.loss_history)\n",
    "        if solver.best_train_acc>best_training_acc:\n",
    "            best_learning_rate=learning_rate\n",
    "            best_weight_scale=weight_scale\n",
    "            best_training_acc=solver.best_train_acc\n",
    "            print(\"---\")\n",
    "        print('\\n')\n",
    "\n",
    "\n",
    "plt.plot(solver.loss_history, 'o')\n",
    "plt.title('Training loss history')\n",
    "plt.xlabel('Iteration')\n",
    "plt.ylabel('Training loss')\n",
    "plt.show()\n",
    "\n",
    "##############################################################################\n",
    "#                             FIN DE VOTRE CODE                              #\n",
    "##############################################################################\n",
    "print('The best learning_rate, weight_scale and training accuracy are',best_weight_scale, best_learning_rate, best_training_acc)"
   ]
  },
  {
   "cell_type": "code",
   "execution_count": 25,
   "metadata": {},
   "outputs": [
    {
     "data": {
      "image/png": "[encoded data removed]",
      "text/plain": [
       "<Figure size 720x576 with 2 Axes>"
      ]
     },
     "metadata": {
      "needs_background": "light"
     },
     "output_type": "display_data"
    }
   ],
   "source": [
    "# Visualize the cross-validation results\n",
    "# import math\n",
    "marker_size = 100\n",
    "x_scatter, x_label = [np.log10(x[0]) for x in results], 'log weight scale'\n",
    "y_scatter, y_label = [np.log10(x[1]) for x in results], 'log learning rate'\n",
    "\n",
    "# plot validation accuracy\n",
    "colors = [x[2] for x in results] # default size of markers is 20\n",
    "plt.subplot(2, 1, 2)\n",
    "plt.scatter(x_scatter, y_scatter, marker_size, c=colors)\n",
    "plt.colorbar()\n",
    "plt.xlabel(x_label)\n",
    "plt.ylabel(y_label)\n",
    "plt.title('Train accuracy')\n",
    "plt.show()"
   ]
  },
  {
   "cell_type": "markdown",
   "metadata": {},
   "source": [
    "# Descente de gradient ++\n",
    "Jusqu'à présent nous avons utilisé l'algorithmes de base de la descente de gradient (SGD-stochastic gradient descent). Ici nous testerons d'autres algorithmes plus sophistiqués."
   ]
  },
  {
   "cell_type": "markdown",
   "metadata": {},
   "source": [
    "# SGD+Momentum\n",
    "SGD+momentum est très largement utilisé.  Ouvrez  `ift725/optim.py` et prenez connaissance du code et implémentez la fonction `sgd_momentum` et exécutez la cellule que voici. Votre erreur devrait être inféreieure à 1e-6."
   ]
  },
  {
   "cell_type": "code",
   "execution_count": 22,
   "metadata": {},
   "outputs": [
    {
     "ename": "TypeError",
     "evalue": "unsupported operand type(s) for -: 'NoneType' and 'float'",
     "output_type": "error",
     "traceback": [
      "\u001b[0;31m---------------------------------------------------------------------------\u001b[0m",
      "\u001b[0;31mTypeError\u001b[0m                                 Traceback (most recent call last)",
      "\u001b[0;32m<ipython-input-22-7aebff33726e>\u001b[0m in \u001b[0;36m<module>\u001b[0;34m\u001b[0m\n\u001b[1;32m     21\u001b[0m \u001b[0;34m\u001b[0m\u001b[0m\n\u001b[1;32m     22\u001b[0m \u001b[0;31m# Error should be below 1e-06\u001b[0m\u001b[0;34m\u001b[0m\u001b[0;34m\u001b[0m\u001b[0;34m\u001b[0m\u001b[0m\n\u001b[0;32m---> 23\u001b[0;31m \u001b[0mprint\u001b[0m\u001b[0;34m(\u001b[0m\u001b[0;34m'next_w error: '\u001b[0m\u001b[0;34m,\u001b[0m \u001b[0mrel_error\u001b[0m\u001b[0;34m(\u001b[0m\u001b[0mnext_w\u001b[0m\u001b[0;34m,\u001b[0m \u001b[0mexpected_next_w\u001b[0m\u001b[0;34m)\u001b[0m\u001b[0;34m)\u001b[0m\u001b[0;34m\u001b[0m\u001b[0;34m\u001b[0m\u001b[0m\n\u001b[0m\u001b[1;32m     24\u001b[0m \u001b[0mprint\u001b[0m\u001b[0;34m(\u001b[0m\u001b[0;34m'velocity error: '\u001b[0m\u001b[0;34m,\u001b[0m \u001b[0mrel_error\u001b[0m\u001b[0;34m(\u001b[0m\u001b[0mexpected_velocity\u001b[0m\u001b[0;34m,\u001b[0m \u001b[0mconfig\u001b[0m\u001b[0;34m[\u001b[0m\u001b[0;34m'velocity'\u001b[0m\u001b[0;34m]\u001b[0m\u001b[0;34m)\u001b[0m\u001b[0;34m)\u001b[0m\u001b[0;34m\u001b[0m\u001b[0;34m\u001b[0m\u001b[0m\n",
      "\u001b[0;32m<ipython-input-1-2c841c511832>\u001b[0m in \u001b[0;36mrel_error\u001b[0;34m(x, y)\u001b[0m\n\u001b[1;32m     21\u001b[0m \u001b[0;32mdef\u001b[0m \u001b[0mrel_error\u001b[0m\u001b[0;34m(\u001b[0m\u001b[0mx\u001b[0m\u001b[0;34m,\u001b[0m \u001b[0my\u001b[0m\u001b[0;34m)\u001b[0m\u001b[0;34m:\u001b[0m\u001b[0;34m\u001b[0m\u001b[0;34m\u001b[0m\u001b[0m\n\u001b[1;32m     22\u001b[0m   \u001b[0;34m\"\"\" returns relative error \"\"\"\u001b[0m\u001b[0;34m\u001b[0m\u001b[0;34m\u001b[0m\u001b[0m\n\u001b[0;32m---> 23\u001b[0;31m   \u001b[0;32mreturn\u001b[0m \u001b[0mnp\u001b[0m\u001b[0;34m.\u001b[0m\u001b[0mmax\u001b[0m\u001b[0;34m(\u001b[0m\u001b[0mnp\u001b[0m\u001b[0;34m.\u001b[0m\u001b[0mabs\u001b[0m\u001b[0;34m(\u001b[0m\u001b[0mx\u001b[0m \u001b[0;34m-\u001b[0m \u001b[0my\u001b[0m\u001b[0;34m)\u001b[0m \u001b[0;34m/\u001b[0m \u001b[0;34m(\u001b[0m\u001b[0mnp\u001b[0m\u001b[0;34m.\u001b[0m\u001b[0mmaximum\u001b[0m\u001b[0;34m(\u001b[0m\u001b[0;36m1e-8\u001b[0m\u001b[0;34m,\u001b[0m \u001b[0mnp\u001b[0m\u001b[0;34m.\u001b[0m\u001b[0mabs\u001b[0m\u001b[0;34m(\u001b[0m\u001b[0mx\u001b[0m\u001b[0;34m)\u001b[0m \u001b[0;34m+\u001b[0m \u001b[0mnp\u001b[0m\u001b[0;34m.\u001b[0m\u001b[0mabs\u001b[0m\u001b[0;34m(\u001b[0m\u001b[0my\u001b[0m\u001b[0;34m)\u001b[0m\u001b[0;34m)\u001b[0m\u001b[0;34m)\u001b[0m\u001b[0;34m)\u001b[0m\u001b[0;34m\u001b[0m\u001b[0;34m\u001b[0m\u001b[0m\n\u001b[0m\u001b[1;32m     24\u001b[0m \u001b[0;34m\u001b[0m\u001b[0m\n\u001b[1;32m     25\u001b[0m \u001b[0mprint\u001b[0m\u001b[0;34m(\u001b[0m\u001b[0;34m'setup done!'\u001b[0m\u001b[0;34m)\u001b[0m\u001b[0;34m\u001b[0m\u001b[0;34m\u001b[0m\u001b[0m\n",
      "\u001b[0;31mTypeError\u001b[0m: unsupported operand type(s) for -: 'NoneType' and 'float'"
     ]
    }
   ],
   "source": [
    "from ift725.optim import sgd_momentum\n",
    "\n",
    "N, D = 4, 5\n",
    "w = np.linspace(-0.4, 0.6, num=N*D).reshape(N, D)\n",
    "dw = np.linspace(-0.6, 0.4, num=N*D).reshape(N, D)\n",
    "v = np.linspace(0.6, 0.9, num=N*D).reshape(N, D)\n",
    "\n",
    "config = {'learning_rate': 1e-3, 'velocity': v}\n",
    "next_w, _ = sgd_momentum(w, dw, config=config)\n",
    "\n",
    "expected_next_w = np.asarray([\n",
    "    [-0.39994,    -0.34737526, -0.29481053, -0.24224579, -0.18968105],\n",
    "    [-0.13711632, -0.08455158, -0.03198684,  0.02057789,  0.07314263],\n",
    "    [ 0.12570737,  0.17827211,  0.23083684,  0.28340158,  0.33596632],\n",
    "    [ 0.38853105,  0.44109579,  0.49366053,  0.54622526,  0.59879   ]])\n",
    "expected_velocity = np.asarray([\n",
    "    [-0.06 ,       0.00684211,  0.07368421,  0.14052632,  0.20736842],\n",
    "    [ 0.27421053,  0.34105263,  0.40789474,  0.47473684,  0.54157895],\n",
    "    [ 0.60842105,  0.67526316,  0.74210526,  0.80894737,  0.87578947],\n",
    "    [ 0.94263158,  1.00947368,  1.07631579,  1.14315789,  1.21      ]])\n",
    "\n",
    "# Error should be below 1e-06\n",
    "print('next_w error: ', rel_error(next_w, expected_next_w))\n",
    "print('velocity error: ', rel_error(expected_velocity, config['velocity']))"
   ]
  },
  {
   "cell_type": "markdown",
   "metadata": {},
   "source": [
    "Maintenant, excécutez cette cellule.  Normalement, le réseau à 6 couches devrait s'entraîner plus rapidement avec SGD+momentum qu'avec SGD."
   ]
  },
  {
   "cell_type": "code",
   "execution_count": null,
   "metadata": {
    "scrolled": false
   },
   "outputs": [],
   "source": [
    "num_train = 4000\n",
    "small_data = {\n",
    "  'X_train': data['X_train'][:num_train],\n",
    "  'y_train': data['y_train'][:num_train],\n",
    "  'X_val': data['X_val'],\n",
    "  'y_val': data['y_val'],\n",
    "}\n",
    "\n",
    "solvers = {}\n",
    "\n",
    "for update_rule in ['sgd', 'sgd_momentum']:\n",
    "  print('running with ', update_rule)\n",
    "  model = FullyConnectedNeuralNet([100, 100, 100, 100, 100], weight_scale=5e-2)\n",
    "\n",
    "  solver = Solver(model, small_data,\n",
    "                  num_epochs=10, batch_size=100,\n",
    "                  update_rule=update_rule,\n",
    "                  optim_config={\n",
    "                    'learning_rate': 1e-2,\n",
    "                  },\n",
    "                  verbose=True)\n",
    "  solvers[update_rule] = solver\n",
    "  solver.train()\n",
    "  print()\n",
    "\n",
    "plt.subplot(3, 1, 1)\n",
    "plt.title('Training loss')\n",
    "plt.xlabel('Iteration')\n",
    "\n",
    "plt.subplot(3, 1, 2)\n",
    "plt.title('Training accuracy')\n",
    "plt.xlabel('Epoch')\n",
    "\n",
    "plt.subplot(3, 1, 3)\n",
    "plt.title('Validation accuracy')\n",
    "plt.xlabel('Epoch')\n",
    "\n",
    "for update_rule, solver in solvers.items():\n",
    "  plt.subplot(3, 1, 1)\n",
    "  plt.plot(solver.loss_history, '-o', label=update_rule)\n",
    "  \n",
    "  plt.subplot(3, 1, 2)\n",
    "  plt.plot(solver.train_acc_history, '-o', label=update_rule)\n",
    "\n",
    "  plt.subplot(3, 1, 3)\n",
    "  plt.plot(solver.val_acc_history, '-o', label=update_rule)\n",
    "  \n",
    "for i in [1, 2, 3]:\n",
    "  plt.subplot(3, 1, i)\n",
    "  plt.legend(loc='upper center', ncol=4)\n",
    "plt.gcf().set_size_inches(15, 15)\n",
    "plt.show()"
   ]
  },
  {
   "cell_type": "markdown",
   "metadata": {},
   "source": [
    "# RMSProp et Adam\n",
    "RMSProp [1] et Adam [2] sont d'autres algorithmes de descente de gradient dont le code est dans le fichier `ift725/optim.py`.   Alors que le code de Adam vous est fournit, vous devez rédigé celui de RMSProp.\n",
    "\n",
    "[1] Tijmen Tieleman and Geoffrey Hinton. \"Lecture 6.5-rmsprop: Divide the gradient by a running average of its recent magnitude.\" COURSERA: Neural Networks for Machine Learning 4 (2012).\n",
    "\n",
    "[2] Diederik Kingma and Jimmy Ba, \"Adam: A Method for Stochastic Optimization\", ICLR 2015."
   ]
  },
  {
   "cell_type": "code",
   "execution_count": null,
   "metadata": {},
   "outputs": [],
   "source": [
    "# Test RMSProp implementation; you should see errors less than 1e-7\n",
    "import numpy as np\n",
    "from ift725.optim import rmsprop\n",
    "\n",
    "N, D = 4, 5\n",
    "w = np.linspace(-0.4, 0.6, num=N*D).reshape(N, D)\n",
    "dw = np.linspace(-0.6, 0.4, num=N*D).reshape(N, D)\n",
    "cache = np.linspace(0.6, 0.9, num=N*D).reshape(N, D)\n",
    "\n",
    "config = {'learning_rate': 1e-2, 'cache': cache}\n",
    "next_w, _ = rmsprop(w, dw, config=config)\n",
    "\n",
    "expected_next_w = np.asarray([\n",
    "    [-0.39,       -0.33846964, -0.2868865,  -0.23525427, -0.18357633],\n",
    "    [-0.13185574, -0.0800953,  -0.02829757,  0.02353511,  0.07540058],\n",
    "    [ 0.12729687,  0.17922215,  0.23117507,  0.28315533,  0.33516143],\n",
    "    [ 0.38719188,  0.43924528,  0.49132033,  0.54341585,  0.59553073]])\n",
    "expected_cache = np.asarray([\n",
    "    [0.6,        0.61510526, 0.63021053, 0.64531579, 0.66042105],\n",
    " [0.67552632, 0.69063158, 0.70573684, 0.72084211, 0.73594737],\n",
    " [0.75105263, 0.76615789, 0.78189474, 0.79805263, 0.81421053],\n",
    " [0.83036842, 0.84652632, 0.86268421, 0.87884211, 0.895     ]])  \n",
    "\n",
    "\n",
    "print('next_w error: ', rel_error(expected_next_w, next_w))\n",
    "print('cache error: ', rel_error(expected_cache, config['cache']))"
   ]
  },
  {
   "cell_type": "code",
   "execution_count": null,
   "metadata": {},
   "outputs": [],
   "source": [
    "# Test Adam implementation; you should see errors around 1e-7 or less\n",
    "from ift725.optim import adam\n",
    "\n",
    "N, D = 4, 5\n",
    "w = np.linspace(-0.4, 0.6, num=N*D).reshape(N, D)\n",
    "dw = np.linspace(-0.6, 0.4, num=N*D).reshape(N, D)\n",
    "m = np.linspace(0.6, 0.9, num=N*D).reshape(N, D)\n",
    "v = np.linspace(0.7, 0.5, num=N*D).reshape(N, D)\n",
    "\n",
    "config = {'learning_rate': 1e-2, 'm': m, 'v': v, 't': 5}\n",
    "next_w, config = adam(w, dw, config=config)\n",
    "\n",
    "expected_next_w = np.asarray([\n",
    "  [-0.40094747, -0.34836187, -0.29577703, -0.24319299, -0.19060977],\n",
    "  [-0.1380274,  -0.08544591, -0.03286534,  0.01971428,  0.0722929],\n",
    "  [ 0.1248705,   0.17744702,  0.23002243,  0.28259667,  0.33516969],\n",
    "  [ 0.38774145,  0.44031188,  0.49288093,  0.54544852,  0.59801459]])\n",
    "expected_v = np.asarray([\n",
    "  [ 0.69966,     0.68908382,  0.67851319,  0.66794809,  0.65738853,],\n",
    "  [ 0.64683452,  0.63628604,  0.6257431,   0.61520571,  0.60467385,],\n",
    "  [ 0.59414753,  0.58362676,  0.57311152,  0.56260183,  0.55209767,],\n",
    "  [ 0.54159906,  0.53110598,  0.52061845,  0.51013645,  0.49966,   ]])\n",
    "expected_m = np.asarray([\n",
    "  [ 0.48,        0.49947368,  0.51894737,  0.53842105,  0.55789474],\n",
    "  [ 0.57736842,  0.59684211,  0.61631579,  0.63578947,  0.65526316],\n",
    "  [ 0.67473684,  0.69421053,  0.71368421,  0.73315789,  0.75263158],\n",
    "  [ 0.77210526,  0.79157895,  0.81105263,  0.83052632,  0.85      ]])\n",
    "\n",
    "print('next_w error: ', rel_error(expected_next_w, next_w))\n",
    "print('v error: ', rel_error(expected_v, config['v']))\n",
    "print('m error: ', rel_error(expected_m, config['m']))"
   ]
  },
  {
   "cell_type": "markdown",
   "metadata": {},
   "source": [
    "Exécuter le code que voici afin de comparer ces différent algorithmes.  En pricipe Adam devrait être le meilleur algorithme."
   ]
  },
  {
   "cell_type": "code",
   "execution_count": null,
   "metadata": {},
   "outputs": [],
   "source": [
    "learning_rates = {'rmsprop': 1e-4, 'adam': 1e-3}\n",
    "for update_rule in ['adam', 'rmsprop']:\n",
    "  print('running with ', update_rule)\n",
    "  model = FullyConnectedNeuralNet([100, 100, 100, 100, 100], weight_scale=5e-2)\n",
    "\n",
    "  solver = Solver(model, small_data,\n",
    "                  num_epochs=10, batch_size=100,\n",
    "                  update_rule=update_rule,\n",
    "                  optim_config={\n",
    "                    'learning_rate': learning_rates[update_rule]\n",
    "                  },\n",
    "                  verbose=True)\n",
    "  solvers[update_rule] = solver\n",
    "  solver.train()\n",
    "  print()\n",
    "\n",
    "plt.subplot(3, 1, 1)\n",
    "plt.title('Training loss')\n",
    "plt.xlabel('Iteration')\n",
    "\n",
    "plt.subplot(3, 1, 2)\n",
    "plt.title('Training accuracy')\n",
    "plt.xlabel('Epoch')\n",
    "\n",
    "plt.subplot(3, 1, 3)\n",
    "plt.title('Validation accuracy')\n",
    "plt.xlabel('Epoch')\n",
    "\n",
    "for update_rule, solver in solvers.items():\n",
    "  plt.subplot(3, 1, 1)\n",
    "  plt.plot(solver.loss_history, 'o', label=update_rule)\n",
    "  \n",
    "  plt.subplot(3, 1, 2)\n",
    "  plt.plot(solver.train_acc_history, '-o', label=update_rule)\n",
    "\n",
    "  plt.subplot(3, 1, 3)\n",
    "  plt.plot(solver.val_acc_history, '-o', label=update_rule)\n",
    "  \n",
    "for i in [1, 2, 3]:\n",
    "  plt.subplot(3, 1, i)\n",
    "  plt.legend(loc='upper center', ncol=4)\n",
    "plt.gcf().set_size_inches(15, 15)\n",
    "plt.show()"
   ]
  },
  {
   "cell_type": "markdown",
   "metadata": {},
   "source": [
    "# Entraînez un bon model!\n",
    "Entraînez le meilleur réseau de neurones possible sur CIFAR-10 et mettez le meilleur modèle dans la variable `best_model`. Vous devriez avoir au moins une justesse 50% (voire même 55%) en validation et en test.\n",
    "\n",
    "Plus tard dans le devoir, on vous demandera d'entrainer et de tester une réseau convolutionnel sur CIFAR-10.  Vous verrez alors que cette architecture est supérieure aux réseaus de neurones pleinement connectés.\n",
    "\n",
    "NOTE: il serait judicieux de compléter le notebook `BatchNormalization.ipynb` et `Dropout.ipynb` avant de compléter cette dernière partie."
   ]
  },
  {
   "cell_type": "code",
   "execution_count": null,
   "metadata": {},
   "outputs": [],
   "source": [
    "do_delete = True"
   ]
  },
  {
   "cell_type": "code",
   "execution_count": null,
   "metadata": {},
   "outputs": [],
   "source": [
    "if do_delete:\n",
    "    trys = []\n",
    "    best_try = -1\n",
    "    best_val_acc = 0\n",
    "    print('Deleted trys')\n",
    "else:\n",
    "    print('Did not delete trys')\n",
    "do_delete = False"
   ]
  },
  {
   "cell_type": "code",
   "execution_count": null,
   "metadata": {
    "scrolled": true
   },
   "outputs": [],
   "source": [
    "best_model = None\n",
    "################################################################################\n",
    "# TODO: Entrainez le meilleur FullyConnectedNeuralNet que vous pouvez sur les  #\n",
    "#  données CIFAR-10. Vous pourriez trouver la normalization par lots et le     #\n",
    "#  dropout utile. Stockez votre meilleur modèle dans la variable best_model.   #\n",
    "################################################################################\n",
    "\n",
    "def uniform(minv, maxv):\n",
    "    return np.random.rand() * (maxv - minv) + minv\n",
    "\n",
    "if 'trys' not in locals():\n",
    "    trys = []\n",
    "    best_try = -1\n",
    "    best_val_acc = 0\n",
    "for i in range(1):\n",
    "    # reg 0.00779190546432  lr 0.000423844376859\n",
    "    # reg 0.000204588367827 lr 0.000529341067109\n",
    "    weight_scale = 3e-2  # 10 ** uniform(-3, -1)\n",
    "    lr = 10 ** -2.5  # 10 ** uniform(-4, -2)\n",
    "    reg = 1e-10  # 10 ** uniform(-6, -3)\n",
    "    \n",
    "    model = FullyConnectedNeuralNet([100] * 5, weight_scale=weight_scale, reg=reg, use_batchnorm=True)\n",
    "\n",
    "    solver = Solver(model, data,\n",
    "                  num_epochs=30, batch_size=100,\n",
    "                  update_rule='adam',\n",
    "                  optim_config={\n",
    "                    'learning_rate': lr\n",
    "                  },\n",
    "                  print_every=200,\n",
    "                  verbose=True)\n",
    "    solver.train()\n",
    "    \n",
    "    max_val_acc = np.max(solver.val_acc_history)\n",
    "    cur_index = len(trys)\n",
    "    print('Try', cur_index, 'Max accu. val.', max_val_acc, 'p:', weight_scale, reg, lr, ('Record!' if max_val_acc > best_val_acc else ''))\n",
    "    trys.append({\n",
    "            'ws': weight_scale, 'reg': reg, 'lr': lr,\n",
    "            'maxvacc': max_val_acc,\n",
    "            'lossh': solver.loss_history,\n",
    "            'tacch': solver.train_acc_history,\n",
    "            'vacch': solver.val_acc_history,\n",
    "            'model': model\n",
    "        })\n",
    "    \n",
    "    if max_val_acc > best_val_acc:\n",
    "        best_val_acc = max_val_acc\n",
    "        best_try = cur_index\n",
    "        \n",
    "print('Best try:', best_try)\n",
    "print('Total tries', len(trys))\n",
    "################################################################################\n",
    "#                              FIN DE VOTRE CODE                               #\n",
    "################################################################################"
   ]
  },
  {
   "cell_type": "code",
   "execution_count": null,
   "metadata": {},
   "outputs": [],
   "source": [
    "# Visualize the cross-validation results\n",
    "forget = 0\n",
    "new_tries = trys[forget:]\n",
    "marker_size = 100\n",
    "#x_scatter, x_label = [np.log10(x['ws']) for x in new_tries], 'log weight scale'\n",
    "x_scatter, x_label = [np.log10(x['lr']) for x in new_tries], 'log lr'\n",
    "y_scatter, y_label = [np.log10(x['reg']) for x in new_tries], 'log reg'\n",
    "\n",
    "# plot validation accuracy\n",
    "colors = [x['maxvacc'] for x in new_tries] # default size of markers is 20\n",
    "isorted = np.argsort(colors)\n",
    "x_scatter = np.asarray(x_scatter)[isorted]\n",
    "y_scatter = np.asarray(y_scatter)[isorted]\n",
    "colors = np.asarray(colors)[isorted]\n",
    "plt.subplot(2, 1, 2)\n",
    "plt.scatter(x_scatter, y_scatter, marker_size, c=colors)\n",
    "plt.colorbar()\n",
    "plt.xlabel(x_label)\n",
    "plt.ylabel(y_label)\n",
    "plt.title('Validation accuracy')\n",
    "plt.show()"
   ]
  },
  {
   "cell_type": "code",
   "execution_count": null,
   "metadata": {},
   "outputs": [],
   "source": [
    "ref = trys[best_try]\n",
    "best_try = -1\n",
    "plt.subplot(2, 1, 1)\n",
    "plt.title('Training loss')\n",
    "plt.xlabel('Iteration')\n",
    "plt.plot(trys[best_try]['lossh'], '-')\n",
    "plt.plot(ref['lossh'], '-')\n",
    "\n",
    "plt.subplot(2, 1, 2)\n",
    "plt.title('Accuracy')\n",
    "plt.xlabel('Epoch')\n",
    "plt.plot(trys[best_try]['tacch'], '-', label='Train')\n",
    "plt.plot(trys[best_try]['vacch'], '-', label='Valid')\n",
    "plt.plot(ref['tacch'], '-', label='Train ref')\n",
    "plt.plot(ref['vacch'], '-', label='Valid ref')\n",
    "plt.legend(loc='lower center')\n",
    "\n",
    "plt.tight_layout(pad=0, w_pad=0, h_pad=2)\n",
    "plt.show()"
   ]
  },
  {
   "cell_type": "markdown",
   "metadata": {},
   "source": [
    "# Test your model\n",
    "Run your best model on the validation and test sets. You should achieve above 53% accuracy on the validation set."
   ]
  },
  {
   "cell_type": "code",
   "execution_count": null,
   "metadata": {},
   "outputs": [],
   "source": [
    "best_model = trys[best_try]['model']\n",
    "X_test = data['X_test']\n",
    "y_test = data['y_test']\n",
    "X_val  = data['X_val']\n",
    "y_val  = data['y_val']\n",
    "y_test_pred = np.argmax(best_model.loss(X_test), axis=1)\n",
    "y_val_pred = np.argmax(best_model.loss(X_val), axis=1)\n",
    "print('Validation set accuracy: ', (y_val_pred == y_val).mean())\n",
    "print('Test set accuracy: ', (y_test_pred == y_test).mean())"
   ]
  },
  {
   "cell_type": "code",
   "execution_count": null,
   "metadata": {},
   "outputs": [],
   "source": []
  }
 ],
 "metadata": {
  "anaconda-cloud": {},
  "kernelspec": {
   "display_name": "Python 3",
   "language": "python",
   "name": "python3"
  },
  "language_info": {
   "codemirror_mode": {
    "name": "ipython",
    "version": 3
   },
   "file_extension": ".py",
   "mimetype": "text/x-python",
   "name": "python",
   "nbconvert_exporter": "python",
   "pygments_lexer": "ipython3",
   "version": "3.7.3"
  },
  "pycharm": {
   "stem_cell": {
    "cell_type": "raw",
    "metadata": {
     "collapsed": false
    },
    "source": []
   }
  }
 },
 "nbformat": 4,
 "nbformat_minor": 1
}
