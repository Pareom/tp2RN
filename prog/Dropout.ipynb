{
 "cells": [
  {
   "cell_type": "markdown",
   "metadata": {},
   "source": [
    "# Dropout\n",
    "Dropout [1] est une technique de régularisation qui consiste à forcer aléatoirement à zéro certains neurones lors de la propagation avant. Pour cet exercice, vous serez appelé à coder une couche de dropout et de l'incorporer à votre réseau pleinement connecté.\n",
    "\n",
    "[1] Geoffrey E. Hinton et al, \"Improving neural networks by preventing co-adaptation of feature detectors\", arXiv 2012"
   ]
  },
  {
   "cell_type": "code",
   "execution_count": 33,
   "metadata": {},
   "outputs": [
    {
     "name": "stdout",
     "output_type": "stream",
     "text": [
      "The autoreload extension is already loaded. To reload it, use:\n",
      "  %reload_ext autoreload\n"
     ]
    }
   ],
   "source": [
    "# As usual, a bit of setup\n",
    "\n",
    "import time\n",
    "import numpy as np\n",
    "import matplotlib.pyplot as plt\n",
    "from ift725.classifiers.fc_net import *\n",
    "from ift725.data_utils import get_CIFAR10_data\n",
    "from ift725.gradient_check import eval_numerical_gradient, eval_numerical_gradient_array\n",
    "from ift725.solver import Solver\n",
    "\n",
    "%matplotlib inline\n",
    "plt.rcParams['figure.figsize'] = (10.0, 8.0) # set default size of plots\n",
    "plt.rcParams['image.interpolation'] = 'nearest'\n",
    "plt.rcParams['image.cmap'] = 'gray'\n",
    "\n",
    "# for auto-reloading external modules\n",
    "# see http://stackoverflow.com/questions/1907993/autoreload-of-modules-in-ipython\n",
    "%load_ext autoreload\n",
    "%autoreload 2\n",
    "\n",
    "def rel_error(x, y):\n",
    "  \"\"\" returns relative error \"\"\"\n",
    "  return np.max(np.abs(x - y) / (np.maximum(1e-8, np.abs(x) + np.abs(y))))"
   ]
  },
  {
   "cell_type": "code",
   "execution_count": 34,
   "metadata": {},
   "outputs": [
    {
     "name": "stdout",
     "output_type": "stream",
     "text": [
      "X_train:  (49000, 3, 32, 32)\n",
      "y_train:  (49000,)\n",
      "X_val:  (1000, 3, 32, 32)\n",
      "y_val:  (1000,)\n",
      "X_test:  (1000, 3, 32, 32)\n",
      "y_test:  (1000,)\n"
     ]
    }
   ],
   "source": [
    "# Load the (preprocessed) CIFAR10 data.\n",
    "\n",
    "data = get_CIFAR10_data()\n",
    "for k, v in data.items():\n",
    "  print('%s: ' % k, v.shape)"
   ]
  },
  {
   "cell_type": "markdown",
   "metadata": {},
   "source": [
    "# Dropout: propagation avant\n",
    "Dans le fichier `ift725/layers.py`, codez la propagation avant du dropout. Puisque dropout se comporte différemment en entraînement qu'en test, assurez-vous que les deux modes fonctionnent bien.\n",
    "\n",
    "Exécutez la cellule que voici et assurez-vous que la moyenne de out_train soit la même que out_test.\n",
    "\n",
    "NOTE : vous devez implémenter du \"inverse dropout\".  Pour plus de détail, voir https://deepnotes.io/dropout"
   ]
  },
  {
   "cell_type": "code",
   "execution_count": 35,
   "metadata": {},
   "outputs": [
    {
     "name": "stdout",
     "output_type": "stream",
     "text": [
      "Running tests with p =  0.3\n",
      "Mean of input:  10.000674699958465\n",
      "Mean of train-time output:  9.996906836954857\n",
      "Mean of test-time output:  10.000674699958465\n",
      "Fraction of train-time output set to zero:  0.30028\n",
      "Fraction of test-time output set to zero:  0.0\n",
      "\n",
      "Running tests with p =  0.6\n",
      "Mean of input:  10.000674699958465\n",
      "Mean of train-time output:  9.971365813593712\n",
      "Mean of test-time output:  10.000674699958465\n",
      "Fraction of train-time output set to zero:  0.601008\n",
      "Fraction of test-time output set to zero:  0.0\n",
      "\n",
      "Running tests with p =  0.75\n",
      "Mean of input:  10.000674699958465\n",
      "Mean of train-time output:  9.986512808630932\n",
      "Mean of test-time output:  10.000674699958465\n",
      "Fraction of train-time output set to zero:  0.75034\n",
      "Fraction of test-time output set to zero:  0.0\n",
      "\n"
     ]
    }
   ],
   "source": [
    "x = np.random.randn(500, 500) + 10\n",
    "\n",
    "for p in [0.3, 0.6, 0.75]:\n",
    "  out_train, _ = forward_inverted_dropout(x, {'mode': 'train', 'p': p})\n",
    "  out_test, _ = forward_inverted_dropout(x, {'mode': 'test', 'p': p})\n",
    "\n",
    "  print('Running tests with p = ', p)\n",
    "  print('Mean of input: ', x.mean())\n",
    "  print('Mean of train-time output: ', out_train.mean())\n",
    "  print('Mean of test-time output: ', out_test.mean())\n",
    "  print('Fraction of train-time output set to zero: ', (out_train == 0).mean())\n",
    "  print('Fraction of test-time output set to zero: ', (out_test == 0).mean())\n",
    "  print()"
   ]
  },
  {
   "cell_type": "markdown",
   "metadata": {},
   "source": [
    "# Dropout: rétro-propagation\n",
    "Dans le fichier `ift725/layers.py`, codez la rétro-propagation du dropout. Vous pourrez par la suite tester votre code avec la cellule que voici."
   ]
  },
  {
   "cell_type": "code",
   "execution_count": 36,
   "metadata": {},
   "outputs": [
    {
     "name": "stdout",
     "output_type": "stream",
     "text": [
      "dx relative error:  1.892904044011933e-11\n"
     ]
    }
   ],
   "source": [
    "x = np.random.randn(10, 10) + 10\n",
    "dout = np.random.randn(*x.shape)\n",
    "\n",
    "dropout_param = {'mode': 'train', 'p': 0.8, 'seed': 123}\n",
    "out, cache = forward_inverted_dropout(x, dropout_param)\n",
    "dx = backward_inverted_dropout(dout, cache)\n",
    "dx_num = eval_numerical_gradient_array(lambda xx: forward_inverted_dropout(xx, dropout_param)[0], x, dout)\n",
    "\n",
    "# Error should be below 1e-10\n",
    "print('dx relative error: ', rel_error(dx, dx_num))"
   ]
  },
  {
   "cell_type": "markdown",
   "metadata": {},
   "source": [
    "# Réseau multi-couches avec Dropout\n",
    "Dans le fichier `ift725/classifiers/fc_net.py`, modifiez votre code afin d'y incorporer dropout. Plus particulièrement, si le constructeur du réseau reçoit une valeur non nulle pour le paramètre `dropout`, le réseau devrait ajouter du dropout après chaque ReLU. Vous pouvez tester votre code avec la cellule que voici."
   ]
  },
  {
   "cell_type": "code",
   "execution_count": 37,
   "metadata": {},
   "outputs": [
    {
     "name": "stdout",
     "output_type": "stream",
     "text": [
      "Running check with dropout =  0\n",
      "Initial loss:  3.407349099847944\n",
      "W1 relative error: 1.17e-06\n",
      "W2 relative error: 3.14e-07\n",
      "b1 relative error: 9.30e-09\n",
      "b2 relative error: 7.98e-10\n",
      "\n",
      "Running check with dropout =  0.25\n",
      "Initial loss:  3.4340425205761362\n",
      "W1 relative error: 5.30e-07\n",
      "W2 relative error: 6.75e-08\n",
      "b1 relative error: 6.79e-09\n",
      "b2 relative error: 2.04e-02\n",
      "\n",
      "Running check with dropout =  0.5\n",
      "Initial loss:  3.373132237135437\n",
      "W1 relative error: 1.28e-09\n",
      "W2 relative error: 1.29e-08\n",
      "b1 relative error: 3.00e-10\n",
      "b2 relative error: 6.03e-10\n",
      "\n"
     ]
    }
   ],
   "source": [
    "N, D, H1, H2, C = 2, 15, 20, 30, 10\n",
    "X = np.random.randn(N, D)\n",
    "y = np.random.randint(C, size=(N,))\n",
    "\n",
    "for dropout in [0, 0.25, 0.5]:\n",
    "  print('Running check with dropout = ', dropout)\n",
    "  model = FullyConnectedNeuralNet([H1, H2], input_dim=D, num_classes=C,\n",
    "                            weight_scale=5e-2, dtype=np.float64,\n",
    "                            dropout=dropout, seed=123)\n",
    "\n",
    "  loss, grads = model.loss(X, y)\n",
    "  print('Initial loss: ', loss)\n",
    "\n",
    "    \n",
    "  # Error should be below 1e-5\n",
    "  for name in sorted(grads):\n",
    "    f = lambda _: model.loss(X, y)[0]\n",
    "    grad_num = eval_numerical_gradient(f, model.params[name], verbose=False, h=1e-5)\n",
    "    print('%s relative error: %.2e' % (name, rel_error(grad_num, grads[name])))\n",
    "  print()"
   ]
  },
  {
   "cell_type": "markdown",
   "metadata": {},
   "source": [
    "# Expérimentation\n",
    "Ici nous entrainerons 2 réseaux de neurones avec 500 données: l'un utilisera du dropout et l'autre non. Nous pourrons alors visualiser les justesses obtenues en entraînement et en validation."
   ]
  },
  {
   "cell_type": "code",
   "execution_count": 38,
   "metadata": {
    "scrolled": false
   },
   "outputs": [
    {
     "name": "stdout",
     "output_type": "stream",
     "text": [
      "0\n",
      "(Iteration 1 / 125) loss: inf\n",
      "(Epoch 0 / 25) train acc: 0.018000; val_acc: 0.012000\n",
      "(Epoch 1 / 25) train acc: 0.178000; val_acc: 0.129000\n",
      "(Epoch 2 / 25) train acc: 0.274000; val_acc: 0.182000\n",
      "(Epoch 3 / 25) train acc: 0.358000; val_acc: 0.197000\n",
      "(Epoch 4 / 25) train acc: 0.386000; val_acc: 0.196000\n",
      "(Epoch 5 / 25) train acc: 0.426000; val_acc: 0.194000\n",
      "(Epoch 6 / 25) train acc: 0.428000; val_acc: 0.206000\n",
      "(Epoch 7 / 25) train acc: 0.440000; val_acc: 0.194000\n",
      "(Epoch 8 / 25) train acc: 0.518000; val_acc: 0.199000\n",
      "(Epoch 9 / 25) train acc: 0.514000; val_acc: 0.183000\n",
      "(Epoch 10 / 25) train acc: 0.536000; val_acc: 0.191000\n",
      "(Epoch 11 / 25) train acc: 0.534000; val_acc: 0.189000\n",
      "(Epoch 12 / 25) train acc: 0.562000; val_acc: 0.188000\n",
      "(Epoch 13 / 25) train acc: 0.524000; val_acc: 0.187000\n",
      "(Epoch 14 / 25) train acc: 0.590000; val_acc: 0.200000\n",
      "(Epoch 15 / 25) train acc: 0.620000; val_acc: 0.210000\n",
      "(Epoch 16 / 25) train acc: 0.610000; val_acc: 0.195000\n",
      "(Epoch 17 / 25) train acc: 0.578000; val_acc: 0.199000\n",
      "(Epoch 18 / 25) train acc: 0.616000; val_acc: 0.207000\n",
      "(Epoch 19 / 25) train acc: 0.624000; val_acc: 0.213000\n",
      "(Epoch 20 / 25) train acc: 0.634000; val_acc: 0.220000\n",
      "(Iteration 101 / 125) loss: 6.587421\n",
      "(Epoch 21 / 25) train acc: 0.628000; val_acc: 0.212000\n",
      "(Epoch 22 / 25) train acc: 0.648000; val_acc: 0.203000\n",
      "(Epoch 23 / 25) train acc: 0.676000; val_acc: 0.209000\n",
      "(Epoch 24 / 25) train acc: 0.690000; val_acc: 0.215000\n",
      "(Epoch 25 / 25) train acc: 0.682000; val_acc: 0.214000\n",
      "0.75\n",
      "(Iteration 1 / 125) loss: 163.299483\n",
      "(Epoch 0 / 25) train acc: 0.028000; val_acc: 0.017000\n",
      "(Epoch 1 / 25) train acc: 0.218000; val_acc: 0.159000\n",
      "(Epoch 2 / 25) train acc: 0.292000; val_acc: 0.228000\n",
      "(Epoch 3 / 25) train acc: 0.344000; val_acc: 0.260000\n",
      "(Epoch 4 / 25) train acc: 0.384000; val_acc: 0.268000\n",
      "(Epoch 5 / 25) train acc: 0.400000; val_acc: 0.265000\n",
      "(Epoch 6 / 25) train acc: 0.434000; val_acc: 0.279000\n",
      "(Epoch 7 / 25) train acc: 0.450000; val_acc: 0.273000\n",
      "(Epoch 8 / 25) train acc: 0.444000; val_acc: 0.279000\n",
      "(Epoch 9 / 25) train acc: 0.456000; val_acc: 0.275000\n",
      "(Epoch 10 / 25) train acc: 0.474000; val_acc: 0.286000\n",
      "(Epoch 11 / 25) train acc: 0.506000; val_acc: 0.295000\n",
      "(Epoch 12 / 25) train acc: 0.522000; val_acc: 0.295000\n",
      "(Epoch 13 / 25) train acc: 0.534000; val_acc: 0.303000\n",
      "(Epoch 14 / 25) train acc: 0.536000; val_acc: 0.303000\n",
      "(Epoch 15 / 25) train acc: 0.538000; val_acc: 0.306000\n",
      "(Epoch 16 / 25) train acc: 0.570000; val_acc: 0.325000\n",
      "(Epoch 17 / 25) train acc: 0.562000; val_acc: 0.321000\n",
      "(Epoch 18 / 25) train acc: 0.576000; val_acc: 0.302000\n",
      "(Epoch 19 / 25) train acc: 0.596000; val_acc: 0.296000\n",
      "(Epoch 20 / 25) train acc: 0.586000; val_acc: 0.303000\n",
      "(Iteration 101 / 125) loss: 63.641678\n",
      "(Epoch 21 / 25) train acc: 0.590000; val_acc: 0.296000\n",
      "(Epoch 22 / 25) train acc: 0.602000; val_acc: 0.296000\n",
      "(Epoch 23 / 25) train acc: 0.616000; val_acc: 0.298000\n",
      "(Epoch 24 / 25) train acc: 0.620000; val_acc: 0.320000\n",
      "(Epoch 25 / 25) train acc: 0.614000; val_acc: 0.310000\n"
     ]
    }
   ],
   "source": [
    "# Train two identical nets, one with dropout and one without\n",
    "\n",
    "num_train = 500\n",
    "small_data = {\n",
    "  'X_train': data['X_train'][:num_train],\n",
    "  'y_train': data['y_train'][:num_train],\n",
    "  'X_val': data['X_val'],\n",
    "  'y_val': data['y_val'],\n",
    "}\n",
    "\n",
    "solvers = {}\n",
    "dropout_choices = [0, 0.75]\n",
    "for dropout in dropout_choices:\n",
    "  model = FullyConnectedNeuralNet([500], dropout=dropout)\n",
    "  print(dropout)\n",
    "\n",
    "  solver = Solver(model, small_data,\n",
    "                  num_epochs=25, batch_size=100,\n",
    "                  update_rule='adam',\n",
    "                  optim_config={\n",
    "                    'learning_rate': 5e-4,\n",
    "                  },\n",
    "                  verbose=True, print_every=100)\n",
    "  solver.train()\n",
    "  solvers[dropout] = solver"
   ]
  },
  {
   "cell_type": "code",
   "execution_count": 39,
   "metadata": {},
   "outputs": [
    {
     "data": {
      "image/png": "[encoded data removed]",
      "text/plain": [
       "<Figure size 1080x1080 with 2 Axes>"
      ]
     },
     "metadata": {
      "needs_background": "light"
     },
     "output_type": "display_data"
    }
   ],
   "source": [
    "# Plot train and validation accuracies of the two models\n",
    "\n",
    "train_accs = []\n",
    "val_accs = []\n",
    "for dropout in dropout_choices:\n",
    "  solver = solvers[dropout]\n",
    "  train_accs.append(solver.train_acc_history[-1])\n",
    "  val_accs.append(solver.val_acc_history[-1])\n",
    "\n",
    "plt.subplot(3, 1, 1)\n",
    "for dropout in dropout_choices:\n",
    "  plt.plot(solvers[dropout].train_acc_history, '-', label='%.2f dropout' % dropout)\n",
    "plt.title('Train accuracy')\n",
    "plt.xlabel('Epoch')\n",
    "plt.ylabel('Accuracy')\n",
    "plt.legend(ncol=2, loc='lower right')\n",
    "  \n",
    "plt.subplot(3, 1, 2)\n",
    "for dropout in dropout_choices:\n",
    "  plt.plot(solvers[dropout].val_acc_history, '-', label='%.2f dropout' % dropout)\n",
    "plt.title('Val accuracy')\n",
    "plt.xlabel('Epoch')\n",
    "plt.ylabel('Accuracy')\n",
    "plt.legend(ncol=2, loc='lower right')\n",
    "\n",
    "plt.gcf().set_size_inches(15, 15)\n",
    "plt.show()"
   ]
  },
  {
   "cell_type": "markdown",
   "metadata": {},
   "source": [
    "# Question\n",
    "Expliquez la conclusion que l'on peut tirer de ces deux courbes.\n",
    "\n",
    "## Votre réponse :\n",
    "Nous pouvons voir que sans dropout, l'entrainement arrive à avoir un petit peu plus de précision que celui avec dropout.Cependant, pendant la phase de test, on peut observer que le réseau entrainé avec dropout est bien plus précis que celui sans dropout.On peut donc conclure que le réseau reconnait mieux ce qu'il ne connait pas si l'on \"déforme\" les données d'entrainement. On peut dire que le réseau est plus adapté à l'inconnu."
   ]
  },
  {
   "cell_type": "code",
   "execution_count": null,
   "metadata": {},
   "outputs": [],
   "source": []
  }
 ],
 "metadata": {
  "anaconda-cloud": {},
  "kernelspec": {
   "display_name": "Python 3",
   "language": "python",
   "name": "python3"
  },
  "language_info": {
   "codemirror_mode": {
    "name": "ipython",
    "version": 3
   },
   "file_extension": ".py",
   "mimetype": "text/x-python",
   "name": "python",
   "nbconvert_exporter": "python",
   "pygments_lexer": "ipython3",
   "version": "3.7.3"
  }
 },
 "nbformat": 4,
 "nbformat_minor": 1
}
