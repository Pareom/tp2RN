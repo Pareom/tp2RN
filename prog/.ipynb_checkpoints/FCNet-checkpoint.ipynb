{
 "cells": [
  {
   "cell_type": "markdown",
   "metadata": {},
   "source": [
    "# Réseaux pleinement connectés \n",
    "\n",
    "Cet exercice fait suite au devoir 1.  L'objectif ici est d'implanter un réseau pleinement connecté avec une approche plus modulaire. Pour chaque couche, vous serez appelé à implanter une fonction `forward` et une fonction `backward`. La fonction `forward` reçoit en entrée un tenseur `x`, des poids `w` et possiblement d'autres parameters, et retourne le tenseur de sortie de la couche `out`.  La fonction retourne aussi une variable `cache`  contenant des données utilisés pour la rétropropagation (fonction `backward`).  La structure de la fonction `forward` est la suivante : \n",
    "\n",
    "```python\n",
    "def layer_forward(x, w):\n",
    "  \"\"\" Receive inputs x and weights w \"\"\"\n",
    "  # Do some computations ...\n",
    "  z = # ... some intermediate value\n",
    "  # Do some more computations ...\n",
    "  out = # the output\n",
    "   \n",
    "  cache = (x, w, z, out) # Values we need to compute gradients\n",
    "   \n",
    "  return out, cache\n",
    "```\n",
    "\n",
    "N'oubliez pas que `x` est une `batch` et donc conbient plus d'un élément.\n",
    "\n",
    "En rétropropagation, la fonction `backward` de la couche reçoit en entrée un tenseur de dérivées `dout` ainsi que la liste `cache` calculée lors de la propagation avant (fonction `forward`).  Elle retourne deux tenseurs de gradients: un par rapport à ses entrée (`dx`) et un par rapport à ses poids (`dw`) (et parfois un par rapport aux bias `db`).  La structure de la fonction `backward` est la suivante : \n",
    "\n",
    "```python\n",
    "def layer_backward(dout, cache):\n",
    "  \"\"\"\n",
    "  Receive derivative of loss with respect to outputs and cache,\n",
    "  and compute derivative with respect to inputs.\n",
    "  \"\"\"\n",
    "  # Unpack cache values\n",
    "  x, w, z, out = cache\n",
    "  \n",
    "  # Use values in cache to compute derivatives\n",
    "  dx = # Derivative of loss with respect to x\n",
    "  dw = # Derivative of loss with respect to w\n",
    "  \n",
    "  return dx, dw\n",
    "```\n",
    "\n",
    "Une fois ce type de couches implanté, il sera possible de les combiner ensemble et ainsi construire des réseaux de neurones de différentes architectures.\n",
    "\n",
    "En plus des réseaux pleinement connectés, nous explorerons différents algorithme de descente de gradient et  introduirons *Dropout* et *Batch Norm*.\n",
    "  "
   ]
  },
  {
   "cell_type": "code",
   "execution_count": 1,
   "metadata": {
    "pycharm": {
     "is_executing": false
    }
   },
   "outputs": [
    {
     "name": "stdout",
     "output_type": "stream",
     "text": [
      "run the following from the ift725 directory and try again:\n",
      "python setup.py build_ext --inplace\n",
      "You may also need to restart your iPython kernel\n",
      "setup done!\n"
     ]
    }
   ],
   "source": [
    "# As usual, a bit of setup\n",
    "\n",
    "#import time\n",
    "import numpy as np\n",
    "import matplotlib.pyplot as plt\n",
    "from ift725.layers import *\n",
    "from ift725.classifiers.fc_net import *\n",
    "from ift725.data_utils import get_CIFAR10_data\n",
    "from ift725.gradient_check import eval_numerical_gradient, eval_numerical_gradient_array\n",
    "from ift725.solver import Solver\n",
    "%matplotlib inline\n",
    "plt.rcParams['figure.figsize'] = (10.0, 8.0) # set default size of plots\n",
    "plt.rcParams['image.interpolation'] = 'nearest'\n",
    "plt.rcParams['image.cmap'] = 'gray'\n",
    "\n",
    "# for auto-reloading external modules\n",
    "# see http://stackoverflow.com/questions/1907993/autoreload-of-modules-in-ipython\n",
    "%load_ext autoreload\n",
    "%autoreload 2\n",
    "\n",
    "def rel_error(x, y):\n",
    "  \"\"\" returns relative error \"\"\"\n",
    "  return np.max(np.abs(x - y) / (np.maximum(1e-8, np.abs(x) + np.abs(y))))\n",
    "\n",
    "print('setup done!')"
   ]
  },
  {
   "cell_type": "code",
   "execution_count": 2,
   "metadata": {
    "pycharm": {
     "is_executing": false
    }
   },
   "outputs": [
    {
     "name": "stdout",
     "output_type": "stream",
     "text": [
      "X_train:  (49000, 3, 32, 32)\n",
      "y_train:  (49000,)\n",
      "X_val:  (1000, 3, 32, 32)\n",
      "y_val:  (1000,)\n",
      "X_test:  (1000, 3, 32, 32)\n",
      "y_test:  (1000,)\n"
     ]
    }
   ],
   "source": [
    "# Load the (preprocessed) CIFAR10 data.\n",
    "\n",
    "data = get_CIFAR10_data()\n",
    "for k, v in data.items():\n",
    "  print('%s: ' % k, v.shape)"
   ]
  },
  {
   "cell_type": "markdown",
   "metadata": {},
   "source": [
    "# Couche pleinement connectée : propagation avant\n",
    "Dans le fichier `ift725/layers.py`, vous devez coder la fonction `forward_fully_connected` et la tester avec le code de la cellule suivante."
   ]
  },
  {
   "cell_type": "code",
   "execution_count": 3,
   "metadata": {
    "pycharm": {
     "is_executing": false
    }
   },
   "outputs": [
    {
     "name": "stdout",
     "output_type": "stream",
     "text": [
      "x-shape  =  (1, 2, 2, 3)\n",
      "w-shape  =  (12, 1)\n",
      "b-shape  =  (1,)\n",
      "out =  [[36.7]]\n",
      "correct_out =  36.7\n",
      "Testing forward_fully_connected function:\n",
      "difference:  0.0\n"
     ]
    }
   ],
   "source": [
    "# Test the forward_fully_connected function : batch 1 and 1 output neuron\n",
    "\n",
    "input_shape = (2, 2, 3) # an 2x2x3 input variable (a CIFAR10 image would have a 32x32x3 shape)\n",
    "\n",
    "input_size = np.prod(input_shape) # here 12\n",
    "weight_size = np.prod(input_shape) # here 12\n",
    "\n",
    "x = np.floor(np.linspace(-0.1, 0.5, num=input_size).reshape(1, *input_shape)*10)\n",
    "w = np.floor(np.linspace(-0.2, 0.3, num=weight_size).reshape(weight_size, 1)*10)\n",
    "b = np.linspace(-0.3, 0.1, num=1)\n",
    "\n",
    "print('x-shape  = ', x.shape)\n",
    "print('w-shape  = ', w.shape)\n",
    "print('b-shape  = ', b.shape)\n",
    "\n",
    "out, _ = forward_fully_connected(x, w, b)\n",
    "correct_out = 36.7\n",
    "\n",
    "print('out = ', out)\n",
    "print('correct_out = ', correct_out)\n",
    "\n",
    "# Compare your output with ours. The error should be around 1e-9.\n",
    "print('Testing forward_fully_connected function:')\n",
    "print('difference: ', rel_error(out, correct_out))"
   ]
  },
  {
   "cell_type": "code",
   "execution_count": 4,
   "metadata": {},
   "outputs": [
    {
     "name": "stdout",
     "output_type": "stream",
     "text": [
      "x-shape  =  (2, 2, 2, 3)\n",
      "w-shape  =  (12, 1)\n",
      "b-shape  =  (1,)\n",
      "out =  [[14.7]\n",
      " [20.7]]\n",
      "correct_out =  [14.7 20.7]\n",
      "Testing forward_fully_connected function:\n",
      "difference:  0.0\n"
     ]
    }
   ],
   "source": [
    "# Test the forward_fully_connected function : batch 2 and 1 output neuron\n",
    "\n",
    "num_inputs = 2          # batch of 2 input variables\n",
    "input_shape = (2, 2, 3) # an 2x2x3 input variable (a CIFAR10 image would have a 32x32x3 shape)\n",
    "\n",
    "input_size = num_inputs * np.prod(input_shape) # here 2x12 = 24\n",
    "weight_size = np.prod(input_shape) # here 12\n",
    "\n",
    "x = np.floor(np.linspace(-0.1, 0.5, num=input_size).reshape(num_inputs, *input_shape)*10)\n",
    "w = np.floor(np.linspace(-0.2, 0.3, num=weight_size).reshape(weight_size, 1)*10)\n",
    "b = np.linspace(-0.3, 0.1, num=1)\n",
    "\n",
    "print('x-shape  = ', x.shape)\n",
    "print('w-shape  = ', w.shape)\n",
    "print('b-shape  = ', b.shape)\n",
    "\n",
    "out, _ = forward_fully_connected(x, w, b)\n",
    "correct_out = np.array([14.7, 20.7])\n",
    "\n",
    "print('out = ', out)\n",
    "print('correct_out = ', correct_out)\n",
    "\n",
    "# Compare your output with ours. The error should be around 1e-9.\n",
    "print('Testing forward_fully_connected function:')\n",
    "print('difference: ', rel_error(out.T, correct_out))"
   ]
  },
  {
   "cell_type": "code",
   "execution_count": 5,
   "metadata": {},
   "outputs": [
    {
     "name": "stdout",
     "output_type": "stream",
     "text": [
      "x-shape  =  (2, 2, 2, 3)\n",
      "w-shape  =  (12, 2)\n",
      "b-shape  =  (2,)\n",
      "out =  [[12.7 14.1]\n",
      " [11.7 23.1]]\n",
      "correct_out =  [[12.7 14.1]\n",
      " [11.7 23.1]]\n",
      "Testing forward_fully_connected function:\n",
      "difference:  0.0\n"
     ]
    }
   ],
   "source": [
    "# Test the forward_fully_connected function : batch 2 and 2 output neurons\n",
    "num_inputs = 2          # batch of 2 input variables\n",
    "input_shape = (2, 2, 3) # each variable as a 2x2x3 shape (a CIFAR10 RBG image would have a 32x32x3 shape)\n",
    "output_dim = 2          # the output has 2 neurons\n",
    "\n",
    "input_size = num_inputs * np.prod(input_shape)  #here 2x2x2x3 = 24\n",
    "weight_size = output_dim * np.prod(input_shape) #here 2x12 = 24\n",
    "\n",
    "x = np.floor(np.linspace(-0.1, 0.5, num=input_size).reshape(num_inputs, *input_shape)*10)\n",
    "w = np.floor(np.linspace(-0.2, 0.3, num=weight_size).reshape(np.prod(input_shape), output_dim)*10)\n",
    "b = np.linspace(-0.3, 0.1, num=output_dim)\n",
    "\n",
    "print('x-shape  = ', x.shape)\n",
    "print('w-shape  = ', w.shape)\n",
    "print('b-shape  = ', b.shape)\n",
    "\n",
    "out, _ = forward_fully_connected(x, w, b)\n",
    "correct_out = np.array([[ 12.7,  14.1],\n",
    "                        [ 11.7,  23.1]])\n",
    "\n",
    "print('out = ', out)\n",
    "print('correct_out = ', correct_out)\n",
    "\n",
    "# Compare your output with ours. The error should be around 1e-9.\n",
    "print('Testing forward_fully_connected function:')\n",
    "print('difference: ', rel_error(out, correct_out))"
   ]
  },
  {
   "cell_type": "markdown",
   "metadata": {},
   "source": [
    "# Couche pleinement connectée : rétro-propagation\n",
    "If faut maintenant implanter la fonction `backward_fully_connected` et tester votre code avec un gradient numérique."
   ]
  },
  {
   "cell_type": "code",
   "execution_count": 6,
   "metadata": {
    "pycharm": {
     "is_executing": false
    }
   },
   "outputs": [
    {
     "name": "stdout",
     "output_type": "stream",
     "text": [
      "Testing backward_fully_connected function:\n",
      "dx error:  2.5644193438689715e-09\n",
      "dw error:  2.710670114531136e-10\n",
      "db error:  1.1470227297358805e-11\n"
     ]
    }
   ],
   "source": [
    "# Test the backward_fully_connected function\n",
    "# Here a case for a batch of 10 elements\n",
    "# Each elements has a 2x3 size\n",
    "# The layer has 5 output neurons\n",
    "\n",
    "x = np.random.randn(10, 2, 3)  # batch of 10 elements, each of size 2x3\n",
    "w = np.random.randn(6, 5)      # 2x3=6 weigts times 5 output neurones\n",
    "b = np.random.randn(5)         # one bias for each output neurone\n",
    "dout = np.random.randn(10, 5)  # the upcoming gradient at each output neuron and for each element of the batch\n",
    "\n",
    "dx_num = eval_numerical_gradient_array(lambda x: forward_fully_connected(x, w, b)[0], x, dout)\n",
    "dw_num = eval_numerical_gradient_array(lambda w: forward_fully_connected(x, w, b)[0], w, dout)\n",
    "db_num = eval_numerical_gradient_array(lambda b: forward_fully_connected(x, w, b)[0], b, dout)\n",
    "\n",
    "_, cache = forward_fully_connected(x, w, b)\n",
    "dx, dw, db = backward_fully_connected(dout, cache)\n",
    "\n",
    "# The error should be around 1e-10\n",
    "print('Testing backward_fully_connected function:')\n",
    "print('dx error: ', rel_error(dx_num, dx))  #Gradient with respect to the input x : size 10x2x3\n",
    "print('dw error: ', rel_error(dw_num, dw))  #Gradient with respect to the weights w : size 5x6\n",
    "print('db error: ', rel_error(db_num, db))  #Gradient with respect to the bias : size 5"
   ]
  },
  {
   "cell_type": "markdown",
   "metadata": {},
   "source": [
    "# Couche ReLU : propagation avant\n",
    "Il faut implanter la fonction d'activation ReLU avec la fonction `relu_forward`.  Testez votre implantation avec la cellule que voici:"
   ]
  },
  {
   "cell_type": "code",
   "execution_count": 7,
   "metadata": {
    "pycharm": {
     "is_executing": false
    }
   },
   "outputs": [
    {
     "name": "stdout",
     "output_type": "stream",
     "text": [
      "Testing forward_relu function:\n",
      "difference:  4.999999798022158e-08\n"
     ]
    }
   ],
   "source": [
    "# Test the relu_forward function\n",
    "\n",
    "x = np.linspace(-0.5, 0.5, num=12).reshape(3, 4)\n",
    "\n",
    "out, _ = forward_relu(x)\n",
    "correct_out = np.array([[ 0.,          0.,          0.,          0.,        ],\n",
    "                        [ 0.,          0.,          0.04545455,  0.13636364,],\n",
    "                        [ 0.22727273,  0.31818182,  0.40909091,  0.5,       ]])\n",
    "\n",
    "# Compare your output with ours. The error should be around 1e-8\n",
    "print('Testing forward_relu function:')\n",
    "print('difference: ', rel_error(out, correct_out))"
   ]
  },
  {
   "cell_type": "markdown",
   "metadata": {},
   "source": [
    "# Couche ReLU : rétropropagation\n",
    "Maintenant il faut implanter la rétro-propagation pour une fonction d'activation ReLU via la fonction `relu_backward`.  Testez votre implantation avec le gradient numérique que voici:"
   ]
  },
  {
   "cell_type": "code",
   "execution_count": 8,
   "metadata": {
    "pycharm": {
     "is_executing": false
    }
   },
   "outputs": [
    {
     "name": "stdout",
     "output_type": "stream",
     "text": [
      "x =  [[-0.17095322  0.35994273]\n",
      " [ 0.18652541  0.76419947]]\n",
      "dout  =  [[-0.29065956  0.75346157]\n",
      " [ 0.36696418  0.87162174]]\n",
      "Testing backward_relu function:\n",
      "dx error:  2.2755437802237865e-12\n"
     ]
    }
   ],
   "source": [
    "x = np.random.randn(2, 2)\n",
    "dout = np.random.randn(*x.shape) # Upstream gradient that retropropagates at that layer\n",
    "print(\"x = \", x)\n",
    "print(\"dout  = \", dout)\n",
    "\n",
    "dx_num = eval_numerical_gradient_array(lambda xx: forward_relu(xx)[0], x, dout)\n",
    "\n",
    "_, cache = forward_relu(x)\n",
    "dx = backward_relu(dout, cache)\n",
    "# The error should be around 1e-12\n",
    "print('Testing backward_relu function:')\n",
    "print('dx error: ', rel_error(dx_num, dx))"
   ]
  },
  {
   "cell_type": "markdown",
   "metadata": {},
   "source": [
    "# Couches \"Combo\"\n",
    "Souvent, on combine une couche pleinement connectée avec une fonction d'activation comme ReLU. Afin de simplifier ces situations, nous avons différentes fonctions à cet effet dans `ift725/layer_combo.py`.\n",
    "\n",
    "Pour l'instant, nous porterons notre attention sur les fonctions `forward_fully_connected_transform_relu` et `backward_fully_connected_transform_relu`.  Vous pouvez vérifier le code à l'aide de la vérification numérique que voici:"
   ]
  },
  {
   "cell_type": "code",
   "execution_count": 9,
   "metadata": {
    "pycharm": {
     "is_executing": false
    }
   },
   "outputs": [
    {
     "name": "stdout",
     "output_type": "stream",
     "text": [
      "Testing forward_fully_connected_transform_relu:\n",
      "dx error:  1.0415118150335986e-10\n",
      "dw error:  9.587397711758095e-10\n",
      "db error:  1.892890413142705e-11\n"
     ]
    }
   ],
   "source": [
    "from ift725.layer_combo import forward_fully_connected_transform_relu, backward_fully_connected_transform_relu\n",
    "\n",
    "x = np.random.randn(2, 3, 4)  # Batch of 2 elements of size 3x4\n",
    "w = np.random.randn(12, 10)   # 10 output neurons, each associated with 12=3x4 weights\n",
    "b = np.random.randn(10)       # 10 biases\n",
    "dout = np.random.randn(2, 10) # up stream gradient for each neuron (10) and each batch element (2)\n",
    "\n",
    "out, cache = forward_fully_connected_transform_relu(x, w, b)\n",
    "dx, dw, db = backward_fully_connected_transform_relu(dout, cache)\n",
    "\n",
    "dx_num = eval_numerical_gradient_array(lambda xx: forward_fully_connected_transform_relu(xx, w, b)[0], x, dout)\n",
    "dw_num = eval_numerical_gradient_array(lambda ww: forward_fully_connected_transform_relu(x, ww, b)[0], w, dout)\n",
    "db_num = eval_numerical_gradient_array(lambda bb: forward_fully_connected_transform_relu(x, w, bb)[0], b, dout)\n",
    "\n",
    "# Error should be around 1e-10\n",
    "print('Testing forward_fully_connected_transform_relu:')\n",
    "print('dx error: ', rel_error(dx_num, dx))\n",
    "print('dw error: ', rel_error(dw_num, dw))\n",
    "print('db error: ', rel_error(db_num, db))"
   ]
  },
  {
   "cell_type": "markdown",
   "metadata": {},
   "source": [
    "# Fonctions de perte : Softmax et SVM\n",
    "Au devoir 1, vous avez implanter ces deux fonctions de perte.  Vous devez donc récupérer votre code et l'adapter aux fonctions `softmax_loss` et `svm_loss` du fichier `ift725/layers.py`.\n",
    "\n",
    "Afin de vous assurer que tout fonctionne pour le mieux, exécutez le code que voici:"
   ]
  },
  {
   "cell_type": "code",
   "execution_count": 10,
   "metadata": {
    "scrolled": false
   },
   "outputs": [
    {
     "name": "stdout",
     "output_type": "stream",
     "text": [
      "Testing svm_loss:\n",
      "loss:  8.998601064734482\n",
      "dx error:  8.182894472887002e-10\n",
      "\n",
      "Testing softmax_loss:\n",
      "loss:  2.3024456544686522\n",
      "dx error:  8.473412689492502e-09\n"
     ]
    }
   ],
   "source": [
    "num_classes, num_inputs = 10, 50\n",
    "x = 0.001 * np.random.randn(num_inputs, num_classes)\n",
    "y = np.random.randint(num_classes, size=num_inputs)\n",
    "\n",
    "dx_num = eval_numerical_gradient(lambda x: svm_loss(x, y)[0], x, verbose=False)\n",
    "loss, dx = svm_loss(x, y)\n",
    "\n",
    "# Test svm_loss function. Loss should be around 9 and dx error should be 1e-9\n",
    "print('Testing svm_loss:')\n",
    "print('loss: ', loss)\n",
    "print('dx error: ', rel_error(dx_num, dx))\n",
    "\n",
    "dx_num = eval_numerical_gradient(lambda x: softmax_loss(x, y)[0], x, verbose=False)\n",
    "loss, dx = softmax_loss(x, y)\n",
    "\n",
    "# Test softmax_loss function. Loss should be 2.3 and dx error should be 1e-8\n",
    "print('\\nTesting softmax_loss:')\n",
    "print('loss: ', loss)\n",
    "print('dx error: ', rel_error(dx_num, dx))"
   ]
  },
  {
   "cell_type": "markdown",
   "metadata": {},
   "source": [
    "# Réseau à deux couches\n",
    "Au tp1, vous avez implanté un réseau à deux couches à l'intérieur d'une seule classe monolitique. Maintenant que les couches ont un design plus modulaire, vous devez implanter un réseau à deux couches de façon modulaire.\n",
    "\n",
    "Avec le fichier `ift725/classifiers/fc_net.py`, vous devez compléter l'implantation de la classe `TwoLayerNeuralNet`. Le design de cette classe est le prototype pour les autres réseaux utilisés dans ce devoir.  Par conséquent, soyez attentifs et assurez-vous de bien comprendre cet API. Vous pouvez exécuter la cellule que voici pour tester votre code."
   ]
  },
  {
   "cell_type": "code",
   "execution_count": 11,
   "metadata": {},
   "outputs": [
    {
     "name": "stdout",
     "output_type": "stream",
     "text": [
      "Testing initialization ... \n",
      "Testing test-time forward pass ... \n",
      "score difference =  5.115852452775016e-08\n"
     ]
    }
   ],
   "source": [
    "# First, lets try a forward pass for a minibatch of 3 elements of size 5, with an hidden layer of size 50 and 7 classes\n",
    "\n",
    "N, D, H, C = 3, 5, 50, 7\n",
    "X = np.random.randn(N, D)\n",
    "y = np.random.randint(C, size=N)\n",
    "\n",
    "std = 1e-2\n",
    "model = TwoLayerNeuralNet(input_dim=D, hidden_dim=H, num_classes=C, weight_scale=std)\n",
    "\n",
    "print('Testing initialization ... ')\n",
    "W1_std = abs(model.params['W1'].std() - std)\n",
    "b1 = model.params['b1']\n",
    "W2_std = abs(model.params['W2'].std() - std)\n",
    "b2 = model.params['b2']\n",
    "assert W1_std < std / 10, 'First layer weights do not seem right'\n",
    "assert np.all(b1 == 0), 'First layer biases do not seem right'\n",
    "assert W2_std < std / 10, 'Second layer weights do not seem right'\n",
    "assert np.all(b2 == 0), 'Second layer biases do not seem right'\n",
    "\n",
    "\n",
    "print('Testing test-time forward pass ... ')\n",
    "model.params['W1'] = np.linspace(-0.7, 0.3, num=D*H).reshape(D, H)\n",
    "model.params['b1'] = np.linspace(-0.1, 0.9, num=H)\n",
    "model.params['W2'] = np.linspace(-0.3, 0.4, num=H*C).reshape(H, C)\n",
    "model.params['b2'] = np.linspace(-0.9, 0.1, num=C)\n",
    "X = np.linspace(-5.5, 4.5, num=N*D).reshape(D, N).T\n",
    "scores = model.loss(X)\n",
    "\n",
    "correct_scores = np.asarray(\n",
    "  [[11.53165108,  12.2917344,   13.05181771,  13.81190102,  14.57198434, 15.33206765,  16.09215096],\n",
    "   [12.05769098,  12.74614105,  13.43459113,  14.1230412,   14.81149128, 15.49994135,  16.18839143],\n",
    "   [12.58373087,  13.20054771,  13.81736455,  14.43418138,  15.05099822, 15.66781506,  16.2846319 ]])\n",
    "scores_diff = np.abs(scores - correct_scores).sum()\n",
    "assert scores_diff < 1e-6, 'Problem with test-time forward pass'\n",
    "print('score difference = ', scores_diff)\n"
   ]
  },
  {
   "cell_type": "code",
   "execution_count": 12,
   "metadata": {},
   "outputs": [
    {
     "name": "stdout",
     "output_type": "stream",
     "text": [
      "loss difference =  4.61053417666335e-12\n",
      "loss =  63.9539735065371   correct_loss =  63.9539735065\n",
      "loss difference =  3.710454166139243e-11\n"
     ]
    }
   ],
   "source": [
    "# Now lets compute the loss with and without regularization\n",
    "y = np.asarray([0, 5, 1])\n",
    "\n",
    "model.reg = 0.0  # NO REG\n",
    "loss, grads = model.loss(X, y)\n",
    "correct_loss = 3.4702243556\n",
    "assert abs(loss - correct_loss) < 1e-10, 'Problem with training-time loss'\n",
    "print('loss difference = ', abs(loss - correct_loss))\n",
    "\n",
    "model.reg = 1.0  # WITH REG\n",
    "loss, grads = model.loss(X, y)\n",
    "correct_loss = 63.9539735065\n",
    "print('loss = ', loss, '  correct_loss = ', correct_loss)\n",
    "print('loss difference = ', abs(loss - correct_loss))\n",
    "assert abs(loss - correct_loss) < 1e-10, 'Problem with regularization loss'\n"
   ]
  },
  {
   "cell_type": "code",
   "execution_count": 13,
   "metadata": {},
   "outputs": [
    {
     "name": "stdout",
     "output_type": "stream",
     "text": [
      "Running numeric gradient check with reg =  0.0\n",
      "W1 relative error: 1.83e-08\n",
      "W2 relative error: 3.31e-10\n",
      "b1 relative error: 9.83e-09\n",
      "b2 relative error: 4.33e-10\n",
      "Running numeric gradient check with reg =  0.3\n",
      "W1 relative error: 1.01e-07\n",
      "W2 relative error: 1.71e-08\n",
      "b1 relative error: 9.88e-09\n",
      "b2 relative error: 2.24e-09\n",
      "Running numeric gradient check with reg =  0.6\n",
      "W1 relative error: 1.25e-07\n",
      "W2 relative error: 5.21e-08\n",
      "b1 relative error: 5.68e-09\n",
      "b2 relative error: 8.97e-10\n",
      "Running numeric gradient check with reg =  0.9\n",
      "W1 relative error: 1.35e-05\n",
      "W2 relative error: 4.03e-06\n",
      "b1 relative error: 1.17e-08\n",
      "b2 relative error: 8.35e-10\n"
     ]
    }
   ],
   "source": [
    "# Now lets compute the loss with different regularization terms\n",
    "\n",
    "for reg in [0.0, 0.3, 0.6, 0.9]:\n",
    "  print('Running numeric gradient check with reg = ', reg)\n",
    "  model.reg = reg\n",
    "  loss, grads = model.loss(X, y)\n",
    "\n",
    "  for name in sorted(grads):\n",
    "    f = lambda _: model.loss(X, y)[0]\n",
    "    grad_num = eval_numerical_gradient(f, model.params[name], verbose=False)\n",
    "    print('%s relative error: %.2e' % (name, rel_error(grad_num, grads[name])))"
   ]
  },
  {
   "cell_type": "markdown",
   "metadata": {},
   "source": [
    "# Solver\n",
    "Au tp1, l'entraînement des modèles était couplé aux modèles. Suivant un design plus modulaire, dans ce tp nous avons séparé le code d'entraînement et le code des modèles dans différentes classes.\n",
    "\n",
    "Familiarisez-vous avec le code `ift725/solver.py` et assurez-vous de bien en comprendre le fonctionnement. Après, utilisez un `Solver` pour entraîner le `TwoLayerNeuralNet` et atteindre environ `50%` de justesse en validation sur le base de donnée CIFAR10 stockée dans la variable `data`."
   ]
  },
  {
   "cell_type": "code",
   "execution_count": 14,
   "metadata": {},
   "outputs": [
    {
     "name": "stdout",
     "output_type": "stream",
     "text": [
      "X_train:  (49000, 3, 32, 32)\n",
      "y_train:  (49000,)\n",
      "X_val:  (1000, 3, 32, 32)\n",
      "y_val:  (1000,)\n",
      "X_test:  (1000, 3, 32, 32)\n",
      "y_test:  (1000,)\n"
     ]
    }
   ],
   "source": [
    "# Load the (preprocessed) CIFAR10 data.\n",
    "\n",
    "data = get_CIFAR10_data()\n",
    "for k, v in data.items():\n",
    "  print('%s: ' % k, v.shape)"
   ]
  },
  {
   "cell_type": "code",
   "execution_count": 15,
   "metadata": {
    "scrolled": true
   },
   "outputs": [
    {
     "name": "stdout",
     "output_type": "stream",
     "text": [
      "(Iteration 1 / 2450) loss: 2.301810\n",
      "(Epoch 0 / 5) train acc: 0.121000; val_acc: 0.117000\n",
      "(Iteration 11 / 2450) loss: 2.261633\n",
      "(Iteration 21 / 2450) loss: 2.248818\n",
      "(Iteration 31 / 2450) loss: 2.090861\n",
      "(Iteration 41 / 2450) loss: 2.064027\n",
      "(Iteration 51 / 2450) loss: 2.052609\n",
      "(Iteration 61 / 2450) loss: 2.035561\n",
      "(Iteration 71 / 2450) loss: 1.931411\n",
      "(Iteration 81 / 2450) loss: 1.942777\n",
      "(Iteration 91 / 2450) loss: 1.856914\n",
      "(Iteration 101 / 2450) loss: 1.782012\n",
      "(Iteration 111 / 2450) loss: 1.768538\n",
      "(Iteration 121 / 2450) loss: 1.755425\n",
      "(Iteration 131 / 2450) loss: 1.753615\n",
      "(Iteration 141 / 2450) loss: 1.890518\n",
      "(Iteration 151 / 2450) loss: 1.740962\n",
      "(Iteration 161 / 2450) loss: 1.747317\n",
      "(Iteration 171 / 2450) loss: 1.708256\n",
      "(Iteration 181 / 2450) loss: 1.614799\n",
      "(Iteration 191 / 2450) loss: 1.963856\n",
      "(Iteration 201 / 2450) loss: 1.819784\n",
      "(Iteration 211 / 2450) loss: 1.703894\n",
      "(Iteration 221 / 2450) loss: 1.762302\n",
      "(Iteration 231 / 2450) loss: 1.742647\n",
      "(Iteration 241 / 2450) loss: 1.792905\n",
      "(Iteration 251 / 2450) loss: 1.885753\n",
      "(Iteration 261 / 2450) loss: 1.590037\n",
      "(Iteration 271 / 2450) loss: 1.720085\n",
      "(Iteration 281 / 2450) loss: 1.634616\n",
      "(Iteration 291 / 2450) loss: 1.530969\n",
      "(Iteration 301 / 2450) loss: 1.697064\n",
      "(Iteration 311 / 2450) loss: 1.633620\n",
      "(Iteration 321 / 2450) loss: 1.515844\n",
      "(Iteration 331 / 2450) loss: 1.473556\n",
      "(Iteration 341 / 2450) loss: 1.409656\n",
      "(Iteration 351 / 2450) loss: 1.568535\n",
      "(Iteration 361 / 2450) loss: 1.567098\n",
      "(Iteration 371 / 2450) loss: 1.629717\n",
      "(Iteration 381 / 2450) loss: 1.551691\n",
      "(Iteration 391 / 2450) loss: 1.385369\n",
      "(Iteration 401 / 2450) loss: 1.674119\n",
      "(Iteration 411 / 2450) loss: 1.447426\n",
      "(Iteration 421 / 2450) loss: 1.641269\n",
      "(Iteration 431 / 2450) loss: 1.509995\n",
      "(Iteration 441 / 2450) loss: 1.595204\n",
      "(Iteration 451 / 2450) loss: 1.650263\n",
      "(Iteration 461 / 2450) loss: 1.458881\n",
      "(Iteration 471 / 2450) loss: 1.638789\n",
      "(Iteration 481 / 2450) loss: 1.672776\n",
      "(Epoch 1 / 5) train acc: 0.456000; val_acc: 0.447000\n",
      "(Iteration 491 / 2450) loss: 1.487387\n",
      "(Iteration 501 / 2450) loss: 1.534624\n",
      "(Iteration 511 / 2450) loss: 1.638708\n",
      "(Iteration 521 / 2450) loss: 1.720537\n",
      "(Iteration 531 / 2450) loss: 1.671093\n",
      "(Iteration 541 / 2450) loss: 1.418319\n",
      "(Iteration 551 / 2450) loss: 1.617332\n",
      "(Iteration 561 / 2450) loss: 1.559476\n",
      "(Iteration 571 / 2450) loss: 1.440155\n",
      "(Iteration 581 / 2450) loss: 1.535280\n",
      "(Iteration 591 / 2450) loss: 1.652401\n",
      "(Iteration 601 / 2450) loss: 1.550613\n",
      "(Iteration 611 / 2450) loss: 1.444514\n",
      "(Iteration 621 / 2450) loss: 1.547279\n",
      "(Iteration 631 / 2450) loss: 1.612500\n",
      "(Iteration 641 / 2450) loss: 1.541086\n",
      "(Iteration 651 / 2450) loss: 1.549921\n",
      "(Iteration 661 / 2450) loss: 1.945675\n",
      "(Iteration 671 / 2450) loss: 1.471096\n",
      "(Iteration 681 / 2450) loss: 1.633784\n",
      "(Iteration 691 / 2450) loss: 1.565682\n",
      "(Iteration 701 / 2450) loss: 1.466149\n",
      "(Iteration 711 / 2450) loss: 1.628663\n",
      "(Iteration 721 / 2450) loss: 1.453194\n",
      "(Iteration 731 / 2450) loss: 1.439572\n",
      "(Iteration 741 / 2450) loss: 1.363750\n",
      "(Iteration 751 / 2450) loss: 1.507989\n",
      "(Iteration 761 / 2450) loss: 1.571068\n",
      "(Iteration 771 / 2450) loss: 1.368914\n",
      "(Iteration 781 / 2450) loss: 1.513313\n",
      "(Iteration 791 / 2450) loss: 1.314884\n",
      "(Iteration 801 / 2450) loss: 1.289288\n",
      "(Iteration 811 / 2450) loss: 1.553529\n",
      "(Iteration 821 / 2450) loss: 1.408420\n",
      "(Iteration 831 / 2450) loss: 1.597113\n",
      "(Iteration 841 / 2450) loss: 1.321634\n",
      "(Iteration 851 / 2450) loss: 1.413870\n",
      "(Iteration 861 / 2450) loss: 1.391142\n",
      "(Iteration 871 / 2450) loss: 1.498261\n",
      "(Iteration 881 / 2450) loss: 1.682667\n",
      "(Iteration 891 / 2450) loss: 1.752998\n",
      "(Iteration 901 / 2450) loss: 1.306370\n",
      "(Iteration 911 / 2450) loss: 1.254460\n",
      "(Iteration 921 / 2450) loss: 1.505031\n",
      "(Iteration 931 / 2450) loss: 1.509292\n",
      "(Iteration 941 / 2450) loss: 1.412979\n",
      "(Iteration 951 / 2450) loss: 1.444183\n",
      "(Iteration 961 / 2450) loss: 1.355174\n",
      "(Iteration 971 / 2450) loss: 1.525676\n",
      "(Epoch 2 / 5) train acc: 0.485000; val_acc: 0.467000\n",
      "(Iteration 981 / 2450) loss: 1.482503\n",
      "(Iteration 991 / 2450) loss: 1.530567\n",
      "(Iteration 1001 / 2450) loss: 1.536427\n",
      "(Iteration 1011 / 2450) loss: 1.344989\n",
      "(Iteration 1021 / 2450) loss: 1.443348\n",
      "(Iteration 1031 / 2450) loss: 1.556967\n",
      "(Iteration 1041 / 2450) loss: 1.416349\n",
      "(Iteration 1051 / 2450) loss: 1.635488\n",
      "(Iteration 1061 / 2450) loss: 1.560076\n",
      "(Iteration 1071 / 2450) loss: 1.269616\n",
      "(Iteration 1081 / 2450) loss: 1.418270\n",
      "(Iteration 1091 / 2450) loss: 1.514101\n",
      "(Iteration 1101 / 2450) loss: 1.496471\n",
      "(Iteration 1111 / 2450) loss: 1.376926\n",
      "(Iteration 1121 / 2450) loss: 1.318609\n",
      "(Iteration 1131 / 2450) loss: 1.435924\n",
      "(Iteration 1141 / 2450) loss: 1.319132\n",
      "(Iteration 1151 / 2450) loss: 1.702881\n",
      "(Iteration 1161 / 2450) loss: 1.451215\n",
      "(Iteration 1171 / 2450) loss: 1.449154\n",
      "(Iteration 1181 / 2450) loss: 1.312103\n",
      "(Iteration 1191 / 2450) loss: 1.424813\n",
      "(Iteration 1201 / 2450) loss: 1.273913\n",
      "(Iteration 1211 / 2450) loss: 1.306220\n",
      "(Iteration 1221 / 2450) loss: 1.526190\n",
      "(Iteration 1231 / 2450) loss: 1.506019\n",
      "(Iteration 1241 / 2450) loss: 1.382212\n",
      "(Iteration 1251 / 2450) loss: 1.451238\n",
      "(Iteration 1261 / 2450) loss: 1.423681\n",
      "(Iteration 1271 / 2450) loss: 1.508818\n",
      "(Iteration 1281 / 2450) loss: 1.385373\n",
      "(Iteration 1291 / 2450) loss: 1.406839\n",
      "(Iteration 1301 / 2450) loss: 1.475620\n",
      "(Iteration 1311 / 2450) loss: 1.332578\n",
      "(Iteration 1321 / 2450) loss: 1.495614\n",
      "(Iteration 1331 / 2450) loss: 1.548197\n",
      "(Iteration 1341 / 2450) loss: 1.354173\n",
      "(Iteration 1351 / 2450) loss: 1.461200\n",
      "(Iteration 1361 / 2450) loss: 1.428892\n",
      "(Iteration 1371 / 2450) loss: 1.378742\n",
      "(Iteration 1381 / 2450) loss: 1.365208\n",
      "(Iteration 1391 / 2450) loss: 1.490089\n",
      "(Iteration 1401 / 2450) loss: 1.441340\n",
      "(Iteration 1411 / 2450) loss: 1.365003\n",
      "(Iteration 1421 / 2450) loss: 1.516511\n",
      "(Iteration 1431 / 2450) loss: 1.364877\n",
      "(Iteration 1441 / 2450) loss: 1.402146\n",
      "(Iteration 1451 / 2450) loss: 1.374152\n",
      "(Iteration 1461 / 2450) loss: 1.318068\n",
      "(Epoch 3 / 5) train acc: 0.501000; val_acc: 0.472000\n",
      "(Iteration 1471 / 2450) loss: 1.454230\n",
      "(Iteration 1481 / 2450) loss: 1.314173\n",
      "(Iteration 1491 / 2450) loss: 1.300149\n",
      "(Iteration 1501 / 2450) loss: 1.318004\n",
      "(Iteration 1511 / 2450) loss: 1.361745\n",
      "(Iteration 1521 / 2450) loss: 1.202959\n",
      "(Iteration 1531 / 2450) loss: 1.335385\n",
      "(Iteration 1541 / 2450) loss: 1.409873\n",
      "(Iteration 1551 / 2450) loss: 1.240240\n",
      "(Iteration 1561 / 2450) loss: 1.521967\n",
      "(Iteration 1571 / 2450) loss: 1.483419\n",
      "(Iteration 1581 / 2450) loss: 1.236548\n",
      "(Iteration 1591 / 2450) loss: 1.241621\n",
      "(Iteration 1601 / 2450) loss: 1.411669\n",
      "(Iteration 1611 / 2450) loss: 1.541626\n",
      "(Iteration 1621 / 2450) loss: 1.374489\n",
      "(Iteration 1631 / 2450) loss: 1.384064\n",
      "(Iteration 1641 / 2450) loss: 1.188739\n",
      "(Iteration 1651 / 2450) loss: 1.363917\n",
      "(Iteration 1661 / 2450) loss: 1.527657\n",
      "(Iteration 1671 / 2450) loss: 1.315154\n",
      "(Iteration 1681 / 2450) loss: 1.326637\n",
      "(Iteration 1691 / 2450) loss: 1.385835\n",
      "(Iteration 1701 / 2450) loss: 1.264515\n",
      "(Iteration 1711 / 2450) loss: 1.261293\n",
      "(Iteration 1721 / 2450) loss: 1.323929\n",
      "(Iteration 1731 / 2450) loss: 1.344613\n",
      "(Iteration 1741 / 2450) loss: 1.332810\n",
      "(Iteration 1751 / 2450) loss: 1.432782\n",
      "(Iteration 1761 / 2450) loss: 1.372080\n",
      "(Iteration 1771 / 2450) loss: 1.332253\n",
      "(Iteration 1781 / 2450) loss: 1.388772\n",
      "(Iteration 1791 / 2450) loss: 1.290288\n",
      "(Iteration 1801 / 2450) loss: 1.261961\n",
      "(Iteration 1811 / 2450) loss: 1.329161\n",
      "(Iteration 1821 / 2450) loss: 1.323093\n",
      "(Iteration 1831 / 2450) loss: 1.491925\n",
      "(Iteration 1841 / 2450) loss: 1.302698\n",
      "(Iteration 1851 / 2450) loss: 1.397849\n",
      "(Iteration 1861 / 2450) loss: 1.248746\n",
      "(Iteration 1871 / 2450) loss: 1.531090\n",
      "(Iteration 1881 / 2450) loss: 1.298660\n",
      "(Iteration 1891 / 2450) loss: 1.277417\n",
      "(Iteration 1901 / 2450) loss: 1.298615\n",
      "(Iteration 1911 / 2450) loss: 1.354548\n",
      "(Iteration 1921 / 2450) loss: 1.197204\n",
      "(Iteration 1931 / 2450) loss: 1.338937\n",
      "(Iteration 1941 / 2450) loss: 1.247938\n",
      "(Iteration 1951 / 2450) loss: 1.305640\n",
      "(Epoch 4 / 5) train acc: 0.509000; val_acc: 0.501000\n",
      "(Iteration 1961 / 2450) loss: 1.267603\n",
      "(Iteration 1971 / 2450) loss: 1.553903\n",
      "(Iteration 1981 / 2450) loss: 1.256373\n",
      "(Iteration 1991 / 2450) loss: 1.467822\n",
      "(Iteration 2001 / 2450) loss: 1.432187\n",
      "(Iteration 2011 / 2450) loss: 1.283366\n",
      "(Iteration 2021 / 2450) loss: 1.545405\n",
      "(Iteration 2031 / 2450) loss: 1.474435\n",
      "(Iteration 2041 / 2450) loss: 1.471750\n",
      "(Iteration 2051 / 2450) loss: 1.350852\n",
      "(Iteration 2061 / 2450) loss: 1.195838\n",
      "(Iteration 2071 / 2450) loss: 1.361541\n"
     ]
    },
    {
     "name": "stdout",
     "output_type": "stream",
     "text": [
      "(Iteration 2081 / 2450) loss: 1.276033\n",
      "(Iteration 2091 / 2450) loss: 1.506037\n",
      "(Iteration 2101 / 2450) loss: 1.231798\n",
      "(Iteration 2111 / 2450) loss: 1.263100\n",
      "(Iteration 2121 / 2450) loss: 1.148182\n",
      "(Iteration 2131 / 2450) loss: 1.348077\n",
      "(Iteration 2141 / 2450) loss: 1.349715\n",
      "(Iteration 2151 / 2450) loss: 1.314462\n",
      "(Iteration 2161 / 2450) loss: 1.401185\n",
      "(Iteration 2171 / 2450) loss: 1.390666\n",
      "(Iteration 2181 / 2450) loss: 1.416604\n",
      "(Iteration 2191 / 2450) loss: 1.215359\n",
      "(Iteration 2201 / 2450) loss: 1.482363\n",
      "(Iteration 2211 / 2450) loss: 1.383154\n",
      "(Iteration 2221 / 2450) loss: 1.420594\n",
      "(Iteration 2231 / 2450) loss: 1.300225\n",
      "(Iteration 2241 / 2450) loss: 1.376703\n",
      "(Iteration 2251 / 2450) loss: 1.225077\n",
      "(Iteration 2261 / 2450) loss: 1.067502\n",
      "(Iteration 2271 / 2450) loss: 1.269920\n",
      "(Iteration 2281 / 2450) loss: 1.384290\n",
      "(Iteration 2291 / 2450) loss: 1.207943\n",
      "(Iteration 2301 / 2450) loss: 1.332239\n",
      "(Iteration 2311 / 2450) loss: 1.335393\n",
      "(Iteration 2321 / 2450) loss: 1.409679\n",
      "(Iteration 2331 / 2450) loss: 1.137527\n",
      "(Iteration 2341 / 2450) loss: 1.356718\n",
      "(Iteration 2351 / 2450) loss: 1.176450\n",
      "(Iteration 2361 / 2450) loss: 1.419024\n",
      "(Iteration 2371 / 2450) loss: 1.290844\n",
      "(Iteration 2381 / 2450) loss: 1.187308\n",
      "(Iteration 2391 / 2450) loss: 1.341113\n",
      "(Iteration 2401 / 2450) loss: 1.364277\n",
      "(Iteration 2411 / 2450) loss: 1.309427\n",
      "(Iteration 2421 / 2450) loss: 1.306660\n",
      "(Iteration 2431 / 2450) loss: 1.189583\n",
      "(Iteration 2441 / 2450) loss: 1.222542\n",
      "(Epoch 5 / 5) train acc: 0.538000; val_acc: 0.501000\n"
     ]
    },
    {
     "data": {
      "text/plain": [
       "0.501"
      ]
     },
     "execution_count": 15,
     "metadata": {},
     "output_type": "execute_result"
    }
   ],
   "source": [
    "num_train = 100\n",
    "small_data = {\n",
    "  'X_train': data['X_train'][:num_train],\n",
    "  'y_train': data['y_train'][:num_train],\n",
    "  'X_val': data['X_val'],\n",
    "  'y_val': data['y_val'],\n",
    "}\n",
    "model = TwoLayerNeuralNet()\n",
    "solver = None\n",
    "solver = Solver(model, data,\n",
    "                  update_rule='sgd',\n",
    "                  optim_config={\n",
    "                    'learning_rate': 1e-3,\n",
    "                  },\n",
    "                  lr_decay=0.95,\n",
    "                  num_epochs=5, batch_size=100,\n",
    "                  verbose = True)\n",
    "solver.train()\n",
    "solver.best_val_acc"
   ]
  },
  {
   "cell_type": "code",
   "execution_count": 16,
   "metadata": {
    "pycharm": {
     "is_executing": true
    }
   },
   "outputs": [
    {
     "data": {
      "image/png": "[encoded data removed]",
      "text/plain": [
       "<Figure size 1080x864 with 2 Axes>"
      ]
     },
     "metadata": {
      "needs_background": "light"
     },
     "output_type": "display_data"
    }
   ],
   "source": [
    "# Run this cell to visualize training loss and train / val accuracy\n",
    "\n",
    "plt.subplot(2, 1, 1)\n",
    "plt.title('Training loss')\n",
    "plt.plot(solver.loss_history, 'o')\n",
    "plt.xlabel('Iteration')\n",
    "\n",
    "plt.subplot(2, 1, 2)\n",
    "plt.title('Accuracy')\n",
    "plt.plot(solver.train_acc_history, '-o', label='train')\n",
    "plt.plot(solver.val_acc_history, '-o', label='val')\n",
    "plt.plot([0.5] * len(solver.val_acc_history), 'k--')\n",
    "plt.xlabel('Epoch')\n",
    "plt.legend(loc='lower right')\n",
    "plt.gcf().set_size_inches(15, 12)\n",
    "plt.show()"
   ]
  },
  {
   "cell_type": "markdown",
   "metadata": {},
   "source": [
    "# Réseau de neurones multi-couches\n",
    "Maintenant vous devez implanter un réseau ayant un nombre arbitraire de couches.\n",
    "\n",
    "Pour ce faire, prenez connaissance de la classe `FullyConnectedNeuralNet` du fichier `ift725/classifiers/fc_net.py`.\n",
    "\n",
    "Vous devez implanter **l'initialization, la propagation avant et la rétro-propagation**. Pour le moment, ne vous souciez pas de dropout ni de batch norm."
   ]
  },
  {
   "cell_type": "markdown",
   "metadata": {},
   "source": [
    "##  Fonction de perte et vérification du gradient"
   ]
  },
  {
   "cell_type": "markdown",
   "metadata": {},
   "source": [
    "La prochaine cellule effectue une vérification dilligente.  Exécutez la cellule afin de vous assurez que la loss avec et sans régularisation fonctionne. "
   ]
  },
  {
   "cell_type": "code",
   "execution_count": 17,
   "metadata": {},
   "outputs": [
    {
     "name": "stdout",
     "output_type": "stream",
     "text": [
      "Running check with reg =  0\n",
      "Initial loss:  3.370381649583188\n",
      "W1 relative error: 3.42e-08\n",
      "W2 relative error: 1.47e-07\n",
      "b1 relative error: 1.49e-09\n",
      "b2 relative error: 7.91e-10\n",
      "Running check with reg =  3.14\n",
      "Initial loss:  10.29726276339802\n",
      "W1 relative error: 4.54e-09\n",
      "W2 relative error: 3.23e-08\n",
      "b1 relative error: 5.58e-09\n",
      "b2 relative error: 2.30e-09\n"
     ]
    }
   ],
   "source": [
    "from ift725.classifiers.fc_net import *\n",
    "N, D, H1, H2, C = 2, 15, 20, 30, 10\n",
    "X = np.random.randn(N, D)\n",
    "y = np.random.randint(C, size=(N,)) \n",
    "\n",
    "for reg in [0, 3.14]:\n",
    "  print('Running check with reg = ', reg)\n",
    "  model = FullyConnectedNeuralNet([H1, H2], input_dim=D, num_classes=C,\n",
    "                            reg=reg, weight_scale=5e-2, dtype=np.float64)\n",
    "\n",
    "  loss, grads = model.loss(X, y)\n",
    "  print('Initial loss: ', loss)\n",
    "    \n",
    "  # Relative error should be below 1e-5\n",
    "  for name in sorted(grads):\n",
    "    f = lambda _: model.loss(X, y)[0]\n",
    "    grad_num = eval_numerical_gradient(f, model.params[name], verbose=False, h=1e-5)\n",
    "    print('%s relative error: %.2e' % (name, rel_error(grad_num, grads[name])))"
   ]
  },
  {
   "cell_type": "markdown",
   "metadata": {},
   "source": [
    "## Question 1:\n",
    "\n",
    "Pourquoi croyez-vous que les résultats de la cellule précédentes font foi d'une bonne fonction de perte?\n",
    "     \n",
    "**Votre réponse:** ..."
   ]
  },
  {
   "cell_type": "markdown",
   "metadata": {},
   "source": [
    "Autre vérification diligente, assurez-vous que votre code peut \"overfitter\" sur un petit ensemble de 50 images. Pour ce faire, essayons un réseau à 3 couches cachées ayant chacune 100 neurones. Une recherche d'hyper-paramètres sera effectué pour trouver le bon taux d'apprentissage (learning rate) ainsi que le `weight_scale`.  Vous devriez être capable d'atteindre une justesse en entraînement de 100% avec 20 epochs."
   ]
  },
  {
   "cell_type": "code",
   "execution_count": 29,
   "metadata": {
    "scrolled": true
   },
   "outputs": [
    {
     "name": "stdout",
     "output_type": "stream",
     "text": [
      "1 / 25 :  0.08\n",
      "---\n",
      "2 / 25 :  0.08\n",
      "3 / 25 :  0.08\n",
      "4 / 25 :  0.6\n",
      "---\n",
      "5 / 25 :  0.08\n",
      "6 / 25 :  0.16\n",
      "7 / 25 :  0.58\n",
      "8 / 25 :  0.94\n",
      "---\n",
      "9 / 25 :  0.82\n",
      "10 / 25 :  0.3\n",
      "11 / 25 :  0.16\n",
      "12 / 25 :  0.54\n",
      "13 / 25 :  0.72\n",
      "14 / 25 :  0.64\n",
      "15 / 25 :  0.44\n",
      "16 / 25 :  0.14\n",
      "17 / 25 :  0.5\n",
      "18 / 25 :  0.4\n",
      "19 / 25 :  0.34\n",
      "20 / 25 :  0.32\n",
      "21 / 25 :  0.16\n",
      "22 / 25 :  0.32\n",
      "23 / 25 :  0.24\n",
      "24 / 25 :  0.32\n",
      "25 / 25 :  0.3\n",
      "The best learning_rate, weight_scale and training accuracy are 0.042169650342858224 0.0017782794100389228 0.94\n"
     ]
    }
   ],
   "source": [
    "num_train = 50\n",
    "small_data = {\n",
    "  'X_train': data['X_train'][:num_train],\n",
    "  'y_train': data['y_train'][:num_train],\n",
    "  'X_val': data['X_val'],\n",
    "  'y_val': data['y_val'],\n",
    "}\n",
    "\n",
    "best_weight_scale = 0.\n",
    "best_learning_rate = 0.\n",
    "best_training_acc = 0.\n",
    "results = []\n",
    "##############################################################################\n",
    "# TODO: Utilisez une instance de Solver pour entrainer un réseau à 3 couches #\n",
    "#  et 100 neurones par couche à overfitter 50 images de CIFAR10.  Il est     #\n",
    "#  suggéré d'effectuer une recherche d'hyperparamètres pour trouver le bon   #\n",
    "#  `learning_rate` et le bon `weight_scale`.                                 #\n",
    "##############################################################################\n",
    "# TODO: Use a three-layer Net to overfit 50 training examples.\n",
    "i=0\n",
    "nb_weight_scale=25\n",
    "nb_learning_rate=25\n",
    "for weight_scale in np.logspace(-1,-1.8, nb_weight_scale):\n",
    "    for learning_rate in np.logspace(-2,-4, nb_learning_rate):\n",
    "        i+=1\n",
    "        D, H1, H2, H3, C = 3072, 100, 100, 100, 10\n",
    "        model = FullyConnectedNeuralNet([H1, H2, H3], input_dim=D, num_classes=C,\n",
    "                                    reg=reg, weight_scale=weight_scale, dtype=np.float64)\n",
    "        solver = None\n",
    "        solver = Solver(model, small_data,\n",
    "                        num_epochs=20, batch_size=50,\n",
    "                        update_rule='adam',\n",
    "                        optim_config={\n",
    "                          'learning_rate': learning_rate,\n",
    "                        },\n",
    "                        verbose=False, print_every=1)\n",
    "        solver.train()\n",
    "        x = [weight_scale,learning_rate,solver.best_train_acc]\n",
    "        results.append(x)\n",
    "        print(i,\"/\",nb_weight_scale*nb_learning_rate,\": \",solver.best_train_acc)\n",
    "        if solver.best_train_acc>best_training_acc:\n",
    "            best_learning_rate=learning_rate\n",
    "            best_weight_scale=weight_scale\n",
    "            best_training_acc=solver.best_train_acc\n",
    "            print(\"---\")\n",
    "\n",
    "##############################################################################\n",
    "#                             FIN DE VOTRE CODE                              #\n",
    "##############################################################################\n",
    "\n",
    "print('The best learning_rate, weight_scale and training accuracy are',best_weight_scale, best_learning_rate, best_training_acc)"
   ]
  },
  {
   "cell_type": "code",
   "execution_count": 30,
   "metadata": {},
   "outputs": [
    {
     "data": {
      "image/png": "[encoded data removed]",
      "text/plain": [
       "<Figure size 720x576 with 2 Axes>"
      ]
     },
     "metadata": {
      "needs_background": "light"
     },
     "output_type": "display_data"
    }
   ],
   "source": [
    "# Visualize the cross-validation results\n",
    "# import math\n",
    "marker_size = 100\n",
    "x_scatter, x_label = [np.log10(x[0]) for x in results], 'log weight scale'\n",
    "y_scatter, y_label = [np.log10(x[1]) for x in results], 'log learning rate'\n",
    "\n",
    "# plot validation accuracy\n",
    "colors = [x[2] for x in results]#[results[x] for x in results] # default size of markers is 20\n",
    "plt.subplot(2, 1, 2)\n",
    "plt.scatter(x_scatter, y_scatter, marker_size, c=colors)\n",
    "plt.colorbar()\n",
    "plt.xlabel(x_label)\n",
    "plt.ylabel(y_label)\n",
    "plt.title('Train accuracy')\n",
    "plt.show()"
   ]
  },
  {
   "cell_type": "markdown",
   "metadata": {},
   "source": [
    "Maintenant, faites la même chose pour un réseau à 5 couches."
   ]
  },
  {
   "cell_type": "code",
   "execution_count": 20,
   "metadata": {},
   "outputs": [
    {
     "name": "stdout",
     "output_type": "stream",
     "text": [
      "0.025424513284106515 0.0002671367127500275 \n",
      "\n",
      "final loss: 4.2700438682015465  train_acc: 0.1\n",
      "\n",
      "\n",
      "0.010391639428732717 0.0037148649361041027 \n",
      "\n",
      "final loss: 4.563749530170249  train_acc: 0.32\n",
      "\n",
      "\n",
      "0.08186233318472408 0.00037189612456548453 \n",
      "\n",
      "final loss: 13.35186530251342  train_acc: 0.58\n",
      "\n",
      "\n",
      "0.010174682022296737 0.0037261318432138062 \n",
      "\n",
      "final loss: 4.5816317092119405  train_acc: 0.24\n",
      "\n",
      "\n",
      "0.024347797717031168 0.00011618781898486528 \n",
      "\n",
      "final loss: 4.54297680529452  train_acc: 0.1\n",
      "\n",
      "\n",
      "0.08462479464237826 0.009875922867193002 \n",
      "\n"
     ]
    },
    {
     "name": "stderr",
     "output_type": "stream",
     "text": [
      "/home/yannis/Documents/uds/ift725/tp2RN/prog/ift725/layers.py:644: RuntimeWarning: overflow encountered in exp\n",
      "  probs = np.exp(x)\n",
      "/home/yannis/Documents/uds/ift725/tp2RN/prog/ift725/layers.py:645: RuntimeWarning: invalid value encountered in true_divide\n",
      "  probs = probs/np.sum(probs, axis=1, keepdims=True)\n",
      "/home/yannis/Documents/uds/ift725/tp2RN/prog/ift725/layers.py:646: RuntimeWarning: divide by zero encountered in log\n",
      "  loss = np.sum(-np.log(probs[np.arange(len(y)),y]))/len(y)\n",
      "/home/yannis/Documents/uds/ift725/tp2RN/prog/ift725/layers.py:98: RuntimeWarning: invalid value encountered in less\n",
      "  out[out<0] = 0\n",
      "/home/yannis/Documents/uds/ift725/tp2RN/prog/ift725/layers.py:102: RuntimeWarning: invalid value encountered in greater\n",
      "  cache = x > 0\n"
     ]
    },
    {
     "name": "stdout",
     "output_type": "stream",
     "text": [
      "final loss: nan  train_acc: 0.08\n",
      "\n",
      "\n",
      "0.010034534339882255 0.002878514824694462 \n",
      "\n",
      "final loss: 4.575758958065694  train_acc: 0.2\n",
      "\n",
      "\n",
      "0.05888248511904272 0.000325288397947244 \n",
      "\n",
      "final loss: 3.759269566094489  train_acc: 0.56\n",
      "\n",
      "\n",
      "0.04807633005472419 0.004916182440790662 \n",
      "\n",
      "final loss: 0.8074521219011979  train_acc: 0.88\n",
      "\n",
      "\n",
      "0.017372272488251957 0.0010897646911336744 \n",
      "\n",
      "final loss: 4.530872084582006  train_acc: 0.2\n",
      "\n",
      "\n",
      "0.010765805081866222 0.002490569831238658 \n",
      "\n",
      "final loss: 4.579412286406469  train_acc: 0.18\n",
      "\n",
      "\n",
      "0.0120301410200859 0.009619401820967195 \n",
      "\n",
      "final loss: 3.0600962009807557  train_acc: 0.2\n",
      "\n",
      "\n",
      "0.09370760561627767 0.0004608256712638114 \n",
      "\n",
      "final loss: 1.481995332064737  train_acc: 0.86\n",
      "\n",
      "\n",
      "0.012640202878806671 0.0005509444856404459 \n",
      "\n",
      "final loss: 4.59905767675068  train_acc: 0.06\n",
      "\n",
      "\n",
      "0.02820310975182786 0.0006602872379336405 \n",
      "\n",
      "final loss: 3.895272552823211  train_acc: 0.34\n",
      "\n",
      "\n",
      "0.09368063736290162 0.009189304462020317 \n",
      "\n"
     ]
    },
    {
     "name": "stderr",
     "output_type": "stream",
     "text": [
      "/home/yannis/Documents/uds/ift725/tp2RN/prog/ift725/layers.py:644: RuntimeWarning: overflow encountered in exp\n",
      "  probs = np.exp(x)\n",
      "/home/yannis/Documents/uds/ift725/tp2RN/prog/ift725/layers.py:645: RuntimeWarning: invalid value encountered in true_divide\n",
      "  probs = probs/np.sum(probs, axis=1, keepdims=True)\n",
      "/home/yannis/Documents/uds/ift725/tp2RN/prog/ift725/layers.py:646: RuntimeWarning: divide by zero encountered in log\n",
      "  loss = np.sum(-np.log(probs[np.arange(len(y)),y]))/len(y)\n",
      "/home/yannis/Documents/uds/ift725/tp2RN/prog/ift725/layers.py:98: RuntimeWarning: invalid value encountered in less\n",
      "  out[out<0] = 0\n",
      "/home/yannis/Documents/uds/ift725/tp2RN/prog/ift725/layers.py:102: RuntimeWarning: invalid value encountered in greater\n",
      "  cache = x > 0\n"
     ]
    },
    {
     "name": "stdout",
     "output_type": "stream",
     "text": [
      "final loss: nan  train_acc: 0.08\n",
      "\n",
      "\n",
      "0.012977123451101248 0.004980400586194925 \n",
      "\n",
      "final loss: 3.66722242771329  train_acc: 0.16\n",
      "\n",
      "\n",
      "0.016448910192277455 0.0034276391963691494 \n",
      "\n",
      "final loss: 3.6595579026379856  train_acc: 0.16\n",
      "\n",
      "\n",
      "0.033797643820273865 0.0007921180198014867 \n",
      "\n",
      "final loss: 1.8003819675289046  train_acc: 0.72\n",
      "\n",
      "\n",
      "0.09819540078176003 0.00011968306682858197 \n",
      "\n",
      "final loss: 35.4261687171481  train_acc: 0.58\n",
      "\n",
      "\n",
      "0.039870024504900035 0.0009271911948050258 \n",
      "\n",
      "final loss: 0.9815666060114572  train_acc: 0.84\n",
      "\n",
      "\n",
      "0.05893411045052381 0.00027452572705047117 \n",
      "\n",
      "final loss: 5.412324715592515  train_acc: 0.76\n",
      "\n",
      "\n",
      "0.069604063202386 0.000505821317942843 \n",
      "\n",
      "final loss: 5.9656993745257605  train_acc: 0.74\n",
      "\n",
      "\n",
      "0.023913931092338803 0.00033466550184004835 \n",
      "\n",
      "final loss: 4.006654175974504  train_acc: 0.2\n",
      "\n",
      "\n",
      "0.03917161199551012 0.001031954939885031 \n",
      "\n",
      "final loss: 2.050967639233317  train_acc: 0.7\n",
      "\n",
      "\n",
      "0.013877294404040038 0.006367268892650216 \n",
      "\n",
      "final loss: 2.7958119898488745  train_acc: 0.22\n",
      "\n",
      "\n",
      "0.012459572386214703 0.0005085105357039164 \n",
      "\n",
      "final loss: 4.571559552964837  train_acc: 0.16\n",
      "\n",
      "\n",
      "0.0875246371994678 0.00018165118912856146 \n",
      "\n",
      "final loss: 14.21823981110159  train_acc: 0.58\n",
      "\n",
      "\n",
      "0.010114859773261486 0.0007724590855276928 \n",
      "\n",
      "final loss: 4.599371545824199  train_acc: 0.04\n",
      "\n",
      "\n",
      "0.01438828924777136 0.005374926294606522 \n",
      "\n",
      "final loss: 3.018750119786607  train_acc: 0.36\n",
      "\n",
      "\n",
      "0.07578478950744891 0.0029289723903976566 \n",
      "\n",
      "final loss: 1.2666843819754783  train_acc: 0.84\n",
      "\n",
      "\n",
      "0.04333850755377438 0.0005283465311284066 \n",
      "\n",
      "final loss: 1.5223533630087411  train_acc: 0.68\n",
      "\n",
      "\n",
      "0.05543037568634488 0.0012916414956039772 \n",
      "\n",
      "final loss: 0.26797688083243876  train_acc: 0.88\n",
      "\n",
      "\n",
      "0.02420841011153524 0.00017533753126661094 \n",
      "\n",
      "final loss: 4.451606992737215  train_acc: 0.06\n",
      "\n",
      "\n",
      "0.04840716475533752 0.0034954233400432974 \n",
      "\n",
      "final loss: 0.02343129935454371  train_acc: 0.98\n",
      "\n",
      "\n",
      "0.07642166514222659 0.0004065485988722106 \n",
      "\n",
      "final loss: 3.9226488075823807  train_acc: 0.54\n",
      "\n",
      "\n",
      "0.05648561721887193 0.0003283209188447175 \n",
      "\n",
      "final loss: 0.8809463503569945  train_acc: 0.74\n",
      "\n",
      "\n",
      "0.015639370976027602 0.00018135624137591598 \n",
      "\n",
      "final loss: 4.595482883569881  train_acc: 0.0\n",
      "\n",
      "\n",
      "0.018201481332849028 0.00344681735576125 \n",
      "\n",
      "final loss: 3.4871439188642195  train_acc: 0.36\n",
      "\n",
      "\n",
      "0.08947629549242937 0.004256065986010134 \n",
      "\n"
     ]
    },
    {
     "name": "stderr",
     "output_type": "stream",
     "text": [
      "/home/yannis/Documents/uds/ift725/tp2RN/prog/ift725/layers.py:644: RuntimeWarning: overflow encountered in exp\n",
      "  probs = np.exp(x)\n",
      "/home/yannis/Documents/uds/ift725/tp2RN/prog/ift725/layers.py:645: RuntimeWarning: invalid value encountered in true_divide\n",
      "  probs = probs/np.sum(probs, axis=1, keepdims=True)\n",
      "/home/yannis/Documents/uds/ift725/tp2RN/prog/ift725/layers.py:98: RuntimeWarning: invalid value encountered in less\n",
      "  out[out<0] = 0\n",
      "/home/yannis/Documents/uds/ift725/tp2RN/prog/ift725/layers.py:102: RuntimeWarning: invalid value encountered in greater\n",
      "  cache = x > 0\n"
     ]
    },
    {
     "name": "stdout",
     "output_type": "stream",
     "text": [
      "final loss: nan  train_acc: 0.08\n",
      "\n",
      "\n"
     ]
    },
    {
     "data": {
      "image/png": "[encoded data removed]",
      "text/plain": [
       "<Figure size 720x576 with 1 Axes>"
      ]
     },
     "metadata": {
      "needs_background": "light"
     },
     "output_type": "display_data"
    },
    {
     "name": "stdout",
     "output_type": "stream",
     "text": [
      "The best learning_rate, weight_scale and training accuracy are 0.0 0.0 0.0\n"
     ]
    }
   ],
   "source": [
    "num_train = 50\n",
    "small_data = {\n",
    "  'X_train': data['X_train'][:num_train],\n",
    "  'y_train': data['y_train'][:num_train],\n",
    "  'X_val': data['X_val'],\n",
    "  'y_val': data['y_val'],\n",
    "}\n",
    "\n",
    "##############################################################################\n",
    "# TODO: Utilisez une instance de Solver pour entrainer un réseau à 5 couches #\n",
    "#  à 100 neurones à overfitter 50 images de CIFAR10.  Il est suggérer de     #\n",
    "#  d'effectuer une recherche d'hyperparamètres pour trouver le bon           #\n",
    "#  `learning_rate` et le bon `weight_scale`.                                 #\n",
    "##############################################################################\n",
    "\n",
    "def uniform(minv, maxv):\n",
    "    return np.random.rand() * (maxv - minv) + minv\n",
    "\n",
    "results = {}\n",
    "for _ in range(40):\n",
    "    weight_scale = 10 ** uniform(-2, -1)\n",
    "    learning_rate = 10 ** uniform(-4, -2)\n",
    "    print(weight_scale, learning_rate, '\\n')\n",
    "    \n",
    "    model = FullyConnectedNeuralNet([100, 100, 100, 100],\n",
    "                  weight_scale=weight_scale, dtype=np.float64)\n",
    "    solver = Solver(model, small_data,\n",
    "                    print_every=10, num_epochs=20, batch_size=25,\n",
    "                    update_rule='sgd',\n",
    "                    optim_config={\n",
    "                      'learning_rate': learning_rate,\n",
    "                    }, verbose=False)\n",
    "    solver.train()\n",
    "    train_acc = solver.train_acc_history[-1]\n",
    "    print('final loss:', solver.loss_history[-1], ' train_acc:', train_acc)\n",
    "    print('\\n')\n",
    "    plt.plot(solver.loss_history)\n",
    "    results[(weight_scale, learning_rate)] = train_acc\n",
    "\n",
    "plt.plot(solver.loss_history, 'o')\n",
    "plt.title('Training loss history')\n",
    "plt.xlabel('Iteration')\n",
    "plt.ylabel('Training loss')\n",
    "plt.show()\n",
    "\n",
    "\n",
    "##############################################################################\n",
    "#                             FIN DE VOTRE CODE                              #\n",
    "##############################################################################\n",
    "best_weight_scale = 0.\n",
    "best_learning_rate = 0.\n",
    "best_training_acc = 0.\n",
    "print('The best learning_rate, weight_scale and training accuracy are',best_weight_scale, best_learning_rate, best_training_acc)"
   ]
  },
  {
   "cell_type": "code",
   "execution_count": 21,
   "metadata": {},
   "outputs": [
    {
     "data": {
      "image/png": "[encoded data removed]",
      "text/plain": [
       "<Figure size 720x576 with 2 Axes>"
      ]
     },
     "metadata": {
      "needs_background": "light"
     },
     "output_type": "display_data"
    }
   ],
   "source": [
    "# Visualize the cross-validation results\n",
    "# import math\n",
    "marker_size = 100\n",
    "x_scatter, x_label = [np.log10(x[0]) for x in results], 'log weight scale'\n",
    "y_scatter, y_label = [np.log10(x[1]) for x in results], 'log learning rate'\n",
    "\n",
    "# plot validation accuracy\n",
    "colors = [results[x] for x in results] # default size of markers is 20\n",
    "plt.subplot(2, 1, 2)\n",
    "plt.scatter(x_scatter, y_scatter, marker_size, c=colors)\n",
    "plt.colorbar()\n",
    "plt.xlabel(x_label)\n",
    "plt.ylabel(y_label)\n",
    "plt.title('Train accuracy')\n",
    "plt.show()"
   ]
  },
  {
   "cell_type": "markdown",
   "metadata": {},
   "source": [
    "# Descente de gradient ++\n",
    "Jusqu'à présent nous avons utilisé l'algorithmes de base de la descente de gradient (SGD-stochastic gradient descent). Ici nous testerons d'autres algorithmes plus sophistiqués."
   ]
  },
  {
   "cell_type": "markdown",
   "metadata": {},
   "source": [
    "# SGD+Momentum\n",
    "SGD+momentum est très largement utilisé.  Ouvrez  `ift725/optim.py` et prenez connaissance du code et implémentez la fonction `sgd_momentum` et exécutez la cellule que voici. Votre erreur devrait être inféreieure à 1e-6."
   ]
  },
  {
   "cell_type": "code",
   "execution_count": 22,
   "metadata": {},
   "outputs": [
    {
     "ename": "TypeError",
     "evalue": "unsupported operand type(s) for -: 'NoneType' and 'float'",
     "output_type": "error",
     "traceback": [
      "\u001b[0;31m---------------------------------------------------------------------------\u001b[0m",
      "\u001b[0;31mTypeError\u001b[0m                                 Traceback (most recent call last)",
      "\u001b[0;32m<ipython-input-22-7aebff33726e>\u001b[0m in \u001b[0;36m<module>\u001b[0;34m\u001b[0m\n\u001b[1;32m     21\u001b[0m \u001b[0;34m\u001b[0m\u001b[0m\n\u001b[1;32m     22\u001b[0m \u001b[0;31m# Error should be below 1e-06\u001b[0m\u001b[0;34m\u001b[0m\u001b[0;34m\u001b[0m\u001b[0;34m\u001b[0m\u001b[0m\n\u001b[0;32m---> 23\u001b[0;31m \u001b[0mprint\u001b[0m\u001b[0;34m(\u001b[0m\u001b[0;34m'next_w error: '\u001b[0m\u001b[0;34m,\u001b[0m \u001b[0mrel_error\u001b[0m\u001b[0;34m(\u001b[0m\u001b[0mnext_w\u001b[0m\u001b[0;34m,\u001b[0m \u001b[0mexpected_next_w\u001b[0m\u001b[0;34m)\u001b[0m\u001b[0;34m)\u001b[0m\u001b[0;34m\u001b[0m\u001b[0;34m\u001b[0m\u001b[0m\n\u001b[0m\u001b[1;32m     24\u001b[0m \u001b[0mprint\u001b[0m\u001b[0;34m(\u001b[0m\u001b[0;34m'velocity error: '\u001b[0m\u001b[0;34m,\u001b[0m \u001b[0mrel_error\u001b[0m\u001b[0;34m(\u001b[0m\u001b[0mexpected_velocity\u001b[0m\u001b[0;34m,\u001b[0m \u001b[0mconfig\u001b[0m\u001b[0;34m[\u001b[0m\u001b[0;34m'velocity'\u001b[0m\u001b[0;34m]\u001b[0m\u001b[0;34m)\u001b[0m\u001b[0;34m)\u001b[0m\u001b[0;34m\u001b[0m\u001b[0;34m\u001b[0m\u001b[0m\n",
      "\u001b[0;32m<ipython-input-1-2c841c511832>\u001b[0m in \u001b[0;36mrel_error\u001b[0;34m(x, y)\u001b[0m\n\u001b[1;32m     21\u001b[0m \u001b[0;32mdef\u001b[0m \u001b[0mrel_error\u001b[0m\u001b[0;34m(\u001b[0m\u001b[0mx\u001b[0m\u001b[0;34m,\u001b[0m \u001b[0my\u001b[0m\u001b[0;34m)\u001b[0m\u001b[0;34m:\u001b[0m\u001b[0;34m\u001b[0m\u001b[0;34m\u001b[0m\u001b[0m\n\u001b[1;32m     22\u001b[0m   \u001b[0;34m\"\"\" returns relative error \"\"\"\u001b[0m\u001b[0;34m\u001b[0m\u001b[0;34m\u001b[0m\u001b[0m\n\u001b[0;32m---> 23\u001b[0;31m   \u001b[0;32mreturn\u001b[0m \u001b[0mnp\u001b[0m\u001b[0;34m.\u001b[0m\u001b[0mmax\u001b[0m\u001b[0;34m(\u001b[0m\u001b[0mnp\u001b[0m\u001b[0;34m.\u001b[0m\u001b[0mabs\u001b[0m\u001b[0;34m(\u001b[0m\u001b[0mx\u001b[0m \u001b[0;34m-\u001b[0m \u001b[0my\u001b[0m\u001b[0;34m)\u001b[0m \u001b[0;34m/\u001b[0m \u001b[0;34m(\u001b[0m\u001b[0mnp\u001b[0m\u001b[0;34m.\u001b[0m\u001b[0mmaximum\u001b[0m\u001b[0;34m(\u001b[0m\u001b[0;36m1e-8\u001b[0m\u001b[0;34m,\u001b[0m \u001b[0mnp\u001b[0m\u001b[0;34m.\u001b[0m\u001b[0mabs\u001b[0m\u001b[0;34m(\u001b[0m\u001b[0mx\u001b[0m\u001b[0;34m)\u001b[0m \u001b[0;34m+\u001b[0m \u001b[0mnp\u001b[0m\u001b[0;34m.\u001b[0m\u001b[0mabs\u001b[0m\u001b[0;34m(\u001b[0m\u001b[0my\u001b[0m\u001b[0;34m)\u001b[0m\u001b[0;34m)\u001b[0m\u001b[0;34m)\u001b[0m\u001b[0;34m)\u001b[0m\u001b[0;34m\u001b[0m\u001b[0;34m\u001b[0m\u001b[0m\n\u001b[0m\u001b[1;32m     24\u001b[0m \u001b[0;34m\u001b[0m\u001b[0m\n\u001b[1;32m     25\u001b[0m \u001b[0mprint\u001b[0m\u001b[0;34m(\u001b[0m\u001b[0;34m'setup done!'\u001b[0m\u001b[0;34m)\u001b[0m\u001b[0;34m\u001b[0m\u001b[0;34m\u001b[0m\u001b[0m\n",
      "\u001b[0;31mTypeError\u001b[0m: unsupported operand type(s) for -: 'NoneType' and 'float'"
     ]
    }
   ],
   "source": [
    "from ift725.optim import sgd_momentum\n",
    "\n",
    "N, D = 4, 5\n",
    "w = np.linspace(-0.4, 0.6, num=N*D).reshape(N, D)\n",
    "dw = np.linspace(-0.6, 0.4, num=N*D).reshape(N, D)\n",
    "v = np.linspace(0.6, 0.9, num=N*D).reshape(N, D)\n",
    "\n",
    "config = {'learning_rate': 1e-3, 'velocity': v}\n",
    "next_w, _ = sgd_momentum(w, dw, config=config)\n",
    "\n",
    "expected_next_w = np.asarray([\n",
    "    [-0.39994,    -0.34737526, -0.29481053, -0.24224579, -0.18968105],\n",
    "    [-0.13711632, -0.08455158, -0.03198684,  0.02057789,  0.07314263],\n",
    "    [ 0.12570737,  0.17827211,  0.23083684,  0.28340158,  0.33596632],\n",
    "    [ 0.38853105,  0.44109579,  0.49366053,  0.54622526,  0.59879   ]])\n",
    "expected_velocity = np.asarray([\n",
    "    [-0.06 ,       0.00684211,  0.07368421,  0.14052632,  0.20736842],\n",
    "    [ 0.27421053,  0.34105263,  0.40789474,  0.47473684,  0.54157895],\n",
    "    [ 0.60842105,  0.67526316,  0.74210526,  0.80894737,  0.87578947],\n",
    "    [ 0.94263158,  1.00947368,  1.07631579,  1.14315789,  1.21      ]])\n",
    "\n",
    "# Error should be below 1e-06\n",
    "print('next_w error: ', rel_error(next_w, expected_next_w))\n",
    "print('velocity error: ', rel_error(expected_velocity, config['velocity']))"
   ]
  },
  {
   "cell_type": "markdown",
   "metadata": {},
   "source": [
    "Maintenant, excécutez cette cellule.  Normalement, le réseau à 6 couches devrait s'entraîner plus rapidement avec SGD+momentum qu'avec SGD."
   ]
  },
  {
   "cell_type": "code",
   "execution_count": null,
   "metadata": {
    "scrolled": false
   },
   "outputs": [],
   "source": [
    "num_train = 4000\n",
    "small_data = {\n",
    "  'X_train': data['X_train'][:num_train],\n",
    "  'y_train': data['y_train'][:num_train],\n",
    "  'X_val': data['X_val'],\n",
    "  'y_val': data['y_val'],\n",
    "}\n",
    "\n",
    "solvers = {}\n",
    "\n",
    "for update_rule in ['sgd', 'sgd_momentum']:\n",
    "  print('running with ', update_rule)\n",
    "  model = FullyConnectedNeuralNet([100, 100, 100, 100, 100], weight_scale=5e-2)\n",
    "\n",
    "  solver = Solver(model, small_data,\n",
    "                  num_epochs=10, batch_size=100,\n",
    "                  update_rule=update_rule,\n",
    "                  optim_config={\n",
    "                    'learning_rate': 1e-2,\n",
    "                  },\n",
    "                  verbose=True)\n",
    "  solvers[update_rule] = solver\n",
    "  solver.train()\n",
    "  print()\n",
    "\n",
    "plt.subplot(3, 1, 1)\n",
    "plt.title('Training loss')\n",
    "plt.xlabel('Iteration')\n",
    "\n",
    "plt.subplot(3, 1, 2)\n",
    "plt.title('Training accuracy')\n",
    "plt.xlabel('Epoch')\n",
    "\n",
    "plt.subplot(3, 1, 3)\n",
    "plt.title('Validation accuracy')\n",
    "plt.xlabel('Epoch')\n",
    "\n",
    "for update_rule, solver in solvers.items():\n",
    "  plt.subplot(3, 1, 1)\n",
    "  plt.plot(solver.loss_history, '-o', label=update_rule)\n",
    "  \n",
    "  plt.subplot(3, 1, 2)\n",
    "  plt.plot(solver.train_acc_history, '-o', label=update_rule)\n",
    "\n",
    "  plt.subplot(3, 1, 3)\n",
    "  plt.plot(solver.val_acc_history, '-o', label=update_rule)\n",
    "  \n",
    "for i in [1, 2, 3]:\n",
    "  plt.subplot(3, 1, i)\n",
    "  plt.legend(loc='upper center', ncol=4)\n",
    "plt.gcf().set_size_inches(15, 15)\n",
    "plt.show()"
   ]
  },
  {
   "cell_type": "markdown",
   "metadata": {},
   "source": [
    "# RMSProp et Adam\n",
    "RMSProp [1] et Adam [2] sont d'autres algorithmes de descente de gradient dont le code est dans le fichier `ift725/optim.py`.   Alors que le code de Adam vous est fournit, vous devez rédigé celui de RMSProp.\n",
    "\n",
    "[1] Tijmen Tieleman and Geoffrey Hinton. \"Lecture 6.5-rmsprop: Divide the gradient by a running average of its recent magnitude.\" COURSERA: Neural Networks for Machine Learning 4 (2012).\n",
    "\n",
    "[2] Diederik Kingma and Jimmy Ba, \"Adam: A Method for Stochastic Optimization\", ICLR 2015."
   ]
  },
  {
   "cell_type": "code",
   "execution_count": null,
   "metadata": {},
   "outputs": [],
   "source": [
    "# Test RMSProp implementation; you should see errors less than 1e-7\n",
    "import numpy as np\n",
    "from ift725.optim import rmsprop\n",
    "\n",
    "N, D = 4, 5\n",
    "w = np.linspace(-0.4, 0.6, num=N*D).reshape(N, D)\n",
    "dw = np.linspace(-0.6, 0.4, num=N*D).reshape(N, D)\n",
    "cache = np.linspace(0.6, 0.9, num=N*D).reshape(N, D)\n",
    "\n",
    "config = {'learning_rate': 1e-2, 'cache': cache}\n",
    "next_w, _ = rmsprop(w, dw, config=config)\n",
    "\n",
    "expected_next_w = np.asarray([\n",
    "    [-0.39,       -0.33846964, -0.2868865,  -0.23525427, -0.18357633],\n",
    "    [-0.13185574, -0.0800953,  -0.02829757,  0.02353511,  0.07540058],\n",
    "    [ 0.12729687,  0.17922215,  0.23117507,  0.28315533,  0.33516143],\n",
    "    [ 0.38719188,  0.43924528,  0.49132033,  0.54341585,  0.59553073]])\n",
    "expected_cache = np.asarray([\n",
    "    [0.6,        0.61510526, 0.63021053, 0.64531579, 0.66042105],\n",
    " [0.67552632, 0.69063158, 0.70573684, 0.72084211, 0.73594737],\n",
    " [0.75105263, 0.76615789, 0.78189474, 0.79805263, 0.81421053],\n",
    " [0.83036842, 0.84652632, 0.86268421, 0.87884211, 0.895     ]])  \n",
    "\n",
    "\n",
    "print('next_w error: ', rel_error(expected_next_w, next_w))\n",
    "print('cache error: ', rel_error(expected_cache, config['cache']))"
   ]
  },
  {
   "cell_type": "code",
   "execution_count": null,
   "metadata": {},
   "outputs": [],
   "source": [
    "# Test Adam implementation; you should see errors around 1e-7 or less\n",
    "from ift725.optim import adam\n",
    "\n",
    "N, D = 4, 5\n",
    "w = np.linspace(-0.4, 0.6, num=N*D).reshape(N, D)\n",
    "dw = np.linspace(-0.6, 0.4, num=N*D).reshape(N, D)\n",
    "m = np.linspace(0.6, 0.9, num=N*D).reshape(N, D)\n",
    "v = np.linspace(0.7, 0.5, num=N*D).reshape(N, D)\n",
    "\n",
    "config = {'learning_rate': 1e-2, 'm': m, 'v': v, 't': 5}\n",
    "next_w, config = adam(w, dw, config=config)\n",
    "\n",
    "expected_next_w = np.asarray([\n",
    "  [-0.40094747, -0.34836187, -0.29577703, -0.24319299, -0.19060977],\n",
    "  [-0.1380274,  -0.08544591, -0.03286534,  0.01971428,  0.0722929],\n",
    "  [ 0.1248705,   0.17744702,  0.23002243,  0.28259667,  0.33516969],\n",
    "  [ 0.38774145,  0.44031188,  0.49288093,  0.54544852,  0.59801459]])\n",
    "expected_v = np.asarray([\n",
    "  [ 0.69966,     0.68908382,  0.67851319,  0.66794809,  0.65738853,],\n",
    "  [ 0.64683452,  0.63628604,  0.6257431,   0.61520571,  0.60467385,],\n",
    "  [ 0.59414753,  0.58362676,  0.57311152,  0.56260183,  0.55209767,],\n",
    "  [ 0.54159906,  0.53110598,  0.52061845,  0.51013645,  0.49966,   ]])\n",
    "expected_m = np.asarray([\n",
    "  [ 0.48,        0.49947368,  0.51894737,  0.53842105,  0.55789474],\n",
    "  [ 0.57736842,  0.59684211,  0.61631579,  0.63578947,  0.65526316],\n",
    "  [ 0.67473684,  0.69421053,  0.71368421,  0.73315789,  0.75263158],\n",
    "  [ 0.77210526,  0.79157895,  0.81105263,  0.83052632,  0.85      ]])\n",
    "\n",
    "print('next_w error: ', rel_error(expected_next_w, next_w))\n",
    "print('v error: ', rel_error(expected_v, config['v']))\n",
    "print('m error: ', rel_error(expected_m, config['m']))"
   ]
  },
  {
   "cell_type": "markdown",
   "metadata": {},
   "source": [
    "Exécuter le code que voici afin de comparer ces différent algorithmes.  En pricipe Adam devrait être le meilleur algorithme."
   ]
  },
  {
   "cell_type": "code",
   "execution_count": null,
   "metadata": {},
   "outputs": [],
   "source": [
    "learning_rates = {'rmsprop': 1e-4, 'adam': 1e-3}\n",
    "for update_rule in ['adam', 'rmsprop']:\n",
    "  print('running with ', update_rule)\n",
    "  model = FullyConnectedNeuralNet([100, 100, 100, 100, 100], weight_scale=5e-2)\n",
    "\n",
    "  solver = Solver(model, small_data,\n",
    "                  num_epochs=10, batch_size=100,\n",
    "                  update_rule=update_rule,\n",
    "                  optim_config={\n",
    "                    'learning_rate': learning_rates[update_rule]\n",
    "                  },\n",
    "                  verbose=True)\n",
    "  solvers[update_rule] = solver\n",
    "  solver.train()\n",
    "  print()\n",
    "\n",
    "plt.subplot(3, 1, 1)\n",
    "plt.title('Training loss')\n",
    "plt.xlabel('Iteration')\n",
    "\n",
    "plt.subplot(3, 1, 2)\n",
    "plt.title('Training accuracy')\n",
    "plt.xlabel('Epoch')\n",
    "\n",
    "plt.subplot(3, 1, 3)\n",
    "plt.title('Validation accuracy')\n",
    "plt.xlabel('Epoch')\n",
    "\n",
    "for update_rule, solver in solvers.items():\n",
    "  plt.subplot(3, 1, 1)\n",
    "  plt.plot(solver.loss_history, 'o', label=update_rule)\n",
    "  \n",
    "  plt.subplot(3, 1, 2)\n",
    "  plt.plot(solver.train_acc_history, '-o', label=update_rule)\n",
    "\n",
    "  plt.subplot(3, 1, 3)\n",
    "  plt.plot(solver.val_acc_history, '-o', label=update_rule)\n",
    "  \n",
    "for i in [1, 2, 3]:\n",
    "  plt.subplot(3, 1, i)\n",
    "  plt.legend(loc='upper center', ncol=4)\n",
    "plt.gcf().set_size_inches(15, 15)\n",
    "plt.show()"
   ]
  },
  {
   "cell_type": "markdown",
   "metadata": {},
   "source": [
    "# Entraînez un bon model!\n",
    "Entraînez le meilleur réseau de neurones possible sur CIFAR-10 et mettez le meilleur modèle dans la variable `best_model`. Vous devriez avoir au moins une justesse 50% (voire même 55%) en validation et en test.\n",
    "\n",
    "Plus tard dans le devoir, on vous demandera d'entrainer et de tester une réseau convolutionnel sur CIFAR-10.  Vous verrez alors que cette architecture est supérieure aux réseaus de neurones pleinement connectés.\n",
    "\n",
    "NOTE: il serait judicieux de compléter le notebook `BatchNormalization.ipynb` et `Dropout.ipynb` avant de compléter cette dernière partie."
   ]
  },
  {
   "cell_type": "code",
   "execution_count": null,
   "metadata": {},
   "outputs": [],
   "source": [
    "do_delete = True"
   ]
  },
  {
   "cell_type": "code",
   "execution_count": null,
   "metadata": {},
   "outputs": [],
   "source": [
    "if do_delete:\n",
    "    trys = []\n",
    "    best_try = -1\n",
    "    best_val_acc = 0\n",
    "    print('Deleted trys')\n",
    "else:\n",
    "    print('Did not delete trys')\n",
    "do_delete = False"
   ]
  },
  {
   "cell_type": "code",
   "execution_count": null,
   "metadata": {
    "scrolled": true
   },
   "outputs": [],
   "source": [
    "best_model = None\n",
    "################################################################################\n",
    "# TODO: Entrainez le meilleur FullyConnectedNeuralNet que vous pouvez sur les  #\n",
    "#  données CIFAR-10. Vous pourriez trouver la normalization par lots et le     #\n",
    "#  dropout utile. Stockez votre meilleur modèle dans la variable best_model.   #\n",
    "################################################################################\n",
    "\n",
    "def uniform(minv, maxv):\n",
    "    return np.random.rand() * (maxv - minv) + minv\n",
    "\n",
    "if 'trys' not in locals():\n",
    "    trys = []\n",
    "    best_try = -1\n",
    "    best_val_acc = 0\n",
    "for i in range(1):\n",
    "    # reg 0.00779190546432  lr 0.000423844376859\n",
    "    # reg 0.000204588367827 lr 0.000529341067109\n",
    "    weight_scale = 3e-2  # 10 ** uniform(-3, -1)\n",
    "    lr = 10 ** -2.5  # 10 ** uniform(-4, -2)\n",
    "    reg = 1e-10  # 10 ** uniform(-6, -3)\n",
    "    \n",
    "    model = FullyConnectedNeuralNet([100] * 5, weight_scale=weight_scale, reg=reg, use_batchnorm=True)\n",
    "\n",
    "    solver = Solver(model, data,\n",
    "                  num_epochs=30, batch_size=100,\n",
    "                  update_rule='adam',\n",
    "                  optim_config={\n",
    "                    'learning_rate': lr\n",
    "                  },\n",
    "                  print_every=200,\n",
    "                  verbose=True)\n",
    "    solver.train()\n",
    "    \n",
    "    max_val_acc = np.max(solver.val_acc_history)\n",
    "    cur_index = len(trys)\n",
    "    print('Try', cur_index, 'Max accu. val.', max_val_acc, 'p:', weight_scale, reg, lr, ('Record!' if max_val_acc > best_val_acc else ''))\n",
    "    trys.append({\n",
    "            'ws': weight_scale, 'reg': reg, 'lr': lr,\n",
    "            'maxvacc': max_val_acc,\n",
    "            'lossh': solver.loss_history,\n",
    "            'tacch': solver.train_acc_history,\n",
    "            'vacch': solver.val_acc_history,\n",
    "            'model': model\n",
    "        })\n",
    "    \n",
    "    if max_val_acc > best_val_acc:\n",
    "        best_val_acc = max_val_acc\n",
    "        best_try = cur_index\n",
    "        \n",
    "print('Best try:', best_try)\n",
    "print('Total tries', len(trys))\n",
    "################################################################################\n",
    "#                              FIN DE VOTRE CODE                               #\n",
    "################################################################################"
   ]
  },
  {
   "cell_type": "code",
   "execution_count": null,
   "metadata": {},
   "outputs": [],
   "source": [
    "# Visualize the cross-validation results\n",
    "forget = 0\n",
    "new_tries = trys[forget:]\n",
    "marker_size = 100\n",
    "#x_scatter, x_label = [np.log10(x['ws']) for x in new_tries], 'log weight scale'\n",
    "x_scatter, x_label = [np.log10(x['lr']) for x in new_tries], 'log lr'\n",
    "y_scatter, y_label = [np.log10(x['reg']) for x in new_tries], 'log reg'\n",
    "\n",
    "# plot validation accuracy\n",
    "colors = [x['maxvacc'] for x in new_tries] # default size of markers is 20\n",
    "isorted = np.argsort(colors)\n",
    "x_scatter = np.asarray(x_scatter)[isorted]\n",
    "y_scatter = np.asarray(y_scatter)[isorted]\n",
    "colors = np.asarray(colors)[isorted]\n",
    "plt.subplot(2, 1, 2)\n",
    "plt.scatter(x_scatter, y_scatter, marker_size, c=colors)\n",
    "plt.colorbar()\n",
    "plt.xlabel(x_label)\n",
    "plt.ylabel(y_label)\n",
    "plt.title('Validation accuracy')\n",
    "plt.show()"
   ]
  },
  {
   "cell_type": "code",
   "execution_count": null,
   "metadata": {},
   "outputs": [],
   "source": [
    "ref = trys[best_try]\n",
    "best_try = -1\n",
    "plt.subplot(2, 1, 1)\n",
    "plt.title('Training loss')\n",
    "plt.xlabel('Iteration')\n",
    "plt.plot(trys[best_try]['lossh'], '-')\n",
    "plt.plot(ref['lossh'], '-')\n",
    "\n",
    "plt.subplot(2, 1, 2)\n",
    "plt.title('Accuracy')\n",
    "plt.xlabel('Epoch')\n",
    "plt.plot(trys[best_try]['tacch'], '-', label='Train')\n",
    "plt.plot(trys[best_try]['vacch'], '-', label='Valid')\n",
    "plt.plot(ref['tacch'], '-', label='Train ref')\n",
    "plt.plot(ref['vacch'], '-', label='Valid ref')\n",
    "plt.legend(loc='lower center')\n",
    "\n",
    "plt.tight_layout(pad=0, w_pad=0, h_pad=2)\n",
    "plt.show()"
   ]
  },
  {
   "cell_type": "markdown",
   "metadata": {},
   "source": [
    "# Test your model\n",
    "Run your best model on the validation and test sets. You should achieve above 53% accuracy on the validation set."
   ]
  },
  {
   "cell_type": "code",
   "execution_count": null,
   "metadata": {},
   "outputs": [],
   "source": [
    "best_model = trys[best_try]['model']\n",
    "X_test = data['X_test']\n",
    "y_test = data['y_test']\n",
    "X_val  = data['X_val']\n",
    "y_val  = data['y_val']\n",
    "y_test_pred = np.argmax(best_model.loss(X_test), axis=1)\n",
    "y_val_pred = np.argmax(best_model.loss(X_val), axis=1)\n",
    "print('Validation set accuracy: ', (y_val_pred == y_val).mean())\n",
    "print('Test set accuracy: ', (y_test_pred == y_test).mean())"
   ]
  },
  {
   "cell_type": "code",
   "execution_count": null,
   "metadata": {},
   "outputs": [],
   "source": []
  }
 ],
 "metadata": {
  "anaconda-cloud": {},
  "kernelspec": {
   "display_name": "Python 3",
   "language": "python",
   "name": "python3"
  },
  "language_info": {
   "codemirror_mode": {
    "name": "ipython",
    "version": 3
   },
   "file_extension": ".py",
   "mimetype": "text/x-python",
   "name": "python",
   "nbconvert_exporter": "python",
   "pygments_lexer": "ipython3",
   "version": "3.7.4"
  },
  "pycharm": {
   "stem_cell": {
    "cell_type": "raw",
    "metadata": {
     "collapsed": false
    },
    "source": []
   }
  }
 },
 "nbformat": 4,
 "nbformat_minor": 1
}
